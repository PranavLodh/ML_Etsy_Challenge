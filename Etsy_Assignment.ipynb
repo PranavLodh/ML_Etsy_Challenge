{
  "metadata": {
    "kernelspec": {
      "language": "python",
      "display_name": "Python 3",
      "name": "python3"
    },
    "language_info": {
      "name": "python",
      "version": "3.10.13",
      "mimetype": "text/x-python",
      "codemirror_mode": {
        "name": "ipython",
        "version": 3
      },
      "pygments_lexer": "ipython3",
      "nbconvert_exporter": "python",
      "file_extension": ".py"
    },
    "kaggle": {
      "accelerator": "none",
      "dataSources": [
        {
          "sourceId": 8022604,
          "sourceType": "datasetVersion",
          "datasetId": 4727583
        }
      ],
      "dockerImageVersionId": 30684,
      "isInternetEnabled": true,
      "language": "python",
      "sourceType": "notebook",
      "isGpuEnabled": false
    },
    "colab": {
      "provenance": [],
      "toc_visible": true
    }
  },
  "nbformat_minor": 0,
  "nbformat": 4,
  "cells": [
    {
      "cell_type": "markdown",
      "source": [
        "# For Top Category ID"
      ],
      "metadata": {
        "id": "trJisG798nAq"
      }
    },
    {
      "cell_type": "markdown",
      "source": [
        "## Importing Libraries - Start"
      ],
      "metadata": {
        "id": "29cVxtgi7tm9"
      }
    },
    {
      "cell_type": "code",
      "source": [
        "import pandas as pd\n",
        "import numpy as np\n",
        "import re\n",
        "import os"
      ],
      "metadata": {
        "execution": {
          "iopub.status.busy": "2024-04-17T22:12:36.184269Z",
          "iopub.execute_input": "2024-04-17T22:12:36.184702Z",
          "iopub.status.idle": "2024-04-17T22:12:36.190961Z",
          "shell.execute_reply.started": "2024-04-17T22:12:36.184665Z",
          "shell.execute_reply": "2024-04-17T22:12:36.189583Z"
        },
        "trusted": true,
        "id": "Bd7PfbxR7tnE"
      },
      "execution_count": null,
      "outputs": []
    },
    {
      "cell_type": "markdown",
      "source": [
        "### nltk libraries"
      ],
      "metadata": {
        "id": "bX9PGM7N7tnG"
      }
    },
    {
      "cell_type": "code",
      "source": [
        "!pip install nltk\n",
        "import nltk\n",
        "from nltk.corpus import words\n",
        "\n",
        "# Download the 'words' corpus if not already downloaded\n",
        "nltk.download('words')\n",
        "\n",
        "from nltk.corpus import stopwords\n",
        "nltk.download('stopwords')\n",
        "\n",
        "from nltk.tokenize import word_tokenize\n",
        "from nltk.stem import WordNetLemmatizer\n",
        "nltk.download('wordnet')"
      ],
      "metadata": {
        "execution": {
          "iopub.status.busy": "2024-04-17T22:12:02.793034Z",
          "iopub.execute_input": "2024-04-17T22:12:02.794299Z",
          "iopub.status.idle": "2024-04-17T22:12:21.252348Z",
          "shell.execute_reply.started": "2024-04-17T22:12:02.794260Z",
          "shell.execute_reply": "2024-04-17T22:12:21.251082Z"
        },
        "trusted": true,
        "id": "GO7Pq-5U7tnG",
        "outputId": "fc278206-f193-4167-a430-5a6f84f46850"
      },
      "execution_count": null,
      "outputs": [
        {
          "name": "stdout",
          "text": "Requirement already satisfied: nltk in /opt/conda/lib/python3.10/site-packages (3.2.4)\nRequirement already satisfied: six in /opt/conda/lib/python3.10/site-packages (from nltk) (1.16.0)\n[nltk_data] Downloading package words to /usr/share/nltk_data...\n[nltk_data]   Package words is already up-to-date!\n[nltk_data] Downloading package stopwords to /usr/share/nltk_data...\n[nltk_data]   Package stopwords is already up-to-date!\n[nltk_data] Downloading package wordnet to /usr/share/nltk_data...\n[nltk_data]   Package wordnet is already up-to-date!\n",
          "output_type": "stream"
        },
        {
          "execution_count": 2,
          "output_type": "execute_result",
          "data": {
            "text/plain": "True"
          },
          "metadata": {}
        }
      ]
    },
    {
      "cell_type": "code",
      "source": [
        "!pip install beautifulsoup4\n",
        "from bs4 import BeautifulSoup"
      ],
      "metadata": {
        "execution": {
          "iopub.status.busy": "2024-04-17T22:12:21.254354Z",
          "iopub.execute_input": "2024-04-17T22:12:21.254827Z",
          "iopub.status.idle": "2024-04-17T22:12:36.143728Z",
          "shell.execute_reply.started": "2024-04-17T22:12:21.254794Z",
          "shell.execute_reply": "2024-04-17T22:12:36.142402Z"
        },
        "trusted": true,
        "id": "tNdgw0FN7tnI",
        "outputId": "1a7ffdbd-3f48-45ab-d495-d6e6ee56bffd"
      },
      "execution_count": null,
      "outputs": [
        {
          "name": "stdout",
          "text": "Requirement already satisfied: beautifulsoup4 in /opt/conda/lib/python3.10/site-packages (4.12.2)\nRequirement already satisfied: soupsieve>1.2 in /opt/conda/lib/python3.10/site-packages (from beautifulsoup4) (2.5)\n",
          "output_type": "stream"
        }
      ]
    },
    {
      "cell_type": "markdown",
      "source": [
        "### Libraries or statistics"
      ],
      "metadata": {
        "id": "VGGBgW3p7tnI"
      }
    },
    {
      "cell_type": "code",
      "source": [
        "from scipy.stats import chi2_contingency\n",
        "from scipy.stats import ks_2samp"
      ],
      "metadata": {
        "execution": {
          "iopub.status.busy": "2024-04-17T22:12:36.145864Z",
          "iopub.execute_input": "2024-04-17T22:12:36.146546Z",
          "iopub.status.idle": "2024-04-17T22:12:36.152410Z",
          "shell.execute_reply.started": "2024-04-17T22:12:36.146510Z",
          "shell.execute_reply": "2024-04-17T22:12:36.151099Z"
        },
        "trusted": true,
        "id": "AH4pmxqZ7tnI"
      },
      "execution_count": null,
      "outputs": []
    },
    {
      "cell_type": "markdown",
      "source": [
        "### Libraries for model training"
      ],
      "metadata": {
        "id": "2CXDn4B47tnJ"
      }
    },
    {
      "cell_type": "code",
      "source": [
        "from sklearn.naive_bayes import MultinomialNB\n",
        "from sklearn.metrics import classification_report, accuracy_score, f1_score,make_scorer\n",
        "from tqdm import tqdm\n",
        "import joblib\n",
        "from sklearn.pipeline import Pipeline\n",
        "from sklearn.feature_extraction.text import CountVectorizer, TfidfTransformer\n",
        "from sklearn.model_selection import train_test_split, StratifiedKFold, GridSearchCV\n",
        "from sklearn.linear_model import SGDClassifier\n",
        "from sklearn.preprocessing import LabelEncoder\n",
        "from sklearn.svm import SVC"
      ],
      "metadata": {
        "execution": {
          "iopub.status.busy": "2024-04-17T22:12:36.154821Z",
          "iopub.execute_input": "2024-04-17T22:12:36.155183Z",
          "iopub.status.idle": "2024-04-17T22:12:36.175008Z",
          "shell.execute_reply.started": "2024-04-17T22:12:36.155154Z",
          "shell.execute_reply": "2024-04-17T22:12:36.173960Z"
        },
        "trusted": true,
        "id": "LCilvETR7tnJ"
      },
      "execution_count": null,
      "outputs": []
    },
    {
      "cell_type": "markdown",
      "source": [
        "## Importing Dataset - Start"
      ],
      "metadata": {
        "id": "7hGfa77R7tnK"
      }
    },
    {
      "cell_type": "code",
      "source": [
        "PATH = f\"/kaggle/input/etsy-dataset/data/2024\""
      ],
      "metadata": {
        "execution": {
          "iopub.status.busy": "2024-04-17T22:12:36.176412Z",
          "iopub.execute_input": "2024-04-17T22:12:36.176736Z",
          "iopub.status.idle": "2024-04-17T22:12:36.182748Z",
          "shell.execute_reply.started": "2024-04-17T22:12:36.176709Z",
          "shell.execute_reply": "2024-04-17T22:12:36.181654Z"
        },
        "trusted": true,
        "id": "qdUWon6e7tnV"
      },
      "execution_count": null,
      "outputs": []
    },
    {
      "cell_type": "code",
      "source": [
        "parquet_filenames_train = os.listdir(\"/kaggle/input/etsy-dataset/data/2024/train\")\n",
        "parquet_filenames_test = os.listdir(\"/kaggle/input/etsy-dataset/data/2024/test\")"
      ],
      "metadata": {
        "execution": {
          "iopub.status.busy": "2024-04-17T22:12:36.192459Z",
          "iopub.execute_input": "2024-04-17T22:12:36.192845Z",
          "iopub.status.idle": "2024-04-17T22:12:36.427955Z",
          "shell.execute_reply.started": "2024-04-17T22:12:36.192816Z",
          "shell.execute_reply": "2024-04-17T22:12:36.426278Z"
        },
        "trusted": true,
        "id": "iN8Rm9Zw7tnV"
      },
      "execution_count": null,
      "outputs": []
    },
    {
      "cell_type": "code",
      "source": [
        "def read_data(folder, filenames):\n",
        "    \"\"\" Read parquet data from mutiple files \"\"\"\n",
        "\n",
        "    dataframes = [\n",
        "        pd.read_parquet(f\"{PATH}/{folder}/{filename}\")\n",
        "        for filename in filenames\n",
        "    ]\n",
        "\n",
        "    return pd.concat(dataframes)"
      ],
      "metadata": {
        "execution": {
          "iopub.status.busy": "2024-04-17T22:12:36.429898Z",
          "iopub.execute_input": "2024-04-17T22:12:36.430271Z",
          "iopub.status.idle": "2024-04-17T22:12:36.437399Z",
          "shell.execute_reply.started": "2024-04-17T22:12:36.430239Z",
          "shell.execute_reply": "2024-04-17T22:12:36.436145Z"
        },
        "trusted": true,
        "id": "s453U6qf7tnW"
      },
      "execution_count": null,
      "outputs": []
    },
    {
      "cell_type": "code",
      "source": [
        "%%time\n",
        "\n",
        "df_train = read_data(\"train\", parquet_filenames_train[:])\n",
        "df_test = read_data(\"test\", parquet_filenames_test[:])"
      ],
      "metadata": {
        "execution": {
          "iopub.status.busy": "2024-04-17T22:12:38.464115Z",
          "iopub.execute_input": "2024-04-17T22:12:38.464555Z",
          "iopub.status.idle": "2024-04-17T22:16:08.955216Z",
          "shell.execute_reply.started": "2024-04-17T22:12:38.464525Z",
          "shell.execute_reply": "2024-04-17T22:16:08.954280Z"
        },
        "trusted": true,
        "id": "bfMRGsch7tnX",
        "outputId": "0ad740d1-afc9-4430-f0e4-0e349098d4dd"
      },
      "execution_count": null,
      "outputs": [
        {
          "name": "stdout",
          "text": "CPU times: user 23.5 s, sys: 48.1 s, total: 1min 11s\nWall time: 3min 30s\n",
          "output_type": "stream"
        }
      ]
    },
    {
      "cell_type": "markdown",
      "source": [
        "## Exploring the Dataset - Start"
      ],
      "metadata": {
        "id": "WSEW3s6N7tnY"
      }
    },
    {
      "cell_type": "code",
      "source": [
        "len(df_train)"
      ],
      "metadata": {
        "execution": {
          "iopub.status.busy": "2024-04-17T22:16:08.956758Z",
          "iopub.execute_input": "2024-04-17T22:16:08.957263Z",
          "iopub.status.idle": "2024-04-17T22:16:08.964363Z",
          "shell.execute_reply.started": "2024-04-17T22:16:08.957234Z",
          "shell.execute_reply": "2024-04-17T22:16:08.963230Z"
        },
        "trusted": true,
        "id": "4DIguI_d7tnY",
        "outputId": "9a8df4c1-de0f-4138-cfb3-a19d6463e1dc"
      },
      "execution_count": null,
      "outputs": [
        {
          "execution_count": 11,
          "output_type": "execute_result",
          "data": {
            "text/plain": "229624"
          },
          "metadata": {}
        }
      ]
    },
    {
      "cell_type": "code",
      "source": [
        "df_train.head()"
      ],
      "metadata": {
        "execution": {
          "iopub.status.busy": "2024-04-17T22:16:08.965850Z",
          "iopub.execute_input": "2024-04-17T22:16:08.966283Z",
          "iopub.status.idle": "2024-04-17T22:16:09.022868Z",
          "shell.execute_reply.started": "2024-04-17T22:16:08.966247Z",
          "shell.execute_reply": "2024-04-17T22:16:09.021356Z"
        },
        "trusted": true,
        "id": "FZTr2-4H7tnZ",
        "outputId": "ab8a1ade-5b64-4d63-bf88-6ac9d71b95a4"
      },
      "execution_count": null,
      "outputs": [
        {
          "execution_count": 12,
          "output_type": "execute_result",
          "data": {
            "text/plain": "   product_id                                              title  \\\n0  1278122912  Dragon and Snake Custom Nike AF1 Custom Chines...   \n1   698470598  Canvas Shoes Trainers, Kids to Adults,  Hand C...   \n2  1437216455                                   Sneaker Keychain   \n3  1502633808  Adidas Superstar Custom Sneakers Rose Shoes Bl...   \n4  1474730171  Madras Shoes for Men, Preppy Madras Patchwork ...   \n\n                                         description  \\\n0  Dragon and Snake Custom Nike AF1 Custom Chines...   \n1  Fantastic Gold Edged Butterfly Fabric, yellow ...   \n2  Ideal gift for exclusive sneaker lovers\\n\\nThe...   \n3  Adidas Superstar Custom Sneakers Rose\\n\\n· Pai...   \n4  Looking for a classic madras shoe for men? Her...   \n\n                                                tags      type room  \\\n0  handpainted sneaker,sneaker,unique gift,custom...  physical        \n1  Butterflies,Butterfly shoes,Butterfly presents...  physical        \n2                                                     physical        \n3  Superstar Custom,Air Force 1 Rose,Rose Custom ...  physical        \n4  madras shoes,men's madras shoes,lace-up canvas...  physical        \n\n  craft_type recipient material     occasion  ...  \\\n0                                   birthday  ...   \n1                                   birthday  ...   \n2                                anniversary  ...   \n3                                   birthday  ...   \n4                                             ...   \n\n                                bottom_category_text top_category_id  \\\n0  shoes.gender_neutral_adult_shoes.sneakers_and_...              12   \n1  shoes.gender_neutral_adult_shoes.sneakers_and_...              12   \n2  shoes.gender_neutral_adult_shoes.sneakers_and_...              12   \n3  shoes.gender_neutral_adult_shoes.sneakers_and_...              12   \n4  shoes.gender_neutral_adult_shoes.sneakers_and_...              12   \n\n  top_category_text primary_color_id primary_color_text  secondary_color_id  \\\n0             shoes               17              white                   1   \n1             shoes               18             yellow                  13   \n2             shoes               17              white                  14   \n3             shoes               17              white                   1   \n4             shoes                2               blue                   9   \n\n  secondary_color_text                                      image/encoded  \\\n0                black  b'\\xff\\xd8\\xff\\xe0\\x00\\x10JFIF\\x00\\x01\\x01\\x00...   \n1              rainbow  b'\\xff\\xd8\\xff\\xe0\\x00\\x10JFIF\\x00\\x01\\x01\\x00...   \n2                  red  b'\\xff\\xd8\\xff\\xe0\\x00\\x10JFIF\\x00\\x01\\x01\\x00...   \n3                black  b'\\xff\\xd8\\xff\\xe0\\x00\\x10JFIF\\x00\\x01\\x01\\x00...   \n4                green  b'\\xff\\xd8\\xff\\xe0\\x00\\x10JFIF\\x00\\x01\\x01\\x00...   \n\n  image/width  image/height  \n0         570           596  \n1         570           427  \n2         570           380  \n3         570           570  \n4         570           570  \n\n[5 rows x 26 columns]",
            "text/html": "<div>\n<style scoped>\n    .dataframe tbody tr th:only-of-type {\n        vertical-align: middle;\n    }\n\n    .dataframe tbody tr th {\n        vertical-align: top;\n    }\n\n    .dataframe thead th {\n        text-align: right;\n    }\n</style>\n<table border=\"1\" class=\"dataframe\">\n  <thead>\n    <tr style=\"text-align: right;\">\n      <th></th>\n      <th>product_id</th>\n      <th>title</th>\n      <th>description</th>\n      <th>tags</th>\n      <th>type</th>\n      <th>room</th>\n      <th>craft_type</th>\n      <th>recipient</th>\n      <th>material</th>\n      <th>occasion</th>\n      <th>...</th>\n      <th>bottom_category_text</th>\n      <th>top_category_id</th>\n      <th>top_category_text</th>\n      <th>primary_color_id</th>\n      <th>primary_color_text</th>\n      <th>secondary_color_id</th>\n      <th>secondary_color_text</th>\n      <th>image/encoded</th>\n      <th>image/width</th>\n      <th>image/height</th>\n    </tr>\n  </thead>\n  <tbody>\n    <tr>\n      <th>0</th>\n      <td>1278122912</td>\n      <td>Dragon and Snake Custom Nike AF1 Custom Chines...</td>\n      <td>Dragon and Snake Custom Nike AF1 Custom Chines...</td>\n      <td>handpainted sneaker,sneaker,unique gift,custom...</td>\n      <td>physical</td>\n      <td></td>\n      <td></td>\n      <td></td>\n      <td></td>\n      <td>birthday</td>\n      <td>...</td>\n      <td>shoes.gender_neutral_adult_shoes.sneakers_and_...</td>\n      <td>12</td>\n      <td>shoes</td>\n      <td>17</td>\n      <td>white</td>\n      <td>1</td>\n      <td>black</td>\n      <td>b'\\xff\\xd8\\xff\\xe0\\x00\\x10JFIF\\x00\\x01\\x01\\x00...</td>\n      <td>570</td>\n      <td>596</td>\n    </tr>\n    <tr>\n      <th>1</th>\n      <td>698470598</td>\n      <td>Canvas Shoes Trainers, Kids to Adults,  Hand C...</td>\n      <td>Fantastic Gold Edged Butterfly Fabric, yellow ...</td>\n      <td>Butterflies,Butterfly shoes,Butterfly presents...</td>\n      <td>physical</td>\n      <td></td>\n      <td></td>\n      <td></td>\n      <td></td>\n      <td>birthday</td>\n      <td>...</td>\n      <td>shoes.gender_neutral_adult_shoes.sneakers_and_...</td>\n      <td>12</td>\n      <td>shoes</td>\n      <td>18</td>\n      <td>yellow</td>\n      <td>13</td>\n      <td>rainbow</td>\n      <td>b'\\xff\\xd8\\xff\\xe0\\x00\\x10JFIF\\x00\\x01\\x01\\x00...</td>\n      <td>570</td>\n      <td>427</td>\n    </tr>\n    <tr>\n      <th>2</th>\n      <td>1437216455</td>\n      <td>Sneaker Keychain</td>\n      <td>Ideal gift for exclusive sneaker lovers\\n\\nThe...</td>\n      <td></td>\n      <td>physical</td>\n      <td></td>\n      <td></td>\n      <td></td>\n      <td></td>\n      <td>anniversary</td>\n      <td>...</td>\n      <td>shoes.gender_neutral_adult_shoes.sneakers_and_...</td>\n      <td>12</td>\n      <td>shoes</td>\n      <td>17</td>\n      <td>white</td>\n      <td>14</td>\n      <td>red</td>\n      <td>b'\\xff\\xd8\\xff\\xe0\\x00\\x10JFIF\\x00\\x01\\x01\\x00...</td>\n      <td>570</td>\n      <td>380</td>\n    </tr>\n    <tr>\n      <th>3</th>\n      <td>1502633808</td>\n      <td>Adidas Superstar Custom Sneakers Rose Shoes Bl...</td>\n      <td>Adidas Superstar Custom Sneakers Rose\\n\\n· Pai...</td>\n      <td>Superstar Custom,Air Force 1 Rose,Rose Custom ...</td>\n      <td>physical</td>\n      <td></td>\n      <td></td>\n      <td></td>\n      <td></td>\n      <td>birthday</td>\n      <td>...</td>\n      <td>shoes.gender_neutral_adult_shoes.sneakers_and_...</td>\n      <td>12</td>\n      <td>shoes</td>\n      <td>17</td>\n      <td>white</td>\n      <td>1</td>\n      <td>black</td>\n      <td>b'\\xff\\xd8\\xff\\xe0\\x00\\x10JFIF\\x00\\x01\\x01\\x00...</td>\n      <td>570</td>\n      <td>570</td>\n    </tr>\n    <tr>\n      <th>4</th>\n      <td>1474730171</td>\n      <td>Madras Shoes for Men, Preppy Madras Patchwork ...</td>\n      <td>Looking for a classic madras shoe for men? Her...</td>\n      <td>madras shoes,men's madras shoes,lace-up canvas...</td>\n      <td>physical</td>\n      <td></td>\n      <td></td>\n      <td></td>\n      <td></td>\n      <td></td>\n      <td>...</td>\n      <td>shoes.gender_neutral_adult_shoes.sneakers_and_...</td>\n      <td>12</td>\n      <td>shoes</td>\n      <td>2</td>\n      <td>blue</td>\n      <td>9</td>\n      <td>green</td>\n      <td>b'\\xff\\xd8\\xff\\xe0\\x00\\x10JFIF\\x00\\x01\\x01\\x00...</td>\n      <td>570</td>\n      <td>570</td>\n    </tr>\n  </tbody>\n</table>\n<p>5 rows × 26 columns</p>\n</div>"
          },
          "metadata": {}
        }
      ]
    },
    {
      "cell_type": "code",
      "source": [
        "df_train=df_train.replace('', np.nan)"
      ],
      "metadata": {
        "execution": {
          "iopub.status.busy": "2024-04-17T22:16:09.025785Z",
          "iopub.execute_input": "2024-04-17T22:16:09.026176Z",
          "iopub.status.idle": "2024-04-17T22:16:09.977054Z",
          "shell.execute_reply.started": "2024-04-17T22:16:09.026144Z",
          "shell.execute_reply": "2024-04-17T22:16:09.975863Z"
        },
        "trusted": true,
        "id": "ND6bjPR97tna"
      },
      "execution_count": null,
      "outputs": []
    },
    {
      "cell_type": "code",
      "source": [
        "df_test=df_test.replace('', np.nan)"
      ],
      "metadata": {
        "execution": {
          "iopub.status.busy": "2024-04-17T22:24:52.368642Z",
          "iopub.status.idle": "2024-04-17T22:24:52.369099Z",
          "shell.execute_reply.started": "2024-04-17T22:24:52.368891Z",
          "shell.execute_reply": "2024-04-17T22:24:52.368908Z"
        },
        "trusted": true,
        "id": "pxkdrgUu7tna"
      },
      "execution_count": null,
      "outputs": []
    },
    {
      "cell_type": "markdown",
      "source": [
        "Get Missing Values in DF Columns"
      ],
      "metadata": {
        "id": "VH7i9hR57tnb"
      }
    },
    {
      "cell_type": "code",
      "source": [
        "df_train.isna().sum()"
      ],
      "metadata": {
        "execution": {
          "iopub.status.busy": "2024-04-17T22:16:09.978777Z",
          "iopub.execute_input": "2024-04-17T22:16:09.979650Z",
          "iopub.status.idle": "2024-04-17T22:16:10.367186Z",
          "shell.execute_reply.started": "2024-04-17T22:16:09.979606Z",
          "shell.execute_reply": "2024-04-17T22:16:10.366027Z"
        },
        "trusted": true,
        "id": "4TRQ2IHb7tnb",
        "outputId": "68d74b7b-e844-4134-e40d-830be12dff86"
      },
      "execution_count": null,
      "outputs": [
        {
          "execution_count": 14,
          "output_type": "execute_result",
          "data": {
            "text/plain": "product_id                   0\ntitle                      810\ndescription                810\ntags                     31169\ntype                       348\nroom                    220686\ncraft_type              201862\nrecipient               218815\nmaterial                209384\noccasion                171550\nholiday                 183359\nart_subject             226885\nstyle                   213730\nshape                   227137\npattern                 218042\nbottom_category_id           0\nbottom_category_text         0\ntop_category_id              0\ntop_category_text            0\nprimary_color_id             0\nprimary_color_text           0\nsecondary_color_id           0\nsecondary_color_text         0\nimage/encoded                0\nimage/width                  0\nimage/height                 0\ndtype: int64"
          },
          "metadata": {}
        }
      ]
    },
    {
      "cell_type": "markdown",
      "source": [
        "As we can see for columns room,craft_type,recipient,material,occasion,holiday,art_subject,style,shape, pattern the missing values is very high"
      ],
      "metadata": {
        "id": "hVOj_9dw7tnb"
      }
    },
    {
      "cell_type": "markdown",
      "source": [
        "## Sampling the Dataset For top Category ID - Start"
      ],
      "metadata": {
        "id": "nc6uehcv7tnc"
      }
    },
    {
      "cell_type": "markdown",
      "source": [
        "Since the dataset is huge it will impact the computation and resources. In order to train the dataset efficiently we will sample the dataset accordingly. Let check the percentage distribution or top_category_id"
      ],
      "metadata": {
        "id": "l9HolF9L7tnc"
      }
    },
    {
      "cell_type": "code",
      "source": [
        "df_train['top_category_id'].value_counts()"
      ],
      "metadata": {
        "execution": {
          "iopub.status.busy": "2024-04-17T22:16:10.368831Z",
          "iopub.execute_input": "2024-04-17T22:16:10.369602Z",
          "iopub.status.idle": "2024-04-17T22:16:10.388383Z",
          "shell.execute_reply.started": "2024-04-17T22:16:10.369537Z",
          "shell.execute_reply": "2024-04-17T22:16:10.387010Z"
        },
        "trusted": true,
        "id": "8kqrmfkR7tnd",
        "outputId": "a6a4dc89-052c-43f7-b538-d67de72f85ff"
      },
      "execution_count": null,
      "outputs": [
        {
          "execution_count": 15,
          "output_type": "execute_result",
          "data": {
            "text/plain": "top_category_id\n8     54600\n6     33393\n5     30143\n13    13835\n0     12416\n10    12207\n3     11327\n14    10143\n12     8892\n1      8716\n9      7822\n7      7474\n2      6650\n4      6262\n11     5744\nName: count, dtype: int64"
          },
          "metadata": {}
        }
      ]
    },
    {
      "cell_type": "code",
      "source": [
        "df_train['top_category_id'].value_counts(normalize=True) * 100"
      ],
      "metadata": {
        "execution": {
          "iopub.status.busy": "2024-04-17T22:16:10.390361Z",
          "iopub.execute_input": "2024-04-17T22:16:10.391505Z",
          "iopub.status.idle": "2024-04-17T22:16:10.410249Z",
          "shell.execute_reply.started": "2024-04-17T22:16:10.391459Z",
          "shell.execute_reply": "2024-04-17T22:16:10.409091Z"
        },
        "trusted": true,
        "id": "eK_vyCb_7tnd",
        "outputId": "8e25120a-38bf-4db4-f04b-524b996f2f3e"
      },
      "execution_count": null,
      "outputs": [
        {
          "execution_count": 16,
          "output_type": "execute_result",
          "data": {
            "text/plain": "top_category_id\n8     23.778002\n6     14.542469\n5     13.127112\n13     6.025067\n0      5.407100\n10     5.316082\n3      4.932847\n14     4.417221\n12     3.872418\n1      3.795770\n9      3.406438\n7      3.254886\n2      2.896039\n4      2.727067\n11     2.501481\nName: proportion, dtype: float64"
          },
          "metadata": {}
        }
      ]
    },
    {
      "cell_type": "markdown",
      "source": [
        "Now since we have percentage distribution lets do sampling for sample data length calculation Using the link https://www.calculator.net/sample-size-calculator.html received the sample size as 15517\n",
        "\n",
        "![image.png](attachment:ec55b84b-4083-4280-a1e0-8cb53c449e1c.png)"
      ],
      "metadata": {
        "id": "_GnSF3r37tne"
      }
    },
    {
      "cell_type": "markdown",
      "source": [
        "Using Stratified sampling"
      ],
      "metadata": {
        "id": "Ivw0ycCi7tne"
      }
    },
    {
      "cell_type": "code",
      "source": [
        "sample_size=15517"
      ],
      "metadata": {
        "execution": {
          "iopub.status.busy": "2024-04-17T22:16:10.411968Z",
          "iopub.execute_input": "2024-04-17T22:16:10.412308Z",
          "iopub.status.idle": "2024-04-17T22:16:10.416865Z",
          "shell.execute_reply.started": "2024-04-17T22:16:10.412280Z",
          "shell.execute_reply": "2024-04-17T22:16:10.415839Z"
        },
        "trusted": true,
        "id": "kD7JO22o7tnf"
      },
      "execution_count": null,
      "outputs": []
    },
    {
      "cell_type": "code",
      "source": [
        "samples_per_category = (df_train.groupby('top_category_id').size() / len(df_train) * sample_size).astype(int)\n",
        "def stratified_sampling(group):\n",
        "    return group.sample(samples_per_category[group.name])\n",
        "\n",
        "sample_df1 = df_train.groupby('top_category_id', group_keys=False).apply(stratified_sampling)\n",
        "sample_df1 = sample_df1.sample(frac=1).reset_index(drop=True)\n",
        "sample_df1.reset_index(inplace=True)"
      ],
      "metadata": {
        "execution": {
          "iopub.status.busy": "2024-04-17T22:16:10.417935Z",
          "iopub.execute_input": "2024-04-17T22:16:10.418264Z",
          "iopub.status.idle": "2024-04-17T22:16:10.702781Z",
          "shell.execute_reply.started": "2024-04-17T22:16:10.418236Z",
          "shell.execute_reply": "2024-04-17T22:16:10.701653Z"
        },
        "trusted": true,
        "id": "Bm2Byp9k7tng",
        "outputId": "4e990fd8-1313-4899-fb14-03f2e00ce69f"
      },
      "execution_count": null,
      "outputs": [
        {
          "name": "stderr",
          "text": "/tmp/ipykernel_33/2029577251.py:5: DeprecationWarning: DataFrameGroupBy.apply operated on the grouping columns. This behavior is deprecated, and in a future version of pandas the grouping columns will be excluded from the operation. Either pass `include_groups=False` to exclude the groupings or explicitly select the grouping columns after groupby to silence this warning.\n  sample_df1 = df_train.groupby('top_category_id', group_keys=False).apply(stratified_sampling)\n",
          "output_type": "stream"
        }
      ]
    },
    {
      "cell_type": "code",
      "source": [
        "len(sample_df1)"
      ],
      "metadata": {
        "execution": {
          "iopub.status.busy": "2024-04-17T22:16:10.708776Z",
          "iopub.execute_input": "2024-04-17T22:16:10.709168Z",
          "iopub.status.idle": "2024-04-17T22:16:10.716409Z",
          "shell.execute_reply.started": "2024-04-17T22:16:10.709136Z",
          "shell.execute_reply": "2024-04-17T22:16:10.714822Z"
        },
        "trusted": true,
        "id": "-87z-DWP7tni",
        "outputId": "44fa5ed1-9e93-4476-d552-0946e303e59d"
      },
      "execution_count": null,
      "outputs": [
        {
          "execution_count": 19,
          "output_type": "execute_result",
          "data": {
            "text/plain": "15509"
          },
          "metadata": {}
        }
      ]
    },
    {
      "cell_type": "code",
      "source": [
        "sample_df1['top_category_id'].value_counts()"
      ],
      "metadata": {
        "execution": {
          "iopub.status.busy": "2024-04-17T22:16:10.718174Z",
          "iopub.execute_input": "2024-04-17T22:16:10.718820Z",
          "iopub.status.idle": "2024-04-17T22:16:10.732726Z",
          "shell.execute_reply.started": "2024-04-17T22:16:10.718739Z",
          "shell.execute_reply": "2024-04-17T22:16:10.731617Z"
        },
        "trusted": true,
        "id": "3YRcWiQK7tni",
        "outputId": "c8f213a9-4803-4a1e-ed33-74fb7c11a0b7"
      },
      "execution_count": null,
      "outputs": [
        {
          "execution_count": 20,
          "output_type": "execute_result",
          "data": {
            "text/plain": "top_category_id\n8     3689\n6     2256\n5     2036\n13     934\n0      839\n10     824\n3      765\n14     685\n12     600\n1      588\n9      528\n7      505\n2      449\n4      423\n11     388\nName: count, dtype: int64"
          },
          "metadata": {}
        }
      ]
    },
    {
      "cell_type": "markdown",
      "source": [
        "Now lets check statistically if sample df is equal to df_train using chi square test"
      ],
      "metadata": {
        "id": "7xrkOsOq7tnj"
      }
    },
    {
      "cell_type": "code",
      "source": [
        "original_counts = df_train['top_category_id'].value_counts()\n",
        "sample_counts = sample_df1['top_category_id'].value_counts()\n",
        "\n",
        "contingency_table = pd.concat([original_counts, sample_counts], axis=1, keys=['Original', 'Sample']).fillna(0)\n",
        "\n",
        "chi2, p_value, _, _ = chi2_contingency(contingency_table)\n",
        "\n",
        "print(\"Chi-square statistic:\", chi2)\n",
        "print(\"P-value:\", p_value)"
      ],
      "metadata": {
        "execution": {
          "iopub.status.busy": "2024-04-17T22:16:10.734521Z",
          "iopub.execute_input": "2024-04-17T22:16:10.734894Z",
          "iopub.status.idle": "2024-04-17T22:16:10.753215Z",
          "shell.execute_reply.started": "2024-04-17T22:16:10.734865Z",
          "shell.execute_reply": "2024-04-17T22:16:10.751894Z"
        },
        "trusted": true,
        "id": "2IkgABud7tnj",
        "outputId": "3b2d8a85-0318-40a1-c6b2-75747f7d3238"
      },
      "execution_count": null,
      "outputs": [
        {
          "name": "stdout",
          "text": "Chi-square statistic: 0.002760471378464443\nP-value: 1.0\n",
          "output_type": "stream"
        }
      ]
    },
    {
      "cell_type": "markdown",
      "source": [
        "Checking Kolmogorov-Smirnov Test as well"
      ],
      "metadata": {
        "id": "2EJ0cbuq7tnk"
      }
    },
    {
      "cell_type": "code",
      "source": [
        "ecdf_original = df_train['top_category_id'].value_counts(normalize=True).sort_index().cumsum()\n",
        "ecdf_sample = sample_df1['top_category_id'].value_counts(normalize=True).sort_index().cumsum()\n",
        "\n",
        "# Perform Kolmogorov-Smirnov Test\n",
        "ks_statistic, p_value = ks_2samp(ecdf_original, ecdf_sample)\n",
        "\n",
        "print(\"Kolmogorov-Smirnov Test Statistic:\", ks_statistic)\n",
        "print(\"P-value:\", p_value)"
      ],
      "metadata": {
        "execution": {
          "iopub.status.busy": "2024-04-17T22:16:10.754952Z",
          "iopub.execute_input": "2024-04-17T22:16:10.755305Z",
          "iopub.status.idle": "2024-04-17T22:16:10.773845Z",
          "shell.execute_reply.started": "2024-04-17T22:16:10.755277Z",
          "shell.execute_reply": "2024-04-17T22:16:10.772371Z"
        },
        "trusted": true,
        "id": "MaSO2l8i7tnl",
        "outputId": "6290e808-7b0e-44f1-ec81-df8d9a368ebd"
      },
      "execution_count": null,
      "outputs": [
        {
          "name": "stdout",
          "text": "Kolmogorov-Smirnov Test Statistic: 0.06666666666666667\nP-value: 0.9999999999990623\n",
          "output_type": "stream"
        },
        {
          "name": "stderr",
          "text": "/tmp/ipykernel_33/1107830626.py:5: RuntimeWarning: ks_2samp: Exact calculation unsuccessful. Switching to method=asymp.\n  ks_statistic, p_value = ks_2samp(ecdf_original, ecdf_sample)\n",
          "output_type": "stream"
        }
      ]
    },
    {
      "cell_type": "markdown",
      "source": [
        "Now since the p-value is 1 we will accept the null hypothesis that is sample and population dataframes are the same"
      ],
      "metadata": {
        "id": "qOw6RGvD7tnl"
      }
    },
    {
      "cell_type": "markdown",
      "source": [
        "## Data Cleaning\n",
        "\n",
        "Now lets perform data cleaning on our sampled_df to fit into machine learning model later on and predict the top_category_id"
      ],
      "metadata": {
        "id": "vSuQV32f7tny"
      }
    },
    {
      "cell_type": "code",
      "source": [
        "sample_df1.isna().sum()"
      ],
      "metadata": {
        "execution": {
          "iopub.status.busy": "2024-04-17T22:16:10.775704Z",
          "iopub.execute_input": "2024-04-17T22:16:10.776783Z",
          "iopub.status.idle": "2024-04-17T22:16:10.819245Z",
          "shell.execute_reply.started": "2024-04-17T22:16:10.776748Z",
          "shell.execute_reply": "2024-04-17T22:16:10.817803Z"
        },
        "trusted": true,
        "id": "SFFvXlJt7tnz",
        "outputId": "8a2f0cbf-1cf0-491e-9b7b-aaa339f1f224"
      },
      "execution_count": null,
      "outputs": [
        {
          "execution_count": 23,
          "output_type": "execute_result",
          "data": {
            "text/plain": "index                       0\nproduct_id                  0\ntitle                      48\ndescription                48\ntags                     2125\ntype                       29\nroom                    14867\ncraft_type              13685\nrecipient               14786\nmaterial                14166\noccasion                11495\nholiday                 12315\nart_subject             15334\nstyle                   14435\nshape                   15342\npattern                 14745\nbottom_category_id          0\nbottom_category_text        0\ntop_category_id             0\ntop_category_text           0\nprimary_color_id            0\nprimary_color_text          0\nsecondary_color_id          0\nsecondary_color_text        0\nimage/encoded               0\nimage/width                 0\nimage/height                0\ndtype: int64"
          },
          "metadata": {}
        }
      ]
    },
    {
      "cell_type": "markdown",
      "source": [
        "Lets consider columns which has less missing records like type"
      ],
      "metadata": {
        "id": "VMqL1Q8Z7tnz"
      }
    },
    {
      "cell_type": "code",
      "source": [
        "sample_df1[sample_df1['type'].isna()].head(4)"
      ],
      "metadata": {
        "execution": {
          "iopub.status.busy": "2024-04-17T22:16:10.820849Z",
          "iopub.execute_input": "2024-04-17T22:16:10.821346Z",
          "iopub.status.idle": "2024-04-17T22:16:10.853216Z",
          "shell.execute_reply.started": "2024-04-17T22:16:10.821313Z",
          "shell.execute_reply": "2024-04-17T22:16:10.852325Z"
        },
        "trusted": true,
        "id": "zsMwQ2Ma7toI",
        "outputId": "f943c4f7-303a-495a-a69f-a72fde079422"
      },
      "execution_count": null,
      "outputs": [
        {
          "execution_count": 24,
          "output_type": "execute_result",
          "data": {
            "text/plain": "      index  product_id                                              title  \\\n1253   1253   893892857  Denim Cocktail Napkins (Set of 4) - Golden Pal...   \n2416   2416   662514853  Clouds Placemats (Set of 2) - Mountain Mist by...   \n2439   2439   891581313  Standard/Leather/Jersey sewing machine needles...   \n2516   2516  1033855939  2 Artistically Faceted Multi-Hue Fluorite Nugg...   \n\n                                            description  \\\n1253  Set of four 10” x 10” printed fabric cocktail ...   \n2416  A unique set of 2 cloth placemats for special ...   \n2439  Sewing machine needle assortment for various u...   \n2516  Vibrant Fluorite Nugget Beads - A Pair of Natu...   \n\n                                                   tags type room  \\\n1253  Spoonflower Fabric,Party Decor,Custom Table Li...  NaN  NaN   \n2416  Spoonflower Cotton,Sateen Tablecloth,Printed T...  NaN  NaN   \n2439                                                NaN  NaN  NaN   \n2516  fluorite bead,gemstone bead,striped fluorite,a...  NaN  NaN   \n\n          craft_type recipient material  ...  \\\n1253             NaN       NaN   cotton  ...   \n2416             NaN       NaN    linen  ...   \n2439          sewing       NaN      NaN  ...   \n2516  jewelry making       NaN      NaN  ...   \n\n                                   bottom_category_text top_category_id  \\\n1253  home_and_living.kitchen_and_dining.linens.tabl...               8   \n2416  home_and_living.kitchen_and_dining.linens.tabl...               8   \n2439       craft_supplies_and_tools.tools_and_equipment               6   \n2516  craft_supplies_and_tools.beads_gems_and_caboch...               6   \n\n             top_category_text primary_color_id primary_color_text  \\\n1253           home_and_living                2               blue   \n2416           home_and_living                2               blue   \n2439  craft_supplies_and_tools                0              beige   \n2516  craft_supplies_and_tools                9              green   \n\n     secondary_color_id  secondary_color_text  \\\n1253                 17                 white   \n2416                 17                 white   \n2439                  0                 beige   \n2516                  2                  blue   \n\n                                          image/encoded  image/width  \\\n1253  b'\\xff\\xd8\\xff\\xe0\\x00\\x10JFIF\\x00\\x01\\x01\\x00...          570   \n2416  b'\\xff\\xd8\\xff\\xe0\\x00\\x10JFIF\\x00\\x01\\x01\\x00...          570   \n2439  b'\\xff\\xd8\\xff\\xe0\\x00\\x10JFIF\\x00\\x01\\x01\\x00...          570   \n2516  b'\\xff\\xd8\\xff\\xe0\\x00\\x10JFIF\\x00\\x01\\x01\\x00...          570   \n\n     image/height  \n1253          570  \n2416          570  \n2439          570  \n2516          570  \n\n[4 rows x 27 columns]",
            "text/html": "<div>\n<style scoped>\n    .dataframe tbody tr th:only-of-type {\n        vertical-align: middle;\n    }\n\n    .dataframe tbody tr th {\n        vertical-align: top;\n    }\n\n    .dataframe thead th {\n        text-align: right;\n    }\n</style>\n<table border=\"1\" class=\"dataframe\">\n  <thead>\n    <tr style=\"text-align: right;\">\n      <th></th>\n      <th>index</th>\n      <th>product_id</th>\n      <th>title</th>\n      <th>description</th>\n      <th>tags</th>\n      <th>type</th>\n      <th>room</th>\n      <th>craft_type</th>\n      <th>recipient</th>\n      <th>material</th>\n      <th>...</th>\n      <th>bottom_category_text</th>\n      <th>top_category_id</th>\n      <th>top_category_text</th>\n      <th>primary_color_id</th>\n      <th>primary_color_text</th>\n      <th>secondary_color_id</th>\n      <th>secondary_color_text</th>\n      <th>image/encoded</th>\n      <th>image/width</th>\n      <th>image/height</th>\n    </tr>\n  </thead>\n  <tbody>\n    <tr>\n      <th>1253</th>\n      <td>1253</td>\n      <td>893892857</td>\n      <td>Denim Cocktail Napkins (Set of 4) - Golden Pal...</td>\n      <td>Set of four 10” x 10” printed fabric cocktail ...</td>\n      <td>Spoonflower Fabric,Party Decor,Custom Table Li...</td>\n      <td>NaN</td>\n      <td>NaN</td>\n      <td>NaN</td>\n      <td>NaN</td>\n      <td>cotton</td>\n      <td>...</td>\n      <td>home_and_living.kitchen_and_dining.linens.tabl...</td>\n      <td>8</td>\n      <td>home_and_living</td>\n      <td>2</td>\n      <td>blue</td>\n      <td>17</td>\n      <td>white</td>\n      <td>b'\\xff\\xd8\\xff\\xe0\\x00\\x10JFIF\\x00\\x01\\x01\\x00...</td>\n      <td>570</td>\n      <td>570</td>\n    </tr>\n    <tr>\n      <th>2416</th>\n      <td>2416</td>\n      <td>662514853</td>\n      <td>Clouds Placemats (Set of 2) - Mountain Mist by...</td>\n      <td>A unique set of 2 cloth placemats for special ...</td>\n      <td>Spoonflower Cotton,Sateen Tablecloth,Printed T...</td>\n      <td>NaN</td>\n      <td>NaN</td>\n      <td>NaN</td>\n      <td>NaN</td>\n      <td>linen</td>\n      <td>...</td>\n      <td>home_and_living.kitchen_and_dining.linens.tabl...</td>\n      <td>8</td>\n      <td>home_and_living</td>\n      <td>2</td>\n      <td>blue</td>\n      <td>17</td>\n      <td>white</td>\n      <td>b'\\xff\\xd8\\xff\\xe0\\x00\\x10JFIF\\x00\\x01\\x01\\x00...</td>\n      <td>570</td>\n      <td>570</td>\n    </tr>\n    <tr>\n      <th>2439</th>\n      <td>2439</td>\n      <td>891581313</td>\n      <td>Standard/Leather/Jersey sewing machine needles...</td>\n      <td>Sewing machine needle assortment for various u...</td>\n      <td>NaN</td>\n      <td>NaN</td>\n      <td>NaN</td>\n      <td>sewing</td>\n      <td>NaN</td>\n      <td>NaN</td>\n      <td>...</td>\n      <td>craft_supplies_and_tools.tools_and_equipment</td>\n      <td>6</td>\n      <td>craft_supplies_and_tools</td>\n      <td>0</td>\n      <td>beige</td>\n      <td>0</td>\n      <td>beige</td>\n      <td>b'\\xff\\xd8\\xff\\xe0\\x00\\x10JFIF\\x00\\x01\\x01\\x00...</td>\n      <td>570</td>\n      <td>570</td>\n    </tr>\n    <tr>\n      <th>2516</th>\n      <td>2516</td>\n      <td>1033855939</td>\n      <td>2 Artistically Faceted Multi-Hue Fluorite Nugg...</td>\n      <td>Vibrant Fluorite Nugget Beads - A Pair of Natu...</td>\n      <td>fluorite bead,gemstone bead,striped fluorite,a...</td>\n      <td>NaN</td>\n      <td>NaN</td>\n      <td>jewelry making</td>\n      <td>NaN</td>\n      <td>NaN</td>\n      <td>...</td>\n      <td>craft_supplies_and_tools.beads_gems_and_caboch...</td>\n      <td>6</td>\n      <td>craft_supplies_and_tools</td>\n      <td>9</td>\n      <td>green</td>\n      <td>2</td>\n      <td>blue</td>\n      <td>b'\\xff\\xd8\\xff\\xe0\\x00\\x10JFIF\\x00\\x01\\x01\\x00...</td>\n      <td>570</td>\n      <td>570</td>\n    </tr>\n  </tbody>\n</table>\n<p>4 rows × 27 columns</p>\n</div>"
          },
          "metadata": {}
        }
      ]
    },
    {
      "cell_type": "markdown",
      "source": [
        "Lets check if index 298 and 300 have same types or not"
      ],
      "metadata": {
        "id": "oscmVau87toI"
      }
    },
    {
      "cell_type": "code",
      "source": [
        "sample_df1['type'].iloc[298]"
      ],
      "metadata": {
        "execution": {
          "iopub.status.busy": "2024-04-17T22:16:10.854541Z",
          "iopub.execute_input": "2024-04-17T22:16:10.855639Z",
          "iopub.status.idle": "2024-04-17T22:16:10.862467Z",
          "shell.execute_reply.started": "2024-04-17T22:16:10.855602Z",
          "shell.execute_reply": "2024-04-17T22:16:10.861286Z"
        },
        "trusted": true,
        "id": "ESFseh717toJ",
        "outputId": "0abbecc0-15d7-421c-d1a7-e554e5f97ab9"
      },
      "execution_count": null,
      "outputs": [
        {
          "execution_count": 25,
          "output_type": "execute_result",
          "data": {
            "text/plain": "'physical'"
          },
          "metadata": {}
        }
      ]
    },
    {
      "cell_type": "code",
      "source": [
        "sample_df1['type'].iloc[300]"
      ],
      "metadata": {
        "execution": {
          "iopub.status.busy": "2024-04-17T22:16:10.864130Z",
          "iopub.execute_input": "2024-04-17T22:16:10.864637Z",
          "iopub.status.idle": "2024-04-17T22:16:10.875948Z",
          "shell.execute_reply.started": "2024-04-17T22:16:10.864549Z",
          "shell.execute_reply": "2024-04-17T22:16:10.874793Z"
        },
        "trusted": true,
        "id": "pxs1aEpX7toJ",
        "outputId": "cd775434-6a20-4fcd-8177-c2a9b7d2a209"
      },
      "execution_count": null,
      "outputs": [
        {
          "execution_count": 26,
          "output_type": "execute_result",
          "data": {
            "text/plain": "'physical'"
          },
          "metadata": {}
        }
      ]
    },
    {
      "cell_type": "markdown",
      "source": [
        "Ohh both the values are same.Lets check another value 1438"
      ],
      "metadata": {
        "id": "Ki352cc17toK"
      }
    },
    {
      "cell_type": "code",
      "source": [
        "sample_df1['type'].iloc[1437]"
      ],
      "metadata": {
        "execution": {
          "iopub.status.busy": "2024-04-17T22:16:10.877255Z",
          "iopub.execute_input": "2024-04-17T22:16:10.877590Z",
          "iopub.status.idle": "2024-04-17T22:16:10.887536Z",
          "shell.execute_reply.started": "2024-04-17T22:16:10.877544Z",
          "shell.execute_reply": "2024-04-17T22:16:10.886622Z"
        },
        "trusted": true,
        "id": "xHI2pccE7toK",
        "outputId": "be2caa6d-46aa-4c29-d321-0affd7fdf7f8"
      },
      "execution_count": null,
      "outputs": [
        {
          "execution_count": 27,
          "output_type": "execute_result",
          "data": {
            "text/plain": "'physical'"
          },
          "metadata": {}
        }
      ]
    },
    {
      "cell_type": "code",
      "source": [
        "sample_df1['type'].iloc[1439]"
      ],
      "metadata": {
        "execution": {
          "iopub.status.busy": "2024-04-17T22:16:10.891035Z",
          "iopub.execute_input": "2024-04-17T22:16:10.891648Z",
          "iopub.status.idle": "2024-04-17T22:16:10.900230Z",
          "shell.execute_reply.started": "2024-04-17T22:16:10.891614Z",
          "shell.execute_reply": "2024-04-17T22:16:10.899037Z"
        },
        "trusted": true,
        "id": "qYBhrPES7to4",
        "outputId": "789d11d5-af47-4197-99c3-760b8ee39533"
      },
      "execution_count": null,
      "outputs": [
        {
          "execution_count": 28,
          "output_type": "execute_result",
          "data": {
            "text/plain": "'physical'"
          },
          "metadata": {}
        }
      ]
    },
    {
      "cell_type": "markdown",
      "source": [
        "Looks like the missing values are have adjecant values same.Lets do forward fill"
      ],
      "metadata": {
        "id": "lkxQ-75p7to6"
      }
    },
    {
      "cell_type": "code",
      "source": [
        "sample_df1['type'] = sample_df1['type'].replace(np.nan, method='ffill')"
      ],
      "metadata": {
        "execution": {
          "iopub.status.busy": "2024-04-17T22:16:10.901366Z",
          "iopub.execute_input": "2024-04-17T22:16:10.901740Z",
          "iopub.status.idle": "2024-04-17T22:16:10.917726Z",
          "shell.execute_reply.started": "2024-04-17T22:16:10.901709Z",
          "shell.execute_reply": "2024-04-17T22:16:10.916603Z"
        },
        "trusted": true,
        "id": "Uu6gbnd67to6",
        "outputId": "d39325c8-8396-4447-f39c-6fe1c4642553"
      },
      "execution_count": null,
      "outputs": [
        {
          "name": "stderr",
          "text": "/tmp/ipykernel_33/3176550929.py:1: FutureWarning: The 'method' keyword in Series.replace is deprecated and will be removed in a future version.\n  sample_df1['type'] = sample_df1['type'].replace(np.nan, method='ffill')\n",
          "output_type": "stream"
        }
      ]
    },
    {
      "cell_type": "code",
      "source": [
        "df_test['type'] = df_test['type'].replace(np.nan, method='ffill')"
      ],
      "metadata": {
        "execution": {
          "iopub.status.busy": "2024-04-17T22:24:52.370622Z",
          "iopub.status.idle": "2024-04-17T22:24:52.371703Z",
          "shell.execute_reply.started": "2024-04-17T22:24:52.371358Z",
          "shell.execute_reply": "2024-04-17T22:24:52.371388Z"
        },
        "trusted": true,
        "id": "c4ScwR7f7to7"
      },
      "execution_count": null,
      "outputs": []
    },
    {
      "cell_type": "code",
      "source": [
        "sample_df1.isna().sum()"
      ],
      "metadata": {
        "execution": {
          "iopub.status.busy": "2024-04-17T22:16:10.918809Z",
          "iopub.execute_input": "2024-04-17T22:16:10.919215Z",
          "iopub.status.idle": "2024-04-17T22:16:10.966966Z",
          "shell.execute_reply.started": "2024-04-17T22:16:10.919182Z",
          "shell.execute_reply": "2024-04-17T22:16:10.965763Z"
        },
        "trusted": true,
        "id": "utBfjHQa7to8",
        "outputId": "5308adab-1e87-4911-ad73-c97ec3fc6512"
      },
      "execution_count": null,
      "outputs": [
        {
          "execution_count": 30,
          "output_type": "execute_result",
          "data": {
            "text/plain": "index                       0\nproduct_id                  0\ntitle                      48\ndescription                48\ntags                     2125\ntype                        0\nroom                    14867\ncraft_type              13685\nrecipient               14786\nmaterial                14166\noccasion                11495\nholiday                 12315\nart_subject             15334\nstyle                   14435\nshape                   15342\npattern                 14745\nbottom_category_id          0\nbottom_category_text        0\ntop_category_id             0\ntop_category_text           0\nprimary_color_id            0\nprimary_color_text          0\nsecondary_color_id          0\nsecondary_color_text        0\nimage/encoded               0\nimage/width                 0\nimage/height                0\ndtype: int64"
          },
          "metadata": {}
        }
      ]
    },
    {
      "cell_type": "markdown",
      "source": [
        "Considering other columns like title,tags and description which are in text we will keep it blank as we cannot impute\n",
        "\n",
        "We will also drop columns from our feature like room,craft_type,recipient,material,occasion,holiday,art_subject,style,shape, pattern whose missing value rate is extremely high (>50%)"
      ],
      "metadata": {
        "id": "BD17Rq9L7to9"
      }
    },
    {
      "cell_type": "code",
      "source": [
        "sample_df1.head(4)"
      ],
      "metadata": {
        "execution": {
          "iopub.status.busy": "2024-04-17T22:16:10.968335Z",
          "iopub.execute_input": "2024-04-17T22:16:10.968721Z",
          "iopub.status.idle": "2024-04-17T22:16:11.001020Z",
          "shell.execute_reply.started": "2024-04-17T22:16:10.968691Z",
          "shell.execute_reply": "2024-04-17T22:16:10.999900Z"
        },
        "trusted": true,
        "id": "cNeGuWfx7to-",
        "outputId": "471e5266-5494-41df-a534-a395e5a49969"
      },
      "execution_count": null,
      "outputs": [
        {
          "execution_count": 31,
          "output_type": "execute_result",
          "data": {
            "text/plain": "   index  product_id                                              title  \\\n0      0  1431873531  Mum, Mummy or Mammy &#39;In A Million&#39; Pin...   \n1      1  1575820277  Cast Iron Fusion Mineral Paint FMP Self Levell...   \n2      2  1297954951  4th Birthday Crown | Fourth Birthday Crown | 4...   \n3      3  1655635863                      Teddy Bear Valentines Pyjamas   \n\n                                         description  \\\n0  Tell your mum how much she means to you with t...   \n1  Cast Iron\\nSturdy and bold, Cast Iron is a tru...   \n2  ● This listing ●\\nPASTEL RAINBOW glitter crown...   \n3  Beautiful Valentine&#39;s Day pyjamas.  \\n\\nTh...   \n\n                                                tags      type room  \\\n0  new mum gift,gifts for mum,mothers day gift,ts...  physical  NaN   \n1  Cast Iron,FMP,Fusion Mineral Paint,Resin Based...  physical  NaN   \n2  birthday hat girl,birthday crown,4th birthday ...  physical  NaN   \n3  Pyjamas,boys,gift,ideas,valentines,love,family...  physical  NaN   \n\n  craft_type recipient material  ...  \\\n0        NaN       NaN      NaN  ...   \n1        NaN       NaN      NaN  ...   \n2        NaN       NaN      NaN  ...   \n3        NaN       NaN      NaN  ...   \n\n                                bottom_category_text top_category_id  \\\n0  clothing.gender_neutral_adult_clothing.pajamas...               5   \n1      craft_supplies_and_tools.paints_inks_and_dyes               6   \n2  paper_and_party_supplies.party_supplies.party_...              10   \n3  clothing.girls_clothing.pajamas_and_robes.paja...               5   \n\n          top_category_text primary_color_id primary_color_text  \\\n0                  clothing               11               pink   \n1  craft_supplies_and_tools                1              black   \n2  paper_and_party_supplies               13            rainbow   \n3                  clothing               17              white   \n\n  secondary_color_id  secondary_color_text  \\\n0                 17                 white   \n1                 19                 other   \n2                 11                  pink   \n3                 11                  pink   \n\n                                       image/encoded  image/width image/height  \n0  b'\\xff\\xd8\\xff\\xe0\\x00\\x10JFIF\\x00\\x01\\x01\\x00...          570          432  \n1  b'\\xff\\xd8\\xff\\xe0\\x00\\x10JFIF\\x00\\x01\\x01\\x00...          570          603  \n2  b'\\xff\\xd8\\xff\\xe0\\x00\\x10JFIF\\x00\\x01\\x01\\x00...          570          456  \n3  b'\\xff\\xd8\\xff\\xe0\\x00\\x10JFIF\\x00\\x01\\x01\\x00...          570          570  \n\n[4 rows x 27 columns]",
            "text/html": "<div>\n<style scoped>\n    .dataframe tbody tr th:only-of-type {\n        vertical-align: middle;\n    }\n\n    .dataframe tbody tr th {\n        vertical-align: top;\n    }\n\n    .dataframe thead th {\n        text-align: right;\n    }\n</style>\n<table border=\"1\" class=\"dataframe\">\n  <thead>\n    <tr style=\"text-align: right;\">\n      <th></th>\n      <th>index</th>\n      <th>product_id</th>\n      <th>title</th>\n      <th>description</th>\n      <th>tags</th>\n      <th>type</th>\n      <th>room</th>\n      <th>craft_type</th>\n      <th>recipient</th>\n      <th>material</th>\n      <th>...</th>\n      <th>bottom_category_text</th>\n      <th>top_category_id</th>\n      <th>top_category_text</th>\n      <th>primary_color_id</th>\n      <th>primary_color_text</th>\n      <th>secondary_color_id</th>\n      <th>secondary_color_text</th>\n      <th>image/encoded</th>\n      <th>image/width</th>\n      <th>image/height</th>\n    </tr>\n  </thead>\n  <tbody>\n    <tr>\n      <th>0</th>\n      <td>0</td>\n      <td>1431873531</td>\n      <td>Mum, Mummy or Mammy &amp;#39;In A Million&amp;#39; Pin...</td>\n      <td>Tell your mum how much she means to you with t...</td>\n      <td>new mum gift,gifts for mum,mothers day gift,ts...</td>\n      <td>physical</td>\n      <td>NaN</td>\n      <td>NaN</td>\n      <td>NaN</td>\n      <td>NaN</td>\n      <td>...</td>\n      <td>clothing.gender_neutral_adult_clothing.pajamas...</td>\n      <td>5</td>\n      <td>clothing</td>\n      <td>11</td>\n      <td>pink</td>\n      <td>17</td>\n      <td>white</td>\n      <td>b'\\xff\\xd8\\xff\\xe0\\x00\\x10JFIF\\x00\\x01\\x01\\x00...</td>\n      <td>570</td>\n      <td>432</td>\n    </tr>\n    <tr>\n      <th>1</th>\n      <td>1</td>\n      <td>1575820277</td>\n      <td>Cast Iron Fusion Mineral Paint FMP Self Levell...</td>\n      <td>Cast Iron\\nSturdy and bold, Cast Iron is a tru...</td>\n      <td>Cast Iron,FMP,Fusion Mineral Paint,Resin Based...</td>\n      <td>physical</td>\n      <td>NaN</td>\n      <td>NaN</td>\n      <td>NaN</td>\n      <td>NaN</td>\n      <td>...</td>\n      <td>craft_supplies_and_tools.paints_inks_and_dyes</td>\n      <td>6</td>\n      <td>craft_supplies_and_tools</td>\n      <td>1</td>\n      <td>black</td>\n      <td>19</td>\n      <td>other</td>\n      <td>b'\\xff\\xd8\\xff\\xe0\\x00\\x10JFIF\\x00\\x01\\x01\\x00...</td>\n      <td>570</td>\n      <td>603</td>\n    </tr>\n    <tr>\n      <th>2</th>\n      <td>2</td>\n      <td>1297954951</td>\n      <td>4th Birthday Crown | Fourth Birthday Crown | 4...</td>\n      <td>● This listing ●\\nPASTEL RAINBOW glitter crown...</td>\n      <td>birthday hat girl,birthday crown,4th birthday ...</td>\n      <td>physical</td>\n      <td>NaN</td>\n      <td>NaN</td>\n      <td>NaN</td>\n      <td>NaN</td>\n      <td>...</td>\n      <td>paper_and_party_supplies.party_supplies.party_...</td>\n      <td>10</td>\n      <td>paper_and_party_supplies</td>\n      <td>13</td>\n      <td>rainbow</td>\n      <td>11</td>\n      <td>pink</td>\n      <td>b'\\xff\\xd8\\xff\\xe0\\x00\\x10JFIF\\x00\\x01\\x01\\x00...</td>\n      <td>570</td>\n      <td>456</td>\n    </tr>\n    <tr>\n      <th>3</th>\n      <td>3</td>\n      <td>1655635863</td>\n      <td>Teddy Bear Valentines Pyjamas</td>\n      <td>Beautiful Valentine&amp;#39;s Day pyjamas.  \\n\\nTh...</td>\n      <td>Pyjamas,boys,gift,ideas,valentines,love,family...</td>\n      <td>physical</td>\n      <td>NaN</td>\n      <td>NaN</td>\n      <td>NaN</td>\n      <td>NaN</td>\n      <td>...</td>\n      <td>clothing.girls_clothing.pajamas_and_robes.paja...</td>\n      <td>5</td>\n      <td>clothing</td>\n      <td>17</td>\n      <td>white</td>\n      <td>11</td>\n      <td>pink</td>\n      <td>b'\\xff\\xd8\\xff\\xe0\\x00\\x10JFIF\\x00\\x01\\x01\\x00...</td>\n      <td>570</td>\n      <td>570</td>\n    </tr>\n  </tbody>\n</table>\n<p>4 rows × 27 columns</p>\n</div>"
          },
          "metadata": {}
        }
      ]
    },
    {
      "cell_type": "markdown",
      "source": [
        "Lets do text cleaning for columns (title,description and tags).But first lets convert na records to ''"
      ],
      "metadata": {
        "id": "gIgzKQth7to_"
      }
    },
    {
      "cell_type": "code",
      "source": [
        "sample_df1.fillna('',inplace=True)"
      ],
      "metadata": {
        "execution": {
          "iopub.status.busy": "2024-04-17T22:16:11.002701Z",
          "iopub.execute_input": "2024-04-17T22:16:11.003048Z",
          "iopub.status.idle": "2024-04-17T22:16:11.073832Z",
          "shell.execute_reply.started": "2024-04-17T22:16:11.003019Z",
          "shell.execute_reply": "2024-04-17T22:16:11.072658Z"
        },
        "trusted": true,
        "id": "K2gvBJCV7to_"
      },
      "execution_count": null,
      "outputs": []
    },
    {
      "cell_type": "markdown",
      "source": [
        "### Text cleaning"
      ],
      "metadata": {
        "id": "dNrrbtbE7tpA"
      }
    },
    {
      "cell_type": "code",
      "source": [
        "def remove_html_tags(text):\n",
        "    soup = BeautifulSoup(text, 'html.parser')\n",
        "    return soup.get_text()\n",
        "\n",
        "def special_characters_removal(sentence):\n",
        "    return re.sub(r'[^A-Za-z0-9\\s]', '', sentence)\n",
        "\n",
        "\n",
        "english_words = set(words.words())\n",
        "\n",
        "def filter_english_words(sentence):\n",
        "    return ' '.join(word for word in sentence.split() if word.lower() in english_words)\n",
        "\n",
        "stop_words = set(stopwords.words('english'))\n",
        "\n",
        "def remove_stop_words(sentence):\n",
        "    return ' '.join(word for word in sentence.split() if word.lower() not in stop_words)\n",
        "\n",
        "def convert_numbers_to_blank(sentence):\n",
        "    return re.sub(r'\\b\\d+\\b', '', sentence)\n",
        "\n",
        "lemmatizer = WordNetLemmatizer()\n",
        "\n",
        "def lemmatize_sentence(sentence):\n",
        "    tokenized_words = word_tokenize(sentence)\n",
        "    lemmatized_words = [lemmatizer.lemmatize(word) for word in tokenized_words]\n",
        "    return ' '.join(lemmatized_words)"
      ],
      "metadata": {
        "execution": {
          "iopub.status.busy": "2024-04-17T22:16:11.075294Z",
          "iopub.execute_input": "2024-04-17T22:16:11.075691Z",
          "iopub.status.idle": "2024-04-17T22:16:11.230342Z",
          "shell.execute_reply.started": "2024-04-17T22:16:11.075661Z",
          "shell.execute_reply": "2024-04-17T22:16:11.229270Z"
        },
        "trusted": true,
        "id": "B3BfdXTG7tpB"
      },
      "execution_count": null,
      "outputs": []
    },
    {
      "cell_type": "code",
      "source": [
        "def text_cleaning(text):\n",
        "    # \\n removal\n",
        "    text = text.replace(r'\\n', ' ')\n",
        "\n",
        "    # Remove email-address\n",
        "    text = re.sub(r'\\S+@\\S+', '', text)\n",
        "\n",
        "    # Remove URLS which start from http\n",
        "    text = re.sub(r'http\\S+|www\\S+', '', text)\n",
        "\n",
        "    #Remove Html tags from text\n",
        "    text=remove_html_tags(text)\n",
        "\n",
        "    #Remove special characters\n",
        "    text=special_characters_removal(text)\n",
        "\n",
        "    #Convert Numbers to blank\n",
        "    text=convert_numbers_to_blank(text)\n",
        "\n",
        "    # Removal Non AsCII Characters\n",
        "    text = text.encode('ascii', 'ignore').decode('utf-8')\n",
        "\n",
        "    # Remove extra whitespaces\n",
        "    text = re.sub(r'\\s+', ' ', text).strip()\n",
        "\n",
        "    # Lowercasing the text\n",
        "    text=text.lower()\n",
        "\n",
        "    #Remove Non ENglish Wprds from sentence\n",
        "    text=filter_english_words(text)\n",
        "\n",
        "    #Remove stopwords from sentence\n",
        "    text=remove_stop_words(text)\n",
        "\n",
        "    return text"
      ],
      "metadata": {
        "execution": {
          "iopub.status.busy": "2024-04-17T22:16:11.231833Z",
          "iopub.execute_input": "2024-04-17T22:16:11.232299Z",
          "iopub.status.idle": "2024-04-17T22:16:11.242067Z",
          "shell.execute_reply.started": "2024-04-17T22:16:11.232259Z",
          "shell.execute_reply": "2024-04-17T22:16:11.240840Z"
        },
        "trusted": true,
        "id": "reZQBKDc7tpB"
      },
      "execution_count": null,
      "outputs": []
    },
    {
      "cell_type": "code",
      "source": [
        "sample_df1['description'] = sample_df1['description'].apply(text_cleaning)\n",
        "sample_df1['title'] = sample_df1['title'].apply(text_cleaning)\n",
        "sample_df1['tags'] = sample_df1['tags'].apply(text_cleaning)"
      ],
      "metadata": {
        "execution": {
          "iopub.status.busy": "2024-04-17T22:16:11.243278Z",
          "iopub.execute_input": "2024-04-17T22:16:11.243660Z",
          "iopub.status.idle": "2024-04-17T22:16:24.260011Z",
          "shell.execute_reply.started": "2024-04-17T22:16:11.243616Z",
          "shell.execute_reply": "2024-04-17T22:16:24.259022Z"
        },
        "trusted": true,
        "id": "eAuanjmZ7tpC",
        "outputId": "9a0baf45-f2c1-400e-862c-f72199ec202a"
      },
      "execution_count": null,
      "outputs": [
        {
          "name": "stderr",
          "text": "/tmp/ipykernel_33/2441585405.py:2: MarkupResemblesLocatorWarning: The input looks more like a filename than markup. You may want to open this file and pass the filehandle into Beautiful Soup.\n  soup = BeautifulSoup(text, 'html.parser')\n",
          "output_type": "stream"
        }
      ]
    },
    {
      "cell_type": "code",
      "source": [
        "df_test['description'] = df_test['description'].apply(text_cleaning)\n",
        "df_test['title'] = df_test['title'].apply(text_cleaning)\n",
        "df_test['tags'] = df_test['tags'].apply(text_cleaning)"
      ],
      "metadata": {
        "execution": {
          "iopub.status.busy": "2024-04-17T22:24:52.373329Z",
          "iopub.status.idle": "2024-04-17T22:24:52.373960Z",
          "shell.execute_reply.started": "2024-04-17T22:24:52.373663Z",
          "shell.execute_reply": "2024-04-17T22:24:52.373685Z"
        },
        "trusted": true,
        "id": "x0cU6Ggt7tpD"
      },
      "execution_count": null,
      "outputs": []
    },
    {
      "cell_type": "code",
      "source": [
        "sample_df1.head(10)"
      ],
      "metadata": {
        "execution": {
          "iopub.status.busy": "2024-04-17T22:16:24.261278Z",
          "iopub.execute_input": "2024-04-17T22:16:24.262352Z",
          "iopub.status.idle": "2024-04-17T22:16:24.312206Z",
          "shell.execute_reply.started": "2024-04-17T22:16:24.262319Z",
          "shell.execute_reply": "2024-04-17T22:16:24.311091Z"
        },
        "trusted": true,
        "id": "7VVxiVWp7tpD",
        "outputId": "90fe71f0-4880-45c6-9714-a5e3258edf83"
      },
      "execution_count": null,
      "outputs": [
        {
          "execution_count": 36,
          "output_type": "execute_result",
          "data": {
            "text/plain": "   index  product_id                                              title  \\\n0      0  1431873531       mum mummy mammy million pink tartan gift day   \n1      1  1575820277  cast iron fusion mineral paint self furniture ...   \n2      2  1297954951  birthday crown fourth birthday crown birthday ...   \n3      3  1655635863                                               bear   \n4      4  1131451819                                          size hand   \n5      5  1534917256  silver l purple jade silver l sterling silver ...   \n6      6  1245410829  salt water silk paint dixie belle paint compan...   \n7      7   757189264    pair chapman regency crystal brass lamp glamour   \n8      8  1568248126  framed herbarium flower illustration dried flo...   \n9      9   511757925  custom monogram black white car cup holder coa...   \n\n                                         description  \\\n0  tell mum much gorgeous pink tartan option chan...   \n1  cast iron sturdy bold cast iron true shade str...   \n2  listing pastel rainbow glitter crown white pom...   \n3  beautiful day top quality cotton name small am...   \n4              knitted size color mottled variegated   \n5  solid sterling silver jewelry recycle metal si...   \n6  shipping unable offer free shipping however ab...   \n7  pair heavy crystal brass lamp luxury lighting ...   \n8  botanical heart want flowery creepy pleasure c...   \n9  custom car cup holder fun way car car make gre...   \n\n                                                tags      type     room  \\\n0               new mum day day day tartan day mummy  physical            \n1  cast mineral based iron cast iron iron iron paint  physical            \n2  birthday hat birthday birthday birthday birthd...  physical            \n3                                                     physical            \n4                                                     physical            \n5                      sterling silver day jade gift  physical            \n6           white silk water mineral owl belle paint  physical            \n7                                               room  physical  bedroom   \n8                                                     physical            \n9                        car cup cup cup car car car  physical            \n\n     craft_type recipient material  ...  \\\n0                                   ...   \n1                                   ...   \n2                                   ...   \n3                                   ...   \n4                                   ...   \n5                   women   silver  ...   \n6  kids' crafts                     ...   \n7                            glass  ...   \n8                                   ...   \n9                   women           ...   \n\n                                bottom_category_text top_category_id  \\\n0  clothing.gender_neutral_adult_clothing.pajamas...               5   \n1      craft_supplies_and_tools.paints_inks_and_dyes               6   \n2  paper_and_party_supplies.party_supplies.party_...              10   \n3  clothing.girls_clothing.pajamas_and_robes.paja...               5   \n4  clothing.womens_clothing.socks_and_hosiery.hos...               5   \n5  weddings.jewelry.cuff_links_and_tie_tacks.cuff...              14   \n6  craft_supplies_and_tools.paints_inks_and_dyes....               6   \n7  home_and_living.lighting.lamps_shades_and_base...               8   \n8  home_and_living.home_decor.flower_arrangements...               8   \n9  electronics_and_accessories.car_parts_and_acce...               7   \n\n             top_category_text primary_color_id primary_color_text  \\\n0                     clothing               11               pink   \n1     craft_supplies_and_tools                1              black   \n2     paper_and_party_supplies               13            rainbow   \n3                     clothing               17              white   \n4                     clothing               18             yellow   \n5                     weddings               16             silver   \n6     craft_supplies_and_tools               17              white   \n7              home_and_living                7               gold   \n8              home_and_living               12             purple   \n9  electronics_and_accessories                2               blue   \n\n  secondary_color_id  secondary_color_text  \\\n0                 17                 white   \n1                 19                 other   \n2                 11                  pink   \n3                 11                  pink   \n4                  9                 green   \n5                 12                purple   \n6                 19                 other   \n7                  5                 clear   \n8                 14                   red   \n9                 17                 white   \n\n                                       image/encoded  image/width image/height  \n0  b'\\xff\\xd8\\xff\\xe0\\x00\\x10JFIF\\x00\\x01\\x01\\x00...          570          432  \n1  b'\\xff\\xd8\\xff\\xe0\\x00\\x10JFIF\\x00\\x01\\x01\\x00...          570          603  \n2  b'\\xff\\xd8\\xff\\xe0\\x00\\x10JFIF\\x00\\x01\\x01\\x00...          570          456  \n3  b'\\xff\\xd8\\xff\\xe0\\x00\\x10JFIF\\x00\\x01\\x01\\x00...          570          570  \n4  b'\\xff\\xd8\\xff\\xe0\\x00\\x10JFIF\\x00\\x01\\x01\\x00...          570          698  \n5  b'\\xff\\xd8\\xff\\xe0\\x00\\x10JFIF\\x00\\x01\\x01\\x00...          570          513  \n6  b'\\xff\\xd8\\xff\\xe0\\x00\\x10JFIF\\x00\\x01\\x01\\x00...          570          380  \n7  b'\\xff\\xd8\\xff\\xe0\\x00\\x10JFIF\\x00\\x01\\x01\\x00...          570          456  \n8  b'\\xff\\xd8\\xff\\xe0\\x00\\x10JFIF\\x00\\x01\\x01\\x00...          570          718  \n9  b'\\xff\\xd8\\xff\\xe0\\x00\\x10JFIF\\x00\\x01\\x01\\x00...          570         1013  \n\n[10 rows x 27 columns]",
            "text/html": "<div>\n<style scoped>\n    .dataframe tbody tr th:only-of-type {\n        vertical-align: middle;\n    }\n\n    .dataframe tbody tr th {\n        vertical-align: top;\n    }\n\n    .dataframe thead th {\n        text-align: right;\n    }\n</style>\n<table border=\"1\" class=\"dataframe\">\n  <thead>\n    <tr style=\"text-align: right;\">\n      <th></th>\n      <th>index</th>\n      <th>product_id</th>\n      <th>title</th>\n      <th>description</th>\n      <th>tags</th>\n      <th>type</th>\n      <th>room</th>\n      <th>craft_type</th>\n      <th>recipient</th>\n      <th>material</th>\n      <th>...</th>\n      <th>bottom_category_text</th>\n      <th>top_category_id</th>\n      <th>top_category_text</th>\n      <th>primary_color_id</th>\n      <th>primary_color_text</th>\n      <th>secondary_color_id</th>\n      <th>secondary_color_text</th>\n      <th>image/encoded</th>\n      <th>image/width</th>\n      <th>image/height</th>\n    </tr>\n  </thead>\n  <tbody>\n    <tr>\n      <th>0</th>\n      <td>0</td>\n      <td>1431873531</td>\n      <td>mum mummy mammy million pink tartan gift day</td>\n      <td>tell mum much gorgeous pink tartan option chan...</td>\n      <td>new mum day day day tartan day mummy</td>\n      <td>physical</td>\n      <td></td>\n      <td></td>\n      <td></td>\n      <td></td>\n      <td>...</td>\n      <td>clothing.gender_neutral_adult_clothing.pajamas...</td>\n      <td>5</td>\n      <td>clothing</td>\n      <td>11</td>\n      <td>pink</td>\n      <td>17</td>\n      <td>white</td>\n      <td>b'\\xff\\xd8\\xff\\xe0\\x00\\x10JFIF\\x00\\x01\\x01\\x00...</td>\n      <td>570</td>\n      <td>432</td>\n    </tr>\n    <tr>\n      <th>1</th>\n      <td>1</td>\n      <td>1575820277</td>\n      <td>cast iron fusion mineral paint self furniture ...</td>\n      <td>cast iron sturdy bold cast iron true shade str...</td>\n      <td>cast mineral based iron cast iron iron iron paint</td>\n      <td>physical</td>\n      <td></td>\n      <td></td>\n      <td></td>\n      <td></td>\n      <td>...</td>\n      <td>craft_supplies_and_tools.paints_inks_and_dyes</td>\n      <td>6</td>\n      <td>craft_supplies_and_tools</td>\n      <td>1</td>\n      <td>black</td>\n      <td>19</td>\n      <td>other</td>\n      <td>b'\\xff\\xd8\\xff\\xe0\\x00\\x10JFIF\\x00\\x01\\x01\\x00...</td>\n      <td>570</td>\n      <td>603</td>\n    </tr>\n    <tr>\n      <th>2</th>\n      <td>2</td>\n      <td>1297954951</td>\n      <td>birthday crown fourth birthday crown birthday ...</td>\n      <td>listing pastel rainbow glitter crown white pom...</td>\n      <td>birthday hat birthday birthday birthday birthd...</td>\n      <td>physical</td>\n      <td></td>\n      <td></td>\n      <td></td>\n      <td></td>\n      <td>...</td>\n      <td>paper_and_party_supplies.party_supplies.party_...</td>\n      <td>10</td>\n      <td>paper_and_party_supplies</td>\n      <td>13</td>\n      <td>rainbow</td>\n      <td>11</td>\n      <td>pink</td>\n      <td>b'\\xff\\xd8\\xff\\xe0\\x00\\x10JFIF\\x00\\x01\\x01\\x00...</td>\n      <td>570</td>\n      <td>456</td>\n    </tr>\n    <tr>\n      <th>3</th>\n      <td>3</td>\n      <td>1655635863</td>\n      <td>bear</td>\n      <td>beautiful day top quality cotton name small am...</td>\n      <td></td>\n      <td>physical</td>\n      <td></td>\n      <td></td>\n      <td></td>\n      <td></td>\n      <td>...</td>\n      <td>clothing.girls_clothing.pajamas_and_robes.paja...</td>\n      <td>5</td>\n      <td>clothing</td>\n      <td>17</td>\n      <td>white</td>\n      <td>11</td>\n      <td>pink</td>\n      <td>b'\\xff\\xd8\\xff\\xe0\\x00\\x10JFIF\\x00\\x01\\x01\\x00...</td>\n      <td>570</td>\n      <td>570</td>\n    </tr>\n    <tr>\n      <th>4</th>\n      <td>4</td>\n      <td>1131451819</td>\n      <td>size hand</td>\n      <td>knitted size color mottled variegated</td>\n      <td></td>\n      <td>physical</td>\n      <td></td>\n      <td></td>\n      <td></td>\n      <td></td>\n      <td>...</td>\n      <td>clothing.womens_clothing.socks_and_hosiery.hos...</td>\n      <td>5</td>\n      <td>clothing</td>\n      <td>18</td>\n      <td>yellow</td>\n      <td>9</td>\n      <td>green</td>\n      <td>b'\\xff\\xd8\\xff\\xe0\\x00\\x10JFIF\\x00\\x01\\x01\\x00...</td>\n      <td>570</td>\n      <td>698</td>\n    </tr>\n    <tr>\n      <th>5</th>\n      <td>5</td>\n      <td>1534917256</td>\n      <td>silver l purple jade silver l sterling silver ...</td>\n      <td>solid sterling silver jewelry recycle metal si...</td>\n      <td>sterling silver day jade gift</td>\n      <td>physical</td>\n      <td></td>\n      <td></td>\n      <td>women</td>\n      <td>silver</td>\n      <td>...</td>\n      <td>weddings.jewelry.cuff_links_and_tie_tacks.cuff...</td>\n      <td>14</td>\n      <td>weddings</td>\n      <td>16</td>\n      <td>silver</td>\n      <td>12</td>\n      <td>purple</td>\n      <td>b'\\xff\\xd8\\xff\\xe0\\x00\\x10JFIF\\x00\\x01\\x01\\x00...</td>\n      <td>570</td>\n      <td>513</td>\n    </tr>\n    <tr>\n      <th>6</th>\n      <td>6</td>\n      <td>1245410829</td>\n      <td>salt water silk paint dixie belle paint compan...</td>\n      <td>shipping unable offer free shipping however ab...</td>\n      <td>white silk water mineral owl belle paint</td>\n      <td>physical</td>\n      <td></td>\n      <td>kids' crafts</td>\n      <td></td>\n      <td></td>\n      <td>...</td>\n      <td>craft_supplies_and_tools.paints_inks_and_dyes....</td>\n      <td>6</td>\n      <td>craft_supplies_and_tools</td>\n      <td>17</td>\n      <td>white</td>\n      <td>19</td>\n      <td>other</td>\n      <td>b'\\xff\\xd8\\xff\\xe0\\x00\\x10JFIF\\x00\\x01\\x01\\x00...</td>\n      <td>570</td>\n      <td>380</td>\n    </tr>\n    <tr>\n      <th>7</th>\n      <td>7</td>\n      <td>757189264</td>\n      <td>pair chapman regency crystal brass lamp glamour</td>\n      <td>pair heavy crystal brass lamp luxury lighting ...</td>\n      <td>room</td>\n      <td>physical</td>\n      <td>bedroom</td>\n      <td></td>\n      <td></td>\n      <td>glass</td>\n      <td>...</td>\n      <td>home_and_living.lighting.lamps_shades_and_base...</td>\n      <td>8</td>\n      <td>home_and_living</td>\n      <td>7</td>\n      <td>gold</td>\n      <td>5</td>\n      <td>clear</td>\n      <td>b'\\xff\\xd8\\xff\\xe0\\x00\\x10JFIF\\x00\\x01\\x01\\x00...</td>\n      <td>570</td>\n      <td>456</td>\n    </tr>\n    <tr>\n      <th>8</th>\n      <td>8</td>\n      <td>1568248126</td>\n      <td>framed herbarium flower illustration dried flo...</td>\n      <td>botanical heart want flowery creepy pleasure c...</td>\n      <td></td>\n      <td>physical</td>\n      <td></td>\n      <td></td>\n      <td></td>\n      <td></td>\n      <td>...</td>\n      <td>home_and_living.home_decor.flower_arrangements...</td>\n      <td>8</td>\n      <td>home_and_living</td>\n      <td>12</td>\n      <td>purple</td>\n      <td>14</td>\n      <td>red</td>\n      <td>b'\\xff\\xd8\\xff\\xe0\\x00\\x10JFIF\\x00\\x01\\x01\\x00...</td>\n      <td>570</td>\n      <td>718</td>\n    </tr>\n    <tr>\n      <th>9</th>\n      <td>9</td>\n      <td>511757925</td>\n      <td>custom monogram black white car cup holder coa...</td>\n      <td>custom car cup holder fun way car car make gre...</td>\n      <td>car cup cup cup car car car</td>\n      <td>physical</td>\n      <td></td>\n      <td></td>\n      <td>women</td>\n      <td></td>\n      <td>...</td>\n      <td>electronics_and_accessories.car_parts_and_acce...</td>\n      <td>7</td>\n      <td>electronics_and_accessories</td>\n      <td>2</td>\n      <td>blue</td>\n      <td>17</td>\n      <td>white</td>\n      <td>b'\\xff\\xd8\\xff\\xe0\\x00\\x10JFIF\\x00\\x01\\x01\\x00...</td>\n      <td>570</td>\n      <td>1013</td>\n    </tr>\n  </tbody>\n</table>\n<p>10 rows × 27 columns</p>\n</div>"
          },
          "metadata": {}
        }
      ]
    },
    {
      "cell_type": "code",
      "source": [
        "sample_df1=sample_df1[['product_id','title','description','tags','type','top_category_id','top_category_text']]"
      ],
      "metadata": {
        "execution": {
          "iopub.status.busy": "2024-04-17T22:16:24.318076Z",
          "iopub.execute_input": "2024-04-17T22:16:24.318423Z",
          "iopub.status.idle": "2024-04-17T22:16:24.327957Z",
          "shell.execute_reply.started": "2024-04-17T22:16:24.318394Z",
          "shell.execute_reply": "2024-04-17T22:16:24.326649Z"
        },
        "trusted": true,
        "id": "YdmIguOe7tpE"
      },
      "execution_count": null,
      "outputs": []
    },
    {
      "cell_type": "code",
      "source": [
        "#Saving the dataframe to csv file\n",
        "sample_df1.to_csv('/kaggle/working/sample_df1_train.csv')"
      ],
      "metadata": {
        "execution": {
          "iopub.status.busy": "2024-04-17T22:16:24.330246Z",
          "iopub.execute_input": "2024-04-17T22:16:24.330719Z",
          "iopub.status.idle": "2024-04-17T22:16:24.922350Z",
          "shell.execute_reply.started": "2024-04-17T22:16:24.330679Z",
          "shell.execute_reply": "2024-04-17T22:16:24.921434Z"
        },
        "trusted": true,
        "id": "2J_Ddc807tpE"
      },
      "execution_count": null,
      "outputs": []
    },
    {
      "cell_type": "markdown",
      "source": [
        "# Data Cleaning - End"
      ],
      "metadata": {
        "id": "QWj16feA7tpE"
      }
    },
    {
      "cell_type": "markdown",
      "source": [
        "## Model Training for Top Category ID - Start"
      ],
      "metadata": {
        "id": "1L_sMgT87tpF"
      }
    },
    {
      "cell_type": "markdown",
      "source": [
        "### Multinomial NB Model using K fold cross validation with grid search"
      ],
      "metadata": {
        "id": "TbOLoWQF7tpF"
      }
    },
    {
      "cell_type": "code",
      "source": [
        "label_encoder = LabelEncoder()\n",
        "\n",
        "# Fit label encoder and transform 'top_category_id' column\n",
        "sample_df1['top_category_id_encoded'] = label_encoder.fit_transform(sample_df1['top_category_id'])"
      ],
      "metadata": {
        "execution": {
          "iopub.status.busy": "2024-04-17T22:16:24.923860Z",
          "iopub.execute_input": "2024-04-17T22:16:24.924312Z",
          "iopub.status.idle": "2024-04-17T22:16:24.932560Z",
          "shell.execute_reply.started": "2024-04-17T22:16:24.924271Z",
          "shell.execute_reply": "2024-04-17T22:16:24.931370Z"
        },
        "trusted": true,
        "id": "YV0cjEM87tpF"
      },
      "execution_count": null,
      "outputs": []
    },
    {
      "cell_type": "code",
      "source": [
        "train_df, test_df = train_test_split(sample_df1, test_size=0.2, random_state=42)\n",
        "\n",
        "X_train = train_df['title'] + ' ' + train_df['description'] + ' ' + train_df['tags'] + ' ' + train_df['type']\n",
        "y_train = train_df['top_category_id_encoded']\n",
        "\n",
        "X_test = test_df['title']+ ' ' + test_df['description'] + ' ' + test_df['tags'] + ' ' + test_df['type']\n",
        "y_test = test_df['top_category_id_encoded']\n",
        "\n",
        "X_train = np.asarray(X_train)\n",
        "X_test = np.asarray(X_test)"
      ],
      "metadata": {
        "execution": {
          "iopub.status.busy": "2024-04-17T22:16:24.934139Z",
          "iopub.execute_input": "2024-04-17T22:16:24.934500Z",
          "iopub.status.idle": "2024-04-17T22:16:24.993110Z",
          "shell.execute_reply.started": "2024-04-17T22:16:24.934469Z",
          "shell.execute_reply": "2024-04-17T22:16:24.992180Z"
        },
        "trusted": true,
        "id": "wtXYHM7Y7tpG"
      },
      "execution_count": null,
      "outputs": []
    },
    {
      "cell_type": "code",
      "source": [
        "# Define k-fold cross-validation\n",
        "k_fold = StratifiedKFold(n_splits=5, shuffle=True, random_state=42)"
      ],
      "metadata": {
        "execution": {
          "iopub.status.busy": "2024-04-17T22:16:24.994684Z",
          "iopub.execute_input": "2024-04-17T22:16:24.995428Z",
          "iopub.status.idle": "2024-04-17T22:16:25.001352Z",
          "shell.execute_reply.started": "2024-04-17T22:16:24.995367Z",
          "shell.execute_reply": "2024-04-17T22:16:25.000094Z"
        },
        "trusted": true,
        "id": "zyv-wCJc7tpG"
      },
      "execution_count": null,
      "outputs": []
    },
    {
      "cell_type": "code",
      "source": [
        "# device = torch.device('cuda' if torch.cuda.is_available() else 'cpu')\n",
        "\n",
        "\n",
        "# Create Naive Bayes pipeline\n",
        "nb_pipeline = Pipeline([\n",
        "    ('vect', CountVectorizer()),\n",
        "    ('tfidf', TfidfTransformer()),\n",
        "    ('clf', MultinomialNB())\n",
        "])\n",
        "\n",
        "# nb_pipeline.to(device)\n",
        "\n",
        "# Define parameter grid for GridSearchCV\n",
        "param_grid = {\n",
        "    'vect__ngram_range': [(1, 1), (1, 2)],  # Unigrams or bigrams\n",
        "    'tfidf__use_idf': (True, False),        # Use IDF or not\n",
        "    'clf__alpha': [0.1, 0.5, 1.0],          # Smoothing parameter for MultinomialNB\n",
        "}\n",
        "\n",
        "\n",
        "\n",
        "# Perform grid search cross-validation\n",
        "grid_search = GridSearchCV(nb_pipeline, param_grid, cv=k_fold, scoring='accuracy')\n",
        "grid_search.fit(X_train, y_train)\n",
        "\n",
        "# Get best hyperparameters and best score\n",
        "best_params = grid_search.best_params_\n",
        "best_score = grid_search.best_score_\n",
        "\n",
        "print(\"Best Hyperparameters:\", best_params)\n",
        "print(\"Best Score:\", best_score)\n",
        "\n",
        "# Fit the model on the entire training set with best hyperparameters\n",
        "best_model = grid_search.best_estimator_\n",
        "best_model.fit(X_train, y_train)\n",
        "\n",
        "#device = torch.device('cuda' if torch.cuda.is_available() else 'cpu')\n",
        "# best_model.to(device)\n",
        "\n",
        "joblib.dump(best_model, '/kaggle/working/best_model_top_category_id.pkl')\n",
        "\n",
        "# Predict on the test set\n",
        "y_pred = best_model.predict(X_test)\n",
        "\n",
        "# Calculate accuracy and F1-score\n",
        "accuracy = accuracy_score(y_test, y_pred)\n",
        "f1 = f1_score(y_test, y_pred, average='weighted')\n",
        "\n",
        "# Print accuracy and F1-score\n",
        "print('Accuracy:', accuracy)\n",
        "print('F1-score:', f1)\n",
        "print(classification_report(y_test, y_pred))"
      ],
      "metadata": {
        "execution": {
          "iopub.status.busy": "2024-04-17T22:16:25.002825Z",
          "iopub.execute_input": "2024-04-17T22:16:25.003270Z",
          "iopub.status.idle": "2024-04-17T22:20:28.339423Z",
          "shell.execute_reply.started": "2024-04-17T22:16:25.003234Z",
          "shell.execute_reply": "2024-04-17T22:20:28.337790Z"
        },
        "trusted": true,
        "id": "oaUxFSnj7tpH",
        "outputId": "e80a305c-02ea-4dc4-d79e-bc1708062da9"
      },
      "execution_count": null,
      "outputs": [
        {
          "name": "stdout",
          "text": "Best Hyperparameters: {'clf__alpha': 0.1, 'tfidf__use_idf': True, 'vect__ngram_range': (1, 1)}\nBest Score: 0.6722817831311684\nAccuracy: 0.6814958091553837\nF1-score: 0.6619647424879348\n              precision    recall  f1-score   support\n\n           0       0.75      0.41      0.53       184\n           1       0.76      0.17      0.28       129\n           2       0.80      0.57      0.67        89\n           3       0.84      0.50      0.63       152\n           4       0.93      0.45      0.61        86\n           5       0.71      0.96      0.82       414\n           6       0.60      0.72      0.65       438\n           7       0.92      0.53      0.67       107\n           8       0.61      0.93      0.74       736\n           9       0.85      0.52      0.64       110\n          10       0.63      0.57      0.60       159\n          11       0.95      0.56      0.70        72\n          12       0.92      0.70      0.79       109\n          13       0.80      0.45      0.57       191\n          14       0.73      0.35      0.47       126\n\n    accuracy                           0.68      3102\n   macro avg       0.79      0.56      0.63      3102\nweighted avg       0.72      0.68      0.66      3102\n\n",
          "output_type": "stream"
        }
      ]
    },
    {
      "cell_type": "markdown",
      "source": [
        "### Stochastic Gradient Descent with Grid CV"
      ],
      "metadata": {
        "id": "OavYQpNi7tpI"
      }
    },
    {
      "cell_type": "code",
      "source": [
        "\n",
        "\n",
        "# Loop through each learning rate\n",
        "\n",
        "pipeline  = Pipeline([('vect', CountVectorizer()),\n",
        "                ('tfidf', TfidfTransformer()),\n",
        "                ('clf', SGDClassifier(loss='hinge', random_state=42, max_iter=10, tol=None)),\n",
        "               ])\n",
        "\n",
        "param_grid = {\n",
        "'clf__alpha': [1e-3, 1e-4, 1e-5],\n",
        "'clf__penalty': ['l2', 'l1'],\n",
        "'clf__learning_rate': ['optimal', 'adaptive']\n",
        "}\n",
        "\n",
        "# Define macro F1-score as the scoring metric\n",
        "scorer = make_scorer(f1_score, average='macro')\n",
        "\n",
        "# Initialize GridSearchCV\n",
        "grid_search = GridSearchCV(estimator=pipeline, param_grid=param_grid, cv=5, scoring=scorer)\n",
        "\n",
        "grid_search.fit(X_train, y_train)\n",
        "\n",
        "best_params = grid_search.best_params_\n",
        "best_score = grid_search.best_score_\n",
        "\n",
        "\n",
        "print(\"Best Parameters:\", best_params)\n",
        "print(\"Best Score (Macro F1):\", best_score)\n",
        "\n",
        "# Predict on the test set using the best model\n",
        "y_pred = grid_search.predict(X_test)\n",
        "\n",
        "# Evaluate the model\n",
        "f1_macro = f1_score(y_test, y_pred, average='macro')\n",
        "\n",
        "print(\"Macro F1-score on Test Set:\", f1_macro)"
      ],
      "metadata": {
        "execution": {
          "iopub.status.busy": "2024-04-17T22:20:28.341763Z",
          "iopub.execute_input": "2024-04-17T22:20:28.342885Z",
          "iopub.status.idle": "2024-04-17T22:22:51.386523Z",
          "shell.execute_reply.started": "2024-04-17T22:20:28.342823Z",
          "shell.execute_reply": "2024-04-17T22:22:51.385357Z"
        },
        "trusted": true,
        "id": "4bzfdau47tpI",
        "outputId": "6f2d73f4-cbe3-4881-87cf-d6ce498f5cf6"
      },
      "execution_count": null,
      "outputs": [
        {
          "name": "stderr",
          "text": "/opt/conda/lib/python3.10/site-packages/sklearn/model_selection/_validation.py:378: FitFailedWarning: \n30 fits failed out of a total of 60.\nThe score on these train-test partitions for these parameters will be set to nan.\nIf these failures are not expected, you can try to debug them by setting error_score='raise'.\n\nBelow are more details about the failures:\n--------------------------------------------------------------------------------\n30 fits failed with the following error:\nTraceback (most recent call last):\n  File \"/opt/conda/lib/python3.10/site-packages/sklearn/model_selection/_validation.py\", line 686, in _fit_and_score\n    estimator.fit(X_train, y_train, **fit_params)\n  File \"/opt/conda/lib/python3.10/site-packages/sklearn/pipeline.py\", line 405, in fit\n    self._final_estimator.fit(Xt, y, **fit_params_last_step)\n  File \"/opt/conda/lib/python3.10/site-packages/sklearn/linear_model/_stochastic_gradient.py\", line 892, in fit\n    self._more_validate_params()\n  File \"/opt/conda/lib/python3.10/site-packages/sklearn/linear_model/_stochastic_gradient.py\", line 149, in _more_validate_params\n    raise ValueError(\"eta0 must be > 0\")\nValueError: eta0 must be > 0\n\n  warnings.warn(some_fits_failed_message, FitFailedWarning)\n/opt/conda/lib/python3.10/site-packages/sklearn/model_selection/_search.py:952: UserWarning: One or more of the test scores are non-finite: [0.6602481  0.39664549        nan        nan 0.72516609 0.68761609\n        nan        nan 0.69668822 0.68671718        nan        nan]\n  warnings.warn(\n",
          "output_type": "stream"
        },
        {
          "name": "stdout",
          "text": "Best Parameters: {'clf__alpha': 0.0001, 'clf__learning_rate': 'optimal', 'clf__penalty': 'l2'}\nBest Score (Macro F1): 0.7251660932261909\nMacro F1-score on Test Set: 0.7360947310092365\n",
          "output_type": "stream"
        }
      ]
    },
    {
      "cell_type": "markdown",
      "source": [
        "### Support Vector Machine"
      ],
      "metadata": {
        "id": "umZVdQZc7tpJ"
      }
    },
    {
      "cell_type": "code",
      "source": [
        "# Preprocessing the text data\n",
        "vectorizer = CountVectorizer()\n",
        "tfidf_transformer = TfidfTransformer()\n",
        "X_train_counts = vectorizer.fit_transform(X_train)\n",
        "X_train_tfidf = tfidf_transformer.fit_transform(X_train_counts)\n",
        "\n",
        "# Training the SVM model\n",
        "svm = SVC(kernel='linear', C=1)\n",
        "svm.fit(X_train_tfidf, y_train)\n",
        "\n",
        "joblib.dump(svm, '/kaggle/working/svm_model_top_category_id.pkl')\n",
        "\n",
        "# Preprocessing the test data\n",
        "X_test_counts = vectorizer.transform(X_test)\n",
        "X_test_tfidf = tfidf_transformer.transform(X_test_counts)\n",
        "\n",
        "# Predicting on the test data\n",
        "y_pred = svm.predict(X_test_tfidf)\n",
        "\n",
        "# Evaluating the model\n",
        "f1 = f1_score(y_test, y_pred, average='weighted')\n",
        "print('F1-score:', f1)"
      ],
      "metadata": {
        "execution": {
          "iopub.status.busy": "2024-04-17T22:22:51.388083Z",
          "iopub.execute_input": "2024-04-17T22:22:51.388447Z",
          "iopub.status.idle": "2024-04-17T22:24:48.968051Z",
          "shell.execute_reply.started": "2024-04-17T22:22:51.388417Z",
          "shell.execute_reply": "2024-04-17T22:24:48.966718Z"
        },
        "trusted": true,
        "id": "xq2OJbNw7tpJ",
        "outputId": "c3c0acc6-f480-4310-e6df-1756a489277d"
      },
      "execution_count": null,
      "outputs": [
        {
          "name": "stdout",
          "text": "F1-score: 0.7441337704002042\n",
          "output_type": "stream"
        }
      ]
    },
    {
      "cell_type": "code",
      "source": [
        "f1 = f1_score(y_test, y_pred, average='weighted')\n",
        "print(f1)"
      ],
      "metadata": {
        "execution": {
          "iopub.status.busy": "2024-04-17T22:24:48.970083Z",
          "iopub.execute_input": "2024-04-17T22:24:48.970830Z",
          "iopub.status.idle": "2024-04-17T22:24:48.982210Z",
          "shell.execute_reply.started": "2024-04-17T22:24:48.970789Z",
          "shell.execute_reply": "2024-04-17T22:24:48.980881Z"
        },
        "trusted": true,
        "id": "hx3kK-gO7tpM",
        "outputId": "2436cfdf-21ae-42f5-e81d-8128eb516b1b"
      },
      "execution_count": null,
      "outputs": [
        {
          "name": "stdout",
          "text": "0.7441337704002042\n",
          "output_type": "stream"
        }
      ]
    },
    {
      "cell_type": "markdown",
      "source": [
        "## For Test Dataset\n",
        "\n",
        "Predict the output using SVM Model"
      ],
      "metadata": {
        "id": "_t-5kTO-7tpM"
      }
    },
    {
      "cell_type": "code",
      "source": [
        "X_test = df_test['title']+ ' ' + df_test['description'] + ' ' + df_test['tags'] + ' ' + df_test['type']"
      ],
      "metadata": {
        "execution": {
          "iopub.status.busy": "2024-04-17T22:24:54.491876Z",
          "iopub.execute_input": "2024-04-17T22:24:54.492286Z",
          "iopub.status.idle": "2024-04-17T22:24:54.708063Z",
          "shell.execute_reply.started": "2024-04-17T22:24:54.492255Z",
          "shell.execute_reply": "2024-04-17T22:24:54.706888Z"
        },
        "trusted": true,
        "id": "mwNw0hxD7tpO"
      },
      "execution_count": null,
      "outputs": []
    },
    {
      "cell_type": "code",
      "source": [
        "df_test.head()"
      ],
      "metadata": {
        "execution": {
          "iopub.status.busy": "2024-04-17T22:28:32.086175Z",
          "iopub.execute_input": "2024-04-17T22:28:32.086609Z",
          "iopub.status.idle": "2024-04-17T22:28:32.123835Z",
          "shell.execute_reply.started": "2024-04-17T22:28:32.086554Z",
          "shell.execute_reply": "2024-04-17T22:28:32.122672Z"
        },
        "trusted": true,
        "id": "jvPixvQl7tpb",
        "outputId": "389bfd8f-1531-442f-8729-4827fc5ce0bd"
      },
      "execution_count": null,
      "outputs": [
        {
          "execution_count": 51,
          "output_type": "execute_result",
          "data": {
            "text/plain": "   product_id                                              title  \\\n0   815216520      A First Doll Book. &quot; Peggy and Me&quot;!   \n1   870948450  Abigayil: The Story of the Cat at the Manger, ...   \n2  1111113690  No Fighting, No Biting! by Else Holmelund Mina...   \n3  1510466600  Ukrainian book. &quot;Magic flashlight&quot;. ...   \n4  1035734450                                 The Ugly Butterfly   \n\n                                         description  \\\n0  Vintage book!  1968 A First Doll Book, &quot; ...   \n1  Rouben Mamoulian was an American film and thea...   \n2  A fun little vintage book “No Fighting, No Bit...   \n3  Ukrainian book.\\n&quot;Magic flashlight&quot;....   \n4  PreOrder this imaginative story about the life...   \n\n                                                tags      type room  \\\n0      flip book,vintage,Peggy and Me,change dresses  physical        \n1  one of a kind,authentic,original,gift,special,...  physical        \n2  Else Minarik,Maurice Sendak,Vintage Children,L...  physical        \n3  Books,Ukrainian,New,Gift,Colorful,Best,Stories...  physical        \n4  moth metamorphosis,caterpillar bug,butterfly c...  physical        \n\n  craft_type recipient material occasion holiday art_subject style shape  \\\n0                                                                          \n1                                                                          \n2                                                                          \n3                                                                          \n4                                                                          \n\n  pattern                                      image/encoded  image/width  \\\n0          b'\\xff\\xd8\\xff\\xe0\\x00\\x10JFIF\\x00\\x01\\x01\\x00...          570   \n1          b'\\xff\\xd8\\xff\\xe0\\x00\\x10JFIF\\x00\\x01\\x01\\x00...          570   \n2          b'\\xff\\xd8\\xff\\xe0\\x00\\x10JFIF\\x00\\x01\\x01\\x00...          570   \n3          b'\\xff\\xd8\\xff\\xe0\\x00\\x10JFIF\\x00\\x01\\x01\\x00...          570   \n4          b'\\xff\\xd8\\xff\\xe0\\x00\\x10JFIF\\x00\\x01\\x01\\x00...          570   \n\n   image/height  top_category_id  \n0           760                4  \n1           760                4  \n2           379                4  \n3           766                4  \n4           719                8  ",
            "text/html": "<div>\n<style scoped>\n    .dataframe tbody tr th:only-of-type {\n        vertical-align: middle;\n    }\n\n    .dataframe tbody tr th {\n        vertical-align: top;\n    }\n\n    .dataframe thead th {\n        text-align: right;\n    }\n</style>\n<table border=\"1\" class=\"dataframe\">\n  <thead>\n    <tr style=\"text-align: right;\">\n      <th></th>\n      <th>product_id</th>\n      <th>title</th>\n      <th>description</th>\n      <th>tags</th>\n      <th>type</th>\n      <th>room</th>\n      <th>craft_type</th>\n      <th>recipient</th>\n      <th>material</th>\n      <th>occasion</th>\n      <th>holiday</th>\n      <th>art_subject</th>\n      <th>style</th>\n      <th>shape</th>\n      <th>pattern</th>\n      <th>image/encoded</th>\n      <th>image/width</th>\n      <th>image/height</th>\n      <th>top_category_id</th>\n    </tr>\n  </thead>\n  <tbody>\n    <tr>\n      <th>0</th>\n      <td>815216520</td>\n      <td>A First Doll Book. &amp;quot; Peggy and Me&amp;quot;!</td>\n      <td>Vintage book!  1968 A First Doll Book, &amp;quot; ...</td>\n      <td>flip book,vintage,Peggy and Me,change dresses</td>\n      <td>physical</td>\n      <td></td>\n      <td></td>\n      <td></td>\n      <td></td>\n      <td></td>\n      <td></td>\n      <td></td>\n      <td></td>\n      <td></td>\n      <td></td>\n      <td>b'\\xff\\xd8\\xff\\xe0\\x00\\x10JFIF\\x00\\x01\\x01\\x00...</td>\n      <td>570</td>\n      <td>760</td>\n      <td>4</td>\n    </tr>\n    <tr>\n      <th>1</th>\n      <td>870948450</td>\n      <td>Abigayil: The Story of the Cat at the Manger, ...</td>\n      <td>Rouben Mamoulian was an American film and thea...</td>\n      <td>one of a kind,authentic,original,gift,special,...</td>\n      <td>physical</td>\n      <td></td>\n      <td></td>\n      <td></td>\n      <td></td>\n      <td></td>\n      <td></td>\n      <td></td>\n      <td></td>\n      <td></td>\n      <td></td>\n      <td>b'\\xff\\xd8\\xff\\xe0\\x00\\x10JFIF\\x00\\x01\\x01\\x00...</td>\n      <td>570</td>\n      <td>760</td>\n      <td>4</td>\n    </tr>\n    <tr>\n      <th>2</th>\n      <td>1111113690</td>\n      <td>No Fighting, No Biting! by Else Holmelund Mina...</td>\n      <td>A fun little vintage book “No Fighting, No Bit...</td>\n      <td>Else Minarik,Maurice Sendak,Vintage Children,L...</td>\n      <td>physical</td>\n      <td></td>\n      <td></td>\n      <td></td>\n      <td></td>\n      <td></td>\n      <td></td>\n      <td></td>\n      <td></td>\n      <td></td>\n      <td></td>\n      <td>b'\\xff\\xd8\\xff\\xe0\\x00\\x10JFIF\\x00\\x01\\x01\\x00...</td>\n      <td>570</td>\n      <td>379</td>\n      <td>4</td>\n    </tr>\n    <tr>\n      <th>3</th>\n      <td>1510466600</td>\n      <td>Ukrainian book. &amp;quot;Magic flashlight&amp;quot;. ...</td>\n      <td>Ukrainian book.\\n&amp;quot;Magic flashlight&amp;quot;....</td>\n      <td>Books,Ukrainian,New,Gift,Colorful,Best,Stories...</td>\n      <td>physical</td>\n      <td></td>\n      <td></td>\n      <td></td>\n      <td></td>\n      <td></td>\n      <td></td>\n      <td></td>\n      <td></td>\n      <td></td>\n      <td></td>\n      <td>b'\\xff\\xd8\\xff\\xe0\\x00\\x10JFIF\\x00\\x01\\x01\\x00...</td>\n      <td>570</td>\n      <td>766</td>\n      <td>4</td>\n    </tr>\n    <tr>\n      <th>4</th>\n      <td>1035734450</td>\n      <td>The Ugly Butterfly</td>\n      <td>PreOrder this imaginative story about the life...</td>\n      <td>moth metamorphosis,caterpillar bug,butterfly c...</td>\n      <td>physical</td>\n      <td></td>\n      <td></td>\n      <td></td>\n      <td></td>\n      <td></td>\n      <td></td>\n      <td></td>\n      <td></td>\n      <td></td>\n      <td></td>\n      <td>b'\\xff\\xd8\\xff\\xe0\\x00\\x10JFIF\\x00\\x01\\x01\\x00...</td>\n      <td>570</td>\n      <td>719</td>\n      <td>8</td>\n    </tr>\n  </tbody>\n</table>\n</div>"
          },
          "metadata": {}
        }
      ]
    },
    {
      "cell_type": "code",
      "source": [
        "X_test_counts = vectorizer.transform(X_test)\n",
        "X_test_tfidf = tfidf_transformer.transform(X_test_counts)\n",
        "\n",
        "# Initialize list to store predictions\n",
        "y_pred = []\n",
        "\n",
        "# Predicting on the test data\n",
        "for i in tqdm(range(X_test_tfidf.shape[0]), desc=\"Predicting\"):\n",
        "    y_pred.append(svm.predict(X_test_tfidf[i]))\n",
        "\n",
        "# Convert predictions to array\n",
        "y_pred = np.array(y_pred)"
      ],
      "metadata": {
        "execution": {
          "iopub.status.busy": "2024-04-17T22:28:54.680280Z",
          "iopub.execute_input": "2024-04-17T22:28:54.680741Z",
          "iopub.status.idle": "2024-04-17T22:35:11.769043Z",
          "shell.execute_reply.started": "2024-04-17T22:28:54.680705Z",
          "shell.execute_reply": "2024-04-17T22:35:11.767709Z"
        },
        "trusted": true,
        "id": "mviU6A4a7tpb",
        "outputId": "0314aca8-0893-4907-ef0a-d5ebc64b9137"
      },
      "execution_count": null,
      "outputs": [
        {
          "name": "stderr",
          "text": "Predicting: 100%|██████████| 25514/25514 [06:10<00:00, 68.95it/s]\n",
          "output_type": "stream"
        }
      ]
    },
    {
      "cell_type": "code",
      "source": [
        "df_test.head()"
      ],
      "metadata": {
        "execution": {
          "iopub.status.busy": "2024-04-17T22:35:11.771474Z",
          "iopub.execute_input": "2024-04-17T22:35:11.771843Z",
          "iopub.status.idle": "2024-04-17T22:35:11.812803Z",
          "shell.execute_reply.started": "2024-04-17T22:35:11.771814Z",
          "shell.execute_reply": "2024-04-17T22:35:11.811521Z"
        },
        "trusted": true,
        "id": "3pP_312G7tpb",
        "outputId": "267bf65b-c84a-4651-de85-6c060327e70a"
      },
      "execution_count": null,
      "outputs": [
        {
          "execution_count": 53,
          "output_type": "execute_result",
          "data": {
            "text/plain": "   product_id                                              title  \\\n0   815216520      A First Doll Book. &quot; Peggy and Me&quot;!   \n1   870948450  Abigayil: The Story of the Cat at the Manger, ...   \n2  1111113690  No Fighting, No Biting! by Else Holmelund Mina...   \n3  1510466600  Ukrainian book. &quot;Magic flashlight&quot;. ...   \n4  1035734450                                 The Ugly Butterfly   \n\n                                         description  \\\n0  Vintage book!  1968 A First Doll Book, &quot; ...   \n1  Rouben Mamoulian was an American film and thea...   \n2  A fun little vintage book “No Fighting, No Bit...   \n3  Ukrainian book.\\n&quot;Magic flashlight&quot;....   \n4  PreOrder this imaginative story about the life...   \n\n                                                tags      type room  \\\n0      flip book,vintage,Peggy and Me,change dresses  physical        \n1  one of a kind,authentic,original,gift,special,...  physical        \n2  Else Minarik,Maurice Sendak,Vintage Children,L...  physical        \n3  Books,Ukrainian,New,Gift,Colorful,Best,Stories...  physical        \n4  moth metamorphosis,caterpillar bug,butterfly c...  physical        \n\n  craft_type recipient material occasion holiday art_subject style shape  \\\n0                                                                          \n1                                                                          \n2                                                                          \n3                                                                          \n4                                                                          \n\n  pattern                                      image/encoded  image/width  \\\n0          b'\\xff\\xd8\\xff\\xe0\\x00\\x10JFIF\\x00\\x01\\x01\\x00...          570   \n1          b'\\xff\\xd8\\xff\\xe0\\x00\\x10JFIF\\x00\\x01\\x01\\x00...          570   \n2          b'\\xff\\xd8\\xff\\xe0\\x00\\x10JFIF\\x00\\x01\\x01\\x00...          570   \n3          b'\\xff\\xd8\\xff\\xe0\\x00\\x10JFIF\\x00\\x01\\x01\\x00...          570   \n4          b'\\xff\\xd8\\xff\\xe0\\x00\\x10JFIF\\x00\\x01\\x01\\x00...          570   \n\n   image/height  top_category_id  \n0           760                4  \n1           760                4  \n2           379                4  \n3           766                4  \n4           719                8  ",
            "text/html": "<div>\n<style scoped>\n    .dataframe tbody tr th:only-of-type {\n        vertical-align: middle;\n    }\n\n    .dataframe tbody tr th {\n        vertical-align: top;\n    }\n\n    .dataframe thead th {\n        text-align: right;\n    }\n</style>\n<table border=\"1\" class=\"dataframe\">\n  <thead>\n    <tr style=\"text-align: right;\">\n      <th></th>\n      <th>product_id</th>\n      <th>title</th>\n      <th>description</th>\n      <th>tags</th>\n      <th>type</th>\n      <th>room</th>\n      <th>craft_type</th>\n      <th>recipient</th>\n      <th>material</th>\n      <th>occasion</th>\n      <th>holiday</th>\n      <th>art_subject</th>\n      <th>style</th>\n      <th>shape</th>\n      <th>pattern</th>\n      <th>image/encoded</th>\n      <th>image/width</th>\n      <th>image/height</th>\n      <th>top_category_id</th>\n    </tr>\n  </thead>\n  <tbody>\n    <tr>\n      <th>0</th>\n      <td>815216520</td>\n      <td>A First Doll Book. &amp;quot; Peggy and Me&amp;quot;!</td>\n      <td>Vintage book!  1968 A First Doll Book, &amp;quot; ...</td>\n      <td>flip book,vintage,Peggy and Me,change dresses</td>\n      <td>physical</td>\n      <td></td>\n      <td></td>\n      <td></td>\n      <td></td>\n      <td></td>\n      <td></td>\n      <td></td>\n      <td></td>\n      <td></td>\n      <td></td>\n      <td>b'\\xff\\xd8\\xff\\xe0\\x00\\x10JFIF\\x00\\x01\\x01\\x00...</td>\n      <td>570</td>\n      <td>760</td>\n      <td>4</td>\n    </tr>\n    <tr>\n      <th>1</th>\n      <td>870948450</td>\n      <td>Abigayil: The Story of the Cat at the Manger, ...</td>\n      <td>Rouben Mamoulian was an American film and thea...</td>\n      <td>one of a kind,authentic,original,gift,special,...</td>\n      <td>physical</td>\n      <td></td>\n      <td></td>\n      <td></td>\n      <td></td>\n      <td></td>\n      <td></td>\n      <td></td>\n      <td></td>\n      <td></td>\n      <td></td>\n      <td>b'\\xff\\xd8\\xff\\xe0\\x00\\x10JFIF\\x00\\x01\\x01\\x00...</td>\n      <td>570</td>\n      <td>760</td>\n      <td>4</td>\n    </tr>\n    <tr>\n      <th>2</th>\n      <td>1111113690</td>\n      <td>No Fighting, No Biting! by Else Holmelund Mina...</td>\n      <td>A fun little vintage book “No Fighting, No Bit...</td>\n      <td>Else Minarik,Maurice Sendak,Vintage Children,L...</td>\n      <td>physical</td>\n      <td></td>\n      <td></td>\n      <td></td>\n      <td></td>\n      <td></td>\n      <td></td>\n      <td></td>\n      <td></td>\n      <td></td>\n      <td></td>\n      <td>b'\\xff\\xd8\\xff\\xe0\\x00\\x10JFIF\\x00\\x01\\x01\\x00...</td>\n      <td>570</td>\n      <td>379</td>\n      <td>4</td>\n    </tr>\n    <tr>\n      <th>3</th>\n      <td>1510466600</td>\n      <td>Ukrainian book. &amp;quot;Magic flashlight&amp;quot;. ...</td>\n      <td>Ukrainian book.\\n&amp;quot;Magic flashlight&amp;quot;....</td>\n      <td>Books,Ukrainian,New,Gift,Colorful,Best,Stories...</td>\n      <td>physical</td>\n      <td></td>\n      <td></td>\n      <td></td>\n      <td></td>\n      <td></td>\n      <td></td>\n      <td></td>\n      <td></td>\n      <td></td>\n      <td></td>\n      <td>b'\\xff\\xd8\\xff\\xe0\\x00\\x10JFIF\\x00\\x01\\x01\\x00...</td>\n      <td>570</td>\n      <td>766</td>\n      <td>4</td>\n    </tr>\n    <tr>\n      <th>4</th>\n      <td>1035734450</td>\n      <td>The Ugly Butterfly</td>\n      <td>PreOrder this imaginative story about the life...</td>\n      <td>moth metamorphosis,caterpillar bug,butterfly c...</td>\n      <td>physical</td>\n      <td></td>\n      <td></td>\n      <td></td>\n      <td></td>\n      <td></td>\n      <td></td>\n      <td></td>\n      <td></td>\n      <td></td>\n      <td></td>\n      <td>b'\\xff\\xd8\\xff\\xe0\\x00\\x10JFIF\\x00\\x01\\x01\\x00...</td>\n      <td>570</td>\n      <td>719</td>\n      <td>8</td>\n    </tr>\n  </tbody>\n</table>\n</div>"
          },
          "metadata": {}
        }
      ]
    },
    {
      "cell_type": "code",
      "source": [
        "df_test['top_category_id']=y_pred"
      ],
      "metadata": {
        "execution": {
          "iopub.status.busy": "2024-04-17T22:35:51.986860Z",
          "iopub.execute_input": "2024-04-17T22:35:51.987273Z",
          "iopub.status.idle": "2024-04-17T22:35:51.993377Z",
          "shell.execute_reply.started": "2024-04-17T22:35:51.987244Z",
          "shell.execute_reply": "2024-04-17T22:35:51.992037Z"
        },
        "trusted": true,
        "id": "jjTvU6Om7tpe"
      },
      "execution_count": null,
      "outputs": []
    },
    {
      "cell_type": "code",
      "source": [
        "unique_combinations_dict = unique_combinations.set_index('top_category_id')['top_category_text'].to_dict()"
      ],
      "metadata": {
        "execution": {
          "iopub.status.busy": "2024-04-17T22:42:33.670383Z",
          "iopub.execute_input": "2024-04-17T22:42:33.671706Z",
          "iopub.status.idle": "2024-04-17T22:42:33.678801Z",
          "shell.execute_reply.started": "2024-04-17T22:42:33.671654Z",
          "shell.execute_reply": "2024-04-17T22:42:33.677616Z"
        },
        "trusted": true,
        "id": "RERl_qzh7tpe"
      },
      "execution_count": null,
      "outputs": []
    },
    {
      "cell_type": "code",
      "source": [
        "df_test['top_category_text'] = df_test['top_category_id'].map(unique_combinations_dict)"
      ],
      "metadata": {
        "execution": {
          "iopub.status.busy": "2024-04-17T22:44:09.677733Z",
          "iopub.execute_input": "2024-04-17T22:44:09.678956Z",
          "iopub.status.idle": "2024-04-17T22:44:09.688744Z",
          "shell.execute_reply.started": "2024-04-17T22:44:09.678911Z",
          "shell.execute_reply": "2024-04-17T22:44:09.687345Z"
        },
        "trusted": true,
        "id": "qN8kfg6F7tpf"
      },
      "execution_count": null,
      "outputs": []
    },
    {
      "cell_type": "code",
      "source": [
        "df_test[['product_id','title','tags','type','top_category_id','top_category_text']].to_csv('/kaggle/working/top_category_predictions.csv')"
      ],
      "metadata": {
        "execution": {
          "iopub.status.busy": "2024-04-17T22:46:58.668315Z",
          "iopub.execute_input": "2024-04-17T22:46:58.668754Z",
          "iopub.status.idle": "2024-04-17T22:46:59.088357Z",
          "shell.execute_reply.started": "2024-04-17T22:46:58.668719Z",
          "shell.execute_reply": "2024-04-17T22:46:59.087468Z"
        },
        "trusted": true,
        "id": "oodYq_GP7tpg"
      },
      "execution_count": null,
      "outputs": []
    },
    {
      "cell_type": "markdown",
      "source": [
        "# For Bottom Category ID"
      ],
      "metadata": {
        "id": "-lpLiKKO8Fa5"
      }
    },
    {
      "cell_type": "markdown",
      "source": [
        "## Importing Libraries - Start"
      ],
      "metadata": {
        "id": "hLazqruw72Pq"
      }
    },
    {
      "cell_type": "code",
      "source": [
        "import pandas as pd\n",
        "import numpy as np\n",
        "import re"
      ],
      "metadata": {
        "execution": {
          "iopub.status.busy": "2024-04-17T21:09:05.542894Z",
          "iopub.execute_input": "2024-04-17T21:09:05.543286Z",
          "iopub.status.idle": "2024-04-17T21:09:06.804605Z",
          "shell.execute_reply.started": "2024-04-17T21:09:05.543255Z",
          "shell.execute_reply": "2024-04-17T21:09:06.803344Z"
        },
        "trusted": true,
        "id": "wrDJiH6h72Pr"
      },
      "execution_count": null,
      "outputs": []
    },
    {
      "cell_type": "markdown",
      "source": [
        "### nltk libraries"
      ],
      "metadata": {
        "id": "7mFVAtLI72Pr"
      }
    },
    {
      "cell_type": "code",
      "source": [
        "!pip install nltk\n",
        "import nltk\n",
        "from nltk.corpus import words\n",
        "\n",
        "# Download the 'words' corpus if not already downloaded\n",
        "nltk.download('words')\n",
        "\n",
        "from nltk.corpus import stopwords\n",
        "nltk.download('stopwords')\n",
        "\n",
        "from nltk.tokenize import word_tokenize\n",
        "from nltk.stem import WordNetLemmatizer\n",
        "nltk.download('wordnet')"
      ],
      "metadata": {
        "execution": {
          "iopub.status.busy": "2024-04-17T21:09:09.617067Z",
          "iopub.execute_input": "2024-04-17T21:09:09.617849Z",
          "iopub.status.idle": "2024-04-17T21:09:26.318719Z",
          "shell.execute_reply.started": "2024-04-17T21:09:09.617813Z",
          "shell.execute_reply": "2024-04-17T21:09:26.317583Z"
        },
        "trusted": true,
        "id": "U-qOAWTF72Ps",
        "outputId": "9958a63a-ddba-454e-fbe9-0d259af5e49b"
      },
      "execution_count": null,
      "outputs": [
        {
          "name": "stdout",
          "text": "Requirement already satisfied: nltk in /opt/conda/lib/python3.10/site-packages (3.2.4)\nRequirement already satisfied: six in /opt/conda/lib/python3.10/site-packages (from nltk) (1.16.0)\n[nltk_data] Downloading package words to /usr/share/nltk_data...\n[nltk_data]   Package words is already up-to-date!\n[nltk_data] Downloading package stopwords to /usr/share/nltk_data...\n[nltk_data]   Package stopwords is already up-to-date!\n[nltk_data] Downloading package wordnet to /usr/share/nltk_data...\n[nltk_data]   Package wordnet is already up-to-date!\n",
          "output_type": "stream"
        },
        {
          "execution_count": 2,
          "output_type": "execute_result",
          "data": {
            "text/plain": "True"
          },
          "metadata": {}
        }
      ]
    },
    {
      "cell_type": "code",
      "source": [
        "!pip install beautifulsoup4\n",
        "from bs4 import BeautifulSoup"
      ],
      "metadata": {
        "execution": {
          "iopub.status.busy": "2024-04-17T21:09:26.320772Z",
          "iopub.execute_input": "2024-04-17T21:09:26.321826Z",
          "iopub.status.idle": "2024-04-17T21:09:38.791989Z",
          "shell.execute_reply.started": "2024-04-17T21:09:26.321792Z",
          "shell.execute_reply": "2024-04-17T21:09:38.790717Z"
        },
        "trusted": true,
        "id": "eH5rNo5-72Ps",
        "outputId": "121dc81f-b93d-47f2-ed89-15a0c78a117f"
      },
      "execution_count": null,
      "outputs": [
        {
          "name": "stdout",
          "text": "Requirement already satisfied: beautifulsoup4 in /opt/conda/lib/python3.10/site-packages (4.12.2)\nRequirement already satisfied: soupsieve>1.2 in /opt/conda/lib/python3.10/site-packages (from beautifulsoup4) (2.5)\n",
          "output_type": "stream"
        }
      ]
    },
    {
      "cell_type": "markdown",
      "source": [
        "### Libraries for statistics"
      ],
      "metadata": {
        "id": "X4SuRZ9g72Pt"
      }
    },
    {
      "cell_type": "code",
      "source": [
        "from scipy.stats import chi2_contingency\n",
        "from scipy.stats import ks_2samp"
      ],
      "metadata": {
        "execution": {
          "iopub.status.busy": "2024-04-17T21:09:38.793717Z",
          "iopub.execute_input": "2024-04-17T21:09:38.794798Z",
          "iopub.status.idle": "2024-04-17T21:09:38.800390Z",
          "shell.execute_reply.started": "2024-04-17T21:09:38.794759Z",
          "shell.execute_reply": "2024-04-17T21:09:38.799143Z"
        },
        "trusted": true,
        "id": "O7yximFJ72Pt"
      },
      "execution_count": null,
      "outputs": []
    },
    {
      "cell_type": "markdown",
      "source": [
        "### Libraries for model training"
      ],
      "metadata": {
        "id": "iStFMFlh72Pu"
      }
    },
    {
      "cell_type": "code",
      "source": [
        "from sklearn.naive_bayes import MultinomialNB\n",
        "from sklearn.metrics import classification_report, accuracy_score, f1_score,make_scorer\n",
        "from tqdm import tqdm\n",
        "import joblib\n",
        "from sklearn.pipeline import Pipeline\n",
        "from sklearn.feature_extraction.text import CountVectorizer, TfidfTransformer\n",
        "from sklearn.model_selection import train_test_split, StratifiedKFold, GridSearchCV\n",
        "from sklearn.linear_model import SGDClassifier\n",
        "from sklearn.preprocessing import LabelEncoder\n",
        "from sklearn.svm import SVC"
      ],
      "metadata": {
        "execution": {
          "iopub.status.busy": "2024-04-17T21:09:38.802547Z",
          "iopub.execute_input": "2024-04-17T21:09:38.802875Z",
          "iopub.status.idle": "2024-04-17T21:09:38.824110Z",
          "shell.execute_reply.started": "2024-04-17T21:09:38.802849Z",
          "shell.execute_reply": "2024-04-17T21:09:38.823058Z"
        },
        "trusted": true,
        "id": "OPYDUoPH72Pu"
      },
      "execution_count": null,
      "outputs": []
    },
    {
      "cell_type": "markdown",
      "source": [
        "## Importing Dataset"
      ],
      "metadata": {
        "id": "q4LMc6za72Pv"
      }
    },
    {
      "cell_type": "code",
      "source": [
        "PATH = f\"/kaggle/input/etsy-dataset/data/2024\""
      ],
      "metadata": {
        "execution": {
          "iopub.status.busy": "2024-04-17T23:00:59.166547Z",
          "iopub.execute_input": "2024-04-17T23:00:59.166907Z",
          "iopub.status.idle": "2024-04-17T23:00:59.170737Z",
          "shell.execute_reply.started": "2024-04-17T23:00:59.166874Z",
          "shell.execute_reply": "2024-04-17T23:00:59.169931Z"
        },
        "trusted": true,
        "id": "Ya4OHlhk72Pv"
      },
      "execution_count": null,
      "outputs": []
    },
    {
      "cell_type": "code",
      "source": [
        "import os\n",
        "parquet_filenames_train = os.listdir(\"/kaggle/input/etsy-dataset/data/2024/train\")\n",
        "parquet_filenames_test = os.listdir(\"/kaggle/input/etsy-dataset/data/2024/test\")"
      ],
      "metadata": {
        "execution": {
          "iopub.status.busy": "2024-04-17T23:01:00.200402Z",
          "iopub.execute_input": "2024-04-17T23:01:00.200720Z",
          "iopub.status.idle": "2024-04-17T23:01:00.454864Z",
          "shell.execute_reply.started": "2024-04-17T23:01:00.200691Z",
          "shell.execute_reply": "2024-04-17T23:01:00.454156Z"
        },
        "trusted": true,
        "id": "hBNOGM4T72Pv"
      },
      "execution_count": null,
      "outputs": []
    },
    {
      "cell_type": "code",
      "source": [
        "def read_data(folder, filenames):\n",
        "    \"\"\" Read parquet data from mutiple files \"\"\"\n",
        "\n",
        "    dataframes = [\n",
        "        pd.read_parquet(f\"{PATH}/{folder}/{filename}\")\n",
        "        for filename in filenames\n",
        "    ]\n",
        "\n",
        "    return pd.concat(dataframes)"
      ],
      "metadata": {
        "execution": {
          "iopub.status.busy": "2024-04-17T23:01:03.069013Z",
          "iopub.execute_input": "2024-04-17T23:01:03.069350Z",
          "iopub.status.idle": "2024-04-17T23:01:03.073800Z",
          "shell.execute_reply.started": "2024-04-17T23:01:03.069322Z",
          "shell.execute_reply": "2024-04-17T23:01:03.073108Z"
        },
        "trusted": true,
        "id": "piTUzZKi72Pv"
      },
      "execution_count": null,
      "outputs": []
    },
    {
      "cell_type": "code",
      "source": [
        "%%time\n",
        "\n",
        "df_train = read_data(\"train\", parquet_filenames_train[:])\n",
        "df_test = read_data(\"test\", parquet_filenames_test[:])"
      ],
      "metadata": {
        "execution": {
          "iopub.status.busy": "2024-04-17T23:01:04.784413Z",
          "iopub.execute_input": "2024-04-17T23:01:04.784736Z",
          "iopub.status.idle": "2024-04-17T23:03:49.226366Z",
          "shell.execute_reply.started": "2024-04-17T23:01:04.784707Z",
          "shell.execute_reply": "2024-04-17T23:03:49.225588Z"
        },
        "trusted": true,
        "id": "mGBusQqP72Pv",
        "outputId": "de74ab8b-28bd-476d-ea24-40fea59dff61"
      },
      "execution_count": null,
      "outputs": [
        {
          "name": "stdout",
          "text": "CPU times: user 23 s, sys: 57.9 s, total: 1min 20s\nWall time: 2min 44s\n",
          "output_type": "stream"
        }
      ]
    },
    {
      "cell_type": "markdown",
      "source": [
        "## Data Exploration"
      ],
      "metadata": {
        "id": "8WJEwyDJ72Pw"
      }
    },
    {
      "cell_type": "code",
      "source": [
        "f\"Number of rows in train: {len(df_train):,}\""
      ],
      "metadata": {
        "execution": {
          "iopub.status.busy": "2024-04-13T08:25:28.357828Z",
          "iopub.execute_input": "2024-04-13T08:25:28.358114Z",
          "iopub.status.idle": "2024-04-13T08:25:28.364072Z",
          "shell.execute_reply.started": "2024-04-13T08:25:28.358090Z",
          "shell.execute_reply": "2024-04-13T08:25:28.363098Z"
        },
        "trusted": true,
        "id": "Q1mnqZF672Pw",
        "outputId": "b2997542-24a3-404d-ffd5-e6bd6c7d15f8"
      },
      "execution_count": null,
      "outputs": [
        {
          "execution_count": 27,
          "output_type": "execute_result",
          "data": {
            "text/plain": "'Number of rows in train: 229,624'"
          },
          "metadata": {}
        }
      ]
    },
    {
      "cell_type": "code",
      "source": [
        "f\"Number of unique products in train: {len(df_train['product_id'].unique()):,}\""
      ],
      "metadata": {
        "execution": {
          "iopub.status.busy": "2024-04-13T08:25:28.365289Z",
          "iopub.execute_input": "2024-04-13T08:25:28.365593Z",
          "iopub.status.idle": "2024-04-13T08:25:28.386592Z",
          "shell.execute_reply.started": "2024-04-13T08:25:28.365563Z",
          "shell.execute_reply": "2024-04-13T08:25:28.385717Z"
        },
        "trusted": true,
        "id": "0Kxn0GqN72Pw",
        "outputId": "ae413489-4c26-4814-f7b5-ebc2186b40f2"
      },
      "execution_count": null,
      "outputs": [
        {
          "execution_count": 28,
          "output_type": "execute_result",
          "data": {
            "text/plain": "'Number of unique products in train: 229,624'"
          },
          "metadata": {}
        }
      ]
    },
    {
      "cell_type": "code",
      "source": [
        "f\"Number of columns in train: {len(df_train.columns):,}\""
      ],
      "metadata": {
        "execution": {
          "iopub.status.busy": "2024-04-13T08:25:28.387853Z",
          "iopub.execute_input": "2024-04-13T08:25:28.388211Z",
          "iopub.status.idle": "2024-04-13T08:25:28.394561Z",
          "shell.execute_reply.started": "2024-04-13T08:25:28.388181Z",
          "shell.execute_reply": "2024-04-13T08:25:28.393620Z"
        },
        "trusted": true,
        "id": "_dR7MnyU72Pw",
        "outputId": "a89bb614-bab0-4aa9-d4e5-05d2c15c86eb"
      },
      "execution_count": null,
      "outputs": [
        {
          "execution_count": 29,
          "output_type": "execute_result",
          "data": {
            "text/plain": "'Number of columns in train: 26'"
          },
          "metadata": {}
        }
      ]
    },
    {
      "cell_type": "code",
      "source": [
        "list(df_train.columns)"
      ],
      "metadata": {
        "execution": {
          "iopub.status.busy": "2024-04-13T08:25:28.395626Z",
          "iopub.execute_input": "2024-04-13T08:25:28.395911Z",
          "iopub.status.idle": "2024-04-13T08:25:28.405900Z",
          "shell.execute_reply.started": "2024-04-13T08:25:28.395887Z",
          "shell.execute_reply": "2024-04-13T08:25:28.405081Z"
        },
        "trusted": true,
        "id": "ngP0LAAU72Pw",
        "outputId": "9f7d207f-fde0-48c0-cecb-c498938f0169"
      },
      "execution_count": null,
      "outputs": [
        {
          "execution_count": 30,
          "output_type": "execute_result",
          "data": {
            "text/plain": "['product_id',\n 'title',\n 'description',\n 'tags',\n 'type',\n 'room',\n 'craft_type',\n 'recipient',\n 'material',\n 'occasion',\n 'holiday',\n 'art_subject',\n 'style',\n 'shape',\n 'pattern',\n 'bottom_category_id',\n 'bottom_category_text',\n 'top_category_id',\n 'top_category_text',\n 'primary_color_id',\n 'primary_color_text',\n 'secondary_color_id',\n 'secondary_color_text',\n 'image/encoded',\n 'image/width',\n 'image/height']"
          },
          "metadata": {}
        }
      ]
    },
    {
      "cell_type": "code",
      "source": [
        "#COPIED\n",
        "print(f\"Number of top categories in train: {len(df_train['top_category_text'].unique()):,}\")"
      ],
      "metadata": {
        "execution": {
          "iopub.status.busy": "2024-04-13T08:25:28.406961Z",
          "iopub.execute_input": "2024-04-13T08:25:28.407233Z",
          "iopub.status.idle": "2024-04-13T08:25:28.434671Z",
          "shell.execute_reply.started": "2024-04-13T08:25:28.407210Z",
          "shell.execute_reply": "2024-04-13T08:25:28.433699Z"
        },
        "trusted": true,
        "id": "sxMJ40Pn72Pw",
        "outputId": "6cd69ff8-14eb-4512-daa3-d01eb91c71bf"
      },
      "execution_count": null,
      "outputs": [
        {
          "name": "stdout",
          "text": "Number of top categories in train: 15\n",
          "output_type": "stream"
        }
      ]
    },
    {
      "cell_type": "code",
      "source": [
        "df_train.iloc[0]"
      ],
      "metadata": {
        "execution": {
          "iopub.status.busy": "2024-04-13T08:25:28.435969Z",
          "iopub.execute_input": "2024-04-13T08:25:28.436542Z",
          "iopub.status.idle": "2024-04-13T08:25:28.447775Z",
          "shell.execute_reply.started": "2024-04-13T08:25:28.436511Z",
          "shell.execute_reply": "2024-04-13T08:25:28.446875Z"
        },
        "trusted": true,
        "id": "sAds-Xfa72Px",
        "outputId": "a995aac1-00dd-45aa-f2c2-dac78b2818f9"
      },
      "execution_count": null,
      "outputs": [
        {
          "execution_count": 32,
          "output_type": "execute_result",
          "data": {
            "text/plain": "product_id                                                     1278122912\ntitle                   Dragon and Snake Custom Nike AF1 Custom Chines...\ndescription             Dragon and Snake Custom Nike AF1 Custom Chines...\ntags                    handpainted sneaker,sneaker,unique gift,custom...\ntype                                                             physical\nroom                                                                     \ncraft_type                                                               \nrecipient                                                                \nmaterial                                                                 \noccasion                                                         birthday\nholiday                                                         christmas\nart_subject                                                              \nstyle                                                                    \nshape                                                                    \npattern                                                                  \nbottom_category_id                                                   1503\nbottom_category_text    shoes.gender_neutral_adult_shoes.sneakers_and_...\ntop_category_id                                                        12\ntop_category_text                                                   shoes\nprimary_color_id                                                       17\nprimary_color_text                                                  white\nsecondary_color_id                                                      1\nsecondary_color_text                                                black\nimage/encoded           b'\\xff\\xd8\\xff\\xe0\\x00\\x10JFIF\\x00\\x01\\x01\\x00...\nimage/width                                                           570\nimage/height                                                          596\nName: 0, dtype: object"
          },
          "metadata": {}
        }
      ]
    },
    {
      "cell_type": "code",
      "source": [
        "df_train.head(5)"
      ],
      "metadata": {
        "execution": {
          "iopub.status.busy": "2024-04-13T08:25:28.448836Z",
          "iopub.execute_input": "2024-04-13T08:25:28.449088Z",
          "iopub.status.idle": "2024-04-13T08:25:28.492076Z",
          "shell.execute_reply.started": "2024-04-13T08:25:28.449067Z",
          "shell.execute_reply": "2024-04-13T08:25:28.491266Z"
        },
        "trusted": true,
        "id": "brecyTvB72Px",
        "outputId": "ac50cad7-8e36-4105-e11a-05bea56e4762"
      },
      "execution_count": null,
      "outputs": [
        {
          "execution_count": 33,
          "output_type": "execute_result",
          "data": {
            "text/plain": "   product_id                                              title  \\\n0  1278122912  Dragon and Snake Custom Nike AF1 Custom Chines...   \n1   698470598  Canvas Shoes Trainers, Kids to Adults,  Hand C...   \n2  1437216455                                   Sneaker Keychain   \n3  1502633808  Adidas Superstar Custom Sneakers Rose Shoes Bl...   \n4  1474730171  Madras Shoes for Men, Preppy Madras Patchwork ...   \n\n                                         description  \\\n0  Dragon and Snake Custom Nike AF1 Custom Chines...   \n1  Fantastic Gold Edged Butterfly Fabric, yellow ...   \n2  Ideal gift for exclusive sneaker lovers\\n\\nThe...   \n3  Adidas Superstar Custom Sneakers Rose\\n\\n· Pai...   \n4  Looking for a classic madras shoe for men? Her...   \n\n                                                tags      type room  \\\n0  handpainted sneaker,sneaker,unique gift,custom...  physical        \n1  Butterflies,Butterfly shoes,Butterfly presents...  physical        \n2                                                     physical        \n3  Superstar Custom,Air Force 1 Rose,Rose Custom ...  physical        \n4  madras shoes,men's madras shoes,lace-up canvas...  physical        \n\n  craft_type recipient material     occasion  ...  \\\n0                                   birthday  ...   \n1                                   birthday  ...   \n2                                anniversary  ...   \n3                                   birthday  ...   \n4                                             ...   \n\n                                bottom_category_text top_category_id  \\\n0  shoes.gender_neutral_adult_shoes.sneakers_and_...              12   \n1  shoes.gender_neutral_adult_shoes.sneakers_and_...              12   \n2  shoes.gender_neutral_adult_shoes.sneakers_and_...              12   \n3  shoes.gender_neutral_adult_shoes.sneakers_and_...              12   \n4  shoes.gender_neutral_adult_shoes.sneakers_and_...              12   \n\n  top_category_text primary_color_id primary_color_text  secondary_color_id  \\\n0             shoes               17              white                   1   \n1             shoes               18             yellow                  13   \n2             shoes               17              white                  14   \n3             shoes               17              white                   1   \n4             shoes                2               blue                   9   \n\n  secondary_color_text                                      image/encoded  \\\n0                black  b'\\xff\\xd8\\xff\\xe0\\x00\\x10JFIF\\x00\\x01\\x01\\x00...   \n1              rainbow  b'\\xff\\xd8\\xff\\xe0\\x00\\x10JFIF\\x00\\x01\\x01\\x00...   \n2                  red  b'\\xff\\xd8\\xff\\xe0\\x00\\x10JFIF\\x00\\x01\\x01\\x00...   \n3                black  b'\\xff\\xd8\\xff\\xe0\\x00\\x10JFIF\\x00\\x01\\x01\\x00...   \n4                green  b'\\xff\\xd8\\xff\\xe0\\x00\\x10JFIF\\x00\\x01\\x01\\x00...   \n\n  image/width  image/height  \n0         570           596  \n1         570           427  \n2         570           380  \n3         570           570  \n4         570           570  \n\n[5 rows x 26 columns]",
            "text/html": "<div>\n<style scoped>\n    .dataframe tbody tr th:only-of-type {\n        vertical-align: middle;\n    }\n\n    .dataframe tbody tr th {\n        vertical-align: top;\n    }\n\n    .dataframe thead th {\n        text-align: right;\n    }\n</style>\n<table border=\"1\" class=\"dataframe\">\n  <thead>\n    <tr style=\"text-align: right;\">\n      <th></th>\n      <th>product_id</th>\n      <th>title</th>\n      <th>description</th>\n      <th>tags</th>\n      <th>type</th>\n      <th>room</th>\n      <th>craft_type</th>\n      <th>recipient</th>\n      <th>material</th>\n      <th>occasion</th>\n      <th>...</th>\n      <th>bottom_category_text</th>\n      <th>top_category_id</th>\n      <th>top_category_text</th>\n      <th>primary_color_id</th>\n      <th>primary_color_text</th>\n      <th>secondary_color_id</th>\n      <th>secondary_color_text</th>\n      <th>image/encoded</th>\n      <th>image/width</th>\n      <th>image/height</th>\n    </tr>\n  </thead>\n  <tbody>\n    <tr>\n      <th>0</th>\n      <td>1278122912</td>\n      <td>Dragon and Snake Custom Nike AF1 Custom Chines...</td>\n      <td>Dragon and Snake Custom Nike AF1 Custom Chines...</td>\n      <td>handpainted sneaker,sneaker,unique gift,custom...</td>\n      <td>physical</td>\n      <td></td>\n      <td></td>\n      <td></td>\n      <td></td>\n      <td>birthday</td>\n      <td>...</td>\n      <td>shoes.gender_neutral_adult_shoes.sneakers_and_...</td>\n      <td>12</td>\n      <td>shoes</td>\n      <td>17</td>\n      <td>white</td>\n      <td>1</td>\n      <td>black</td>\n      <td>b'\\xff\\xd8\\xff\\xe0\\x00\\x10JFIF\\x00\\x01\\x01\\x00...</td>\n      <td>570</td>\n      <td>596</td>\n    </tr>\n    <tr>\n      <th>1</th>\n      <td>698470598</td>\n      <td>Canvas Shoes Trainers, Kids to Adults,  Hand C...</td>\n      <td>Fantastic Gold Edged Butterfly Fabric, yellow ...</td>\n      <td>Butterflies,Butterfly shoes,Butterfly presents...</td>\n      <td>physical</td>\n      <td></td>\n      <td></td>\n      <td></td>\n      <td></td>\n      <td>birthday</td>\n      <td>...</td>\n      <td>shoes.gender_neutral_adult_shoes.sneakers_and_...</td>\n      <td>12</td>\n      <td>shoes</td>\n      <td>18</td>\n      <td>yellow</td>\n      <td>13</td>\n      <td>rainbow</td>\n      <td>b'\\xff\\xd8\\xff\\xe0\\x00\\x10JFIF\\x00\\x01\\x01\\x00...</td>\n      <td>570</td>\n      <td>427</td>\n    </tr>\n    <tr>\n      <th>2</th>\n      <td>1437216455</td>\n      <td>Sneaker Keychain</td>\n      <td>Ideal gift for exclusive sneaker lovers\\n\\nThe...</td>\n      <td></td>\n      <td>physical</td>\n      <td></td>\n      <td></td>\n      <td></td>\n      <td></td>\n      <td>anniversary</td>\n      <td>...</td>\n      <td>shoes.gender_neutral_adult_shoes.sneakers_and_...</td>\n      <td>12</td>\n      <td>shoes</td>\n      <td>17</td>\n      <td>white</td>\n      <td>14</td>\n      <td>red</td>\n      <td>b'\\xff\\xd8\\xff\\xe0\\x00\\x10JFIF\\x00\\x01\\x01\\x00...</td>\n      <td>570</td>\n      <td>380</td>\n    </tr>\n    <tr>\n      <th>3</th>\n      <td>1502633808</td>\n      <td>Adidas Superstar Custom Sneakers Rose Shoes Bl...</td>\n      <td>Adidas Superstar Custom Sneakers Rose\\n\\n· Pai...</td>\n      <td>Superstar Custom,Air Force 1 Rose,Rose Custom ...</td>\n      <td>physical</td>\n      <td></td>\n      <td></td>\n      <td></td>\n      <td></td>\n      <td>birthday</td>\n      <td>...</td>\n      <td>shoes.gender_neutral_adult_shoes.sneakers_and_...</td>\n      <td>12</td>\n      <td>shoes</td>\n      <td>17</td>\n      <td>white</td>\n      <td>1</td>\n      <td>black</td>\n      <td>b'\\xff\\xd8\\xff\\xe0\\x00\\x10JFIF\\x00\\x01\\x01\\x00...</td>\n      <td>570</td>\n      <td>570</td>\n    </tr>\n    <tr>\n      <th>4</th>\n      <td>1474730171</td>\n      <td>Madras Shoes for Men, Preppy Madras Patchwork ...</td>\n      <td>Looking for a classic madras shoe for men? Her...</td>\n      <td>madras shoes,men's madras shoes,lace-up canvas...</td>\n      <td>physical</td>\n      <td></td>\n      <td></td>\n      <td></td>\n      <td></td>\n      <td></td>\n      <td>...</td>\n      <td>shoes.gender_neutral_adult_shoes.sneakers_and_...</td>\n      <td>12</td>\n      <td>shoes</td>\n      <td>2</td>\n      <td>blue</td>\n      <td>9</td>\n      <td>green</td>\n      <td>b'\\xff\\xd8\\xff\\xe0\\x00\\x10JFIF\\x00\\x01\\x01\\x00...</td>\n      <td>570</td>\n      <td>570</td>\n    </tr>\n  </tbody>\n</table>\n<p>5 rows × 26 columns</p>\n</div>"
          },
          "metadata": {}
        }
      ]
    },
    {
      "cell_type": "markdown",
      "source": [
        "## Sampling the dataset"
      ],
      "metadata": {
        "id": "d_aBn6JL72Px"
      }
    },
    {
      "cell_type": "code",
      "source": [
        "df_train['bottom_category_id'].value_counts(normalize=True) * 100"
      ],
      "metadata": {
        "execution": {
          "iopub.status.busy": "2024-04-17T21:14:59.159021Z",
          "iopub.execute_input": "2024-04-17T21:14:59.160290Z",
          "iopub.status.idle": "2024-04-17T21:14:59.181244Z",
          "shell.execute_reply.started": "2024-04-17T21:14:59.160247Z",
          "shell.execute_reply": "2024-04-17T21:14:59.180198Z"
        },
        "trusted": true,
        "id": "v6MNBSki72Px",
        "outputId": "bd31ff94-6e96-4360-b4f7-88564b608998"
      },
      "execution_count": null,
      "outputs": [
        {
          "execution_count": 12,
          "output_type": "execute_result",
          "data": {
            "text/plain": "bottom_category_id\n2070     0.042678\n2371     0.042678\n1046     0.042678\n12186    0.042678\n46       0.042678\n           ...   \n413      0.019162\n11220    0.019162\n12356    0.018726\n6796     0.018291\n2101     0.018291\nName: proportion, Length: 2609, dtype: float64"
          },
          "metadata": {}
        }
      ]
    },
    {
      "cell_type": "markdown",
      "source": [
        "Now since we have percentage distribution lets do sampling for sample data length calculation Using the link https://www.calculator.net/sample-size-calculator.html received the sample size as 15517\n",
        "\n",
        "![image.png](attachment:b1b7f223-1e91-4d1c-9f13-a50e7f235e7c.png)"
      ],
      "metadata": {
        "id": "CSH00Dz772Py"
      }
    },
    {
      "cell_type": "code",
      "source": [
        "sample_size=15517"
      ],
      "metadata": {
        "execution": {
          "iopub.status.busy": "2024-04-17T21:15:20.273533Z",
          "iopub.execute_input": "2024-04-17T21:15:20.273974Z",
          "iopub.status.idle": "2024-04-17T21:15:20.279477Z",
          "shell.execute_reply.started": "2024-04-17T21:15:20.273939Z",
          "shell.execute_reply": "2024-04-17T21:15:20.278481Z"
        },
        "trusted": true,
        "id": "jg0ytL9f72Py"
      },
      "execution_count": null,
      "outputs": []
    },
    {
      "cell_type": "code",
      "source": [
        "df_train['bottom_category_id'].value_counts().min()"
      ],
      "metadata": {
        "execution": {
          "iopub.status.busy": "2024-04-17T21:15:20.932767Z",
          "iopub.execute_input": "2024-04-17T21:15:20.933201Z",
          "iopub.status.idle": "2024-04-17T21:15:20.945243Z",
          "shell.execute_reply.started": "2024-04-17T21:15:20.933166Z",
          "shell.execute_reply": "2024-04-17T21:15:20.943945Z"
        },
        "trusted": true,
        "id": "ZGBs0N1772Py",
        "outputId": "b054e2b8-4b8c-4212-8add-723db123084d"
      },
      "execution_count": null,
      "outputs": [
        {
          "execution_count": 16,
          "output_type": "execute_result",
          "data": {
            "text/plain": "42"
          },
          "metadata": {}
        }
      ]
    },
    {
      "cell_type": "code",
      "source": [
        "samples_per_category = (df_train.groupby('bottom_category_id').size() / len(df_train) * sample_size).astype(int)\n",
        "def stratified_sampling(group):\n",
        "    return group.sample(samples_per_category[group.name])\n",
        "\n",
        "sample_df2 = df_train.groupby('bottom_category_id', group_keys=False).apply(stratified_sampling)\n",
        "sample_df2 = sample_df2.sample(frac=1).reset_index(drop=True)\n",
        "sample_df2.reset_index(inplace=True)"
      ],
      "metadata": {
        "execution": {
          "iopub.status.busy": "2024-04-17T21:17:01.433617Z",
          "iopub.execute_input": "2024-04-17T21:17:01.434115Z",
          "iopub.status.idle": "2024-04-17T21:17:03.531841Z",
          "shell.execute_reply.started": "2024-04-17T21:17:01.434077Z",
          "shell.execute_reply": "2024-04-17T21:17:03.530521Z"
        },
        "trusted": true,
        "id": "ezZxQOrp72Pz",
        "outputId": "323c0189-3ae5-4995-b08f-339238465f57"
      },
      "execution_count": null,
      "outputs": [
        {
          "name": "stderr",
          "text": "/tmp/ipykernel_33/2392977299.py:5: DeprecationWarning: DataFrameGroupBy.apply operated on the grouping columns. This behavior is deprecated, and in a future version of pandas the grouping columns will be excluded from the operation. Either pass `include_groups=False` to exclude the groupings or explicitly select the grouping columns after groupby to silence this warning.\n  sample_df2 = df_train.groupby('bottom_category_id', group_keys=False).apply(stratified_sampling)\n",
          "output_type": "stream"
        }
      ]
    },
    {
      "cell_type": "code",
      "source": [
        "sample_df2['bottom_category_id'].value_counts().min()"
      ],
      "metadata": {
        "execution": {
          "iopub.status.busy": "2024-04-17T21:17:04.870254Z",
          "iopub.execute_input": "2024-04-17T21:17:04.870793Z",
          "iopub.status.idle": "2024-04-17T21:17:04.882373Z",
          "shell.execute_reply.started": "2024-04-17T21:17:04.870751Z",
          "shell.execute_reply": "2024-04-17T21:17:04.881384Z"
        },
        "trusted": true,
        "id": "k-KQ6W8872Pz",
        "outputId": "6dfa78c9-ee74-4504-9c4a-e2842785ee50"
      },
      "execution_count": null,
      "outputs": [
        {
          "execution_count": 20,
          "output_type": "execute_result",
          "data": {
            "text/plain": "2"
          },
          "metadata": {}
        }
      ]
    },
    {
      "cell_type": "markdown",
      "source": [
        "Since after sampling we are getting only 2 value in some categories this wont be beneficial for us.So we are considering whole dataset\n"
      ],
      "metadata": {
        "id": "m-sInq0D72Pz"
      }
    },
    {
      "cell_type": "markdown",
      "source": [
        "## Data Cleaning"
      ],
      "metadata": {
        "id": "yobh6hMn72P0"
      }
    },
    {
      "cell_type": "markdown",
      "source": [
        "### Replacing all blank values to nan in order to get na count"
      ],
      "metadata": {
        "id": "X6R7Ozhr72P0"
      }
    },
    {
      "cell_type": "code",
      "source": [
        "df_train = df_train.replace('', np.nan)"
      ],
      "metadata": {
        "execution": {
          "iopub.status.busy": "2024-04-17T21:17:24.654933Z",
          "iopub.execute_input": "2024-04-17T21:17:24.655370Z",
          "iopub.status.idle": "2024-04-17T21:17:25.261216Z",
          "shell.execute_reply.started": "2024-04-17T21:17:24.655330Z",
          "shell.execute_reply": "2024-04-17T21:17:25.259730Z"
        },
        "trusted": true,
        "id": "ZPvf9L4u72P1"
      },
      "execution_count": null,
      "outputs": []
    },
    {
      "cell_type": "code",
      "source": [
        "df_train.isna().sum()"
      ],
      "metadata": {
        "execution": {
          "iopub.status.busy": "2024-04-17T21:17:27.944509Z",
          "iopub.execute_input": "2024-04-17T21:17:27.944949Z",
          "iopub.status.idle": "2024-04-17T21:17:28.195139Z",
          "shell.execute_reply.started": "2024-04-17T21:17:27.944916Z",
          "shell.execute_reply": "2024-04-17T21:17:28.193906Z"
        },
        "trusted": true,
        "id": "4OAJoZ_p72P1",
        "outputId": "6a7ded88-67f8-41c1-dc0b-a6170772fd66"
      },
      "execution_count": null,
      "outputs": [
        {
          "execution_count": 22,
          "output_type": "execute_result",
          "data": {
            "text/plain": "product_id                   0\ntitle                      810\ndescription                810\ntags                     31169\ntype                       348\nroom                    220686\ncraft_type              201862\nrecipient               218815\nmaterial                209384\noccasion                171550\nholiday                 183359\nart_subject             226885\nstyle                   213730\nshape                   227137\npattern                 218042\nbottom_category_id           0\nbottom_category_text         0\ntop_category_id              0\ntop_category_text            0\nprimary_color_id             0\nprimary_color_text           0\nsecondary_color_id           0\nsecondary_color_text         0\nimage/encoded                0\nimage/width                  0\nimage/height                 0\ndtype: int64"
          },
          "metadata": {}
        }
      ]
    },
    {
      "cell_type": "code",
      "source": [
        "df_train.fillna('', inplace=True)"
      ],
      "metadata": {
        "execution": {
          "iopub.status.busy": "2024-04-17T21:19:44.732957Z",
          "iopub.execute_input": "2024-04-17T21:19:44.733388Z",
          "iopub.status.idle": "2024-04-17T21:19:45.252669Z",
          "shell.execute_reply.started": "2024-04-17T21:19:44.733357Z",
          "shell.execute_reply": "2024-04-17T21:19:45.251482Z"
        },
        "trusted": true,
        "id": "T3DTxGbw72P1"
      },
      "execution_count": null,
      "outputs": []
    },
    {
      "cell_type": "code",
      "source": [
        "def remove_html_tags(text):\n",
        "    soup = BeautifulSoup(text, 'html.parser')\n",
        "    return soup.get_text()"
      ],
      "metadata": {
        "execution": {
          "iopub.status.busy": "2024-04-17T21:17:37.957674Z",
          "iopub.execute_input": "2024-04-17T21:17:37.958170Z",
          "iopub.status.idle": "2024-04-17T21:17:37.963408Z",
          "shell.execute_reply.started": "2024-04-17T21:17:37.958130Z",
          "shell.execute_reply": "2024-04-17T21:17:37.962377Z"
        },
        "trusted": true,
        "id": "55_3hEhQ72P2"
      },
      "execution_count": null,
      "outputs": []
    },
    {
      "cell_type": "code",
      "source": [
        "def special_characters_removal(sentence):\n",
        "    return re.sub(r'[^A-Za-z0-9\\s]', '', sentence)"
      ],
      "metadata": {
        "execution": {
          "iopub.status.busy": "2024-04-17T21:17:38.750426Z",
          "iopub.execute_input": "2024-04-17T21:17:38.750859Z",
          "iopub.status.idle": "2024-04-17T21:17:38.756241Z",
          "shell.execute_reply.started": "2024-04-17T21:17:38.750823Z",
          "shell.execute_reply": "2024-04-17T21:17:38.754892Z"
        },
        "trusted": true,
        "id": "dKOHZ8TD72P2"
      },
      "execution_count": null,
      "outputs": []
    },
    {
      "cell_type": "code",
      "source": [
        "english_words = set(words.words())"
      ],
      "metadata": {
        "execution": {
          "iopub.status.busy": "2024-04-17T21:17:43.150787Z",
          "iopub.execute_input": "2024-04-17T21:17:43.151203Z",
          "iopub.status.idle": "2024-04-17T21:17:43.291266Z",
          "shell.execute_reply.started": "2024-04-17T21:17:43.151170Z",
          "shell.execute_reply": "2024-04-17T21:17:43.290100Z"
        },
        "trusted": true,
        "id": "ERRSrEz772P2"
      },
      "execution_count": null,
      "outputs": []
    },
    {
      "cell_type": "code",
      "source": [
        "def filter_english_words(sentence):\n",
        "    return ' '.join(word for word in sentence.split() if word.lower() in english_words)"
      ],
      "metadata": {
        "execution": {
          "iopub.status.busy": "2024-04-17T21:17:45.745036Z",
          "iopub.execute_input": "2024-04-17T21:17:45.745416Z",
          "iopub.status.idle": "2024-04-17T21:17:45.751350Z",
          "shell.execute_reply.started": "2024-04-17T21:17:45.745387Z",
          "shell.execute_reply": "2024-04-17T21:17:45.749829Z"
        },
        "trusted": true,
        "id": "aMAMaKZ272P3"
      },
      "execution_count": null,
      "outputs": []
    },
    {
      "cell_type": "code",
      "source": [
        "stop_words = set(stopwords.words('english'))"
      ],
      "metadata": {
        "execution": {
          "iopub.status.busy": "2024-04-17T21:17:47.052948Z",
          "iopub.execute_input": "2024-04-17T21:17:47.053369Z",
          "iopub.status.idle": "2024-04-17T21:17:47.061036Z",
          "shell.execute_reply.started": "2024-04-17T21:17:47.053338Z",
          "shell.execute_reply": "2024-04-17T21:17:47.059861Z"
        },
        "trusted": true,
        "id": "dSlT1_-872P3"
      },
      "execution_count": null,
      "outputs": []
    },
    {
      "cell_type": "code",
      "source": [
        "def remove_stop_words(sentence):\n",
        "    return ' '.join(word for word in sentence.split() if word.lower() not in stop_words)"
      ],
      "metadata": {
        "execution": {
          "iopub.status.busy": "2024-04-17T21:17:49.364190Z",
          "iopub.execute_input": "2024-04-17T21:17:49.364652Z",
          "iopub.status.idle": "2024-04-17T21:17:49.370122Z",
          "shell.execute_reply.started": "2024-04-17T21:17:49.364602Z",
          "shell.execute_reply": "2024-04-17T21:17:49.369207Z"
        },
        "trusted": true,
        "id": "YBGuYBX772P3"
      },
      "execution_count": null,
      "outputs": []
    },
    {
      "cell_type": "code",
      "source": [
        "def convert_numbers_to_blank(sentence):\n",
        "    return re.sub(r'\\b\\d+\\b', '', sentence)"
      ],
      "metadata": {
        "execution": {
          "iopub.status.busy": "2024-04-17T21:17:49.934436Z",
          "iopub.execute_input": "2024-04-17T21:17:49.934867Z",
          "iopub.status.idle": "2024-04-17T21:17:49.940179Z",
          "shell.execute_reply.started": "2024-04-17T21:17:49.934832Z",
          "shell.execute_reply": "2024-04-17T21:17:49.938769Z"
        },
        "trusted": true,
        "id": "uJa-Xlsc72P4"
      },
      "execution_count": null,
      "outputs": []
    },
    {
      "cell_type": "code",
      "source": [
        "lemmatizer = WordNetLemmatizer()"
      ],
      "metadata": {
        "execution": {
          "iopub.status.busy": "2024-04-17T21:17:51.104662Z",
          "iopub.execute_input": "2024-04-17T21:17:51.105070Z",
          "iopub.status.idle": "2024-04-17T21:17:51.111405Z",
          "shell.execute_reply.started": "2024-04-17T21:17:51.105041Z",
          "shell.execute_reply": "2024-04-17T21:17:51.110257Z"
        },
        "trusted": true,
        "id": "k47LQEhj72P4"
      },
      "execution_count": null,
      "outputs": []
    },
    {
      "cell_type": "code",
      "source": [
        "def lemmatize_sentence(sentence):\n",
        "    tokenized_words = word_tokenize(sentence)\n",
        "    lemmatized_words = [lemmatizer.lemmatize(word) for word in tokenized_words]\n",
        "    return ' '.join(lemmatized_words)"
      ],
      "metadata": {
        "execution": {
          "iopub.status.busy": "2024-04-17T21:17:52.026691Z",
          "iopub.execute_input": "2024-04-17T21:17:52.027103Z",
          "iopub.status.idle": "2024-04-17T21:17:52.033239Z",
          "shell.execute_reply.started": "2024-04-17T21:17:52.027069Z",
          "shell.execute_reply": "2024-04-17T21:17:52.032044Z"
        },
        "trusted": true,
        "id": "bSiCUPZU72P4"
      },
      "execution_count": null,
      "outputs": []
    },
    {
      "cell_type": "markdown",
      "source": [
        "### Text cleaning"
      ],
      "metadata": {
        "id": "Ljp5HPGj72P5"
      }
    },
    {
      "cell_type": "code",
      "source": [
        "import re\n",
        "import nltk\n",
        "from nltk.corpus import stopwords\n",
        "\n",
        "nltk.download('stopwords')\n",
        "\n",
        "def text_cleaning(text):\n",
        "    # \\n removal\n",
        "    text = text.replace(r'\\n', ' ')\n",
        "\n",
        "    # Remove email-address\n",
        "    text = re.sub(r'\\S+@\\S+', '', text)\n",
        "\n",
        "    # Remove URLS which start from http\n",
        "    text = re.sub(r'http\\S+|www\\S+', '', text)\n",
        "\n",
        "    #Remove Html tags from text\n",
        "    text=remove_html_tags(text)\n",
        "\n",
        "    #Remove special characters\n",
        "    text=special_characters_removal(text)\n",
        "\n",
        "    #Convert Numbers to blank\n",
        "    text=convert_numbers_to_blank(text)\n",
        "\n",
        "    # Removal Non AsCII Characters\n",
        "    text = text.encode('ascii', 'ignore').decode('utf-8')\n",
        "\n",
        "    # Remove extra whitespaces\n",
        "    text = re.sub(r'\\s+', ' ', text).strip()\n",
        "\n",
        "    # Lowercasing the text\n",
        "    text=text.lower()\n",
        "\n",
        "    #Remove Non ENglish Wprds from sentence\n",
        "    text=filter_english_words(text)\n",
        "\n",
        "    #Remove stopwords from sentence\n",
        "    text=remove_stop_words(text)\n",
        "\n",
        "    return text\n",
        "\n",
        "#calling the clean description function on the TRAIN dataset\n"
      ],
      "metadata": {
        "execution": {
          "iopub.status.busy": "2024-04-17T21:18:39.646735Z",
          "iopub.execute_input": "2024-04-17T21:18:39.647174Z",
          "iopub.status.idle": "2024-04-17T21:18:39.656946Z",
          "shell.execute_reply.started": "2024-04-17T21:18:39.647139Z",
          "shell.execute_reply": "2024-04-17T21:18:39.655595Z"
        },
        "trusted": true,
        "id": "nNXhflr272P5",
        "outputId": "1530d2dc-907f-48f5-932c-5481007b0bb3"
      },
      "execution_count": null,
      "outputs": [
        {
          "name": "stdout",
          "text": "[nltk_data] Downloading package stopwords to /usr/share/nltk_data...\n[nltk_data]   Package stopwords is already up-to-date!\n",
          "output_type": "stream"
        }
      ]
    },
    {
      "cell_type": "code",
      "source": [
        "df_train['description'] = df_train['description'].apply(text_cleaning)\n",
        "df_train['title'] = df_train['title'].apply(text_cleaning)\n",
        "df_train['tags'] = df_train['tags'].apply(text_cleaning)"
      ],
      "metadata": {
        "execution": {
          "iopub.status.busy": "2024-04-17T21:19:53.062706Z",
          "iopub.execute_input": "2024-04-17T21:19:53.063097Z",
          "iopub.status.idle": "2024-04-17T21:22:24.093587Z",
          "shell.execute_reply.started": "2024-04-17T21:19:53.063067Z",
          "shell.execute_reply": "2024-04-17T21:22:24.092418Z"
        },
        "trusted": true,
        "id": "CfcFeOAD72P6",
        "outputId": "77238030-6900-4c59-ed1b-58ce4171a633"
      },
      "execution_count": null,
      "outputs": [
        {
          "name": "stderr",
          "text": "/tmp/ipykernel_33/2125600460.py:2: MarkupResemblesLocatorWarning: The input looks more like a filename than markup. You may want to open this file and pass the filehandle into Beautiful Soup.\n  soup = BeautifulSoup(text, 'html.parser')\n",
          "output_type": "stream"
        }
      ]
    },
    {
      "cell_type": "code",
      "source": [
        "df_test['description'] = df_test['description'].apply(text_cleaning)\n",
        "df_test['title'] = df_test['title'].apply(text_cleaning)\n",
        "df_test['tags'] = df_test['tags'].apply(text_cleaning)"
      ],
      "metadata": {
        "execution": {
          "iopub.status.busy": "2024-04-17T21:22:24.096129Z",
          "iopub.execute_input": "2024-04-17T21:22:24.096594Z",
          "iopub.status.idle": "2024-04-17T21:22:40.411259Z",
          "shell.execute_reply.started": "2024-04-17T21:22:24.096554Z",
          "shell.execute_reply": "2024-04-17T21:22:40.410025Z"
        },
        "trusted": true,
        "id": "zxyk6KR_72P6",
        "outputId": "328d806d-2277-44bf-8986-0669433bff60"
      },
      "execution_count": null,
      "outputs": [
        {
          "name": "stderr",
          "text": "/tmp/ipykernel_33/2125600460.py:2: MarkupResemblesLocatorWarning: The input looks more like a filename than markup. You may want to open this file and pass the filehandle into Beautiful Soup.\n  soup = BeautifulSoup(text, 'html.parser')\n",
          "output_type": "stream"
        }
      ]
    },
    {
      "cell_type": "markdown",
      "source": [
        "Checking for type column"
      ],
      "metadata": {
        "id": "I67L3x7n72P7"
      }
    },
    {
      "cell_type": "code",
      "source": [
        "df_train[df_train['type']=='']"
      ],
      "metadata": {
        "_kg_hide-output": true,
        "execution": {
          "iopub.status.busy": "2024-04-17T21:22:40.413140Z",
          "iopub.execute_input": "2024-04-17T21:22:40.413565Z",
          "iopub.status.idle": "2024-04-17T21:22:40.499416Z",
          "shell.execute_reply.started": "2024-04-17T21:22:40.413531Z",
          "shell.execute_reply": "2024-04-17T21:22:40.498050Z"
        },
        "trusted": true,
        "id": "tXN-bv0T72P7",
        "outputId": "4eb2338a-2bf3-4f9b-f086-0ea4f065d6d2"
      },
      "execution_count": null,
      "outputs": [
        {
          "execution_count": 38,
          "output_type": "execute_result",
          "data": {
            "text/plain": "      product_id                                              title  \\\n1121   543929139                                train beaded collar   \n829   1310295352          peace end violence together application x   \n852   1324330285  veteran patch military badge war patch rocker ...   \n864   1310285992  love patch live iron patch motivation applicat...   \n866   1310314594                           patch team bride patch x   \n...          ...                                                ...   \n2575   553360575                          princess mold sugar paste   \n640    924793898  day tablecloth rosy pink hearts hearts love bl...   \n669   1043427245  rainbow tablecloth pop green garden botanical ...   \n693    984318133  blush pink tablecloth rococo romantic baroque ...   \n54    1119605622  vintage rug rug rug runner rug home rug pink r...   \n\n                                            description  \\\n1121  g skein separable pictured size cotton yarn li...   \n829   embroidery patch polyester robust polyester tw...   \n852   embroidery patch polyester robust polyester tw...   \n864   embroidery patch polyester robust polyester tw...   \n866   embroidery patch made polyester robust polyest...   \n...                                                 ...   \n2575  large multitude food nonfood sugar paste almon...   \n640   set table spoonflower tablecloth dress everyth...   \n669   set table spoonflower tablecloth dress everyth...   \n693   set table spoonflower tablecloth dress everyth...   \n54    description unique vintage rug rug made turkey...   \n\n                                      tags type     room craft_type recipient  \\\n1121                                                                            \n829                                                                             \n852                                                                             \n864                                                                             \n866                                                                             \n...                                    ...  ...      ...        ...       ...   \n2575                                                                            \n640    spoonflower table dining tablecloth                                      \n669        spoonflower table dining summer                                      \n693   spoonflower table dining pink ornate                                      \n54                             vintage rug       bedroom                        \n\n     material  occasion  ...  \\\n1121                     ...   \n829            birthday  ...   \n852            birthday  ...   \n864            birthday  ...   \n866            birthday  ...   \n...       ...       ...  ...   \n2575                     ...   \n640    cotton            ...   \n669    cotton            ...   \n693    cotton            ...   \n54     cotton            ...   \n\n                                   bottom_category_text top_category_id  \\\n1121  craft_supplies_and_tools.fabric_and_notions.no...               6   \n829                                         accessories               0   \n852                                         accessories               0   \n864                                         accessories               0   \n866                                         accessories               0   \n...                                                 ...             ...   \n2575          craft_supplies_and_tools.kitchen_supplies               6   \n640   home_and_living.kitchen_and_dining.linens.tabl...               8   \n669   home_and_living.kitchen_and_dining.linens.tabl...               8   \n693   home_and_living.kitchen_and_dining.linens.tabl...               8   \n54                  home_and_living.floor_and_rugs.rugs               8   \n\n             top_category_text primary_color_id primary_color_text  \\\n1121  craft_supplies_and_tools                0              beige   \n829                accessories                1              black   \n852                accessories                1              black   \n864                accessories                1              black   \n866                accessories                1              black   \n...                        ...              ...                ...   \n2575  craft_supplies_and_tools                2               blue   \n640            home_and_living               17              white   \n669            home_and_living                9              green   \n693            home_and_living               11               pink   \n54             home_and_living               11               pink   \n\n      secondary_color_id secondary_color_text  \\\n1121                   0                beige   \n829                   17                white   \n852                   17                white   \n864                   17                white   \n866                   17                white   \n...                  ...                  ...   \n2575                  11                 pink   \n640                   11                 pink   \n669                   10               orange   \n693                    2                 blue   \n54                    11                 pink   \n\n                                          image/encoded image/width  \\\n1121  b'\\xff\\xd8\\xff\\xe0\\x00\\x10JFIF\\x00\\x01\\x01\\x00...         570   \n829   b'\\xff\\xd8\\xff\\xe0\\x00\\x10JFIF\\x00\\x01\\x01\\x00...         570   \n852   b'\\xff\\xd8\\xff\\xe0\\x00\\x10JFIF\\x00\\x01\\x01\\x00...         570   \n864   b'\\xff\\xd8\\xff\\xe0\\x00\\x10JFIF\\x00\\x01\\x01\\x00...         570   \n866   b'\\xff\\xd8\\xff\\xe0\\x00\\x10JFIF\\x00\\x01\\x01\\x00...         570   \n...                                                 ...         ...   \n2575  b'\\xff\\xd8\\xff\\xe0\\x00\\x10JFIF\\x00\\x01\\x01\\x00...         570   \n640   b'\\xff\\xd8\\xff\\xe0\\x00\\x10JFIF\\x00\\x01\\x01\\x00...         570   \n669   b'\\xff\\xd8\\xff\\xe0\\x00\\x10JFIF\\x00\\x01\\x01\\x00...         570   \n693   b'\\xff\\xd8\\xff\\xe0\\x00\\x10JFIF\\x00\\x01\\x01\\x00...         570   \n54    b'\\xff\\xd8\\xff\\xe0\\x00\\x10JFIF\\x00\\x01\\x01\\x00...         570   \n\n      image/height  \n1121           428  \n829            570  \n852            570  \n864            570  \n866            570  \n...            ...  \n2575           570  \n640            570  \n669            570  \n693            570  \n54             380  \n\n[348 rows x 26 columns]",
            "text/html": "<div>\n<style scoped>\n    .dataframe tbody tr th:only-of-type {\n        vertical-align: middle;\n    }\n\n    .dataframe tbody tr th {\n        vertical-align: top;\n    }\n\n    .dataframe thead th {\n        text-align: right;\n    }\n</style>\n<table border=\"1\" class=\"dataframe\">\n  <thead>\n    <tr style=\"text-align: right;\">\n      <th></th>\n      <th>product_id</th>\n      <th>title</th>\n      <th>description</th>\n      <th>tags</th>\n      <th>type</th>\n      <th>room</th>\n      <th>craft_type</th>\n      <th>recipient</th>\n      <th>material</th>\n      <th>occasion</th>\n      <th>...</th>\n      <th>bottom_category_text</th>\n      <th>top_category_id</th>\n      <th>top_category_text</th>\n      <th>primary_color_id</th>\n      <th>primary_color_text</th>\n      <th>secondary_color_id</th>\n      <th>secondary_color_text</th>\n      <th>image/encoded</th>\n      <th>image/width</th>\n      <th>image/height</th>\n    </tr>\n  </thead>\n  <tbody>\n    <tr>\n      <th>1121</th>\n      <td>543929139</td>\n      <td>train beaded collar</td>\n      <td>g skein separable pictured size cotton yarn li...</td>\n      <td></td>\n      <td></td>\n      <td></td>\n      <td></td>\n      <td></td>\n      <td></td>\n      <td></td>\n      <td>...</td>\n      <td>craft_supplies_and_tools.fabric_and_notions.no...</td>\n      <td>6</td>\n      <td>craft_supplies_and_tools</td>\n      <td>0</td>\n      <td>beige</td>\n      <td>0</td>\n      <td>beige</td>\n      <td>b'\\xff\\xd8\\xff\\xe0\\x00\\x10JFIF\\x00\\x01\\x01\\x00...</td>\n      <td>570</td>\n      <td>428</td>\n    </tr>\n    <tr>\n      <th>829</th>\n      <td>1310295352</td>\n      <td>peace end violence together application x</td>\n      <td>embroidery patch polyester robust polyester tw...</td>\n      <td></td>\n      <td></td>\n      <td></td>\n      <td></td>\n      <td></td>\n      <td></td>\n      <td>birthday</td>\n      <td>...</td>\n      <td>accessories</td>\n      <td>0</td>\n      <td>accessories</td>\n      <td>1</td>\n      <td>black</td>\n      <td>17</td>\n      <td>white</td>\n      <td>b'\\xff\\xd8\\xff\\xe0\\x00\\x10JFIF\\x00\\x01\\x01\\x00...</td>\n      <td>570</td>\n      <td>570</td>\n    </tr>\n    <tr>\n      <th>852</th>\n      <td>1324330285</td>\n      <td>veteran patch military badge war patch rocker ...</td>\n      <td>embroidery patch polyester robust polyester tw...</td>\n      <td></td>\n      <td></td>\n      <td></td>\n      <td></td>\n      <td></td>\n      <td></td>\n      <td>birthday</td>\n      <td>...</td>\n      <td>accessories</td>\n      <td>0</td>\n      <td>accessories</td>\n      <td>1</td>\n      <td>black</td>\n      <td>17</td>\n      <td>white</td>\n      <td>b'\\xff\\xd8\\xff\\xe0\\x00\\x10JFIF\\x00\\x01\\x01\\x00...</td>\n      <td>570</td>\n      <td>570</td>\n    </tr>\n    <tr>\n      <th>864</th>\n      <td>1310285992</td>\n      <td>love patch live iron patch motivation applicat...</td>\n      <td>embroidery patch polyester robust polyester tw...</td>\n      <td></td>\n      <td></td>\n      <td></td>\n      <td></td>\n      <td></td>\n      <td></td>\n      <td>birthday</td>\n      <td>...</td>\n      <td>accessories</td>\n      <td>0</td>\n      <td>accessories</td>\n      <td>1</td>\n      <td>black</td>\n      <td>17</td>\n      <td>white</td>\n      <td>b'\\xff\\xd8\\xff\\xe0\\x00\\x10JFIF\\x00\\x01\\x01\\x00...</td>\n      <td>570</td>\n      <td>570</td>\n    </tr>\n    <tr>\n      <th>866</th>\n      <td>1310314594</td>\n      <td>patch team bride patch x</td>\n      <td>embroidery patch made polyester robust polyest...</td>\n      <td></td>\n      <td></td>\n      <td></td>\n      <td></td>\n      <td></td>\n      <td></td>\n      <td>birthday</td>\n      <td>...</td>\n      <td>accessories</td>\n      <td>0</td>\n      <td>accessories</td>\n      <td>1</td>\n      <td>black</td>\n      <td>17</td>\n      <td>white</td>\n      <td>b'\\xff\\xd8\\xff\\xe0\\x00\\x10JFIF\\x00\\x01\\x01\\x00...</td>\n      <td>570</td>\n      <td>570</td>\n    </tr>\n    <tr>\n      <th>...</th>\n      <td>...</td>\n      <td>...</td>\n      <td>...</td>\n      <td>...</td>\n      <td>...</td>\n      <td>...</td>\n      <td>...</td>\n      <td>...</td>\n      <td>...</td>\n      <td>...</td>\n      <td>...</td>\n      <td>...</td>\n      <td>...</td>\n      <td>...</td>\n      <td>...</td>\n      <td>...</td>\n      <td>...</td>\n      <td>...</td>\n      <td>...</td>\n      <td>...</td>\n      <td>...</td>\n    </tr>\n    <tr>\n      <th>2575</th>\n      <td>553360575</td>\n      <td>princess mold sugar paste</td>\n      <td>large multitude food nonfood sugar paste almon...</td>\n      <td></td>\n      <td></td>\n      <td></td>\n      <td></td>\n      <td></td>\n      <td></td>\n      <td></td>\n      <td>...</td>\n      <td>craft_supplies_and_tools.kitchen_supplies</td>\n      <td>6</td>\n      <td>craft_supplies_and_tools</td>\n      <td>2</td>\n      <td>blue</td>\n      <td>11</td>\n      <td>pink</td>\n      <td>b'\\xff\\xd8\\xff\\xe0\\x00\\x10JFIF\\x00\\x01\\x01\\x00...</td>\n      <td>570</td>\n      <td>570</td>\n    </tr>\n    <tr>\n      <th>640</th>\n      <td>924793898</td>\n      <td>day tablecloth rosy pink hearts hearts love bl...</td>\n      <td>set table spoonflower tablecloth dress everyth...</td>\n      <td>spoonflower table dining tablecloth</td>\n      <td></td>\n      <td></td>\n      <td></td>\n      <td></td>\n      <td>cotton</td>\n      <td></td>\n      <td>...</td>\n      <td>home_and_living.kitchen_and_dining.linens.tabl...</td>\n      <td>8</td>\n      <td>home_and_living</td>\n      <td>17</td>\n      <td>white</td>\n      <td>11</td>\n      <td>pink</td>\n      <td>b'\\xff\\xd8\\xff\\xe0\\x00\\x10JFIF\\x00\\x01\\x01\\x00...</td>\n      <td>570</td>\n      <td>570</td>\n    </tr>\n    <tr>\n      <th>669</th>\n      <td>1043427245</td>\n      <td>rainbow tablecloth pop green garden botanical ...</td>\n      <td>set table spoonflower tablecloth dress everyth...</td>\n      <td>spoonflower table dining summer</td>\n      <td></td>\n      <td></td>\n      <td></td>\n      <td></td>\n      <td>cotton</td>\n      <td></td>\n      <td>...</td>\n      <td>home_and_living.kitchen_and_dining.linens.tabl...</td>\n      <td>8</td>\n      <td>home_and_living</td>\n      <td>9</td>\n      <td>green</td>\n      <td>10</td>\n      <td>orange</td>\n      <td>b'\\xff\\xd8\\xff\\xe0\\x00\\x10JFIF\\x00\\x01\\x01\\x00...</td>\n      <td>570</td>\n      <td>570</td>\n    </tr>\n    <tr>\n      <th>693</th>\n      <td>984318133</td>\n      <td>blush pink tablecloth rococo romantic baroque ...</td>\n      <td>set table spoonflower tablecloth dress everyth...</td>\n      <td>spoonflower table dining pink ornate</td>\n      <td></td>\n      <td></td>\n      <td></td>\n      <td></td>\n      <td>cotton</td>\n      <td></td>\n      <td>...</td>\n      <td>home_and_living.kitchen_and_dining.linens.tabl...</td>\n      <td>8</td>\n      <td>home_and_living</td>\n      <td>11</td>\n      <td>pink</td>\n      <td>2</td>\n      <td>blue</td>\n      <td>b'\\xff\\xd8\\xff\\xe0\\x00\\x10JFIF\\x00\\x01\\x01\\x00...</td>\n      <td>570</td>\n      <td>570</td>\n    </tr>\n    <tr>\n      <th>54</th>\n      <td>1119605622</td>\n      <td>vintage rug rug rug runner rug home rug pink r...</td>\n      <td>description unique vintage rug rug made turkey...</td>\n      <td>vintage rug</td>\n      <td></td>\n      <td>bedroom</td>\n      <td></td>\n      <td></td>\n      <td>cotton</td>\n      <td></td>\n      <td>...</td>\n      <td>home_and_living.floor_and_rugs.rugs</td>\n      <td>8</td>\n      <td>home_and_living</td>\n      <td>11</td>\n      <td>pink</td>\n      <td>11</td>\n      <td>pink</td>\n      <td>b'\\xff\\xd8\\xff\\xe0\\x00\\x10JFIF\\x00\\x01\\x01\\x00...</td>\n      <td>570</td>\n      <td>380</td>\n    </tr>\n  </tbody>\n</table>\n<p>348 rows × 26 columns</p>\n</div>"
          },
          "metadata": {}
        }
      ]
    },
    {
      "cell_type": "code",
      "source": [
        "df_train['type'].iloc[6676]"
      ],
      "metadata": {
        "execution": {
          "iopub.status.busy": "2024-04-17T21:22:40.502700Z",
          "iopub.execute_input": "2024-04-17T21:22:40.503613Z",
          "iopub.status.idle": "2024-04-17T21:22:40.510758Z",
          "shell.execute_reply.started": "2024-04-17T21:22:40.503567Z",
          "shell.execute_reply": "2024-04-17T21:22:40.509894Z"
        },
        "trusted": true,
        "id": "HiYQZqbd72P7",
        "outputId": "790159d1-5502-47d8-ee92-c5d25dd2601e"
      },
      "execution_count": null,
      "outputs": [
        {
          "execution_count": 39,
          "output_type": "execute_result",
          "data": {
            "text/plain": "''"
          },
          "metadata": {}
        }
      ]
    },
    {
      "cell_type": "code",
      "source": [
        "df_train['type'].iloc[6675]"
      ],
      "metadata": {
        "execution": {
          "iopub.status.busy": "2024-04-17T21:22:40.512011Z",
          "iopub.execute_input": "2024-04-17T21:22:40.512465Z",
          "iopub.status.idle": "2024-04-17T21:22:40.523783Z",
          "shell.execute_reply.started": "2024-04-17T21:22:40.512439Z",
          "shell.execute_reply": "2024-04-17T21:22:40.522573Z"
        },
        "trusted": true,
        "id": "GIs4CC0d72P8",
        "outputId": "5218e467-8981-4ea9-c3b9-4871ad824afe"
      },
      "execution_count": null,
      "outputs": [
        {
          "execution_count": 40,
          "output_type": "execute_result",
          "data": {
            "text/plain": "'physical'"
          },
          "metadata": {}
        }
      ]
    },
    {
      "cell_type": "code",
      "source": [
        "df_train['type'].iloc[6677]"
      ],
      "metadata": {
        "execution": {
          "iopub.status.busy": "2024-04-17T21:22:40.525560Z",
          "iopub.execute_input": "2024-04-17T21:22:40.525996Z",
          "iopub.status.idle": "2024-04-17T21:22:40.540020Z",
          "shell.execute_reply.started": "2024-04-17T21:22:40.525957Z",
          "shell.execute_reply": "2024-04-17T21:22:40.538772Z"
        },
        "trusted": true,
        "id": "957ySk2F72P8",
        "outputId": "9234b37d-e84f-49e3-b72c-1f62e77fb1bd"
      },
      "execution_count": null,
      "outputs": [
        {
          "execution_count": 41,
          "output_type": "execute_result",
          "data": {
            "text/plain": "'physical'"
          },
          "metadata": {}
        }
      ]
    },
    {
      "cell_type": "code",
      "source": [
        "df_train['type'].iloc[6674]"
      ],
      "metadata": {
        "execution": {
          "iopub.status.busy": "2024-04-17T21:22:40.542307Z",
          "iopub.execute_input": "2024-04-17T21:22:40.542814Z",
          "iopub.status.idle": "2024-04-17T21:22:40.551244Z",
          "shell.execute_reply.started": "2024-04-17T21:22:40.542751Z",
          "shell.execute_reply": "2024-04-17T21:22:40.550241Z"
        },
        "trusted": true,
        "id": "_2N9jR7-72P8",
        "outputId": "5ef316b9-783a-4f0b-872c-adfed913e1bf"
      },
      "execution_count": null,
      "outputs": [
        {
          "execution_count": 42,
          "output_type": "execute_result",
          "data": {
            "text/plain": "''"
          },
          "metadata": {}
        }
      ]
    },
    {
      "cell_type": "code",
      "source": [
        "df_train['type'].iloc[6673]"
      ],
      "metadata": {
        "execution": {
          "iopub.status.busy": "2024-04-17T21:22:40.552390Z",
          "iopub.execute_input": "2024-04-17T21:22:40.553038Z",
          "iopub.status.idle": "2024-04-17T21:22:40.566406Z",
          "shell.execute_reply.started": "2024-04-17T21:22:40.553005Z",
          "shell.execute_reply": "2024-04-17T21:22:40.565150Z"
        },
        "trusted": true,
        "id": "zkRP9S7B72P9",
        "outputId": "41e0bed2-8ee4-41ec-eaa5-0f1fe67d5303"
      },
      "execution_count": null,
      "outputs": [
        {
          "execution_count": 43,
          "output_type": "execute_result",
          "data": {
            "text/plain": "'physical'"
          },
          "metadata": {}
        }
      ]
    },
    {
      "cell_type": "code",
      "source": [
        "df_train['type'].iloc[6675]"
      ],
      "metadata": {
        "execution": {
          "iopub.status.busy": "2024-04-17T21:22:40.567843Z",
          "iopub.execute_input": "2024-04-17T21:22:40.568218Z",
          "iopub.status.idle": "2024-04-17T21:22:40.578812Z",
          "shell.execute_reply.started": "2024-04-17T21:22:40.568184Z",
          "shell.execute_reply": "2024-04-17T21:22:40.577429Z"
        },
        "trusted": true,
        "id": "nxwA4Gv872P9",
        "outputId": "857fff8b-55c3-489c-c341-e412f29796a6"
      },
      "execution_count": null,
      "outputs": [
        {
          "execution_count": 44,
          "output_type": "execute_result",
          "data": {
            "text/plain": "'physical'"
          },
          "metadata": {}
        }
      ]
    },
    {
      "cell_type": "markdown",
      "source": [
        "As we observed for missing values in type the adjecant rows values are same. So we are imputing values based on forward fill\n"
      ],
      "metadata": {
        "id": "QRIuSTnL72P9"
      }
    },
    {
      "cell_type": "markdown",
      "source": [
        "### Imputing TYPE column for missing values."
      ],
      "metadata": {
        "id": "3hocREVZ72P-"
      }
    },
    {
      "cell_type": "code",
      "source": [
        "df_train['type'] = df_train['type'].replace('', method='ffill')"
      ],
      "metadata": {
        "execution": {
          "iopub.status.busy": "2024-04-17T21:22:40.581957Z",
          "iopub.execute_input": "2024-04-17T21:22:40.584351Z",
          "iopub.status.idle": "2024-04-17T21:22:40.619961Z",
          "shell.execute_reply.started": "2024-04-17T21:22:40.584308Z",
          "shell.execute_reply": "2024-04-17T21:22:40.618655Z"
        },
        "trusted": true,
        "id": "6c-UOF1Y72P-",
        "outputId": "4d0aa7ae-730e-4411-f76d-cb09da9b9ae0"
      },
      "execution_count": null,
      "outputs": [
        {
          "name": "stderr",
          "text": "/tmp/ipykernel_33/806405628.py:1: FutureWarning: The 'method' keyword in Series.replace is deprecated and will be removed in a future version.\n  df_train['type'] = df_train['type'].replace('', method='ffill')\n",
          "output_type": "stream"
        }
      ]
    },
    {
      "cell_type": "code",
      "source": [
        "df_test['type'] = df_test['type'].replace('', method='ffill')"
      ],
      "metadata": {
        "execution": {
          "iopub.status.busy": "2024-04-17T21:22:40.621338Z",
          "iopub.execute_input": "2024-04-17T21:22:40.621837Z",
          "iopub.status.idle": "2024-04-17T21:22:40.634979Z",
          "shell.execute_reply.started": "2024-04-17T21:22:40.621802Z",
          "shell.execute_reply": "2024-04-17T21:22:40.632924Z"
        },
        "trusted": true,
        "id": "Bz1RQuWG72P-",
        "outputId": "78fe2750-cdec-46b1-a66b-c4e4ca4a19d2"
      },
      "execution_count": null,
      "outputs": [
        {
          "name": "stderr",
          "text": "/tmp/ipykernel_33/1321385248.py:1: FutureWarning: The 'method' keyword in Series.replace is deprecated and will be removed in a future version.\n  df_test['type'] = df_test['type'].replace('', method='ffill')\n",
          "output_type": "stream"
        }
      ]
    },
    {
      "cell_type": "markdown",
      "source": [
        "## Model Training"
      ],
      "metadata": {
        "id": "drmiAbwa72P_"
      }
    },
    {
      "cell_type": "markdown",
      "source": [
        "### Predicting Bottom Category ID"
      ],
      "metadata": {
        "id": "X3Q-0WSo72P_"
      }
    },
    {
      "cell_type": "markdown",
      "source": [
        "### Multinomial NB Model for predicting bottom category id"
      ],
      "metadata": {
        "id": "Zwq3xkv-72QA"
      }
    },
    {
      "cell_type": "code",
      "source": [
        "\n",
        "import joblib\n",
        "import pandas as pd\n",
        "import numpy as np\n",
        "from sklearn.model_selection import train_test_split\n",
        "from sklearn.naive_bayes import MultinomialNB\n",
        "from sklearn.pipeline import Pipeline\n",
        "from sklearn.feature_extraction.text import CountVectorizer, TfidfTransformer\n",
        "from sklearn.metrics import classification_report, accuracy_score, f1_score\n",
        "\n",
        "train_df, test_df = train_test_split(df_train, test_size=0.2, random_state=42)\n",
        "\n",
        "X_train = train_df['title'] + ' ' + train_df['tags'] + ' ' + train_df['type'] + ' ' + train_df['top_category_text']\n",
        "y_train = train_df['bottom_category_id']\n",
        "\n",
        "X_test = test_df['title'] + ' ' + test_df['tags'] + ' ' + test_df['type'] + ' ' + test_df['top_category_text']\n",
        "y_test = test_df['bottom_category_id']\n",
        "\n",
        "X_train = np.asarray(X_train)\n",
        "X_test = np.asarray(X_test)\n",
        "\n",
        "nb_pipeline_bottom = Pipeline([\n",
        "    ('vect', CountVectorizer()),\n",
        "    ('tfidf', TfidfTransformer()),\n",
        "    ('clf', MultinomialNB())\n",
        "])\n",
        "\n",
        "nb_pipeline_bottom.fit(X_train, y_train)\n",
        "\n",
        "joblib.dump(nb_pipeline_bottom, '/kaggle/working/nb_pipeline_bottom_model.pkl')\n",
        "\n",
        "y_pred = nb_pipeline_bottom.predict(X_test)\n",
        "\n",
        "accuracy = accuracy_score(y_test, y_pred)\n",
        "f1 = f1_score(y_test, y_pred, average='weighted')\n",
        "\n",
        "print('Accuracy:', accuracy)\n",
        "print('F1-score:', f1)\n",
        "print(classification_report(y_test, y_pred))"
      ],
      "metadata": {
        "execution": {
          "iopub.status.busy": "2024-04-13T14:17:13.312053Z",
          "iopub.execute_input": "2024-04-13T14:17:13.312444Z",
          "iopub.status.idle": "2024-04-13T14:17:30.715903Z",
          "shell.execute_reply.started": "2024-04-13T14:17:13.312414Z",
          "shell.execute_reply": "2024-04-13T14:17:30.714994Z"
        },
        "trusted": true,
        "id": "QQLeX9gm72QA",
        "outputId": "ccee6cdf-3d0c-43bc-f3e4-79faefcdcd32"
      },
      "execution_count": null,
      "outputs": [
        {
          "name": "stdout",
          "text": "Accuracy: 0.48899292324442023\nF1-score: 0.4620811819089589\n              precision    recall  f1-score   support\n\n           1       0.00      0.00      0.00        18\n           2       0.71      0.22      0.33        23\n           3       0.61      1.00      0.76        11\n           4       0.50      0.67      0.57        15\n           5       0.45      1.00      0.62        14\n           6       0.00      0.00      0.00        22\n           7       0.67      0.74      0.70        19\n           8       0.47      0.56      0.51        16\n           9       1.00      0.17      0.30        23\n          10       0.47      0.38      0.42        21\n          11       0.81      0.81      0.81        16\n          12       0.60      0.53      0.56        17\n          13       0.50      0.76      0.60        17\n          14       0.56      0.82      0.67        17\n          15       0.38      0.62      0.48        16\n          16       0.33      0.31      0.32        16\n          17       0.30      0.44      0.36        16\n          18       0.55      0.38      0.44        16\n          19       0.37      0.73      0.49        15\n          20       0.55      0.30      0.39        20\n          22       0.17      0.29      0.22        17\n          23       0.79      0.50      0.61        22\n          24       0.62      0.23      0.33        22\n          25       0.33      0.06      0.10        18\n          26       0.55      0.65      0.59        17\n          27       0.57      0.19      0.29        21\n          28       0.43      0.81      0.57        16\n          29       0.53      0.67      0.59        12\n          30       0.12      0.06      0.08        18\n          31       0.88      0.30      0.45        23\n          32       0.12      0.20      0.15        15\n          33       0.50      0.77      0.61        13\n          34       0.25      0.22      0.24         9\n          35       0.69      0.45      0.55        20\n          36       0.38      0.14      0.20        22\n          37       0.23      0.21      0.22        14\n          38       0.83      0.45      0.59        22\n          39       0.35      0.55      0.43        11\n          40       0.55      0.65      0.59        17\n          41       0.67      0.35      0.46        17\n          42       0.18      0.12      0.14        17\n          43       1.00      0.08      0.15        25\n          44       1.00      0.25      0.40        20\n          45       0.70      0.37      0.48        19\n          46       0.10      0.80      0.18        10\n          47       0.47      0.50      0.48        14\n          48       0.44      0.20      0.28        20\n          49       0.94      0.94      0.94        18\n          50       0.75      0.90      0.82        20\n          51       0.42      0.48      0.45        23\n          52       0.62      0.23      0.33        22\n          53       0.90      0.64      0.75        14\n          54       0.50      0.84      0.63        19\n          55       0.35      0.75      0.48        16\n          56       0.88      0.65      0.75        23\n          57       0.38      0.33      0.36        15\n          58       0.15      0.40      0.22        15\n          59       0.43      0.59      0.50        17\n          60       0.74      0.88      0.80        16\n          61       0.89      0.89      0.89        19\n          62       0.92      0.86      0.89        14\n          63       0.73      0.53      0.62        15\n          64       0.44      0.19      0.27        21\n          65       0.44      0.50      0.47        16\n          66       0.00      0.00      0.00        28\n          67       0.00      0.00      0.00        18\n          68       0.73      0.58      0.65        19\n          69       0.67      0.22      0.33        18\n          70       0.00      0.00      0.00        17\n          71       0.56      0.45      0.50        11\n          72       0.00      0.00      0.00        20\n          73       1.00      0.32      0.48        19\n          74       0.83      0.68      0.75        22\n          75       0.50      0.04      0.08        23\n          76       0.25      0.56      0.35        16\n          77       0.00      0.00      0.00        15\n          78       0.18      0.11      0.14        18\n          79       0.64      0.64      0.64        22\n          80       0.50      0.18      0.26        17\n          81       0.25      0.04      0.07        25\n          82       0.50      0.06      0.11        16\n          83       0.95      0.67      0.78        27\n          84       0.75      0.75      0.75        20\n          85       0.42      0.94      0.58        16\n          86       0.53      0.42      0.47        19\n          87       0.78      0.82      0.80        22\n          88       0.86      0.30      0.44        20\n          89       0.41      0.71      0.52        17\n          90       1.00      0.05      0.09        22\n          91       0.57      0.72      0.63        18\n          92       0.75      0.19      0.30        16\n          93       0.43      0.56      0.49        16\n          94       0.62      0.47      0.53        17\n          96       0.60      0.19      0.29        16\n          97       0.72      0.65      0.68        20\n          98       0.73      0.40      0.52        20\n          99       0.00      0.00      0.00        17\n         100       0.53      0.45      0.49        20\n         101       0.14      0.05      0.07        21\n         102       0.28      0.20      0.23        25\n         103       0.36      0.22      0.28        18\n         104       0.16      0.47      0.24        15\n         105       0.11      0.20      0.14        15\n         106       0.33      0.67      0.44        21\n         107       0.22      0.13      0.17        15\n         108       0.93      0.65      0.76        20\n         109       0.20      0.16      0.18        19\n         110       0.35      0.41      0.38        17\n         111       0.00      0.00      0.00        20\n         112       0.56      0.68      0.61        22\n         113       0.70      0.41      0.52        17\n         114       0.24      0.20      0.22        20\n         115       0.17      0.33      0.23        18\n         116       0.28      0.47      0.35        17\n         117       0.38      0.14      0.21        21\n         118       0.43      0.38      0.40        16\n         119       0.50      0.13      0.21        15\n         120       0.31      0.31      0.31        13\n         121       0.13      0.27      0.17        15\n         122       0.26      0.84      0.40        19\n         123       0.75      0.30      0.43        20\n         124       0.17      0.35      0.23        17\n         125       0.52      0.87      0.65        15\n         126       0.30      0.21      0.25        14\n         127       0.18      0.56      0.27         9\n         128       0.30      0.17      0.21        18\n         129       0.00      0.00      0.00        16\n         130       0.35      0.43      0.39        14\n         131       0.67      0.29      0.40        21\n         132       0.00      0.00      0.00        23\n         133       0.00      0.00      0.00        22\n         134       0.81      0.84      0.82        25\n         135       0.50      0.50      0.50        14\n         136       0.83      0.25      0.38        20\n         137       1.00      0.47      0.64        15\n         138       0.80      0.71      0.75        17\n         139       0.26      0.39      0.31        18\n         140       0.86      0.72      0.78        25\n         141       0.24      0.21      0.22        19\n         142       0.29      0.50      0.37        14\n         143       0.25      0.73      0.37        15\n         144       0.00      0.00      0.00        17\n         145       0.33      0.08      0.13        25\n         147       0.64      0.47      0.55        19\n         148       0.56      0.23      0.32        22\n         149       0.63      0.75      0.69        16\n         150       0.70      0.74      0.72        19\n         151       0.67      0.25      0.36        16\n         152       0.78      0.44      0.56        16\n         153       0.54      0.68      0.60        19\n         154       0.79      0.56      0.65        27\n         155       0.63      0.89      0.74        19\n         156       0.33      0.14      0.20        14\n         157       0.42      0.53      0.47        15\n         158       0.43      0.16      0.23        19\n         159       0.40      0.60      0.48        20\n         160       0.59      0.71      0.65        14\n         161       0.10      0.06      0.07        17\n         162       0.15      0.25      0.19        12\n         163       0.71      0.62      0.67        24\n         164       0.45      0.25      0.32        20\n         165       0.67      0.21      0.32        19\n         166       0.50      0.85      0.63        13\n         167       0.69      0.46      0.55        24\n         168       0.38      0.30      0.33        10\n         169       0.47      0.40      0.43        20\n         170       0.47      0.41      0.44        17\n         171       0.46      0.46      0.46        13\n         172       0.59      0.83      0.69        12\n         173       0.55      0.92      0.69        13\n         174       0.28      0.72      0.40        18\n         175       0.52      0.68      0.59        19\n         176       0.89      0.40      0.55        20\n         177       0.42      0.38      0.40        13\n         178       0.24      0.91      0.38        11\n         179       0.87      0.50      0.63        26\n         180       0.19      0.71      0.29        14\n         181       0.28      0.71      0.40        14\n         182       0.38      0.21      0.27        24\n         183       1.00      0.38      0.55        21\n         184       0.82      0.86      0.84        21\n         185       0.91      1.00      0.95        10\n         186       0.77      0.94      0.85        18\n         187       0.59      0.72      0.65        18\n         189       0.79      0.94      0.86        16\n         190       0.43      0.12      0.19        25\n         191       0.57      0.65      0.60        20\n         192       0.46      0.95      0.62        19\n         193       0.67      0.91      0.77        11\n         194       0.86      0.86      0.86        22\n         195       0.73      0.73      0.73        15\n         196       0.83      0.90      0.86        21\n         197       0.57      0.36      0.44        22\n         199       0.24      0.36      0.29        14\n         200       0.00      0.00      0.00        22\n         201       0.80      0.19      0.31        21\n         202       0.57      0.76      0.65        17\n         203       0.50      0.35      0.41        17\n         204       0.77      0.45      0.57        22\n         205       0.89      0.89      0.89        18\n         206       0.75      0.79      0.77        19\n         207       0.15      0.24      0.19        17\n         208       0.50      0.41      0.45        22\n         210       0.00      0.00      0.00        21\n         211       0.44      0.44      0.44        16\n         212       0.53      0.47      0.50        17\n         213       0.33      0.20      0.25        20\n         214       0.67      0.36      0.47        22\n         215       0.29      0.26      0.28        19\n         216       0.63      0.71      0.67        17\n         217       0.00      0.00      0.00        28\n         218       0.53      0.50      0.52        16\n         219       0.33      0.05      0.09        19\n         220       0.42      0.35      0.38        23\n         221       0.50      0.62      0.56        16\n         222       0.62      0.22      0.32        23\n         224       0.59      0.36      0.44        28\n         225       0.16      0.42      0.23        12\n         226       0.86      0.27      0.41        22\n         227       0.57      0.24      0.33        17\n         228       0.58      0.88      0.70        16\n         231       0.56      0.70      0.62        20\n         232       0.45      0.38      0.42        13\n         233       0.48      0.64      0.55        22\n         234       0.61      0.65      0.63        17\n         235       0.00      0.00      0.00         8\n         236       0.36      0.80      0.50        10\n         237       0.91      0.59      0.71        17\n         238       0.68      0.94      0.79        16\n         239       0.57      0.76      0.65        17\n         240       0.58      1.00      0.73        11\n         241       0.71      0.28      0.40        18\n         242       0.00      0.00      0.00         8\n         243       0.81      0.72      0.76        18\n         245       0.38      0.60      0.46         5\n         247       0.46      0.65      0.54        17\n         248       0.67      0.13      0.22        15\n         249       0.54      0.62      0.58        21\n         250       0.00      0.00      0.00        12\n         253       0.50      0.64      0.56        11\n         254       0.59      0.53      0.56        19\n         255       0.80      0.35      0.48        23\n         256       0.42      0.38      0.40        13\n         257       0.68      0.76      0.72        17\n         258       0.89      0.89      0.89        19\n         259       0.50      0.06      0.11        17\n         260       0.86      0.73      0.79        26\n         261       0.67      0.12      0.21        16\n         262       0.17      0.64      0.27        14\n         263       0.63      0.57      0.60        21\n         264       0.58      0.86      0.69        22\n         265       0.25      0.09      0.13        11\n         267       0.41      0.64      0.50        11\n         268       0.82      0.88      0.85        16\n         270       0.00      0.00      0.00        17\n         271       0.69      0.85      0.76        13\n         272       0.59      0.95      0.73        20\n         273       0.94      0.85      0.89        20\n         274       1.00      0.14      0.25        21\n         275       0.69      0.61      0.65        18\n         276       0.44      0.44      0.44         9\n         277       0.82      0.60      0.69        15\n         279       0.33      0.06      0.10        17\n         280       0.14      0.06      0.09        16\n         281       0.50      0.17      0.25        18\n         282       0.08      0.11      0.10         9\n         283       1.00      0.41      0.58        22\n         284       0.59      0.76      0.67        17\n         285       0.52      0.82      0.64        17\n         286       0.72      0.95      0.82        19\n         287       1.00      0.32      0.48        22\n         288       0.00      0.00      0.00         3\n         290       1.00      0.24      0.38        21\n         291       0.70      0.78      0.74        18\n         292       0.80      0.21      0.33        19\n         296       0.55      0.63      0.59        19\n         297       0.35      0.62      0.44        13\n         298       0.00      0.00      0.00        22\n         299       0.60      0.41      0.49        22\n         300       0.40      0.18      0.25        22\n         301       0.49      0.89      0.63        19\n         302       0.18      0.54      0.27        13\n         303       0.83      0.45      0.59        22\n         304       0.32      0.92      0.48        13\n         305       0.77      1.00      0.87        17\n         306       0.80      0.67      0.73         6\n         307       1.00      0.21      0.35        19\n         308       0.36      0.67      0.47        18\n         309       0.38      0.17      0.23        18\n         310       0.50      0.94      0.65        18\n         311       0.59      0.62      0.61        16\n         312       0.33      0.19      0.24        16\n         313       0.61      0.73      0.67        15\n         314       0.86      0.90      0.88        21\n         315       0.48      0.48      0.48        21\n         316       0.83      0.83      0.83        29\n         317       0.33      0.05      0.08        21\n         318       0.63      0.94      0.76        18\n         320       0.78      0.67      0.72        21\n         321       0.94      0.77      0.85        22\n         322       0.21      0.43      0.28        14\n         323       0.80      0.16      0.27        25\n         324       0.33      0.05      0.09        20\n         325       1.00      0.16      0.27        19\n         326       0.36      0.67      0.47        18\n         327       0.60      0.35      0.44        17\n         328       0.75      0.13      0.22        23\n         329       0.11      0.70      0.19        10\n         330       1.00      0.07      0.12        15\n         331       0.45      0.78      0.57        23\n         332       0.94      0.74      0.83        23\n         335       0.50      0.12      0.20        24\n         336       0.72      0.59      0.65        22\n         337       0.07      0.17      0.10        12\n         338       0.29      0.09      0.13        23\n         339       0.56      0.86      0.68        21\n         340       0.45      0.36      0.40        14\n         341       0.82      0.82      0.82        17\n         343       0.56      0.26      0.36        19\n         344       0.50      0.58      0.54        19\n         345       0.22      0.36      0.28        11\n         346       0.86      0.38      0.52        16\n         347       0.14      0.06      0.09        16\n         349       0.67      0.60      0.63        20\n         350       0.50      0.27      0.35        15\n         351       0.44      0.36      0.40        11\n         352       0.65      0.55      0.59        20\n         353       1.00      0.32      0.48        19\n         354       0.11      0.05      0.07        21\n         355       0.67      0.09      0.15        23\n         356       0.60      0.38      0.46        16\n         357       0.33      0.12      0.17        17\n         358       0.46      0.80      0.59        15\n         359       0.00      0.00      0.00        23\n         361       0.73      0.50      0.59        22\n         364       0.35      0.33      0.34        21\n         365       0.86      0.86      0.86        21\n         368       0.57      0.80      0.67        15\n         369       0.44      0.21      0.29        19\n         371       0.00      0.00      0.00         9\n         372       0.59      1.00      0.75        19\n         373       0.70      0.33      0.45        21\n         374       0.00      0.00      0.00        17\n         375       0.33      0.07      0.12        14\n         376       0.71      0.59      0.65        17\n         377       0.00      0.00      0.00        19\n         378       0.25      0.80      0.38        15\n         379       0.18      0.33      0.23        18\n         380       0.18      0.35      0.24        17\n         381       0.29      0.27      0.28        15\n         382       0.75      0.86      0.80        21\n         383       0.67      0.29      0.40        21\n         385       0.08      0.07      0.07        14\n         386       0.19      0.33      0.24        15\n         387       0.50      0.09      0.15        11\n         388       0.00      0.00      0.00        17\n         389       0.25      0.18      0.21        17\n         392       0.11      0.05      0.07        19\n         394       0.25      0.29      0.27        17\n         395       0.57      0.19      0.29        21\n         396       0.38      0.13      0.19        23\n         397       0.07      0.21      0.10        14\n         398       0.25      0.54      0.34        13\n         399       0.00      0.00      0.00        12\n         400       1.00      0.19      0.32        16\n         401       1.00      0.13      0.23        23\n         402       0.43      0.64      0.51        14\n         403       0.20      0.07      0.10        15\n         404       0.60      0.32      0.41        19\n         405       0.00      0.00      0.00        20\n         406       0.23      0.35      0.27        20\n         407       0.35      0.32      0.33        19\n         408       0.38      0.29      0.32        21\n         411       0.25      0.20      0.22        15\n         412       0.55      0.57      0.56        21\n         413       0.00      0.00      0.00         9\n         414       0.26      0.32      0.29        22\n         415       0.00      0.00      0.00        17\n         416       0.00      0.00      0.00        13\n         417       0.00      0.00      0.00        20\n         418       0.75      0.10      0.18        30\n         419       0.14      0.20      0.17        15\n         420       0.13      0.80      0.22        10\n         421       0.00      0.00      0.00        19\n         422       0.38      0.25      0.30        20\n         424       0.40      0.09      0.15        22\n         425       0.50      0.12      0.20        16\n         426       0.07      0.07      0.07        14\n         427       1.00      0.31      0.48        16\n         428       0.29      0.26      0.28        19\n         429       0.35      0.37      0.36        19\n         430       0.00      0.00      0.00        21\n         431       0.50      0.27      0.35        11\n         432       0.75      0.19      0.30        16\n         433       0.31      0.24      0.27        17\n         434       0.33      0.11      0.16        19\n         435       1.00      0.31      0.48        16\n         436       0.22      0.50      0.31        18\n         437       0.74      0.70      0.72        20\n         439       0.50      0.64      0.56        14\n         440       0.38      0.71      0.50        14\n         441       0.35      0.73      0.47        11\n         443       0.09      0.12      0.11        16\n         444       0.00      0.00      0.00        16\n         445       0.02      0.22      0.04         9\n         446       0.00      0.00      0.00        20\n         447       0.30      0.32      0.31        19\n         448       0.33      0.14      0.19        22\n         449       0.19      0.21      0.20        14\n         450       0.32      0.39      0.35        18\n         451       1.00      0.23      0.38        13\n         452       0.90      0.53      0.67        17\n         453       0.16      0.33      0.22        12\n         454       0.55      0.58      0.56        19\n         455       0.50      0.42      0.46        19\n         456       0.20      0.39      0.26        18\n         457       0.67      0.72      0.69        25\n         458       0.13      0.25      0.17        16\n         459       0.37      0.30      0.33        23\n         460       0.60      0.18      0.27        17\n         461       0.58      0.37      0.45        19\n         462       0.69      0.50      0.58        22\n         463       0.76      0.62      0.68        21\n         465       1.00      0.07      0.13        14\n         466       0.25      0.06      0.09        18\n         467       0.14      0.27      0.18        15\n         468       1.00      0.06      0.12        16\n         469       0.12      0.07      0.09        15\n         470       0.19      0.77      0.30        13\n         471       0.40      0.10      0.16        20\n         472       0.00      0.00      0.00        21\n         473       1.00      0.05      0.09        21\n         474       0.75      0.12      0.21        25\n         475       0.00      0.00      0.00        23\n         476       0.00      0.00      0.00        21\n         477       0.25      0.06      0.09        18\n         478       0.00      0.00      0.00        24\n         479       0.26      0.47      0.34        19\n         480       0.31      0.17      0.22        23\n         481       0.16      0.50      0.24        12\n         482       0.09      0.06      0.07        16\n         483       0.78      0.37      0.50        19\n         484       1.00      0.12      0.21        26\n         485       0.25      0.24      0.24        17\n         486       0.24      0.36      0.29        14\n         487       0.44      0.25      0.32        16\n         488       0.33      0.23      0.27        13\n         489       0.36      0.19      0.25        21\n         490       0.20      0.05      0.07        22\n         491       0.37      0.53      0.43        19\n         492       0.20      0.13      0.16        15\n         493       0.17      0.33      0.22        12\n         494       0.39      0.41      0.40        22\n         495       0.52      0.94      0.67        17\n         496       0.17      0.06      0.08        18\n         497       0.45      0.29      0.36        17\n         498       0.25      0.05      0.08        20\n         499       0.28      0.33      0.30        15\n         500       0.00      0.00      0.00        18\n         501       0.15      0.11      0.12        19\n         502       0.50      0.12      0.19        25\n         503       0.20      0.07      0.10        15\n         504       0.00      0.00      0.00        23\n         505       0.40      0.21      0.28        19\n         506       1.00      0.11      0.20        18\n         507       0.33      0.06      0.10        17\n         508       0.53      0.31      0.39        26\n         509       0.20      0.31      0.24        13\n         510       0.38      0.50      0.43        16\n         511       0.00      0.00      0.00        13\n         512       0.60      0.57      0.59        21\n         513       0.50      0.84      0.63        19\n         514       0.31      0.25      0.28        20\n         515       0.53      0.38      0.44        24\n         516       0.59      0.85      0.69        20\n         517       0.58      0.86      0.69        21\n         519       0.50      0.63      0.56        27\n         520       0.56      0.56      0.56        16\n         521       0.94      0.76      0.84        21\n         522       0.81      1.00      0.89        17\n         523       0.78      0.41      0.54        17\n         524       0.64      0.80      0.71        20\n         525       0.53      0.40      0.46        20\n         526       0.40      0.09      0.14        23\n         527       0.17      0.12      0.14        16\n         528       0.39      1.00      0.56        12\n         529       0.32      0.50      0.39        16\n         530       1.00      0.10      0.17        21\n         531       0.59      0.43      0.50        23\n         532       0.29      0.94      0.44        16\n         533       0.47      0.44      0.46        18\n         534       0.12      0.11      0.11        19\n         535       0.35      0.32      0.33        19\n         536       0.16      0.38      0.22        13\n         537       0.11      0.07      0.08        15\n         538       0.85      0.55      0.67        20\n         539       0.50      0.59      0.54        17\n         540       0.50      0.16      0.24        19\n         541       0.46      0.50      0.48        22\n         542       0.69      0.58      0.63        19\n         543       0.57      0.68      0.62        19\n         544       0.50      0.57      0.53        14\n         545       0.48      0.75      0.59        16\n         546       0.68      0.81      0.74        16\n         547       0.38      0.40      0.39        25\n         548       0.07      0.12      0.09        16\n         549       0.57      0.19      0.29        21\n         550       0.25      0.47      0.33        17\n         551       0.33      0.44      0.38        18\n         552       0.00      0.00      0.00        19\n         553       0.00      0.00      0.00        18\n         554       0.38      0.24      0.29        21\n         555       0.24      0.69      0.36        13\n         556       0.43      0.75      0.55        16\n         557       0.50      0.10      0.17        20\n         558       0.10      0.25      0.14        16\n         559       0.00      0.00      0.00        22\n         560       0.78      0.28      0.41        25\n         561       0.50      0.05      0.08        22\n         562       0.00      0.00      0.00        19\n         603       0.64      0.38      0.47        24\n         604       0.75      0.15      0.25        20\n         609       0.00      0.00      0.00        18\n         769       0.95      0.86      0.90        21\n         779       1.00      0.16      0.27        19\n         780       0.53      0.42      0.47        19\n         781       0.52      0.79      0.63        14\n         782       0.56      1.00      0.71        15\n         783       0.52      0.57      0.55        21\n         784       1.00      0.85      0.92        26\n         785       0.88      0.47      0.61        15\n         786       0.48      0.73      0.58        15\n         825       0.43      0.14      0.21        21\n         826       0.40      0.13      0.20        15\n         827       0.70      0.70      0.70        20\n         829       0.82      0.95      0.88        19\n         830       0.70      0.78      0.74        18\n         831       0.60      0.38      0.46        24\n         833       1.00      0.58      0.74        12\n         834       0.90      1.00      0.95        26\n         836       0.68      0.81      0.74        16\n         837       0.65      0.81      0.72        16\n         838       0.50      0.50      0.50        26\n         839       0.50      0.24      0.32        17\n         840       0.62      0.80      0.70        20\n         843       0.60      0.15      0.24        20\n         845       0.69      0.47      0.56        19\n         846       0.58      0.75      0.65        20\n         847       0.80      0.18      0.30        22\n         848       0.46      0.72      0.57        18\n         849       1.00      0.39      0.56        18\n         850       1.00      0.40      0.57        10\n         851       0.43      0.18      0.25        17\n         852       0.72      0.68      0.70        19\n         853       0.70      0.39      0.50        18\n         854       0.60      0.67      0.63        18\n         855       0.80      0.27      0.40        15\n         857       0.00      0.00      0.00        15\n         858       0.65      0.88      0.75        17\n         862       0.68      0.81      0.74        21\n         863       0.70      0.70      0.70        20\n         864       0.44      0.37      0.40        19\n         865       0.44      0.22      0.30        18\n         866       0.50      0.60      0.55        20\n         867       0.74      0.88      0.80        16\n         869       1.00      0.20      0.33        10\n         871       0.36      0.27      0.31        15\n         872       0.33      0.65      0.43        20\n         873       0.41      0.50      0.45        14\n         874       0.69      0.61      0.65        18\n         875       1.00      0.04      0.08        23\n         878       0.76      0.84      0.80        19\n         881       0.52      0.79      0.62        19\n         882       0.35      0.35      0.35        20\n         883       0.67      0.33      0.44         6\n         884       1.00      0.08      0.14        13\n         885       0.93      0.88      0.90        16\n         887       0.59      0.83      0.69        12\n         888       0.87      0.76      0.81        17\n         889       0.29      0.46      0.35        13\n         890       0.67      0.09      0.15        23\n         891       0.00      0.00      0.00        18\n         892       1.00      0.23      0.38        13\n         893       1.00      0.62      0.77        16\n         894       0.00      0.00      0.00        16\n         897       0.41      0.64      0.50        14\n         899       0.83      0.94      0.88        16\n         900       0.50      0.05      0.09        20\n         901       0.21      0.64      0.32        11\n         902       0.00      0.00      0.00        25\n         903       0.67      0.13      0.22        15\n         904       0.33      0.85      0.48        13\n         905       0.47      0.82      0.60        17\n         906       0.25      0.06      0.10        16\n         907       0.33      0.79      0.47        19\n         908       0.70      0.37      0.48        19\n         909       0.83      0.29      0.43        17\n         910       0.64      0.70      0.67        20\n         911       0.00      0.00      0.00        18\n         912       0.50      0.09      0.15        22\n         913       1.00      0.05      0.09        22\n         914       0.41      0.85      0.55        13\n         915       0.46      0.61      0.52        18\n         916       0.30      0.43      0.35        14\n         917       0.74      1.00      0.85        26\n         918       0.80      0.19      0.31        21\n         919       0.75      0.25      0.38        12\n         920       0.67      0.10      0.17        20\n         922       1.00      0.23      0.38        13\n         923       0.78      0.54      0.64        13\n         924       0.62      0.26      0.37        19\n         925       0.56      0.45      0.50        20\n         926       0.60      0.15      0.24        20\n         927       0.47      0.44      0.46        18\n         929       0.44      0.67      0.53        18\n         930       0.67      0.47      0.55        17\n         931       0.00      0.00      0.00        13\n         933       0.71      0.25      0.37        20\n         934       0.85      0.48      0.61        23\n         935       0.29      0.36      0.32        11\n         936       0.57      0.25      0.35        16\n         937       0.56      0.50      0.53        20\n         938       0.57      0.50      0.53        16\n         939       1.00      0.08      0.14        13\n         940       0.39      0.30      0.34        23\n         942       1.00      0.14      0.25         7\n         943       0.32      0.71      0.44        17\n         944       0.80      0.80      0.80        15\n         945       0.32      0.50      0.39        16\n         946       0.25      0.45      0.32        11\n         947       0.65      0.89      0.76        19\n         948       0.59      0.81      0.68        16\n         949       1.00      0.50      0.67        16\n         950       0.50      0.18      0.27        11\n         951       0.07      0.08      0.08        12\n         952       0.22      0.14      0.17        14\n         954       0.23      0.42      0.29        12\n         955       0.31      0.62      0.41        13\n         956       0.00      0.00      0.00        13\n         957       0.00      0.00      0.00        19\n         958       0.75      0.11      0.19        28\n         959       0.83      0.23      0.36        22\n         961       0.33      0.14      0.19        22\n         962       0.72      0.75      0.73        24\n         963       0.00      0.00      0.00        13\n         965       1.00      0.08      0.14        26\n         967       0.70      0.35      0.47        20\n         968       0.00      0.00      0.00        12\n         969       0.83      0.26      0.40        19\n         970       0.41      0.39      0.40        18\n         971       0.62      0.28      0.38        18\n         972       0.59      0.56      0.57        18\n         973       0.00      0.00      0.00        17\n         974       0.59      0.65      0.62        20\n         975       0.60      0.47      0.53        19\n         976       0.27      0.19      0.22        16\n         977       0.33      0.55      0.42        20\n         978       0.47      0.67      0.55        12\n         979       0.27      0.19      0.22        16\n         980       0.75      0.16      0.26        19\n         981       0.48      0.72      0.58        18\n         982       0.36      0.29      0.32        17\n         983       0.67      0.82      0.74        17\n         985       0.67      0.30      0.41        20\n         986       0.65      0.72      0.68        18\n         987       0.44      0.75      0.56        16\n         988       0.85      0.52      0.65        21\n         989       0.00      0.00      0.00        20\n         990       0.50      0.16      0.24        19\n         991       1.00      0.22      0.36        23\n         992       0.56      0.64      0.60        14\n         993       0.09      0.27      0.14        15\n         994       1.00      0.05      0.09        21\n         996       0.90      0.38      0.53        24\n         997       0.69      0.52      0.59        21\n         998       0.69      0.58      0.63        19\n         999       0.75      0.60      0.67        15\n        1000       0.46      0.75      0.57        16\n        1001       0.46      0.81      0.59        16\n        1002       0.00      0.00      0.00        10\n        1003       0.14      0.07      0.09        15\n        1004       0.50      0.06      0.10        18\n        1005       0.18      0.60      0.28        10\n        1006       0.70      0.89      0.78        18\n        1007       0.57      0.63      0.60        19\n        1008       0.56      1.00      0.72        14\n        1009       0.47      0.44      0.45        16\n        1010       0.23      0.38      0.29        13\n        1011       0.27      0.43      0.33        14\n        1012       0.67      0.38      0.48        16\n        1014       0.79      0.83      0.81        18\n        1016       0.65      0.94      0.77        16\n        1017       0.21      0.80      0.34        15\n        1018       0.18      0.11      0.13        19\n        1019       0.67      0.70      0.68        20\n        1020       0.45      0.31      0.37        16\n        1021       0.59      0.89      0.71        19\n        1022       0.53      0.77      0.62        13\n        1023       0.00      0.00      0.00        26\n        1024       0.83      0.28      0.42        18\n        1025       0.50      0.04      0.07        28\n        1026       0.41      0.69      0.51        16\n        1027       0.06      0.06      0.06        16\n        1028       0.22      0.25      0.24        16\n        1029       0.00      0.00      0.00        22\n        1030       0.41      0.39      0.40        18\n        1031       0.80      0.20      0.32        20\n        1033       0.00      0.00      0.00        10\n        1034       0.46      0.48      0.47        25\n        1035       0.77      0.50      0.61        20\n        1036       0.00      0.00      0.00        22\n        1037       0.54      0.41      0.47        17\n        1038       0.65      0.85      0.74        20\n        1039       0.25      0.05      0.09        19\n        1040       0.70      0.89      0.78        18\n        1042       0.33      0.20      0.25        20\n        1043       0.00      0.00      0.00        21\n        1044       0.14      0.38      0.20        13\n        1045       0.60      0.88      0.71        17\n        1046       0.54      0.90      0.68        21\n        1047       0.43      0.16      0.23        19\n        1048       0.90      0.39      0.55        23\n        1049       0.25      0.33      0.29        12\n        1050       0.76      1.00      0.86        22\n        1051       0.00      0.00      0.00        11\n        1052       0.08      0.07      0.07        14\n        1053       0.33      0.13      0.19        15\n        1054       0.00      0.00      0.00        23\n        1055       0.25      0.50      0.33        10\n        1056       0.54      0.87      0.67        15\n        1057       0.50      0.86      0.63        14\n        1058       0.69      0.56      0.62        16\n        1059       0.20      0.38      0.26        13\n        1060       0.43      0.53      0.48        19\n        1061       0.52      0.75      0.61        20\n        1062       0.20      0.10      0.13        20\n        1063       0.35      0.47      0.40        15\n        1064       0.61      0.67      0.64        21\n        1065       0.64      1.00      0.78        18\n        1066       0.52      0.65      0.58        23\n        1067       0.00      0.00      0.00        16\n        1068       0.67      0.57      0.62        21\n        1069       0.08      0.38      0.13        13\n        1070       0.52      0.50      0.51        24\n        1071       0.50      0.40      0.44        20\n        1072       0.29      0.75      0.41        16\n        1073       0.00      0.00      0.00        16\n        1074       0.00      0.00      0.00        25\n        1075       0.55      0.67      0.60        18\n        1076       0.00      0.00      0.00        12\n        1077       0.24      0.20      0.22        20\n        1078       0.91      0.45      0.61        22\n        1079       0.21      0.86      0.34         7\n        1080       0.32      0.92      0.47        13\n        1081       0.50      0.06      0.11        16\n        1082       0.48      0.52      0.50        21\n        1083       0.62      0.32      0.42        25\n        1085       0.00      0.00      0.00        15\n        1086       0.00      0.00      0.00        20\n        1088       0.11      0.08      0.10        12\n        1089       0.25      0.05      0.08        21\n        1090       0.89      0.38      0.53        21\n        1091       0.16      0.17      0.16        18\n        1092       0.62      1.00      0.77        15\n        1093       0.25      0.80      0.38        10\n        1094       0.29      0.27      0.28        15\n        1095       0.77      0.81      0.79        21\n        1096       1.00      0.09      0.16        23\n        1097       0.33      0.12      0.18        16\n        1098       0.83      0.56      0.67        18\n        1099       0.68      0.79      0.73        19\n        1100       0.62      0.71      0.67        14\n        1101       0.45      0.24      0.31        21\n        1102       0.50      0.17      0.25        18\n        1103       0.75      0.16      0.26        19\n        1104       0.95      0.91      0.93        23\n        1105       0.80      0.24      0.36        17\n        1106       0.83      0.75      0.79        20\n        1107       0.83      0.19      0.31        26\n        1108       0.53      0.56      0.54        18\n        1109       0.50      0.47      0.48        15\n        1110       0.29      0.11      0.15        19\n        1112       0.80      0.22      0.35        18\n        1113       0.64      0.75      0.69        12\n        1114       0.58      0.41      0.48        17\n        1115       1.00      0.38      0.56        13\n        1116       0.88      0.79      0.83        19\n        1117       0.53      0.38      0.44        21\n        1118       0.14      0.07      0.10        14\n        1119       0.67      0.10      0.17        20\n        1120       0.50      0.11      0.17        19\n        1121       0.52      0.80      0.63        20\n        1122       0.76      0.59      0.67        22\n        1123       0.40      0.83      0.54        12\n        1124       0.86      0.38      0.52        16\n        1125       0.75      0.38      0.50        24\n        1126       0.21      0.50      0.29        16\n        1129       0.57      0.20      0.30        20\n        1130       0.56      0.67      0.61        15\n        1132       0.75      0.21      0.33        14\n        1133       0.60      0.43      0.50        14\n        1135       0.00      0.00      0.00        23\n        1136       0.00      0.00      0.00        14\n        1137       0.93      0.65      0.76        20\n        1138       0.60      0.18      0.27        17\n        1139       0.00      0.00      0.00        10\n        1140       0.10      0.09      0.10        11\n        1141       0.75      0.79      0.77        19\n        1142       0.00      0.00      0.00        22\n        1143       0.32      0.69      0.44        16\n        1144       0.40      0.35      0.38        17\n        1145       0.67      0.19      0.30        21\n        1146       0.92      0.60      0.73        20\n        1147       0.57      0.18      0.28        22\n        1148       0.46      0.57      0.51        21\n        1149       0.50      0.27      0.35        15\n        1150       0.67      0.31      0.42        13\n        1151       1.00      0.14      0.24        22\n        1152       0.56      0.88      0.68        16\n        1153       0.71      0.36      0.48        14\n        1154       0.62      1.00      0.76        16\n        1155       0.77      0.43      0.56        23\n        1156       0.56      0.53      0.55        17\n        1157       0.47      0.88      0.61         8\n        1158       0.29      0.28      0.29        18\n        1159       0.50      0.81      0.62        16\n        1160       0.82      0.90      0.86        20\n        1161       1.00      0.17      0.29         6\n        1163       0.53      0.43      0.47        21\n        1165       0.00      0.00      0.00        22\n        1166       0.29      0.25      0.27        24\n        1167       0.33      0.12      0.18        25\n        1168       0.00      0.00      0.00        22\n        1169       0.75      0.46      0.57        13\n        1170       0.38      0.36      0.37        22\n        1171       0.52      0.92      0.67        12\n        1172       0.60      0.38      0.46        24\n        1173       0.80      0.40      0.53        10\n        1174       0.81      0.87      0.84        15\n        1175       0.12      0.45      0.19        11\n        1176       0.72      0.87      0.79        15\n        1177       0.67      0.43      0.52        14\n        1178       0.76      0.76      0.76        17\n        1179       1.00      0.11      0.20        18\n        1180       1.00      0.86      0.92        21\n        1181       1.00      0.07      0.12        15\n        1182       0.60      0.33      0.43        18\n        1183       1.00      0.50      0.67        18\n        1184       0.86      0.80      0.83        15\n        1185       0.74      1.00      0.85        17\n        1186       0.67      0.13      0.22        15\n        1187       0.43      1.00      0.60        12\n        1188       0.82      0.90      0.86        20\n        1189       0.43      0.82      0.56        11\n        1190       0.64      0.64      0.64        14\n        1191       0.90      0.75      0.82        12\n        1192       0.81      1.00      0.90        13\n        1193       0.24      0.29      0.26        17\n        1194       0.29      0.27      0.28        15\n        1195       0.25      0.21      0.23        19\n        1196       0.12      0.21      0.15        14\n        1197       0.35      0.33      0.34        21\n        1198       0.54      0.57      0.55        23\n        1199       0.71      0.67      0.69        18\n        1200       0.34      0.58      0.43        19\n        1201       0.00      0.00      0.00        21\n        1202       0.85      0.50      0.63        22\n        1203       0.00      0.00      0.00        21\n        1204       0.57      0.19      0.29        21\n        1205       0.50      0.41      0.45        17\n        1206       0.45      0.53      0.49        17\n        1207       0.82      0.47      0.60        19\n        1208       0.14      0.17      0.15        12\n        1210       1.00      0.43      0.61        23\n        1211       0.77      0.56      0.65        18\n        1212       0.70      0.54      0.61        13\n        1213       0.54      0.33      0.41        21\n        1214       0.36      0.27      0.31        15\n        1215       0.55      0.65      0.59        17\n        1216       0.75      0.14      0.23        22\n        1217       0.00      0.00      0.00        24\n        1218       0.45      0.31      0.37        16\n        1219       0.60      0.79      0.68        19\n        1220       0.27      0.69      0.39        16\n        1221       0.23      0.20      0.21        15\n        1222       0.50      0.05      0.09        20\n        1223       0.35      0.69      0.46        13\n        1224       0.25      0.42      0.31        19\n        1225       0.37      0.44      0.40        16\n        1226       0.42      0.83      0.56        12\n        1227       0.48      0.67      0.56        18\n        1228       0.28      0.64      0.39        14\n        1229       0.50      0.04      0.08        23\n        1230       0.58      0.52      0.55        21\n        1240       1.00      0.29      0.45        17\n        1248       0.60      0.75      0.67        16\n        1249       0.57      0.17      0.26        24\n        1250       0.00      0.00      0.00        17\n        1251       0.33      0.07      0.11        15\n        1254       0.25      0.50      0.33        14\n        1257       0.21      0.25      0.23        12\n        1258       0.71      0.56      0.63        18\n        1259       0.80      0.57      0.67        21\n        1260       0.65      0.79      0.71        14\n        1261       0.50      0.05      0.08        22\n        1262       0.21      0.90      0.34        10\n        1263       0.67      0.57      0.62        21\n        1264       0.28      0.62      0.38        16\n        1265       0.44      0.41      0.42        17\n        1266       0.75      0.14      0.23        22\n        1267       0.50      0.53      0.51        19\n        1268       0.33      0.17      0.22        24\n        1269       0.57      1.00      0.73        16\n        1270       0.44      0.88      0.59        17\n        1271       0.53      0.86      0.66        22\n        1272       0.10      0.33      0.15        12\n        1273       0.25      0.17      0.20        12\n        1274       0.34      0.79      0.48        19\n        1275       0.30      0.59      0.40        17\n        1276       0.43      0.92      0.59        13\n        1277       0.53      0.56      0.54        18\n        1278       0.58      0.82      0.68        22\n        1279       0.17      0.41      0.25        17\n        1280       0.00      0.00      0.00        17\n        1281       0.23      0.27      0.25        22\n        1282       0.52      0.69      0.59        16\n        1283       0.39      0.85      0.53        20\n        1284       0.73      0.79      0.76        14\n        1285       0.79      0.88      0.83        17\n        1286       0.43      0.45      0.44        22\n        1287       0.64      0.54      0.58        13\n        1288       1.00      0.38      0.55        21\n        1289       0.00      0.00      0.00        18\n        1290       0.37      0.53      0.43        19\n        1291       0.80      0.18      0.30        22\n        1292       0.50      0.03      0.06        30\n        1293       0.70      0.32      0.44        22\n        1294       0.15      0.60      0.24        15\n        1295       0.61      0.65      0.63        17\n        1296       0.38      0.50      0.43        12\n        1299       0.46      0.67      0.55        18\n        1303       0.50      0.06      0.10        18\n        1304       0.60      0.67      0.63        18\n        1305       0.00      0.00      0.00        15\n        1308       0.69      0.52      0.59        21\n        1309       0.33      0.56      0.42        16\n        1310       0.30      0.14      0.19        22\n        1311       0.30      0.25      0.27        12\n        1312       0.33      0.05      0.08        21\n        1313       0.58      0.72      0.64        25\n        1314       0.80      0.77      0.78        26\n        1315       0.14      0.08      0.10        13\n        1316       0.31      0.87      0.46        15\n        1317       0.20      0.06      0.09        17\n        1318       0.70      0.88      0.78        16\n        1319       0.58      0.37      0.45        19\n        1320       0.44      0.29      0.35        14\n        1322       0.20      0.05      0.08        21\n        1326       0.12      0.29      0.17        14\n        1327       0.50      0.05      0.08        22\n        1328       0.69      0.73      0.71        15\n        1330       0.00      0.00      0.00        16\n        1331       0.33      0.06      0.10        17\n        1332       0.69      0.41      0.51        22\n        1333       0.58      0.79      0.67        19\n        1334       0.31      0.47      0.37        17\n        1336       0.14      0.06      0.09        16\n        1337       0.67      0.12      0.21        16\n        1339       0.33      0.24      0.28        17\n        1340       0.53      0.69      0.60        13\n        1341       0.56      0.82      0.67        17\n        1343       0.33      0.10      0.15        21\n        1344       1.00      0.05      0.09        22\n        1345       0.35      0.40      0.38        15\n        1346       0.67      0.09      0.16        22\n        1347       0.19      0.19      0.19        16\n        1348       0.21      0.27      0.24        11\n        1349       0.00      0.00      0.00        23\n        1350       0.23      0.41      0.30        17\n        1351       0.22      0.31      0.26        13\n        1352       0.75      0.84      0.79        25\n        1353       0.41      0.33      0.37        21\n        1354       0.55      0.74      0.63        31\n        1355       0.67      0.67      0.67        15\n        1356       0.81      0.57      0.67        23\n        1357       0.50      0.04      0.08        24\n        1358       0.30      1.00      0.46        13\n        1360       0.58      0.79      0.67        14\n        1361       0.63      0.86      0.73        14\n        1363       0.57      0.63      0.60        19\n        1364       0.69      0.85      0.76        13\n        1365       0.50      0.29      0.36        14\n        1366       0.86      1.00      0.93        19\n        1367       0.58      0.61      0.59        18\n        1368       0.38      0.81      0.52        16\n        1369       0.67      0.11      0.18        19\n        1370       0.76      0.48      0.59        27\n        1371       0.62      0.71      0.67        14\n        1373       0.26      0.33      0.29        15\n        1374       1.00      0.08      0.15        25\n        1376       0.72      0.81      0.76        16\n        1377       0.94      0.94      0.94        16\n        1378       0.58      0.78      0.67        18\n        1379       0.75      0.62      0.68        24\n        1380       0.46      0.67      0.55        18\n        1382       0.39      0.47      0.43        19\n        1383       0.40      0.67      0.50        18\n        1384       0.44      0.60      0.51        20\n        1385       0.58      1.00      0.73        15\n        1386       0.62      0.84      0.71        19\n        1387       0.71      0.86      0.77        14\n        1388       0.00      0.00      0.00        10\n        1389       0.75      0.88      0.81        17\n        1390       0.55      0.65      0.59        17\n        1391       0.67      0.10      0.17        20\n        1393       0.33      1.00      0.50        15\n        1394       0.00      0.00      0.00        17\n        1396       0.29      0.11      0.16        18\n        1397       0.56      0.78      0.65        18\n        1399       0.26      0.79      0.39        14\n        1400       0.83      0.65      0.73        23\n        1401       0.80      0.53      0.64        15\n        1402       0.67      0.40      0.50        15\n        1405       1.00      0.53      0.69        19\n        1408       0.48      0.94      0.64        17\n        1410       1.00      0.08      0.14        13\n        1412       0.50      0.94      0.65        16\n        1413       0.86      0.55      0.67        11\n        1415       0.30      0.21      0.25        14\n        1416       1.00      0.38      0.56        13\n        1417       0.84      0.84      0.84        19\n        1418       0.65      0.94      0.77        18\n        1419       0.64      1.00      0.78        18\n        1420       0.61      0.58      0.59        19\n        1421       0.57      0.71      0.63        17\n        1423       0.79      1.00      0.88        22\n        1424       0.87      0.76      0.81        17\n        1425       0.33      0.06      0.11        16\n        1426       0.68      0.83      0.75        23\n        1427       0.21      0.76      0.33        17\n        1428       0.88      0.71      0.79        21\n        1429       0.00      0.00      0.00        17\n        1431       0.55      0.48      0.51        23\n        1438       0.45      0.81      0.58        16\n        1439       0.25      0.11      0.15        19\n        1440       0.00      0.00      0.00        12\n        1441       0.12      0.44      0.19        16\n        1442       0.75      0.27      0.40        22\n        1444       1.00      0.07      0.12        15\n        1447       0.43      0.12      0.18        26\n        1448       0.78      0.37      0.50        19\n        1449       1.00      0.07      0.14        27\n        1450       0.21      0.21      0.21        14\n        1451       0.90      0.38      0.53        24\n        1452       0.93      0.76      0.84        17\n        1453       0.67      0.67      0.67        15\n        1455       0.71      0.75      0.73        20\n        1456       0.44      0.44      0.44        18\n        1457       0.38      1.00      0.55        13\n        1458       0.57      0.17      0.27        23\n        1459       0.22      0.21      0.22        19\n        1460       0.39      0.68      0.50        19\n        1461       0.15      0.60      0.24        10\n        1462       0.26      0.35      0.30        17\n        1463       0.00      0.00      0.00        17\n        1465       1.00      0.17      0.29         6\n        1467       1.00      0.56      0.71        18\n        1468       0.60      0.50      0.55        18\n        1469       0.29      0.25      0.27        16\n        1470       0.27      0.64      0.38        11\n        1471       0.53      0.50      0.52        16\n        1473       1.00      0.11      0.20        18\n        1474       0.62      0.53      0.57        19\n        1476       0.29      0.36      0.32        14\n        1477       1.00      0.37      0.54        27\n        1480       0.27      0.17      0.21        18\n        1483       0.29      0.14      0.19        14\n        1484       0.29      0.09      0.14        22\n        1485       0.57      0.17      0.26        24\n        1486       0.29      0.68      0.41        19\n        1488       0.24      0.56      0.34        18\n        1489       1.00      0.33      0.50        18\n        1490       0.00      0.00      0.00        16\n        1491       0.50      0.07      0.13        27\n        1492       0.67      0.62      0.65        16\n        1494       0.80      0.19      0.31        21\n        1495       0.50      0.24      0.32        17\n        1496       0.00      0.00      0.00        16\n        1499       0.16      0.50      0.24        12\n        1500       1.00      0.12      0.22         8\n        1502       0.67      0.17      0.28        23\n        1503       0.08      0.11      0.09        19\n        1504       0.36      0.53      0.43        15\n        1505       0.25      0.05      0.08        20\n        1506       0.46      0.38      0.41        16\n        1509       0.42      0.33      0.37        15\n        1510       0.17      0.25      0.20        12\n        1511       1.00      0.06      0.11        18\n        1512       0.17      0.07      0.10        15\n        1513       0.00      0.00      0.00        17\n        1514       0.10      0.19      0.13        16\n        1516       0.30      0.12      0.18        24\n        1518       0.50      0.89      0.64        18\n        1519       0.41      0.52      0.46        21\n        1520       1.00      0.04      0.08        23\n        1521       0.38      0.74      0.50        23\n        1522       0.50      0.43      0.46        14\n        1523       1.00      0.15      0.26        20\n        1524       0.25      0.53      0.34        15\n        1525       0.15      0.20      0.17        20\n        1526       0.22      0.27      0.24        15\n        1527       0.29      0.15      0.20        13\n        1528       0.56      0.50      0.53        10\n        1529       0.55      0.32      0.40        19\n        1531       0.18      0.64      0.29        14\n        1532       0.80      0.33      0.47        24\n        1533       0.27      0.55      0.36        22\n        1534       0.08      0.07      0.07        15\n        1535       0.29      0.71      0.41        17\n        1536       0.00      0.00      0.00        20\n        1537       0.39      0.53      0.45        17\n        1538       0.06      0.11      0.08        18\n        1539       0.10      0.44      0.17         9\n        1540       0.19      0.56      0.29        16\n        1541       0.10      0.14      0.12        14\n        1542       0.33      0.10      0.15        20\n        1545       0.58      0.88      0.70        17\n        1547       0.18      0.54      0.27        13\n        1548       0.74      0.70      0.72        20\n        1550       0.38      0.48      0.43        21\n        1551       0.25      0.33      0.29        12\n        1552       1.00      0.21      0.35        19\n        1553       0.18      0.13      0.15        15\n        1554       1.00      0.06      0.11        18\n        1555       0.67      0.18      0.29        22\n        1556       1.00      0.39      0.56        18\n        1557       0.72      0.52      0.60        25\n        1558       0.63      0.89      0.74        19\n        1559       0.88      0.28      0.42        25\n        1560       0.70      0.41      0.52        17\n        1561       0.33      0.06      0.11        16\n        1563       0.45      0.72      0.55        18\n        1564       0.76      0.59      0.67        22\n        1565       0.78      0.69      0.73        26\n        1566       0.86      0.30      0.44        20\n        1567       0.62      0.76      0.68        17\n        1568       0.40      0.11      0.17        19\n        1569       0.83      0.50      0.62        20\n        1570       0.36      0.93      0.52        14\n        1571       0.65      0.58      0.61        19\n        1572       0.60      0.86      0.71        14\n        1573       0.86      0.30      0.44        20\n        1575       0.53      0.75      0.62        12\n        1576       0.80      0.18      0.30        22\n        1577       1.00      0.68      0.81        19\n        1579       0.67      0.13      0.22        15\n        1580       0.00      0.00      0.00        14\n        1581       1.00      0.23      0.37        22\n        1582       0.47      0.83      0.60        18\n        1583       0.58      0.37      0.45        19\n        1584       0.40      0.29      0.33        14\n        1585       0.39      0.47      0.42        15\n        1586       0.31      0.59      0.41        17\n        1587       0.33      0.05      0.08        22\n        1588       0.41      0.43      0.42        21\n        1589       0.47      0.33      0.39        24\n        1590       0.69      0.79      0.73        14\n        1591       0.40      0.09      0.14        23\n        1592       0.44      0.50      0.47         8\n        1593       0.40      0.47      0.43        17\n        1594       0.50      0.37      0.42        19\n        1595       0.67      0.38      0.48        21\n        1596       0.87      0.81      0.84        16\n        1597       0.55      0.29      0.37        21\n        1598       0.18      0.81      0.30        21\n        1599       0.75      0.53      0.62        17\n        1600       0.25      0.38      0.30        16\n        1601       1.00      0.07      0.12        15\n        1602       0.43      0.64      0.51        14\n        1603       0.39      0.80      0.52        15\n        1604       0.29      0.35      0.32        20\n        1605       0.24      0.62      0.35        16\n        1606       1.00      0.21      0.35        19\n        1607       0.33      0.06      0.11        16\n        1608       0.69      0.41      0.51        22\n        1611       0.47      0.47      0.47        15\n        1612       0.00      0.00      0.00        19\n        1613       0.60      0.47      0.53        19\n        1614       0.38      0.20      0.26        15\n        1615       0.25      0.36      0.29        14\n        1616       0.91      0.77      0.83        26\n        1617       0.67      0.27      0.39        22\n        1618       0.74      0.82      0.78        17\n        1619       0.80      1.00      0.89        16\n        1620       0.33      0.38      0.35        16\n        1621       0.50      0.14      0.21        22\n        1622       0.46      0.38      0.41        16\n        1623       0.50      0.80      0.62        15\n        1624       0.50      0.88      0.64        16\n        1625       0.64      0.32      0.42        22\n        1627       0.43      0.60      0.50        15\n        1628       0.18      0.10      0.13        20\n        1629       0.14      0.05      0.07        21\n        1630       0.80      0.22      0.35        18\n        1631       0.52      0.60      0.56        20\n        1632       1.00      0.11      0.20         9\n        1633       0.00      0.00      0.00        18\n        1634       0.67      0.19      0.30        21\n        1635       0.57      0.27      0.36        15\n        1636       0.20      0.05      0.08        21\n        1638       0.03      0.08      0.05        12\n        1639       0.36      0.59      0.44        17\n        1640       0.27      0.81      0.40        21\n        1641       0.17      0.11      0.13        18\n        1642       0.70      0.32      0.44        22\n        1645       0.14      0.21      0.17        14\n        1646       0.29      0.38      0.32        16\n        1647       0.52      1.00      0.68        14\n        1648       0.61      0.74      0.67        23\n        1649       0.80      0.47      0.59        17\n        1650       0.73      0.94      0.82        17\n        1651       0.60      0.95      0.73        19\n        1652       0.57      0.47      0.52        17\n        1653       0.13      0.40      0.20        10\n        1654       0.71      0.26      0.38        19\n        1656       0.35      0.30      0.32        20\n        1657       0.33      0.07      0.11        15\n        1658       0.65      0.48      0.55        23\n        1659       0.41      0.88      0.56        16\n        1660       0.50      0.58      0.54        19\n        1661       0.70      0.35      0.47        20\n        1662       0.00      0.00      0.00        22\n        1663       0.67      0.25      0.36        16\n        1664       0.18      0.12      0.15        16\n        1665       0.65      0.69      0.67        16\n        1666       0.40      0.11      0.17        18\n        1667       0.00      0.00      0.00        24\n        1668       0.19      0.18      0.18        17\n        1669       0.67      0.88      0.76        16\n        1670       0.56      0.43      0.49        21\n        1671       0.30      0.15      0.20        20\n        1672       0.50      0.17      0.25        12\n        1673       1.00      0.21      0.35        19\n        1674       0.83      0.25      0.38        20\n        1675       0.44      0.30      0.36        23\n        1676       0.10      0.36      0.15        11\n        1677       0.38      1.00      0.55        11\n        1678       0.50      0.31      0.38        13\n        1679       0.45      1.00      0.62        14\n        1680       0.75      0.38      0.50        16\n        1681       0.38      0.64      0.47        14\n        1682       0.37      0.88      0.52        16\n        1683       0.53      0.56      0.55        16\n        1684       0.50      0.40      0.44        15\n        1685       0.35      0.39      0.37        18\n        1686       0.60      0.12      0.21        24\n        1687       0.36      0.33      0.34        15\n        1697       0.53      0.95      0.68        22\n        1698       0.83      0.45      0.59        11\n        1699       0.48      0.45      0.47        22\n        1727       0.86      0.33      0.48        18\n        1728       0.67      0.12      0.21        16\n        1746       0.36      0.25      0.29        20\n        1754       0.43      0.14      0.21        21\n        1755       0.10      0.38      0.16         8\n        1756       0.50      0.20      0.29        15\n        1757       0.67      0.45      0.54        22\n        1758       0.00      0.00      0.00        22\n        1760       0.72      0.81      0.76        16\n        1761       0.24      0.29      0.26        17\n        1762       0.78      0.88      0.82        16\n        1763       0.85      0.55      0.67        20\n        1764       0.60      0.15      0.24        20\n        1765       0.89      0.76      0.82        21\n        1768       0.44      0.44      0.44        18\n        1769       0.56      0.38      0.45        13\n        1771       0.71      0.96      0.81        23\n        1774       0.89      0.62      0.73        26\n        1775       0.55      0.23      0.32        26\n        1777       0.35      0.95      0.51        19\n        1778       1.00      0.07      0.12        15\n        1779       0.68      0.95      0.79        20\n        1780       0.58      0.64      0.61        22\n        1781       0.50      0.43      0.46        21\n        1782       0.29      0.94      0.45        16\n        1783       0.48      0.59      0.53        22\n        1784       0.56      0.40      0.47        25\n        1785       0.52      0.67      0.59        18\n        1786       0.32      0.44      0.37        16\n        1787       0.50      0.13      0.21        15\n        1788       0.44      0.42      0.43        19\n        1789       0.75      0.38      0.50         8\n        1790       0.64      0.93      0.76        15\n        1791       1.00      0.17      0.29        12\n        1792       0.75      0.47      0.58        19\n        1793       0.56      0.48      0.51        21\n        1794       0.44      0.80      0.57        15\n        1795       0.29      0.45      0.36        11\n        1796       0.55      0.55      0.55        11\n        1797       0.62      0.94      0.74        17\n        1798       0.00      0.00      0.00        20\n        1799       0.50      0.12      0.20        16\n        1800       0.62      0.80      0.70        20\n        1801       0.61      0.86      0.72        22\n        1802       0.69      0.36      0.47        25\n        1803       0.30      0.58      0.40        12\n        1804       0.84      0.89      0.86        18\n        1806       1.00      0.50      0.67         2\n        1808       0.71      0.62      0.67        16\n        1809       0.52      0.88      0.65        17\n        1810       0.29      0.36      0.32        14\n        1811       0.21      0.27      0.24        15\n        1812       0.50      1.00      0.67        14\n        1813       0.43      0.84      0.57        19\n        1815       0.37      0.45      0.41        22\n        1816       0.74      0.85      0.79        20\n        1821       0.71      0.71      0.71        21\n        1822       0.50      0.33      0.40        12\n        1824       0.42      0.28      0.33        18\n        1825       0.30      0.38      0.33        16\n        1826       0.32      0.84      0.46        19\n        1827       0.59      0.65      0.62        20\n        1828       0.31      0.45      0.37        11\n        1829       0.36      0.55      0.44        22\n        1830       0.20      0.14      0.17        14\n        1831       0.40      0.42      0.41        19\n        1832       0.40      0.13      0.20        15\n        1833       0.89      0.36      0.52        22\n        1834       1.00      0.18      0.31        22\n        1835       0.28      0.28      0.28        18\n        1836       0.33      0.20      0.25        20\n        1837       0.20      0.40      0.27        15\n        1838       0.26      0.53      0.35        15\n        1839       0.33      0.26      0.29        23\n        1840       0.48      0.87      0.62        15\n        1843       0.31      0.29      0.30        17\n        1844       0.43      0.81      0.57        16\n        1845       0.23      0.33      0.27        15\n        1846       0.33      0.17      0.22        18\n        1847       0.25      0.08      0.12        12\n        1848       0.71      0.24      0.36        21\n        1849       0.27      0.45      0.34        22\n        1851       0.50      0.58      0.54        19\n        1852       0.24      0.25      0.24        16\n        1853       0.50      0.05      0.08        22\n        1854       0.57      0.17      0.27        23\n        1855       0.15      0.10      0.12        20\n        1857       0.17      0.10      0.12        20\n        1858       0.60      0.75      0.67        16\n        1859       0.82      0.70      0.76        20\n        1860       0.26      0.38      0.31        13\n        1861       0.81      0.89      0.85        19\n        1862       0.00      0.00      0.00        17\n        1863       0.50      0.10      0.17        20\n        1864       0.56      0.62      0.59        16\n        1865       0.38      0.55      0.44        11\n        1866       0.20      0.05      0.07        22\n        1867       0.91      0.87      0.89        23\n        1868       0.50      0.44      0.47        18\n        1869       0.25      0.42      0.31        12\n        1870       0.46      0.89      0.60        18\n        1871       0.82      0.75      0.78        12\n        1872       1.00      0.10      0.17        21\n        1873       0.87      0.50      0.63        26\n        1874       0.00      0.00      0.00        22\n        1875       0.67      0.10      0.17        21\n        1876       0.83      0.94      0.88        16\n        1877       0.83      0.26      0.40        19\n        1878       0.92      0.79      0.85        14\n        1879       0.48      0.73      0.58        15\n        1881       0.79      0.90      0.84        21\n        1883       0.35      0.93      0.51        15\n        1884       0.71      0.89      0.79        19\n        1886       0.68      0.91      0.78        23\n        1888       0.53      0.59      0.56        17\n        1889       0.08      0.69      0.15        13\n        1890       0.59      0.76      0.67        21\n        1891       0.61      0.73      0.67        15\n        1893       0.42      0.33      0.37        15\n        1894       0.89      0.80      0.84        20\n        1895       0.83      0.25      0.38        20\n        1896       0.44      0.78      0.56        18\n        1898       0.50      1.00      0.67        15\n        1899       0.60      0.38      0.46        16\n        1900       0.39      0.53      0.45        17\n        1901       0.22      0.77      0.34        13\n        1902       0.34      0.71      0.47        14\n        1903       0.80      0.44      0.57        18\n        1904       0.67      0.71      0.69        17\n        1905       0.79      0.65      0.71        17\n        1909       0.33      0.32      0.32        19\n        1910       0.66      0.86      0.75        22\n        1911       0.68      0.94      0.79        16\n        1912       0.80      0.57      0.67        21\n        1913       0.74      0.88      0.80        16\n        1915       0.29      0.09      0.14        22\n        1916       0.42      0.78      0.55        18\n        1917       1.00      0.09      0.17        11\n        1918       0.42      0.81      0.55        16\n        1919       0.57      0.62      0.59        13\n        1920       0.44      0.93      0.60        15\n        1921       0.38      1.00      0.55        13\n        1922       0.42      0.73      0.53        11\n        1923       0.75      0.78      0.76        27\n        1924       0.33      0.73      0.46        15\n        1925       0.40      0.32      0.35        19\n        1926       0.89      0.70      0.78        23\n        1929       0.69      0.83      0.75        29\n        1930       0.40      0.38      0.39        16\n        1931       0.58      0.58      0.58        24\n        1932       0.50      0.50      0.50        14\n        1933       0.65      0.71      0.68        21\n        1934       0.31      0.33      0.32        15\n        1935       0.59      0.48      0.53        21\n        1936       0.52      0.57      0.55        21\n        1937       0.64      0.39      0.49        23\n        1938       0.41      0.47      0.44        19\n        1939       0.39      0.58      0.47        12\n        1940       0.00      0.00      0.00        11\n        1941       0.62      0.82      0.71        22\n        1942       0.33      0.24      0.28        25\n        1943       0.50      0.13      0.21        23\n        1944       0.50      0.15      0.24        13\n        1945       0.24      1.00      0.39        11\n        1946       0.27      0.17      0.21        23\n        1947       0.50      0.20      0.29        20\n        1948       0.50      0.05      0.09        21\n        1949       0.38      0.42      0.40        19\n        1950       0.61      0.73      0.67        15\n        1951       0.61      0.92      0.73        24\n        1952       0.55      0.50      0.52        12\n        1953       0.33      0.43      0.38        14\n        1954       0.36      0.64      0.46        14\n        1955       0.50      0.14      0.22        21\n        1956       0.29      0.60      0.39        20\n        1957       0.48      0.71      0.57        17\n        1958       0.20      0.38      0.26        13\n        1959       0.22      0.36      0.28        11\n        1960       0.60      0.18      0.27        17\n        1961       0.62      0.50      0.55        16\n        1962       1.00      0.18      0.31        22\n        1963       0.89      0.92      0.91        26\n        1964       0.36      0.69      0.47        13\n        1965       0.50      0.81      0.62        16\n        1966       0.80      0.80      0.80        15\n        1967       0.78      0.32      0.45        22\n        1970       0.61      0.74      0.67        19\n        1972       1.00      0.25      0.40        16\n        1973       0.30      0.79      0.43        14\n        1974       0.60      0.53      0.56        17\n        1975       0.61      0.82      0.70        17\n        1976       0.50      0.94      0.65        16\n        1977       0.71      0.85      0.77        20\n        1978       0.80      0.19      0.31        21\n        1979       0.90      0.45      0.60        20\n        1980       0.88      0.70      0.78        20\n        1981       0.50      0.75      0.60        16\n        1982       0.57      0.50      0.53        16\n        1983       0.50      0.60      0.55        15\n        1984       0.69      0.53      0.60        17\n        1985       0.31      0.75      0.44        12\n        1986       0.50      0.35      0.41        17\n        1987       0.46      0.46      0.46        13\n        1988       0.45      0.42      0.43        12\n        1992       0.48      0.78      0.60        18\n        1994       0.62      0.75      0.68        20\n        1995       0.92      0.58      0.71        19\n        1996       1.00      0.20      0.33         5\n        1999       0.50      0.58      0.54        12\n        2001       0.57      1.00      0.72        17\n        2003       0.65      0.69      0.67        16\n        2006       0.53      0.95      0.68        19\n        2007       0.47      0.53      0.50        17\n        2008       0.22      0.43      0.29        14\n        2009       0.47      0.47      0.47        19\n        2010       0.17      0.85      0.29        13\n        2011       0.00      0.00      0.00        21\n        2012       0.67      0.62      0.65        16\n        2013       0.78      0.29      0.42        24\n        2015       0.86      0.35      0.50        17\n        2016       0.65      1.00      0.79        13\n        2017       0.82      0.43      0.56        21\n        2018       0.84      0.76      0.80        21\n        2021       0.89      0.73      0.80        22\n        2024       0.58      1.00      0.73        15\n        2026       0.55      0.86      0.67        14\n        2035       0.78      1.00      0.88        18\n        2038       0.65      0.69      0.67        16\n        2042       0.88      0.83      0.86        18\n        2043       0.88      0.94      0.91        16\n        2044       0.92      1.00      0.96        12\n        2046       0.69      1.00      0.81        11\n        2051       0.77      0.83      0.80        12\n        2052       0.61      0.67      0.64        21\n        2054       0.28      0.54      0.37        13\n        2055       0.24      0.91      0.38        11\n        2056       0.59      0.42      0.49        24\n        2057       0.71      0.23      0.34        22\n        2058       0.36      0.38      0.37        21\n        2059       0.65      0.81      0.72        16\n        2060       0.27      0.80      0.41        15\n        2061       0.72      0.65      0.68        20\n        2062       0.64      0.78      0.70        18\n        2063       0.65      0.65      0.65        20\n        2064       0.64      0.80      0.71        20\n        2067       0.60      0.63      0.62        19\n        2070       0.67      0.58      0.62        24\n        2071       0.40      0.50      0.44        16\n        2072       0.30      0.17      0.21        18\n        2078       0.16      0.44      0.24         9\n        2079       0.60      0.30      0.40        20\n        2080       0.49      1.00      0.66        22\n        2081       0.38      0.64      0.47        14\n        2084       0.30      0.18      0.22        17\n        2085       0.59      1.00      0.74        16\n        2086       0.91      0.56      0.69        18\n        2087       0.36      0.77      0.49        13\n        2088       0.58      0.84      0.69        25\n        2089       0.70      0.67      0.68        21\n        2091       0.39      1.00      0.56        14\n        2092       0.28      0.77      0.41        13\n        2097       0.41      0.35      0.38        20\n        2098       0.74      0.74      0.74        19\n        2099       0.68      0.89      0.77        19\n        2101       1.00      0.62      0.77         8\n        2102       0.46      0.61      0.52        18\n        2103       0.41      1.00      0.58         9\n        2107       0.32      0.79      0.46        14\n        2108       0.74      0.85      0.79        20\n        2113       0.36      0.63      0.46        19\n        2114       0.29      0.50      0.36        16\n        2115       0.60      0.18      0.27        17\n        2116       0.67      0.76      0.71        21\n        2117       0.61      0.80      0.69        25\n        2118       0.50      0.35      0.41        17\n        2119       0.47      0.64      0.55        14\n        2122       0.00      0.00      0.00        15\n        2123       0.82      0.50      0.62        18\n        2124       0.44      0.21      0.29        19\n        2125       0.31      0.24      0.27        21\n        2126       0.67      0.32      0.43        19\n        2127       1.00      0.39      0.56        18\n        2128       0.56      0.75      0.64        12\n        2129       0.60      0.82      0.69        11\n        2130       0.35      0.69      0.47        16\n        2132       0.32      0.56      0.41        16\n        2134       0.26      0.48      0.34        21\n        2136       0.08      0.14      0.10        14\n        2137       0.21      0.24      0.22        17\n        2140       0.52      0.59      0.55        22\n        2141       0.57      0.57      0.57        21\n        2142       0.00      0.00      0.00        18\n        2146       0.53      0.62      0.57        16\n        2147       0.73      0.73      0.73        15\n        2149       0.30      0.53      0.38        17\n        2151       0.57      0.25      0.35        16\n        2153       0.92      0.48      0.63        23\n        2154       0.37      1.00      0.54        17\n        2159       0.43      0.94      0.59        16\n        2160       0.52      0.88      0.65        17\n        2168       0.82      0.64      0.72        22\n        2169       0.24      0.62      0.34        13\n        2170       0.00      0.00      0.00        15\n        2171       0.68      0.48      0.57        27\n        2172       0.52      0.67      0.59        18\n        2173       0.40      0.80      0.53        15\n        2174       0.42      0.67      0.51        15\n        2175       0.61      0.93      0.74        15\n        2176       0.50      0.42      0.46        19\n        2177       0.48      0.60      0.53        20\n        2178       0.54      0.87      0.67        15\n        2179       0.30      0.65      0.41        17\n        2180       1.00      0.45      0.62        22\n        2182       0.62      0.59      0.61        17\n        2183       0.71      0.29      0.42        17\n        2184       0.40      0.32      0.35        19\n        2185       0.62      0.28      0.38        18\n        2186       0.28      0.42      0.33        19\n        2187       0.15      0.10      0.12        20\n        2188       0.43      0.15      0.22        20\n        2189       0.13      0.50      0.21        16\n        2190       0.38      0.16      0.22        19\n        2192       0.26      0.59      0.36        17\n        2193       0.47      0.88      0.61        16\n        2195       0.48      0.50      0.49        22\n        2196       0.12      0.04      0.06        23\n        2198       0.00      0.00      0.00        31\n        2200       0.50      0.14      0.22        21\n        2201       0.22      0.11      0.15        18\n        2202       0.50      0.05      0.10        19\n        2203       0.00      0.00      0.00        17\n        2205       0.64      0.80      0.71        20\n        2206       0.68      0.68      0.68        22\n        2207       0.86      0.46      0.60        13\n        2211       0.70      0.70      0.70        20\n        2212       0.71      0.23      0.34        22\n        2213       0.39      0.70      0.50        10\n        2214       0.22      0.50      0.30        16\n        2216       0.83      0.24      0.37        21\n        2224       0.38      0.75      0.50        12\n        2225       0.35      0.76      0.48        17\n        2230       0.62      0.71      0.67        14\n        2231       0.64      0.41      0.50        22\n        2243       0.40      0.44      0.42        18\n        2279       0.32      0.59      0.41        22\n        2280       0.00      0.00      0.00        14\n        2286       0.28      0.48      0.35        23\n        2287       0.38      0.56      0.45        16\n        2288       0.50      0.53      0.51        17\n        2289       0.75      0.55      0.63        11\n        2290       0.50      0.75      0.60        20\n        2291       0.75      0.60      0.67        20\n        2292       0.81      0.89      0.85        19\n        2295       0.93      0.64      0.76        22\n        2296       0.52      0.65      0.58        17\n        2297       0.33      0.76      0.46        17\n        2298       0.59      0.83      0.69        23\n        2301       0.38      0.27      0.32        11\n        2306       0.84      0.67      0.74        24\n        2308       0.25      0.23      0.24        13\n        2309       0.46      1.00      0.63        17\n        2310       0.56      0.68      0.61        22\n        2311       0.20      0.83      0.32        12\n        2312       0.60      0.63      0.62        19\n        2313       0.83      0.71      0.77        28\n        2314       1.00      0.06      0.11        18\n        2315       0.41      0.44      0.42        16\n        2316       0.75      0.86      0.80        14\n        2321       0.48      1.00      0.65        14\n        2324       0.74      0.82      0.78        17\n        2325       0.50      0.18      0.27        22\n        2326       0.38      0.33      0.35        18\n        2333       0.50      0.86      0.63        14\n        2334       0.58      0.90      0.70        21\n        2335       0.80      0.55      0.65        22\n        2336       0.67      0.86      0.75        21\n        2337       0.65      0.83      0.73        18\n        2338       0.86      0.80      0.83        15\n        2339       0.85      1.00      0.92        23\n        2340       0.52      0.94      0.67        16\n        2343       0.70      0.78      0.74         9\n        2346       0.75      1.00      0.86         9\n        2347       0.75      0.75      0.75        12\n        2348       0.82      0.82      0.82        22\n        2349       0.77      0.83      0.80        12\n        2350       0.52      0.70      0.60        20\n        2351       0.87      0.62      0.72        21\n        2352       0.80      0.57      0.67         7\n        2353       0.52      0.78      0.62        18\n        2354       0.54      0.35      0.42        20\n        2355       0.78      0.70      0.74        20\n        2356       0.62      0.26      0.37        19\n        2357       0.47      0.69      0.56        13\n        2358       1.00      0.17      0.29        18\n        2360       0.58      0.79      0.67        19\n        2363       1.00      0.12      0.21        17\n        2364       0.50      0.32      0.39        19\n        2365       0.50      0.68      0.58        19\n        2366       0.39      0.79      0.52        14\n        2367       0.48      0.65      0.55        20\n        2368       0.44      0.69      0.54        16\n        2369       0.88      0.88      0.88        16\n        2370       1.00      0.20      0.33        25\n        2371       0.62      0.95      0.75        21\n        2372       0.75      0.88      0.81        17\n        2373       0.82      0.64      0.72        22\n        2377       0.77      0.85      0.81        20\n        2379       0.68      0.88      0.77        17\n        2381       1.00      0.92      0.96        12\n        2383       0.56      1.00      0.71        10\n        2385       0.89      0.73      0.80        22\n        2386       0.67      0.38      0.48        21\n        2387       0.86      0.50      0.63        24\n        2388       0.76      0.73      0.74        22\n        2389       0.84      0.89      0.86        18\n        2390       0.29      0.69      0.41        16\n        2392       0.59      0.93      0.72        14\n        2393       0.56      0.69      0.62        13\n        2394       0.50      0.44      0.47        18\n        2395       0.57      0.36      0.44        22\n        2396       0.28      0.94      0.44        18\n        2397       0.30      0.61      0.40        18\n        2398       0.44      0.69      0.54        16\n        2399       0.21      0.86      0.34        14\n        2400       0.30      0.23      0.26        13\n        2401       0.73      0.83      0.78        23\n        2402       0.56      0.58      0.57        24\n        2403       0.30      1.00      0.46        16\n        2404       0.88      0.70      0.78        20\n        2405       0.60      0.56      0.58        16\n        2531       0.93      0.67      0.78        21\n        2532       0.31      0.29      0.30        14\n        2533       0.24      0.69      0.36        13\n        2534       0.45      0.36      0.40        14\n        2535       0.25      0.90      0.39        10\n        2537       0.36      0.53      0.43        17\n        2538       0.50      0.50      0.50        18\n        2539       0.65      0.65      0.65        17\n        2540       0.45      0.53      0.49        19\n        2638       0.62      0.59      0.60        22\n        2639       0.72      1.00      0.84        18\n        2640       0.24      0.40      0.30        15\n        2641       0.45      0.53      0.49        19\n        2642       0.83      0.67      0.74        15\n        2643       0.30      0.33      0.32        18\n        2644       0.77      0.94      0.85        18\n        2645       0.28      0.70      0.40        10\n        2652       0.43      0.81      0.57        16\n        2653       0.29      0.17      0.21        12\n        2654       0.88      0.58      0.70        24\n        2664       0.71      0.79      0.75        19\n        2665       0.55      0.73      0.63        15\n        2666       0.71      0.59      0.65        17\n        2667       0.63      0.57      0.60        21\n        2781       0.60      0.16      0.25        19\n        2782       0.33      0.67      0.44         9\n        2783       0.46      0.80      0.59        15\n        2784       0.50      0.35      0.41        17\n        2785       0.65      0.68      0.67        22\n        2786       0.26      0.30      0.28        20\n        2787       1.00      0.12      0.22        24\n        2788       0.48      0.61      0.54        18\n        2789       0.50      0.40      0.44        15\n        2790       0.86      0.63      0.73        19\n        2791       0.50      0.05      0.09        20\n        2792       0.67      0.95      0.78        19\n        2793       1.00      0.42      0.59        12\n        2804       1.00      0.12      0.22        16\n        2808       0.31      0.21      0.25        19\n        2809       0.16      0.26      0.20        19\n        2810       0.71      0.87      0.78        23\n        2811       0.55      0.48      0.51        23\n        2813       0.35      0.75      0.47        12\n        2814       0.71      0.62      0.67        16\n        2815       0.10      0.06      0.07        17\n        2818       0.56      0.67      0.61        15\n        2819       0.00      0.00      0.00         9\n        2820       0.49      0.95      0.64        19\n        2821       0.44      0.92      0.59        12\n        2826       0.17      0.40      0.24        20\n        2828       0.46      0.92      0.62        13\n        2830       0.55      0.84      0.67        19\n        2831       0.50      0.04      0.07        28\n        2833       0.22      0.27      0.24        15\n        2835       0.67      0.20      0.31        20\n        2836       0.57      0.76      0.65        17\n        2837       0.57      0.55      0.56        22\n        2838       0.12      0.42      0.18        12\n        2839       0.45      0.56      0.50        16\n        2842       0.29      0.18      0.22        11\n        2843       0.33      0.06      0.11        16\n        2844       0.20      0.23      0.21        13\n        2845       0.67      0.80      0.73        25\n        2847       0.67      0.77      0.71        13\n        2848       0.88      0.33      0.48        21\n        2849       1.00      0.85      0.92        20\n        2850       0.60      0.79      0.68        19\n        2851       0.52      0.76      0.62        21\n        2852       0.57      1.00      0.72        17\n        2853       0.06      0.06      0.06        16\n        2854       0.19      0.88      0.31         8\n        2855       1.00      0.05      0.09        21\n        2856       0.41      0.75      0.53        16\n        2858       0.00      0.00      0.00        21\n        2861       0.92      0.52      0.67        23\n        2862       0.44      0.73      0.55        11\n        2867       0.75      0.82      0.78        22\n        2868       0.55      0.75      0.63        16\n        2869       0.50      0.29      0.37        17\n        2885       0.50      0.24      0.32        21\n        2887       0.36      0.62      0.46        13\n        2889       0.80      0.15      0.25        27\n        2895       0.93      0.54      0.68        24\n        2896       0.41      0.56      0.47        16\n        2897       0.40      0.21      0.28        19\n        2898       0.20      0.08      0.11        13\n        2899       0.88      0.28      0.42        25\n        2900       0.25      0.06      0.09        18\n        2901       0.54      0.81      0.65        16\n        2903       0.60      0.50      0.55        18\n        2904       0.65      0.69      0.67        16\n        2905       0.43      0.71      0.53        17\n        2906       0.67      0.48      0.56        25\n        2907       0.86      0.92      0.89        13\n        2909       0.58      0.58      0.58        12\n        2910       0.40      0.47      0.43        17\n        2911       0.15      0.11      0.13        18\n        2912       0.40      1.00      0.58        17\n        2913       0.86      0.48      0.62        25\n        2914       0.00      0.00      0.00        17\n        2915       0.50      0.05      0.10        19\n        2917       0.71      0.59      0.65        17\n        2918       1.00      0.35      0.52        17\n        2919       0.22      0.56      0.31        18\n        2920       0.67      0.29      0.40        14\n        2921       0.64      0.95      0.77        19\n        2922       0.37      0.73      0.49        15\n        2923       0.88      0.48      0.62        29\n        2924       0.75      0.47      0.58        19\n        2925       0.69      0.79      0.73        14\n        2926       0.88      0.82      0.85        17\n        2927       0.28      0.81      0.42        16\n        2928       0.64      0.90      0.75        20\n        2929       0.20      0.10      0.13        20\n        2930       0.85      0.55      0.67        20\n        2931       0.92      0.50      0.65        24\n        6053       0.44      0.42      0.43        19\n        6054       0.36      0.47      0.41        17\n        6055       0.33      1.00      0.50        12\n        6056       0.35      0.75      0.47        12\n        6057       0.64      0.47      0.55        19\n        6058       0.56      0.94      0.70        16\n        6059       0.78      0.26      0.39        27\n        6060       0.21      0.47      0.29        15\n        6061       0.27      0.36      0.31        11\n        6064       0.54      0.74      0.62        19\n        6065       0.75      0.35      0.48        17\n        6067       0.65      0.73      0.69        15\n        6068       0.58      0.79      0.67        14\n        6069       0.59      0.56      0.57        18\n        6070       0.41      0.60      0.49        15\n        6072       0.55      0.67      0.60        18\n        6074       0.31      0.55      0.40        20\n        6075       0.41      0.71      0.52        17\n        6076       0.50      0.47      0.48        17\n        6077       0.29      1.00      0.45        12\n        6078       0.75      0.23      0.35        26\n        6079       0.58      0.44      0.50        16\n        6080       0.16      0.27      0.20        15\n        6081       0.53      0.45      0.49        20\n        6082       0.82      0.74      0.78        19\n        6083       0.45      0.43      0.44        21\n        6084       0.53      0.56      0.54        18\n        6085       0.42      0.94      0.58        17\n        6086       0.44      0.50      0.47        16\n        6087       0.35      0.39      0.37        18\n        6088       0.78      0.33      0.47        21\n        6089       0.67      0.76      0.71        21\n        6090       0.80      0.38      0.52        21\n        6091       0.25      0.81      0.38        16\n        6093       0.33      0.93      0.49        15\n        6094       0.74      0.74      0.74        19\n        6095       0.79      0.83      0.81        18\n        6096       0.67      0.32      0.43        19\n        6098       0.50      0.62      0.56        16\n        6099       0.67      0.82      0.74        17\n        6100       0.47      0.53      0.50        17\n        6102       0.44      0.60      0.51        20\n        6103       0.83      0.65      0.73        23\n        6104       0.53      0.86      0.65        21\n        6108       0.71      0.68      0.70        22\n        6109       0.33      0.33      0.33        12\n        6110       0.00      0.00      0.00        19\n        6112       0.54      0.79      0.64        19\n        6114       0.17      0.33      0.23        15\n        6115       0.69      0.46      0.55        24\n        6116       0.68      0.95      0.79        20\n        6121       0.52      0.68      0.59        22\n        6122       0.45      0.50      0.47        18\n        6123       0.63      0.60      0.62        20\n        6217       0.56      0.50      0.53        18\n        6218       0.00      0.00      0.00        12\n        6219       0.00      0.00      0.00        24\n        6220       0.00      0.00      0.00        20\n        6221       1.00      0.11      0.19        19\n        6223       0.83      0.59      0.69        17\n        6224       0.46      0.55      0.50        20\n        6225       0.67      0.50      0.57         4\n        6227       0.73      0.58      0.65        19\n        6229       0.30      0.23      0.26        13\n        6231       0.59      0.62      0.61        16\n        6232       1.00      0.14      0.25        14\n        6233       0.67      0.24      0.35        17\n        6234       0.29      0.42      0.34        12\n        6235       0.00      0.00      0.00        24\n        6236       0.75      0.18      0.29        17\n        6237       0.75      0.17      0.27        18\n        6238       1.00      0.15      0.26        20\n        6239       0.56      0.24      0.33        21\n        6240       0.67      0.07      0.13        27\n        6241       1.00      0.11      0.19        28\n        6242       0.83      0.31      0.45        16\n        6243       0.47      0.57      0.52        14\n        6245       0.80      0.27      0.40        15\n        6246       1.00      0.24      0.38        17\n        6248       0.18      0.62      0.28         8\n        6252       0.40      0.25      0.31        16\n        6253       0.44      0.82      0.57        17\n        6255       0.60      0.82      0.69        11\n        6256       0.75      0.27      0.40        11\n        6257       0.85      0.46      0.59        24\n        6258       0.23      0.78      0.35         9\n        6259       0.68      0.79      0.73        19\n        6262       0.74      0.77      0.76        22\n        6264       0.81      0.76      0.79        17\n        6265       1.00      0.61      0.76        18\n        6267       0.24      0.40      0.30        20\n        6268       0.53      0.47      0.50        17\n        6269       0.60      0.75      0.67        12\n        6270       0.39      0.76      0.52        21\n        6271       0.62      0.87      0.72        15\n        6272       0.85      0.61      0.71        18\n        6273       0.85      0.52      0.65        21\n        6274       1.00      0.50      0.67         8\n        6275       0.77      0.59      0.67        17\n        6276       0.50      0.88      0.64        16\n        6277       1.00      0.15      0.27        13\n        6279       0.77      0.53      0.62        19\n        6280       0.74      0.82      0.78        17\n        6281       0.26      0.47      0.33        15\n        6282       0.67      0.11      0.19        18\n        6283       0.23      0.62      0.33        13\n        6284       0.42      0.26      0.32        19\n        6285       0.79      0.62      0.70        24\n        6286       0.28      0.79      0.42        14\n        6287       0.69      0.46      0.55        24\n        6288       0.53      0.69      0.60        13\n        6289       0.44      0.38      0.41        21\n        6290       0.81      0.76      0.79        17\n        6291       0.33      0.05      0.09        19\n        6292       0.72      0.57      0.63        23\n        6293       0.69      0.80      0.74        25\n        6294       0.64      0.36      0.46        25\n        6295       0.89      0.40      0.55        20\n        6296       0.26      0.59      0.36        17\n        6297       0.68      0.74      0.71        23\n        6298       0.75      0.91      0.82        23\n        6299       0.25      0.85      0.39        13\n        6303       0.00      0.00      0.00        20\n        6305       0.90      0.56      0.69        16\n        6306       0.60      0.30      0.40        20\n        6307       0.25      0.04      0.07        24\n        6308       0.78      0.44      0.56        16\n        6312       0.56      0.43      0.49        21\n        6313       0.50      0.32      0.39        19\n        6315       0.84      0.95      0.89        22\n        6316       1.00      0.64      0.78        14\n        6317       0.93      0.81      0.87        16\n        6319       0.53      0.91      0.67        11\n        6320       0.70      0.86      0.78        22\n        6321       0.64      0.94      0.76        17\n        6333       0.64      0.82      0.72        11\n        6335       1.00      0.29      0.44        21\n        6336       0.52      0.58      0.55        19\n        6338       0.33      0.12      0.18        16\n        6339       0.68      0.81      0.74        21\n        6343       0.67      0.75      0.71        16\n        6345       0.75      0.16      0.26        19\n        6346       0.20      0.13      0.16        15\n        6348       0.50      0.06      0.11        17\n        6350       0.57      0.57      0.57        23\n        6352       0.55      0.73      0.63        22\n        6353       0.64      0.82      0.72        22\n        6355       0.40      0.11      0.17        18\n        6356       0.71      0.71      0.71        17\n        6357       0.82      0.58      0.68        24\n        6358       0.30      0.86      0.44        21\n        6359       0.53      0.89      0.67        18\n        6360       0.81      0.76      0.79        17\n        6361       0.27      0.33      0.30        12\n        6362       0.56      0.88      0.68        16\n        6365       0.53      0.62      0.57        16\n        6367       1.00      0.08      0.15        12\n        6368       0.89      0.77      0.83        22\n        6370       0.33      0.11      0.17         9\n        6371       1.00      0.13      0.24        15\n        6372       0.73      0.47      0.57        17\n        6373       0.40      0.80      0.53        20\n        6374       1.00      0.25      0.40        16\n        6375       1.00      0.12      0.21        25\n        6377       0.69      0.48      0.56        23\n        6380       0.76      0.85      0.80        26\n        6381       0.50      0.05      0.10        19\n        6382       0.73      0.55      0.63        20\n        6386       0.57      0.80      0.67        20\n        6387       0.45      0.50      0.48        20\n        6388       0.47      0.50      0.48        14\n        6389       0.45      0.24      0.31        21\n        6391       0.50      0.79      0.61        19\n        6392       0.94      0.88      0.91        17\n        6393       1.00      0.74      0.85        23\n        6394       0.67      0.91      0.77        22\n        6396       0.00      0.00      0.00        17\n        6397       1.00      0.16      0.27        19\n        6398       1.00      0.24      0.38        21\n        6399       0.90      0.78      0.84        23\n        6402       0.35      0.94      0.52        18\n        6404       0.33      0.31      0.32        13\n        6407       0.85      0.69      0.76        16\n        6408       1.00      0.50      0.67        24\n        6410       0.85      0.69      0.76        16\n        6411       0.89      0.84      0.86        19\n        6412       1.00      0.12      0.22        16\n        6415       0.95      0.90      0.92        20\n        6416       0.62      0.44      0.52        18\n        6420       0.79      0.79      0.79        24\n        6422       0.57      1.00      0.73        12\n        6423       0.73      0.55      0.63        20\n        6424       0.40      0.89      0.56        19\n        6426       0.00      0.00      0.00        23\n        6427       0.28      0.53      0.36        15\n        6428       0.53      0.84      0.65        19\n        6429       0.67      0.35      0.46        17\n        6430       0.81      0.59      0.68        22\n        6431       0.80      0.35      0.48        23\n        6432       0.54      0.81      0.65        16\n        6434       0.71      0.56      0.63        18\n        6435       0.58      0.94      0.71        16\n        6436       0.39      0.82      0.53        11\n        6437       0.68      0.88      0.77        17\n        6438       0.39      0.75      0.51        12\n        6439       0.60      0.55      0.57        11\n        6440       0.45      0.60      0.51        15\n        6442       1.00      0.33      0.50        24\n        6443       0.73      0.50      0.59        16\n        6444       0.00      0.00      0.00        19\n        6445       0.00      0.00      0.00        14\n        6450       0.45      0.26      0.33        19\n        6451       0.47      0.47      0.47        17\n        6452       0.32      0.46      0.37        13\n        6453       0.47      0.47      0.47        19\n        6454       0.94      0.68      0.79        22\n        6455       0.67      0.25      0.36        16\n        6464       0.23      0.67      0.34        12\n        6466       0.90      0.53      0.67        17\n        6467       0.63      0.94      0.76        18\n        6468       0.23      0.85      0.37        13\n        6469       0.22      0.50      0.31        12\n        6470       0.54      0.87      0.67        15\n        6472       1.00      0.48      0.65        29\n        6473       0.50      0.44      0.47        16\n        6476       0.81      0.81      0.81        16\n        6477       0.31      0.93      0.46        14\n        6493       0.77      0.77      0.77        13\n        6494       0.94      0.62      0.75        24\n        6495       0.42      1.00      0.60        14\n        6497       0.35      0.79      0.49        14\n        6498       0.92      0.50      0.65        22\n        6499       0.62      1.00      0.77        15\n        6500       0.64      0.95      0.77        19\n        6502       0.58      0.61      0.59        18\n        6503       0.65      1.00      0.79        13\n        6504       0.38      1.00      0.55        11\n        6505       0.86      0.76      0.81        25\n        6506       0.83      0.71      0.77        21\n        6509       0.38      0.56      0.45        16\n        6512       0.45      0.77      0.57        13\n        6531       0.79      0.83      0.81        18\n        6534       0.56      0.88      0.68        17\n        6536       0.41      0.88      0.56        16\n        6540       0.42      0.62      0.50        16\n        6548       0.71      0.62      0.67        16\n        6550       0.44      0.17      0.24        24\n        6551       0.19      0.85      0.31        13\n        6553       0.58      0.33      0.42        21\n        6567       1.00      0.83      0.91        24\n        6576       0.33      0.43      0.38        14\n        6577       0.57      0.65      0.60        20\n        6578       0.38      0.85      0.52        13\n        6579       0.45      0.88      0.60        17\n        6581       0.24      1.00      0.38        15\n        6582       0.48      0.62      0.55        24\n        6584       0.33      0.77      0.47        13\n        6585       0.00      0.00      0.00        16\n        6586       0.75      0.21      0.33        14\n        6589       0.82      0.43      0.56        21\n        6590       0.88      0.64      0.74        11\n        6591       0.93      0.57      0.70        23\n        6592       0.38      0.36      0.37        22\n        6593       0.25      0.05      0.08        21\n        6594       0.31      0.31      0.31        16\n        6595       1.00      0.18      0.30        17\n        6597       0.43      0.25      0.32        12\n        6598       0.38      0.46      0.41        13\n        6599       0.40      0.33      0.36        18\n        6600       0.70      0.88      0.78        16\n        6602       0.81      0.96      0.88        23\n        6604       0.41      0.47      0.44        15\n        6605       0.88      0.67      0.76        21\n        6607       0.22      0.50      0.30        14\n        6611       0.68      0.85      0.76        20\n        6617       0.24      0.44      0.31        16\n        6618       0.67      0.86      0.75        21\n        6619       0.56      0.38      0.45        13\n        6622       0.42      0.69      0.52        16\n        6623       0.39      1.00      0.56        16\n        6625       0.75      0.43      0.55        21\n        6627       0.22      0.14      0.17        14\n        6632       0.94      0.83      0.88        18\n        6636       0.67      0.90      0.77        20\n        6645       0.78      0.64      0.70        11\n        6647       0.57      0.21      0.31        19\n        6648       0.20      0.85      0.33        13\n        6649       0.25      0.29      0.27        14\n        6650       0.53      0.62      0.57        16\n        6651       0.30      0.55      0.39        11\n        6653       0.71      0.89      0.79        19\n        6654       0.31      0.80      0.44        15\n        6655       0.80      0.44      0.57        18\n        6657       0.00      0.00      0.00        13\n        6658       0.79      0.85      0.81        13\n        6659       0.46      0.61      0.52        18\n        6660       0.33      0.70      0.45        10\n        6664       0.60      0.52      0.56        23\n        6665       0.53      1.00      0.69        18\n        6666       0.64      0.82      0.72        17\n        6667       0.48      0.55      0.51        20\n        6668       0.69      0.47      0.56        19\n        6671       0.70      0.29      0.41        24\n        6673       0.31      0.79      0.44        14\n        6674       0.24      0.64      0.35        14\n        6675       0.40      0.71      0.51        14\n        6676       0.81      0.81      0.81        21\n        6677       0.00      0.00      0.00        10\n        6681       0.63      0.95      0.76        20\n        6684       0.38      0.71      0.50        14\n        6685       1.00      0.62      0.76        21\n        6687       0.40      0.17      0.24        12\n        6688       0.62      0.89      0.73        18\n        6690       0.79      0.83      0.81        18\n        6691       0.47      0.62      0.53        13\n        6696       0.82      0.50      0.62        18\n        6704       0.75      0.43      0.55         7\n        6710       1.00      0.14      0.25        14\n        6711       0.00      0.00      0.00         8\n        6712       0.88      0.37      0.52        19\n        6714       0.90      0.43      0.58        21\n        6715       0.80      0.80      0.80        20\n        6716       0.56      0.62      0.59        16\n        6718       1.00      0.10      0.18        10\n        6720       0.41      0.85      0.55        13\n        6723       0.95      0.86      0.90        21\n        6729       0.83      0.42      0.56        12\n        6730       0.50      0.11      0.18         9\n        6751       0.38      0.40      0.39        15\n        6752       0.56      0.60      0.58        15\n        6756       0.80      0.36      0.50        22\n        6758       0.70      0.95      0.81        20\n        6760       0.31      1.00      0.48        11\n        6763       0.65      0.65      0.65        17\n        6764       0.27      0.55      0.36        11\n        6765       0.63      0.67      0.65        18\n        6766       0.56      0.79      0.65        19\n        6767       0.26      0.25      0.26        20\n        6769       0.78      0.41      0.54        17\n        6772       0.36      0.76      0.48        21\n        6782       1.00      0.12      0.21        17\n        6786       1.00      0.35      0.52        20\n        6788       1.00      0.27      0.43        11\n        6789       0.67      0.44      0.53        18\n        6792       0.72      0.72      0.72        18\n        6793       0.57      0.24      0.33        17\n        6794       0.87      0.76      0.81        17\n        6796       1.00      0.40      0.57         5\n        6797       0.53      0.62      0.57        16\n        6798       0.33      0.27      0.30        11\n        6799       0.57      0.60      0.59        20\n        6800       0.52      1.00      0.69        12\n        6801       0.53      0.50      0.52        16\n        6802       0.61      0.88      0.72        16\n        6803       0.88      0.78      0.82        18\n        6804       0.44      0.55      0.49        22\n        6807       0.71      0.48      0.57        21\n        6808       0.27      0.67      0.38        15\n        6809       0.61      0.87      0.71        23\n        6810       0.67      0.59      0.62        17\n        6813       1.00      0.57      0.73        14\n        6814       0.40      0.14      0.21        14\n        6819       0.23      0.50      0.31        14\n        6820       0.90      0.90      0.90        10\n        6823       0.80      0.94      0.86        17\n        6835       0.33      1.00      0.49        15\n        6836       0.74      0.64      0.68        22\n        6837       0.39      0.65      0.49        20\n        6838       0.50      0.17      0.25        18\n        6839       0.82      0.78      0.80        23\n        6840       0.47      0.50      0.48        16\n        6841       0.34      0.65      0.45        17\n        6842       1.00      0.22      0.36         9\n        6843       0.75      0.16      0.26        19\n        6844       0.00      0.00      0.00        14\n        6847       0.52      1.00      0.69        12\n        6851       0.09      0.27      0.14        11\n        6852       0.56      0.21      0.30        24\n        6853       1.00      0.60      0.75        25\n        6854       0.60      0.16      0.25        19\n        6855       0.33      0.20      0.25        20\n        6856       0.29      0.67      0.40        12\n        6858       0.79      0.50      0.61        22\n        6859       0.47      0.37      0.41        19\n        6861       0.36      0.62      0.45        16\n        6862       0.67      0.32      0.43        19\n        6863       0.48      0.48      0.48        21\n        6864       0.62      0.71      0.67        14\n        6865       0.00      0.00      0.00         9\n        6868       0.46      0.80      0.59        15\n        6871       0.30      0.40      0.34        15\n        6874       0.74      0.54      0.62        26\n        6876       0.42      0.93      0.58        15\n        6878       0.67      0.35      0.46        23\n        6882       0.88      0.32      0.47        22\n        6883       0.35      0.74      0.47        19\n        6888       0.50      0.32      0.39        19\n        6889       0.59      0.87      0.70        15\n        6890       0.73      0.76      0.74        21\n        6891       0.50      0.44      0.47        18\n        6894       0.24      0.62      0.35        16\n        6899       0.43      0.93      0.59        14\n        6903       0.32      0.53      0.40        17\n        6905       1.00      0.82      0.90        22\n        6906       0.60      0.60      0.60         5\n        6907       0.54      0.94      0.68        16\n        6911       1.00      0.18      0.31        11\n        6915       0.83      0.90      0.86        21\n        6917       0.60      0.64      0.62        14\n        6918       0.58      0.93      0.72        15\n        6920       0.78      0.26      0.39        27\n        6921       0.59      0.89      0.71        19\n        6923       0.60      0.69      0.64        13\n        6925       0.85      0.92      0.88        12\n        6931       0.52      0.80      0.63        15\n        6932       0.82      0.70      0.76        20\n        6936       0.67      0.13      0.22        15\n        6940       1.00      0.18      0.31        11\n        6943       1.00      0.44      0.62        18\n        6954       1.00      1.00      1.00         9\n        6958       0.84      0.91      0.87        23\n        6961       0.80      0.87      0.83        23\n        6963       0.50      0.42      0.45        12\n        6970       0.78      0.78      0.78         9\n        6971       0.81      0.89      0.85        19\n        6974       0.70      0.82      0.76        17\n        6976       0.55      0.96      0.70        23\n        6982       0.68      0.85      0.76        20\n        6987       0.61      0.89      0.72        19\n        6988       0.71      0.36      0.48        14\n        6989       0.67      0.67      0.67        21\n        6990       1.00      0.69      0.81        16\n        6994       1.00      0.90      0.95        10\n        7020       0.67      0.83      0.74        24\n        7021       1.00      0.09      0.17        11\n        7022       0.75      0.30      0.43        20\n        7023       1.00      0.50      0.67        12\n        7024       0.45      0.93      0.60        14\n        7026       0.75      0.23      0.35        13\n        7027       0.80      0.42      0.55        19\n        7029       0.50      0.64      0.56        14\n        7030       0.39      0.92      0.55        12\n        7032       0.52      1.00      0.69        11\n        7033       0.25      0.04      0.07        23\n        7034       1.00      0.65      0.79        20\n        7035       0.67      0.38      0.48        16\n        7037       0.68      0.96      0.79        24\n        7038       0.54      0.81      0.65        16\n        7041       0.44      0.79      0.56        14\n        7042       0.80      0.44      0.57        18\n        7043       0.84      0.89      0.86        18\n        7045       0.23      0.50      0.31        16\n        7046       0.50      0.94      0.65        18\n        7047       0.77      0.83      0.80        12\n        7050       0.40      0.93      0.56        15\n        7051       0.82      0.58      0.68        24\n        7059       0.65      0.79      0.71        19\n        7061       0.53      0.56      0.54        18\n        7066       0.50      1.00      0.67        15\n        7067       0.73      0.79      0.76        24\n        7069       0.48      0.87      0.62        15\n        9117       0.86      0.30      0.44        20\n        9119       0.36      0.24      0.29        17\n        9121       0.00      0.00      0.00        19\n        9122       0.28      0.65      0.39        20\n        9123       0.38      0.44      0.41        18\n        9124       1.00      0.23      0.38        13\n        9127       0.58      0.44      0.50        16\n        9129       1.00      0.21      0.35        14\n        9132       0.87      0.81      0.84        16\n        9182       1.00      0.54      0.70        13\n        9183       0.48      0.81      0.60        16\n        9185       0.82      0.70      0.76        20\n        9186       1.00      0.11      0.20         9\n        9187       0.62      1.00      0.77        25\n        9188       0.25      0.19      0.21        16\n        9190       0.68      0.77      0.72        22\n        9199       1.00      0.46      0.63        13\n        9202       0.46      0.33      0.39        18\n        9203       0.29      0.27      0.28        15\n        9204       0.24      0.62      0.35        13\n        9205       0.09      0.07      0.08        14\n        9322       0.57      0.24      0.33        17\n        9323       0.45      0.82      0.58        17\n        9326       0.78      0.56      0.65        25\n        9327       0.44      0.92      0.60        13\n        9329       0.63      0.67      0.65        18\n        9331       0.93      1.00      0.96        13\n        9337       0.58      1.00      0.73        18\n        9338       0.56      0.25      0.34        20\n        9339       1.00      0.58      0.74        12\n       10784       0.44      0.20      0.28        20\n       10785       0.48      0.76      0.59        17\n       10797       0.24      0.75      0.37        12\n       10799       0.50      0.14      0.22        14\n       10801       0.80      0.50      0.62         8\n       10802       0.80      0.32      0.46        25\n       10803       0.73      0.96      0.83        23\n       10806       0.77      0.71      0.74        14\n       10809       0.27      0.77      0.40        13\n       10811       0.57      0.36      0.44        22\n       10812       0.62      0.83      0.71        18\n       10813       1.00      0.20      0.33        10\n       10814       0.78      0.64      0.70        11\n       10840       0.62      0.28      0.38        18\n       10841       0.47      0.53      0.50        15\n       10842       0.84      0.76      0.80        21\n       10847       0.54      0.75      0.63        20\n       11110       0.50      0.05      0.09        21\n       11112       0.27      0.15      0.19        20\n       11114       0.24      0.69      0.36        13\n       11115       0.05      0.06      0.05        17\n       11116       0.19      0.62      0.29         8\n       11118       0.48      0.71      0.58        21\n       11119       0.42      0.67      0.51        15\n       11120       0.81      0.59      0.68        22\n       11121       0.37      0.86      0.51        21\n       11122       0.54      0.72      0.62        18\n       11123       1.00      0.06      0.12        16\n       11124       0.24      0.64      0.35        14\n       11131       0.41      0.47      0.44        19\n       11132       0.78      0.37      0.50        19\n       11133       0.50      0.31      0.38        16\n       11134       0.19      0.85      0.31        13\n       11136       0.25      0.24      0.24        17\n       11137       0.00      0.00      0.00        13\n       11138       0.80      0.29      0.42        14\n       11140       0.12      0.30      0.18        10\n       11142       0.00      0.00      0.00        13\n       11143       0.11      0.54      0.18        13\n       11144       0.20      0.14      0.17        14\n       11145       0.41      0.55      0.47        22\n       11146       0.28      0.36      0.31        14\n       11147       0.20      0.19      0.19        16\n       11150       0.20      0.64      0.31        14\n       11151       0.62      0.19      0.29        26\n       11152       0.67      0.24      0.35        25\n       11155       0.89      0.44      0.59        18\n       11161       0.58      0.71      0.64        21\n       11162       1.00      0.26      0.42        19\n       11163       1.00      0.17      0.29        18\n       11164       0.14      0.82      0.24        17\n       11165       0.00      0.00      0.00        23\n       11166       0.78      0.29      0.42        24\n       11169       0.00      0.00      0.00        11\n       11170       0.33      0.10      0.15        20\n       11171       0.00      0.00      0.00        18\n       11173       0.14      0.45      0.21        11\n       11175       1.00      0.12      0.22        16\n       11176       0.67      0.40      0.50        10\n       11178       0.27      0.27      0.27        11\n       11179       0.48      0.65      0.55        17\n       11181       0.50      0.40      0.44        10\n       11182       0.00      0.00      0.00         8\n       11184       0.38      0.25      0.30        20\n       11190       0.75      0.23      0.35        13\n       11195       0.60      0.47      0.53        19\n       11196       0.43      0.65      0.52        20\n       11198       0.24      0.67      0.36        15\n       11199       0.75      0.47      0.58        19\n       11200       0.75      0.15      0.25        20\n       11203       0.86      0.60      0.71        20\n       11204       0.22      0.47      0.30        17\n       11205       0.14      0.06      0.08        17\n       11207       0.38      0.58      0.46        19\n       11208       0.40      0.11      0.17        19\n       11211       0.31      0.27      0.29        15\n       11214       0.28      0.29      0.29        17\n       11216       0.67      0.12      0.21        16\n       11217       0.53      0.44      0.48        18\n       11218       0.00      0.00      0.00        22\n       11219       1.00      0.13      0.23        23\n       11220       0.00      0.00      0.00         9\n       11222       0.75      0.38      0.50        24\n       11223       0.43      0.18      0.25        17\n       11224       0.59      0.70      0.64        27\n       11226       0.47      0.85      0.61        20\n       11228       0.65      0.65      0.65        17\n       11239       0.54      0.50      0.52        14\n       11240       0.68      0.72      0.70        18\n       11241       0.15      0.60      0.24        10\n       11242       1.00      0.05      0.10        19\n       11243       0.56      0.67      0.61        21\n       11244       0.50      0.12      0.19        25\n       11245       0.70      0.88      0.78        16\n       11252       0.71      0.68      0.70        22\n       11253       0.33      0.92      0.49        13\n       11254       0.00      0.00      0.00        22\n       11255       0.50      0.20      0.29        15\n       11256       0.67      0.38      0.48        16\n       11257       0.33      0.87      0.48        15\n       11258       0.23      0.53      0.32        17\n       11259       0.91      0.87      0.89        23\n       11260       0.00      0.00      0.00        20\n       11261       0.45      0.24      0.31        21\n       11262       0.44      0.21      0.29        19\n       11263       0.00      0.00      0.00        25\n       11264       0.86      0.27      0.41        22\n       11265       1.00      0.21      0.35        14\n       11266       0.71      0.63      0.67        19\n       11267       0.60      0.33      0.43        18\n       11268       0.67      0.38      0.48        16\n       11269       0.50      0.79      0.61        19\n       11271       0.75      0.22      0.34        27\n       11272       0.00      0.00      0.00        18\n       11273       1.00      0.29      0.45        17\n       11274       0.67      0.75      0.71        16\n       11275       0.23      0.41      0.29        17\n       11276       0.43      0.30      0.35        20\n       11286       1.00      0.24      0.38        21\n       11296       0.89      0.59      0.71        27\n       11297       0.36      0.24      0.29        17\n       11299       0.20      0.13      0.16        15\n       11315       0.43      1.00      0.60        15\n       11316       0.56      0.88      0.68        16\n       11327       0.65      0.76      0.70        17\n       11334       0.65      0.79      0.71        19\n       11335       0.92      1.00      0.96        12\n       11346       0.55      0.70      0.62        23\n       11347       0.53      0.89      0.67        18\n       11348       0.67      0.93      0.78        15\n       11351       0.83      0.86      0.84        22\n       11352       0.93      0.54      0.68        24\n       11353       0.47      1.00      0.64        16\n       11355       0.44      0.37      0.40        19\n       11356       0.69      0.50      0.58        18\n       11358       0.82      0.90      0.86        10\n       11368       0.32      0.35      0.33        20\n       11486       0.50      0.95      0.66        20\n       11488       0.50      0.50      0.50         8\n       11502       0.70      0.73      0.71        22\n       11556       0.67      0.89      0.76        18\n       11647       0.71      0.88      0.79        17\n       11650       0.94      0.84      0.89        19\n       11837       0.71      0.77      0.74        22\n       12069       0.63      0.92      0.75        13\n       12106       0.44      0.47      0.46        17\n       12108       0.57      0.21      0.31        19\n       12109       0.40      0.25      0.31        16\n       12110       0.75      0.38      0.50        16\n       12112       0.32      0.67      0.44        18\n       12139       1.00      0.88      0.94        17\n       12140       0.50      0.86      0.63        14\n       12149       0.63      0.75      0.69        16\n       12151       0.50      0.83      0.62        18\n       12155       0.33      0.04      0.07        25\n       12162       0.48      0.67      0.56        15\n       12165       0.49      0.95      0.64        20\n       12166       0.24      0.73      0.36        11\n       12167       0.43      0.53      0.47        17\n       12168       0.00      0.00      0.00        16\n       12169       0.37      0.58      0.45        19\n       12170       0.67      0.16      0.26        25\n       12171       0.29      0.71      0.41        14\n       12172       0.38      0.71      0.49        17\n       12173       0.38      0.62      0.47        21\n       12175       0.93      0.57      0.70        23\n       12176       0.50      1.00      0.67        17\n       12178       0.45      0.56      0.50        16\n       12179       0.42      0.71      0.53        14\n       12180       0.48      0.65      0.56        23\n       12181       0.33      0.05      0.09        19\n       12182       0.56      0.45      0.50        20\n       12183       0.53      0.74      0.62        23\n       12184       0.53      0.83      0.65        12\n       12185       0.17      0.55      0.26        11\n       12186       0.50      0.09      0.15        23\n       12189       0.71      0.86      0.77        14\n       12190       0.42      0.26      0.32        19\n       12191       0.52      0.58      0.55        19\n       12192       0.40      0.32      0.35        19\n       12193       0.58      0.74      0.65        19\n       12195       0.78      1.00      0.88        18\n       12196       0.54      0.47      0.50        15\n       12197       0.65      0.58      0.61        19\n       12198       0.82      0.56      0.67        16\n       12200       0.41      0.73      0.52        15\n       12201       0.88      0.44      0.58        16\n       12202       0.82      0.61      0.70        23\n       12204       0.69      0.90      0.78        20\n       12205       0.83      0.83      0.83        18\n       12206       0.73      0.47      0.57        17\n       12207       1.00      0.31      0.48        32\n       12208       0.76      1.00      0.86        19\n       12209       0.47      1.00      0.64        14\n       12210       0.75      0.47      0.58        19\n       12212       0.47      0.62      0.54        24\n       12213       0.48      0.68      0.57        19\n       12215       0.93      0.81      0.87        16\n       12216       0.91      0.88      0.89        24\n       12217       0.31      0.95      0.46        20\n       12218       0.56      0.56      0.56        18\n       12219       0.79      0.65      0.71        17\n       12223       1.00      0.67      0.80         9\n       12224       0.74      0.94      0.83        18\n       12225       0.27      0.86      0.41        14\n       12226       0.45      0.93      0.60        14\n       12227       0.57      0.81      0.67        16\n       12228       0.32      0.53      0.40        15\n       12229       0.37      0.50      0.42        14\n       12230       0.52      0.80      0.63        20\n       12232       0.31      0.71      0.43        14\n       12234       0.69      0.50      0.58        18\n       12235       0.82      0.78      0.80        18\n       12237       0.59      0.62      0.61        16\n       12239       0.60      0.17      0.26        18\n       12240       0.54      0.94      0.68        16\n       12241       0.48      0.78      0.60        18\n       12242       0.53      0.62      0.57        16\n       12243       0.67      0.82      0.74        17\n       12245       0.73      0.52      0.61        21\n       12246       0.95      0.75      0.84        24\n       12313       1.00      0.21      0.35        14\n       12316       0.50      1.00      0.67        14\n       12332       0.30      0.82      0.44        17\n       12348       0.38      0.87      0.53        15\n       12349       0.00      0.00      0.00         5\n       12350       0.12      0.50      0.20        12\n       12351       0.67      0.11      0.18        19\n       12352       0.17      0.75      0.27        12\n       12354       0.50      0.88      0.64        17\n       12356       0.00      0.00      0.00        12\n       12357       0.60      0.90      0.72        20\n       12358       0.93      0.76      0.84        17\n       12360       0.80      0.57      0.67         7\n       12362       0.50      1.00      0.67        17\n       12369       0.57      0.77      0.65        22\n       12370       0.68      0.84      0.75        25\n       12371       0.32      0.50      0.39        20\n       12372       0.64      0.33      0.44        21\n       12376       0.44      0.92      0.60        13\n       12380       0.88      0.65      0.75        23\n       12382       0.35      0.88      0.50        16\n       12387       0.43      0.75      0.55        20\n       12390       0.88      0.96      0.92        24\n       12392       0.93      0.87      0.90        15\n       12394       0.20      0.11      0.14        18\n       12396       0.75      0.56      0.64        16\n       12397       0.54      0.94      0.68        16\n       12403       0.90      0.43      0.58        21\n       12405       0.00      0.00      0.00        16\n       12406       0.36      0.90      0.51        10\n       12408       0.67      0.50      0.57         8\n       12410       0.50      0.62      0.55        13\n       12417       0.44      1.00      0.61        15\n       12419       0.21      0.88      0.34         8\n       12420       0.67      0.74      0.70        19\n       12421       0.73      0.85      0.79        13\n       12422       0.58      1.00      0.74        14\n       12423       0.63      0.85      0.72        20\n       12424       0.56      1.00      0.72        14\n       12425       0.65      0.91      0.75        22\n       12426       0.60      0.46      0.52        13\n       12427       0.79      0.60      0.68        25\n       12428       0.65      0.72      0.68        18\n       12430       0.30      1.00      0.46        13\n       12434       0.67      0.50      0.57        16\n       12437       0.47      0.61      0.53        28\n       12438       0.43      1.00      0.60        19\n       12439       0.44      0.73      0.55        15\n       12440       0.79      0.96      0.87        24\n       12441       0.63      0.67      0.65        18\n       12442       0.56      0.90      0.69        21\n       12443       0.86      0.90      0.88        21\n       12444       0.57      1.00      0.72        17\n       12445       0.71      0.94      0.81        18\n       12446       0.69      0.65      0.67        17\n       12448       0.37      0.84      0.52        19\n       12449       0.56      0.78      0.65        18\n       12450       0.57      0.50      0.53        16\n       12455       0.43      0.50      0.46        18\n       12456       0.57      0.81      0.67        16\n       12457       0.65      0.76      0.70        17\n       12458       0.79      0.79      0.79        14\n       12459       0.49      1.00      0.65        17\n       12461       0.74      0.67      0.70        21\n       12462       0.35      0.85      0.50        13\n       12463       0.71      1.00      0.83        12\n       12464       0.54      0.94      0.68        16\n       12465       0.31      0.79      0.45        14\n       12466       0.90      0.82      0.86        22\n       12468       0.30      0.58      0.40        12\n       12469       0.24      0.90      0.38        10\n       12470       0.75      0.67      0.71        18\n       12471       0.47      0.50      0.48        14\n       12472       0.83      0.48      0.61        21\n       12474       0.71      0.79      0.75        19\n       12475       0.69      0.46      0.55        24\n       12476       0.31      0.36      0.33        14\n       12478       0.44      0.83      0.58        18\n       12479       0.81      1.00      0.89        25\n       12480       0.83      0.83      0.83        18\n       12481       0.64      0.30      0.41        23\n       12482       0.31      1.00      0.47        14\n       12483       0.48      0.71      0.58        21\n       12484       0.64      0.80      0.71        20\n       12485       0.53      1.00      0.69        18\n       12486       0.72      0.86      0.78        21\n       12487       0.33      1.00      0.50        12\n       12490       1.00      0.05      0.09        21\n       12491       0.35      0.71      0.47        17\n       12492       0.54      0.70      0.61        20\n       12493       0.60      0.67      0.63        18\n\n    accuracy                           0.49     45925\n   macro avg       0.52      0.50      0.46     45925\nweighted avg       0.54      0.49      0.46     45925\n\n",
          "output_type": "stream"
        },
        {
          "name": "stderr",
          "text": "/opt/conda/lib/python3.10/site-packages/sklearn/metrics/_classification.py:1344: UndefinedMetricWarning: Precision and F-score are ill-defined and being set to 0.0 in labels with no predicted samples. Use `zero_division` parameter to control this behavior.\n  _warn_prf(average, modifier, msg_start, len(result))\n/opt/conda/lib/python3.10/site-packages/sklearn/metrics/_classification.py:1344: UndefinedMetricWarning: Precision and F-score are ill-defined and being set to 0.0 in labels with no predicted samples. Use `zero_division` parameter to control this behavior.\n  _warn_prf(average, modifier, msg_start, len(result))\n/opt/conda/lib/python3.10/site-packages/sklearn/metrics/_classification.py:1344: UndefinedMetricWarning: Precision and F-score are ill-defined and being set to 0.0 in labels with no predicted samples. Use `zero_division` parameter to control this behavior.\n  _warn_prf(average, modifier, msg_start, len(result))\n",
          "output_type": "stream"
        }
      ]
    },
    {
      "cell_type": "markdown",
      "source": [
        "### Stochastic Gradient Boost"
      ],
      "metadata": {
        "id": "dsFXGmHz72QA"
      }
    },
    {
      "cell_type": "code",
      "source": [
        "from sklearn.linear_model import SGDClassifier\n",
        "from sklearn.model_selection import train_test_split\n",
        "from sklearn.pipeline import Pipeline\n",
        "from sklearn.feature_extraction.text import CountVectorizer, TfidfTransformer\n",
        "from sklearn.metrics import classification_report, accuracy_score, f1_score\n",
        "\n",
        "# Split data into training and testing sets\n",
        "train_df, test_df = train_test_split(df_train, test_size=0.3, random_state=42)\n",
        "\n",
        "# Create feature matrix X and target variable y for training set\n",
        "train_X = train_df['title'] + ' ' + train_df['tags'] + ' ' + train_df['type'] + ' ' + train_df['top_category_text']\n",
        "train_y = train_df['bottom_category_id']\n",
        "\n",
        "test_X = test_df['title'] + ' ' + test_df['tags'] + ' ' + test_df['type'] + ' ' + test_df['top_category_text']\n",
        "test_y = test_df['bottom_category_id']\n",
        "\n",
        "\n",
        "train_X = np.asarray(train_X)\n",
        "test_X = np.asarray(test_X)\n",
        "\n",
        "#Experimenting with learning rates\n",
        "learning_rates = [1e-3, 1e-4, 1e-5]\n",
        "\n",
        "\n",
        "results = {}\n",
        "\n",
        "# Loop through each learning rate\n",
        "for lr in learning_rates:\n",
        "    print(f'for lr : {lr}')\n",
        "    sgd = Pipeline([('vect', CountVectorizer()),\n",
        "                    ('tfidf', TfidfTransformer()),\n",
        "                    ('clf', SGDClassifier(loss='hinge', penalty='l2', alpha=lr, random_state=42, max_iter=10, tol=None)),\n",
        "                   ])\n",
        "    sgd.fit(train_X, train_y)\n",
        "\n",
        "    y_pred_sgd_top = sgd.predict(X_test)\n",
        "\n",
        "    # Calculate accuracy and F1-score\n",
        "    accuracy = accuracy_score(y_pred_sgd_top, test_y)\n",
        "    f1 = f1_score(test_y, y_pred_sgd_top, average='weighted')\n",
        "\n",
        "    # Store the results in the dictionary\n",
        "    results[lr] = {'accuracy': accuracy, 'f1_score': f1}\n",
        "\n",
        "# Print the results for each learning rate\n",
        "for lr, scores in results.items():\n",
        "    print('Learning Rate: {}'.format(lr))\n",
        "    print('Accuracy: {}'.format(scores['accuracy']))\n",
        "    print('F1-score: {}'.format(scores['f1_score']))\n",
        "    print('----------------------------')"
      ],
      "metadata": {
        "execution": {
          "iopub.status.busy": "2024-04-13T16:02:09.993584Z",
          "iopub.execute_input": "2024-04-13T16:02:09.994346Z",
          "iopub.status.idle": "2024-04-13T17:16:44.234633Z",
          "shell.execute_reply.started": "2024-04-13T16:02:09.994310Z",
          "shell.execute_reply": "2024-04-13T17:16:44.233236Z"
        },
        "trusted": true,
        "id": "oGCoYKkh72QA",
        "outputId": "7b585e4a-b445-4c3c-cb5e-00c17c0afd02"
      },
      "execution_count": null,
      "outputs": [
        {
          "name": "stdout",
          "text": "for lr : 0.001\nfor lr : 0.0001\nfor lr : 1e-05\nLearning Rate: 0.001\nAccuracy: 0.46838346301242595\nF1-score: 0.4487024954767158\n----------------------------\nLearning Rate: 0.0001\nAccuracy: 0.4675270003483916\nF1-score: 0.45097097313734774\n----------------------------\nLearning Rate: 1e-05\nAccuracy: 0.5000870978980374\nF1-score: 0.48021125240604995\n----------------------------\n",
          "output_type": "stream"
        }
      ]
    },
    {
      "cell_type": "markdown",
      "source": [
        "## Working on Test Data"
      ],
      "metadata": {
        "id": "TR2Ty_MS72QB"
      }
    },
    {
      "cell_type": "markdown",
      "source": [
        "Importing Multinomial NB Model"
      ],
      "metadata": {
        "id": "d0vYy0XG72QB"
      }
    },
    {
      "cell_type": "markdown",
      "source": [
        "Importing test dataset we got from top category id predictions"
      ],
      "metadata": {
        "id": "_Wqy1A2O72QB"
      }
    },
    {
      "cell_type": "code",
      "source": [
        "test_df=pd.read_csv('/kaggle/input/top-category-predictions/top_category_predictions (1).csv')"
      ],
      "metadata": {
        "execution": {
          "iopub.status.busy": "2024-04-17T22:54:41.228772Z",
          "iopub.execute_input": "2024-04-17T22:54:41.229205Z",
          "iopub.status.idle": "2024-04-17T22:54:41.424027Z",
          "shell.execute_reply.started": "2024-04-17T22:54:41.229173Z",
          "shell.execute_reply": "2024-04-17T22:54:41.423073Z"
        },
        "trusted": true,
        "id": "obhWvucb72QB"
      },
      "execution_count": null,
      "outputs": []
    },
    {
      "cell_type": "code",
      "source": [
        "test_df.head()"
      ],
      "metadata": {
        "execution": {
          "iopub.status.busy": "2024-04-17T22:54:51.202577Z",
          "iopub.execute_input": "2024-04-17T22:54:51.202904Z",
          "iopub.status.idle": "2024-04-17T22:54:51.219538Z",
          "shell.execute_reply.started": "2024-04-17T22:54:51.202873Z",
          "shell.execute_reply": "2024-04-17T22:54:51.218594Z"
        },
        "trusted": true,
        "id": "XwmxeCWx72QC",
        "outputId": "91c87daf-2a10-4b2d-b9bc-6618f289d6a2"
      },
      "execution_count": null,
      "outputs": [
        {
          "execution_count": 4,
          "output_type": "execute_result",
          "data": {
            "text/plain": "   Unnamed: 0  product_id                                              title  \\\n0           0   815216520      A First Doll Book. &quot; Peggy and Me&quot;!   \n1           1   870948450  Abigayil: The Story of the Cat at the Manger, ...   \n2           2  1111113690  No Fighting, No Biting! by Else Holmelund Mina...   \n3           3  1510466600  Ukrainian book. &quot;Magic flashlight&quot;. ...   \n4           4  1035734450                                 The Ugly Butterfly   \n\n                                                tags      type  \\\n0      flip book,vintage,Peggy and Me,change dresses  physical   \n1  one of a kind,authentic,original,gift,special,...  physical   \n2  Else Minarik,Maurice Sendak,Vintage Children,L...  physical   \n3  Books,Ukrainian,New,Gift,Colorful,Best,Stories...  physical   \n4  moth metamorphosis,caterpillar bug,butterfly c...  physical   \n\n   top_category_id       top_category_text  \n0                4  books_movies_and_music  \n1                4  books_movies_and_music  \n2                4  books_movies_and_music  \n3                4  books_movies_and_music  \n4                8         home_and_living  ",
            "text/html": "<div>\n<style scoped>\n    .dataframe tbody tr th:only-of-type {\n        vertical-align: middle;\n    }\n\n    .dataframe tbody tr th {\n        vertical-align: top;\n    }\n\n    .dataframe thead th {\n        text-align: right;\n    }\n</style>\n<table border=\"1\" class=\"dataframe\">\n  <thead>\n    <tr style=\"text-align: right;\">\n      <th></th>\n      <th>Unnamed: 0</th>\n      <th>product_id</th>\n      <th>title</th>\n      <th>tags</th>\n      <th>type</th>\n      <th>top_category_id</th>\n      <th>top_category_text</th>\n    </tr>\n  </thead>\n  <tbody>\n    <tr>\n      <th>0</th>\n      <td>0</td>\n      <td>815216520</td>\n      <td>A First Doll Book. &amp;quot; Peggy and Me&amp;quot;!</td>\n      <td>flip book,vintage,Peggy and Me,change dresses</td>\n      <td>physical</td>\n      <td>4</td>\n      <td>books_movies_and_music</td>\n    </tr>\n    <tr>\n      <th>1</th>\n      <td>1</td>\n      <td>870948450</td>\n      <td>Abigayil: The Story of the Cat at the Manger, ...</td>\n      <td>one of a kind,authentic,original,gift,special,...</td>\n      <td>physical</td>\n      <td>4</td>\n      <td>books_movies_and_music</td>\n    </tr>\n    <tr>\n      <th>2</th>\n      <td>2</td>\n      <td>1111113690</td>\n      <td>No Fighting, No Biting! by Else Holmelund Mina...</td>\n      <td>Else Minarik,Maurice Sendak,Vintage Children,L...</td>\n      <td>physical</td>\n      <td>4</td>\n      <td>books_movies_and_music</td>\n    </tr>\n    <tr>\n      <th>3</th>\n      <td>3</td>\n      <td>1510466600</td>\n      <td>Ukrainian book. &amp;quot;Magic flashlight&amp;quot;. ...</td>\n      <td>Books,Ukrainian,New,Gift,Colorful,Best,Stories...</td>\n      <td>physical</td>\n      <td>4</td>\n      <td>books_movies_and_music</td>\n    </tr>\n    <tr>\n      <th>4</th>\n      <td>4</td>\n      <td>1035734450</td>\n      <td>The Ugly Butterfly</td>\n      <td>moth metamorphosis,caterpillar bug,butterfly c...</td>\n      <td>physical</td>\n      <td>8</td>\n      <td>home_and_living</td>\n    </tr>\n  </tbody>\n</table>\n</div>"
          },
          "metadata": {}
        }
      ]
    },
    {
      "cell_type": "code",
      "source": [
        "test_df.fillna('',inplace=True)"
      ],
      "metadata": {
        "execution": {
          "iopub.status.busy": "2024-04-17T22:58:26.473400Z",
          "iopub.execute_input": "2024-04-17T22:58:26.473795Z",
          "iopub.status.idle": "2024-04-17T22:58:26.489238Z",
          "shell.execute_reply.started": "2024-04-17T22:58:26.473753Z",
          "shell.execute_reply": "2024-04-17T22:58:26.488453Z"
        },
        "trusted": true,
        "id": "Uld3lsvX72QC"
      },
      "execution_count": null,
      "outputs": []
    },
    {
      "cell_type": "code",
      "source": [
        "X_test = test_df['title'] + ' ' + test_df['tags'] + ' ' + test_df['type'] + ' ' + test_df['top_category_text']\n",
        "\n",
        "X_test = np.asarray(X_test)"
      ],
      "metadata": {
        "execution": {
          "iopub.status.busy": "2024-04-17T22:58:27.902688Z",
          "iopub.execute_input": "2024-04-17T22:58:27.903066Z",
          "iopub.status.idle": "2024-04-17T22:58:27.946380Z",
          "shell.execute_reply.started": "2024-04-17T22:58:27.903034Z",
          "shell.execute_reply": "2024-04-17T22:58:27.945535Z"
        },
        "trusted": true,
        "id": "ZooE0pUV72QC"
      },
      "execution_count": null,
      "outputs": []
    },
    {
      "cell_type": "code",
      "source": [
        "model = joblib.load(\"/kaggle/input/nb-pipeline-bottom-model/nb_pipeline_bottom_model.pkl\")"
      ],
      "metadata": {
        "execution": {
          "iopub.status.busy": "2024-04-17T22:57:16.709139Z",
          "iopub.execute_input": "2024-04-17T22:57:16.709974Z",
          "iopub.status.idle": "2024-04-17T22:57:17.208260Z",
          "shell.execute_reply.started": "2024-04-17T22:57:16.709939Z",
          "shell.execute_reply": "2024-04-17T22:57:17.207428Z"
        },
        "trusted": true,
        "id": "2NEnxDTg72QD"
      },
      "execution_count": null,
      "outputs": []
    },
    {
      "cell_type": "code",
      "source": [
        "y_pred=model.predict(X_test)"
      ],
      "metadata": {
        "execution": {
          "iopub.status.busy": "2024-04-17T22:58:32.853050Z",
          "iopub.execute_input": "2024-04-17T22:58:32.853408Z",
          "iopub.status.idle": "2024-04-17T22:58:35.556630Z",
          "shell.execute_reply.started": "2024-04-17T22:58:32.853378Z",
          "shell.execute_reply": "2024-04-17T22:58:35.555788Z"
        },
        "trusted": true,
        "id": "QTOBEOKP72QD"
      },
      "execution_count": null,
      "outputs": []
    },
    {
      "cell_type": "code",
      "source": [
        "test_df['bottom_category_id']=y_pred"
      ],
      "metadata": {
        "execution": {
          "iopub.status.busy": "2024-04-17T22:59:14.417763Z",
          "iopub.execute_input": "2024-04-17T22:59:14.418347Z",
          "iopub.status.idle": "2024-04-17T22:59:14.424357Z",
          "shell.execute_reply.started": "2024-04-17T22:59:14.418283Z",
          "shell.execute_reply": "2024-04-17T22:59:14.423489Z"
        },
        "trusted": true,
        "id": "UnE8fk7m72QE"
      },
      "execution_count": null,
      "outputs": []
    },
    {
      "cell_type": "code",
      "source": [
        "unique_combinations = df_train[['bottom_category_id', 'bottom_category_text']].drop_duplicates()"
      ],
      "metadata": {
        "execution": {
          "iopub.status.busy": "2024-04-17T23:03:49.227827Z",
          "iopub.execute_input": "2024-04-17T23:03:49.228189Z",
          "iopub.status.idle": "2024-04-17T23:03:49.279512Z",
          "shell.execute_reply.started": "2024-04-17T23:03:49.228089Z",
          "shell.execute_reply": "2024-04-17T23:03:49.278764Z"
        },
        "trusted": true,
        "id": "sN099Yfs72QE"
      },
      "execution_count": null,
      "outputs": []
    },
    {
      "cell_type": "code",
      "source": [
        "unique_combinations_dict = unique_combinations.set_index('bottom_category_id')['bottom_category_text'].to_dict()"
      ],
      "metadata": {
        "execution": {
          "iopub.status.busy": "2024-04-17T23:03:49.280491Z",
          "iopub.execute_input": "2024-04-17T23:03:49.280793Z",
          "iopub.status.idle": "2024-04-17T23:03:49.287795Z",
          "shell.execute_reply.started": "2024-04-17T23:03:49.280745Z",
          "shell.execute_reply": "2024-04-17T23:03:49.287156Z"
        },
        "trusted": true,
        "id": "kpJrV-QW72QE"
      },
      "execution_count": null,
      "outputs": []
    },
    {
      "cell_type": "code",
      "source": [
        "test_df['bottom_category_text'] = test_df['bottom_category_id'].map(unique_combinations_dict)"
      ],
      "metadata": {
        "execution": {
          "iopub.status.busy": "2024-04-17T23:03:49.289265Z",
          "iopub.execute_input": "2024-04-17T23:03:49.289538Z",
          "iopub.status.idle": "2024-04-17T23:03:49.304447Z",
          "shell.execute_reply.started": "2024-04-17T23:03:49.289511Z",
          "shell.execute_reply": "2024-04-17T23:03:49.303772Z"
        },
        "trusted": true,
        "id": "y3Ig9ZUp72QF"
      },
      "execution_count": null,
      "outputs": []
    },
    {
      "cell_type": "code",
      "source": [
        "test_df[['product_id','title','tags','type','top_category_id','top_category_text','bottom_category_id','bottom_category_text']].to_csv('/kaggle/working/bottom_category_predictions.csv')"
      ],
      "metadata": {
        "execution": {
          "iopub.status.busy": "2024-04-17T23:04:35.141337Z",
          "iopub.execute_input": "2024-04-17T23:04:35.141693Z",
          "iopub.status.idle": "2024-04-17T23:04:35.420236Z",
          "shell.execute_reply.started": "2024-04-17T23:04:35.141663Z",
          "shell.execute_reply": "2024-04-17T23:04:35.419504Z"
        },
        "trusted": true,
        "id": "ICxar8kE72QF"
      },
      "execution_count": null,
      "outputs": []
    },
    {
      "cell_type": "markdown",
      "source": [
        "# For Color Predictions"
      ],
      "metadata": {
        "id": "sT-yyt6J8Pc0"
      }
    },
    {
      "cell_type": "markdown",
      "source": [
        "## Importing Libraries"
      ],
      "metadata": {
        "id": "X04Ereuy8V7S"
      }
    },
    {
      "cell_type": "code",
      "source": [
        "!pip install rembg"
      ],
      "metadata": {
        "execution": {
          "iopub.status.busy": "2024-04-18T21:18:01.462878Z",
          "iopub.execute_input": "2024-04-18T21:18:01.463277Z",
          "iopub.status.idle": "2024-04-18T21:18:20.222583Z",
          "shell.execute_reply.started": "2024-04-18T21:18:01.463232Z",
          "shell.execute_reply": "2024-04-18T21:18:20.220955Z"
        },
        "trusted": true,
        "id": "IAHGh40c8V7V",
        "outputId": "6a8593bb-c383-40f5-9511-76842bf6ab81"
      },
      "execution_count": null,
      "outputs": [
        {
          "name": "stdout",
          "text": "Collecting rembg\n  Downloading rembg-2.0.56-py3-none-any.whl.metadata (15 kB)\nRequirement already satisfied: jsonschema in /opt/conda/lib/python3.10/site-packages (from rembg) (4.20.0)\nRequirement already satisfied: numpy in /opt/conda/lib/python3.10/site-packages (from rembg) (1.26.4)\nCollecting onnxruntime (from rembg)\n  Downloading onnxruntime-1.17.3-cp310-cp310-manylinux_2_27_x86_64.manylinux_2_28_x86_64.whl.metadata (4.4 kB)\nRequirement already satisfied: opencv-python-headless in /opt/conda/lib/python3.10/site-packages (from rembg) (4.9.0.80)\nRequirement already satisfied: pillow in /opt/conda/lib/python3.10/site-packages (from rembg) (9.5.0)\nRequirement already satisfied: pooch in /opt/conda/lib/python3.10/site-packages (from rembg) (1.8.1)\nCollecting pymatting (from rembg)\n  Downloading PyMatting-1.1.12-py3-none-any.whl.metadata (7.4 kB)\nRequirement already satisfied: scikit-image in /opt/conda/lib/python3.10/site-packages (from rembg) (0.22.0)\nRequirement already satisfied: scipy in /opt/conda/lib/python3.10/site-packages (from rembg) (1.11.4)\nRequirement already satisfied: tqdm in /opt/conda/lib/python3.10/site-packages (from rembg) (4.66.1)\nRequirement already satisfied: attrs>=22.2.0 in /opt/conda/lib/python3.10/site-packages (from jsonschema->rembg) (23.2.0)\nRequirement already satisfied: jsonschema-specifications>=2023.03.6 in /opt/conda/lib/python3.10/site-packages (from jsonschema->rembg) (2023.12.1)\nRequirement already satisfied: referencing>=0.28.4 in /opt/conda/lib/python3.10/site-packages (from jsonschema->rembg) (0.32.1)\nRequirement already satisfied: rpds-py>=0.7.1 in /opt/conda/lib/python3.10/site-packages (from jsonschema->rembg) (0.16.2)\nCollecting coloredlogs (from onnxruntime->rembg)\n  Downloading coloredlogs-15.0.1-py2.py3-none-any.whl.metadata (12 kB)\nRequirement already satisfied: flatbuffers in /opt/conda/lib/python3.10/site-packages (from onnxruntime->rembg) (23.5.26)\nRequirement already satisfied: packaging in /opt/conda/lib/python3.10/site-packages (from onnxruntime->rembg) (21.3)\nRequirement already satisfied: protobuf in /opt/conda/lib/python3.10/site-packages (from onnxruntime->rembg) (3.20.3)\nRequirement already satisfied: sympy in /opt/conda/lib/python3.10/site-packages (from onnxruntime->rembg) (1.12)\nRequirement already satisfied: platformdirs>=2.5.0 in /opt/conda/lib/python3.10/site-packages (from pooch->rembg) (4.2.0)\nRequirement already satisfied: requests>=2.19.0 in /opt/conda/lib/python3.10/site-packages (from pooch->rembg) (2.31.0)\nRequirement already satisfied: numba!=0.49.0 in /opt/conda/lib/python3.10/site-packages (from pymatting->rembg) (0.58.1)\nRequirement already satisfied: networkx>=2.8 in /opt/conda/lib/python3.10/site-packages (from scikit-image->rembg) (3.2.1)\nRequirement already satisfied: imageio>=2.27 in /opt/conda/lib/python3.10/site-packages (from scikit-image->rembg) (2.33.1)\nRequirement already satisfied: tifffile>=2022.8.12 in /opt/conda/lib/python3.10/site-packages (from scikit-image->rembg) (2023.12.9)\nRequirement already satisfied: lazy_loader>=0.3 in /opt/conda/lib/python3.10/site-packages (from scikit-image->rembg) (0.3)\nRequirement already satisfied: llvmlite<0.42,>=0.41.0dev0 in /opt/conda/lib/python3.10/site-packages (from numba!=0.49.0->pymatting->rembg) (0.41.1)\nRequirement already satisfied: pyparsing!=3.0.5,>=2.0.2 in /opt/conda/lib/python3.10/site-packages (from packaging->onnxruntime->rembg) (3.1.1)\nRequirement already satisfied: charset-normalizer<4,>=2 in /opt/conda/lib/python3.10/site-packages (from requests>=2.19.0->pooch->rembg) (3.3.2)\nRequirement already satisfied: idna<4,>=2.5 in /opt/conda/lib/python3.10/site-packages (from requests>=2.19.0->pooch->rembg) (3.6)\nRequirement already satisfied: urllib3<3,>=1.21.1 in /opt/conda/lib/python3.10/site-packages (from requests>=2.19.0->pooch->rembg) (1.26.18)\nRequirement already satisfied: certifi>=2017.4.17 in /opt/conda/lib/python3.10/site-packages (from requests>=2.19.0->pooch->rembg) (2024.2.2)\nCollecting humanfriendly>=9.1 (from coloredlogs->onnxruntime->rembg)\n  Downloading humanfriendly-10.0-py2.py3-none-any.whl.metadata (9.2 kB)\nRequirement already satisfied: mpmath>=0.19 in /opt/conda/lib/python3.10/site-packages (from sympy->onnxruntime->rembg) (1.3.0)\nDownloading rembg-2.0.56-py3-none-any.whl (32 kB)\nDownloading onnxruntime-1.17.3-cp310-cp310-manylinux_2_27_x86_64.manylinux_2_28_x86_64.whl (6.8 MB)\n\u001b[2K   \u001b[90m━━━━━━━━━━━━━━━━━━━━━━━━━━━━━━━━━━━━━━━━\u001b[0m \u001b[32m6.8/6.8 MB\u001b[0m \u001b[31m57.5 MB/s\u001b[0m eta \u001b[36m0:00:00\u001b[0m:00:01\u001b[0m0:01\u001b[0m\n\u001b[?25hDownloading PyMatting-1.1.12-py3-none-any.whl (52 kB)\n\u001b[2K   \u001b[90m━━━━━━━━━━━━━━━━━━━━━━━━━━━━━━━━━━━━━━━━\u001b[0m \u001b[32m53.0/53.0 kB\u001b[0m \u001b[31m2.7 MB/s\u001b[0m eta \u001b[36m0:00:00\u001b[0m\n\u001b[?25hDownloading coloredlogs-15.0.1-py2.py3-none-any.whl (46 kB)\n\u001b[2K   \u001b[90m━━━━━━━━━━━━━━━━━━━━━━━━━━━━━━━━━━━━━━━━\u001b[0m \u001b[32m46.0/46.0 kB\u001b[0m \u001b[31m2.0 MB/s\u001b[0m eta \u001b[36m0:00:00\u001b[0m\n\u001b[?25hDownloading humanfriendly-10.0-py2.py3-none-any.whl (86 kB)\n\u001b[2K   \u001b[90m━━━━━━━━━━━━━━━━━━━━━━━━━━━━━━━━━━━━━━━━\u001b[0m \u001b[32m86.8/86.8 kB\u001b[0m \u001b[31m3.6 MB/s\u001b[0m eta \u001b[36m0:00:00\u001b[0m\n\u001b[?25hInstalling collected packages: humanfriendly, pymatting, coloredlogs, onnxruntime, rembg\nSuccessfully installed coloredlogs-15.0.1 humanfriendly-10.0 onnxruntime-1.17.3 pymatting-1.1.12 rembg-2.0.56\n",
          "output_type": "stream"
        }
      ]
    },
    {
      "cell_type": "code",
      "source": [
        "import pandas as pd\n",
        "import numpy as np\n",
        "import re\n",
        "import torch\n",
        "import tensorflow as tf\n",
        "import os\n",
        "import io\n",
        "from rembg import remove\n",
        "from tqdm import tqdm\n",
        "import ast"
      ],
      "metadata": {
        "execution": {
          "iopub.status.busy": "2024-04-18T21:18:20.225112Z",
          "iopub.execute_input": "2024-04-18T21:18:20.225521Z",
          "iopub.status.idle": "2024-04-18T21:19:39.111215Z",
          "shell.execute_reply.started": "2024-04-18T21:18:20.225485Z",
          "shell.execute_reply": "2024-04-18T21:19:39.109545Z"
        },
        "trusted": true,
        "id": "sovrsXhL8V7X",
        "outputId": "30ad18a7-3214-4760-ded8-bec8d9c633ab"
      },
      "execution_count": null,
      "outputs": [
        {
          "name": "stderr",
          "text": "2024-04-18 21:18:26.022354: E external/local_xla/xla/stream_executor/cuda/cuda_dnn.cc:9261] Unable to register cuDNN factory: Attempting to register factory for plugin cuDNN when one has already been registered\n2024-04-18 21:18:26.022498: E external/local_xla/xla/stream_executor/cuda/cuda_fft.cc:607] Unable to register cuFFT factory: Attempting to register factory for plugin cuFFT when one has already been registered\n2024-04-18 21:18:26.176512: E external/local_xla/xla/stream_executor/cuda/cuda_blas.cc:1515] Unable to register cuBLAS factory: Attempting to register factory for plugin cuBLAS when one has already been registered\n",
          "output_type": "stream"
        }
      ]
    },
    {
      "cell_type": "markdown",
      "source": [
        "### nltk libraries"
      ],
      "metadata": {
        "id": "g-vRmg1M8V7X"
      }
    },
    {
      "cell_type": "code",
      "source": [
        "!pip install nltk\n",
        "import nltk\n",
        "from nltk.corpus import words\n",
        "\n",
        "# Download the 'words' corpus if not already downloaded\n",
        "nltk.download('words')\n",
        "\n",
        "from nltk.corpus import stopwords\n",
        "nltk.download('stopwords')\n",
        "\n",
        "from nltk.tokenize import word_tokenize\n",
        "from nltk.stem import WordNetLemmatizer\n",
        "nltk.download('wordnet')"
      ],
      "metadata": {
        "execution": {
          "iopub.status.busy": "2024-04-18T21:19:39.113260Z",
          "iopub.execute_input": "2024-04-18T21:19:39.113614Z",
          "iopub.status.idle": "2024-04-18T21:19:55.968855Z",
          "shell.execute_reply.started": "2024-04-18T21:19:39.113585Z",
          "shell.execute_reply": "2024-04-18T21:19:55.967363Z"
        },
        "trusted": true,
        "id": "_EtfYZTn8V7Y",
        "outputId": "d35dd1b9-c47c-468e-9830-f9dfe5a56597"
      },
      "execution_count": null,
      "outputs": [
        {
          "name": "stderr",
          "text": "/opt/conda/lib/python3.10/pty.py:89: RuntimeWarning: os.fork() was called. os.fork() is incompatible with multithreaded code, and JAX is multithreaded, so this will likely lead to a deadlock.\n  pid, fd = os.forkpty()\n",
          "output_type": "stream"
        },
        {
          "name": "stdout",
          "text": "Requirement already satisfied: nltk in /opt/conda/lib/python3.10/site-packages (3.2.4)\nRequirement already satisfied: six in /opt/conda/lib/python3.10/site-packages (from nltk) (1.16.0)\n[nltk_data] Downloading package words to /usr/share/nltk_data...\n[nltk_data]   Package words is already up-to-date!\n[nltk_data] Downloading package stopwords to /usr/share/nltk_data...\n[nltk_data]   Package stopwords is already up-to-date!\n[nltk_data] Downloading package wordnet to /usr/share/nltk_data...\n[nltk_data]   Package wordnet is already up-to-date!\n",
          "output_type": "stream"
        },
        {
          "execution_count": 3,
          "output_type": "execute_result",
          "data": {
            "text/plain": "True"
          },
          "metadata": {}
        }
      ]
    },
    {
      "cell_type": "code",
      "source": [
        "!pip install beautifulsoup4\n",
        "from bs4 import BeautifulSoup"
      ],
      "metadata": {
        "execution": {
          "iopub.status.busy": "2024-04-18T21:19:55.972383Z",
          "iopub.execute_input": "2024-04-18T21:19:55.972875Z",
          "iopub.status.idle": "2024-04-18T21:20:11.037938Z",
          "shell.execute_reply.started": "2024-04-18T21:19:55.972831Z",
          "shell.execute_reply": "2024-04-18T21:20:11.036847Z"
        },
        "trusted": true,
        "id": "m_2spo5b8V7Y",
        "outputId": "e03ebd14-a269-4d6b-c869-f04754188e26"
      },
      "execution_count": null,
      "outputs": [
        {
          "name": "stderr",
          "text": "/opt/conda/lib/python3.10/pty.py:89: RuntimeWarning: os.fork() was called. os.fork() is incompatible with multithreaded code, and JAX is multithreaded, so this will likely lead to a deadlock.\n  pid, fd = os.forkpty()\n",
          "output_type": "stream"
        },
        {
          "name": "stdout",
          "text": "Requirement already satisfied: beautifulsoup4 in /opt/conda/lib/python3.10/site-packages (4.12.2)\nRequirement already satisfied: soupsieve>1.2 in /opt/conda/lib/python3.10/site-packages (from beautifulsoup4) (2.5)\n",
          "output_type": "stream"
        }
      ]
    },
    {
      "cell_type": "markdown",
      "source": [
        "### Libraries for statistics"
      ],
      "metadata": {
        "id": "AG7_TMu28V7Y"
      }
    },
    {
      "cell_type": "code",
      "source": [
        "from scipy.stats import chi2_contingency\n",
        "from scipy.stats import ks_2samp"
      ],
      "metadata": {
        "execution": {
          "iopub.status.busy": "2024-04-18T21:20:11.039808Z",
          "iopub.execute_input": "2024-04-18T21:20:11.041308Z",
          "iopub.status.idle": "2024-04-18T21:20:11.047158Z",
          "shell.execute_reply.started": "2024-04-18T21:20:11.041269Z",
          "shell.execute_reply": "2024-04-18T21:20:11.045707Z"
        },
        "trusted": true,
        "id": "F2VxdN3e8V7Z"
      },
      "execution_count": null,
      "outputs": []
    },
    {
      "cell_type": "code",
      "source": [
        "from sklearn.cluster import KMeans"
      ],
      "metadata": {
        "execution": {
          "iopub.status.busy": "2024-04-18T21:20:11.048694Z",
          "iopub.execute_input": "2024-04-18T21:20:11.050252Z",
          "iopub.status.idle": "2024-04-18T21:20:11.250662Z",
          "shell.execute_reply.started": "2024-04-18T21:20:11.050191Z",
          "shell.execute_reply": "2024-04-18T21:20:11.249298Z"
        },
        "trusted": true,
        "id": "XS3F69788V7Z"
      },
      "execution_count": null,
      "outputs": []
    },
    {
      "cell_type": "markdown",
      "source": [
        "### Image Libraries"
      ],
      "metadata": {
        "id": "-VSGfLpY8V7Z"
      }
    },
    {
      "cell_type": "code",
      "source": [
        "!pip install ultralytics\n",
        "from ultralytics import YOLO\n",
        "from PIL import Image"
      ],
      "metadata": {
        "execution": {
          "iopub.status.busy": "2024-04-18T21:20:11.252392Z",
          "iopub.execute_input": "2024-04-18T21:20:11.252717Z",
          "iopub.status.idle": "2024-04-18T21:20:27.759806Z",
          "shell.execute_reply.started": "2024-04-18T21:20:11.252688Z",
          "shell.execute_reply": "2024-04-18T21:20:27.757969Z"
        },
        "trusted": true,
        "id": "ymWgKwYX8V7Z",
        "outputId": "1eda8a93-aa01-44ab-e43d-172a799ec5fc"
      },
      "execution_count": null,
      "outputs": [
        {
          "name": "stdout",
          "text": "Collecting ultralytics\n  Downloading ultralytics-8.2.1-py3-none-any.whl.metadata (40 kB)\n\u001b[2K     \u001b[90m━━━━━━━━━━━━━━━━━━━━━━━━━━━━━━━━━━━━━━━━\u001b[0m \u001b[32m40.5/40.5 kB\u001b[0m \u001b[31m1.9 MB/s\u001b[0m eta \u001b[36m0:00:00\u001b[0m\n\u001b[?25hRequirement already satisfied: matplotlib>=3.3.0 in /opt/conda/lib/python3.10/site-packages (from ultralytics) (3.7.5)\nRequirement already satisfied: opencv-python>=4.6.0 in /opt/conda/lib/python3.10/site-packages (from ultralytics) (4.9.0.80)\nRequirement already satisfied: pillow>=7.1.2 in /opt/conda/lib/python3.10/site-packages (from ultralytics) (9.5.0)\nRequirement already satisfied: pyyaml>=5.3.1 in /opt/conda/lib/python3.10/site-packages (from ultralytics) (6.0.1)\nRequirement already satisfied: requests>=2.23.0 in /opt/conda/lib/python3.10/site-packages (from ultralytics) (2.31.0)\nRequirement already satisfied: scipy>=1.4.1 in /opt/conda/lib/python3.10/site-packages (from ultralytics) (1.11.4)\nRequirement already satisfied: torch>=1.8.0 in /opt/conda/lib/python3.10/site-packages (from ultralytics) (2.1.2+cpu)\nRequirement already satisfied: torchvision>=0.9.0 in /opt/conda/lib/python3.10/site-packages (from ultralytics) (0.16.2+cpu)\nRequirement already satisfied: tqdm>=4.64.0 in /opt/conda/lib/python3.10/site-packages (from ultralytics) (4.66.1)\nRequirement already satisfied: psutil in /opt/conda/lib/python3.10/site-packages (from ultralytics) (5.9.3)\nRequirement already satisfied: py-cpuinfo in /opt/conda/lib/python3.10/site-packages (from ultralytics) (9.0.0)\nCollecting thop>=0.1.1 (from ultralytics)\n  Downloading thop-0.1.1.post2209072238-py3-none-any.whl.metadata (2.7 kB)\nRequirement already satisfied: pandas>=1.1.4 in /opt/conda/lib/python3.10/site-packages (from ultralytics) (2.2.1)\nRequirement already satisfied: seaborn>=0.11.0 in /opt/conda/lib/python3.10/site-packages (from ultralytics) (0.12.2)\nRequirement already satisfied: contourpy>=1.0.1 in /opt/conda/lib/python3.10/site-packages (from matplotlib>=3.3.0->ultralytics) (1.2.0)\nRequirement already satisfied: cycler>=0.10 in /opt/conda/lib/python3.10/site-packages (from matplotlib>=3.3.0->ultralytics) (0.12.1)\nRequirement already satisfied: fonttools>=4.22.0 in /opt/conda/lib/python3.10/site-packages (from matplotlib>=3.3.0->ultralytics) (4.47.0)\nRequirement already satisfied: kiwisolver>=1.0.1 in /opt/conda/lib/python3.10/site-packages (from matplotlib>=3.3.0->ultralytics) (1.4.5)\nRequirement already satisfied: numpy<2,>=1.20 in /opt/conda/lib/python3.10/site-packages (from matplotlib>=3.3.0->ultralytics) (1.26.4)\nRequirement already satisfied: packaging>=20.0 in /opt/conda/lib/python3.10/site-packages (from matplotlib>=3.3.0->ultralytics) (21.3)\nRequirement already satisfied: pyparsing>=2.3.1 in /opt/conda/lib/python3.10/site-packages (from matplotlib>=3.3.0->ultralytics) (3.1.1)\nRequirement already satisfied: python-dateutil>=2.7 in /opt/conda/lib/python3.10/site-packages (from matplotlib>=3.3.0->ultralytics) (2.9.0.post0)\nRequirement already satisfied: pytz>=2020.1 in /opt/conda/lib/python3.10/site-packages (from pandas>=1.1.4->ultralytics) (2023.3.post1)\nRequirement already satisfied: tzdata>=2022.7 in /opt/conda/lib/python3.10/site-packages (from pandas>=1.1.4->ultralytics) (2023.4)\nRequirement already satisfied: charset-normalizer<4,>=2 in /opt/conda/lib/python3.10/site-packages (from requests>=2.23.0->ultralytics) (3.3.2)\nRequirement already satisfied: idna<4,>=2.5 in /opt/conda/lib/python3.10/site-packages (from requests>=2.23.0->ultralytics) (3.6)\nRequirement already satisfied: urllib3<3,>=1.21.1 in /opt/conda/lib/python3.10/site-packages (from requests>=2.23.0->ultralytics) (1.26.18)\nRequirement already satisfied: certifi>=2017.4.17 in /opt/conda/lib/python3.10/site-packages (from requests>=2.23.0->ultralytics) (2024.2.2)\nRequirement already satisfied: filelock in /opt/conda/lib/python3.10/site-packages (from torch>=1.8.0->ultralytics) (3.13.1)\nRequirement already satisfied: typing-extensions in /opt/conda/lib/python3.10/site-packages (from torch>=1.8.0->ultralytics) (4.9.0)\nRequirement already satisfied: sympy in /opt/conda/lib/python3.10/site-packages (from torch>=1.8.0->ultralytics) (1.12)\nRequirement already satisfied: networkx in /opt/conda/lib/python3.10/site-packages (from torch>=1.8.0->ultralytics) (3.2.1)\nRequirement already satisfied: jinja2 in /opt/conda/lib/python3.10/site-packages (from torch>=1.8.0->ultralytics) (3.1.2)\nRequirement already satisfied: fsspec in /opt/conda/lib/python3.10/site-packages (from torch>=1.8.0->ultralytics) (2024.2.0)\nRequirement already satisfied: six>=1.5 in /opt/conda/lib/python3.10/site-packages (from python-dateutil>=2.7->matplotlib>=3.3.0->ultralytics) (1.16.0)\nRequirement already satisfied: MarkupSafe>=2.0 in /opt/conda/lib/python3.10/site-packages (from jinja2->torch>=1.8.0->ultralytics) (2.1.3)\nRequirement already satisfied: mpmath>=0.19 in /opt/conda/lib/python3.10/site-packages (from sympy->torch>=1.8.0->ultralytics) (1.3.0)\nDownloading ultralytics-8.2.1-py3-none-any.whl (750 kB)\n\u001b[2K   \u001b[90m━━━━━━━━━━━━━━━━━━━━━━━━━━━━━━━━━━━━━━━━\u001b[0m \u001b[32m750.8/750.8 kB\u001b[0m \u001b[31m15.4 MB/s\u001b[0m eta \u001b[36m0:00:00\u001b[0m00:01\u001b[0m\n\u001b[?25hDownloading thop-0.1.1.post2209072238-py3-none-any.whl (15 kB)\nInstalling collected packages: thop, ultralytics\nSuccessfully installed thop-0.1.1.post2209072238 ultralytics-8.2.1\n",
          "output_type": "stream"
        }
      ]
    },
    {
      "cell_type": "markdown",
      "source": [
        "### Libraries for model training"
      ],
      "metadata": {
        "id": "WMwPHH7Z8V7a"
      }
    },
    {
      "cell_type": "code",
      "source": [],
      "metadata": {
        "id": "pG_jxaux8V7a"
      },
      "execution_count": null,
      "outputs": []
    },
    {
      "cell_type": "markdown",
      "source": [
        "## Importing Dataset"
      ],
      "metadata": {
        "id": "9d0HHivT8V7a"
      }
    },
    {
      "cell_type": "code",
      "source": [
        "PATH = f\"/kaggle/input/etsy-dataset/data/2024\""
      ],
      "metadata": {
        "execution": {
          "iopub.status.busy": "2024-04-18T21:20:27.764859Z",
          "iopub.execute_input": "2024-04-18T21:20:27.765495Z",
          "iopub.status.idle": "2024-04-18T21:20:27.772932Z",
          "shell.execute_reply.started": "2024-04-18T21:20:27.765446Z",
          "shell.execute_reply": "2024-04-18T21:20:27.771056Z"
        },
        "trusted": true,
        "id": "k9g4Sa7M8V7a"
      },
      "execution_count": null,
      "outputs": []
    },
    {
      "cell_type": "code",
      "source": [
        "parquet_filenames_train = os.listdir(\"/kaggle/input/etsy-dataset/data/2024/train\")\n",
        "parquet_filenames_test = os.listdir(\"/kaggle/input/etsy-dataset/data/2024/test\")"
      ],
      "metadata": {
        "execution": {
          "iopub.status.busy": "2024-04-18T21:20:27.775387Z",
          "iopub.execute_input": "2024-04-18T21:20:27.775979Z",
          "iopub.status.idle": "2024-04-18T21:20:28.170794Z",
          "shell.execute_reply.started": "2024-04-18T21:20:27.775912Z",
          "shell.execute_reply": "2024-04-18T21:20:28.169768Z"
        },
        "trusted": true,
        "id": "VLXf2tvV8V7a"
      },
      "execution_count": null,
      "outputs": []
    },
    {
      "cell_type": "code",
      "source": [
        "def read_data(folder, filenames):\n",
        "    \"\"\" Read parquet data from mutiple files \"\"\"\n",
        "\n",
        "    dataframes = [\n",
        "        pd.read_parquet(f\"{PATH}/{folder}/{filename}\")\n",
        "        for filename in filenames\n",
        "    ]\n",
        "\n",
        "    return pd.concat(dataframes)"
      ],
      "metadata": {
        "execution": {
          "iopub.status.busy": "2024-04-18T21:20:28.176793Z",
          "iopub.execute_input": "2024-04-18T21:20:28.177604Z",
          "iopub.status.idle": "2024-04-18T21:20:28.184784Z",
          "shell.execute_reply.started": "2024-04-18T21:20:28.177561Z",
          "shell.execute_reply": "2024-04-18T21:20:28.183037Z"
        },
        "trusted": true,
        "id": "_n8tShcg8V7b"
      },
      "execution_count": null,
      "outputs": []
    },
    {
      "cell_type": "code",
      "source": [
        "%%time\n",
        "\n",
        "df_train = read_data(\"train\", parquet_filenames_train[:])\n",
        "#df_test = read_data(\"test\", parquet_filenames_test[:])"
      ],
      "metadata": {
        "execution": {
          "iopub.status.busy": "2024-04-18T21:20:28.186439Z",
          "iopub.execute_input": "2024-04-18T21:20:28.186885Z",
          "iopub.status.idle": "2024-04-18T21:24:28.158687Z",
          "shell.execute_reply.started": "2024-04-18T21:20:28.186842Z",
          "shell.execute_reply": "2024-04-18T21:24:28.156857Z"
        },
        "trusted": true,
        "id": "HWgIlzTq8V7b",
        "outputId": "9db6685c-56b8-485a-af21-f0ac829fbd5b"
      },
      "execution_count": null,
      "outputs": [
        {
          "name": "stdout",
          "text": "CPU times: user 21.1 s, sys: 53.9 s, total: 1min 15s\nWall time: 3min 59s\n",
          "output_type": "stream"
        }
      ]
    },
    {
      "cell_type": "code",
      "source": [
        "df_test = read_data(\"test\", parquet_filenames_test[:])"
      ],
      "metadata": {
        "execution": {
          "iopub.status.busy": "2024-04-18T13:39:59.120613Z",
          "iopub.execute_input": "2024-04-18T13:39:59.121017Z",
          "iopub.status.idle": "2024-04-18T13:40:05.487748Z",
          "shell.execute_reply.started": "2024-04-18T13:39:59.120988Z",
          "shell.execute_reply": "2024-04-18T13:40:05.486216Z"
        },
        "trusted": true,
        "id": "_ozWxoPG8V7b"
      },
      "execution_count": null,
      "outputs": []
    },
    {
      "cell_type": "markdown",
      "source": [
        "# Sampling the Dataset For top Category ID"
      ],
      "metadata": {
        "id": "C863s30P8V7b"
      }
    },
    {
      "cell_type": "markdown",
      "source": [
        "Since the dataset is huge it will impact the computation and resources. In order to train the dataset efficiently we will sample the dataset accordingly. Let check the percentage distribution or primary_color_id"
      ],
      "metadata": {
        "id": "92B59zh78V7b"
      }
    },
    {
      "cell_type": "code",
      "source": [
        "df_train['primary_color_id'].value_counts()"
      ],
      "metadata": {
        "execution": {
          "iopub.status.busy": "2024-04-18T09:12:42.521868Z",
          "iopub.execute_input": "2024-04-18T09:12:42.522215Z",
          "iopub.status.idle": "2024-04-18T09:12:42.531948Z",
          "shell.execute_reply.started": "2024-04-18T09:12:42.522187Z",
          "shell.execute_reply": "2024-04-18T09:12:42.531298Z"
        },
        "trusted": true,
        "id": "1N-YusUk8V7b",
        "outputId": "34d1f7dc-3435-4592-f8b7-d504afe34cd0"
      },
      "execution_count": null,
      "outputs": [
        {
          "execution_count": 12,
          "output_type": "execute_result",
          "data": {
            "text/plain": "primary_color_id\n1     30673\n17    28609\n2     27649\n4     19867\n11    16029\n14    15835\n9     15578\n0     12366\n16    10758\n7      9569\n19     8985\n18     7231\n12     6750\n10     5625\n5      4546\n13     4404\n3      2471\n6      1852\n15      827\nName: count, dtype: int64"
          },
          "metadata": {}
        }
      ]
    },
    {
      "cell_type": "code",
      "source": [
        "df_train['primary_color_id'].value_counts(normalize=True) * 100"
      ],
      "metadata": {
        "execution": {
          "iopub.status.busy": "2024-04-18T09:12:42.532934Z",
          "iopub.execute_input": "2024-04-18T09:12:42.533366Z",
          "iopub.status.idle": "2024-04-18T09:12:42.554932Z",
          "shell.execute_reply.started": "2024-04-18T09:12:42.533337Z",
          "shell.execute_reply": "2024-04-18T09:12:42.554289Z"
        },
        "trusted": true,
        "id": "dv3thess8V7c",
        "outputId": "72408cb9-8fad-46e3-a56f-3376ff78e532"
      },
      "execution_count": null,
      "outputs": [
        {
          "execution_count": 13,
          "output_type": "execute_result",
          "data": {
            "text/plain": "primary_color_id\n1     13.357924\n17    12.459064\n2     12.040989\n4      8.651970\n11     6.980542\n14     6.896056\n9      6.784134\n0      5.385326\n16     4.685050\n7      4.167247\n19     3.912919\n18     3.149061\n12     2.939588\n10     2.449657\n5      1.979758\n13     1.917918\n3      1.076107\n6      0.806536\n15     0.360154\nName: proportion, dtype: float64"
          },
          "metadata": {}
        }
      ]
    },
    {
      "cell_type": "markdown",
      "source": [
        "Now since we have percentage distribution lets do sampling for sample data length calculation Using the link https://www.calculator.net/sample-size-calculator.html received the sample size as 15517\n",
        "\n",
        "![image.png](attachment:65737022-850f-47b6-b6e9-f5e7d490df7a.png)"
      ],
      "metadata": {
        "id": "0CWjEji78V7c"
      }
    },
    {
      "cell_type": "markdown",
      "source": [
        "Using Stratified sampling"
      ],
      "metadata": {
        "id": "bl7yaN_g8V7c"
      }
    },
    {
      "cell_type": "code",
      "source": [
        "sample_size=15517"
      ],
      "metadata": {
        "execution": {
          "iopub.status.busy": "2024-04-18T09:12:42.555896Z",
          "iopub.execute_input": "2024-04-18T09:12:42.556166Z",
          "iopub.status.idle": "2024-04-18T09:12:42.574848Z",
          "shell.execute_reply.started": "2024-04-18T09:12:42.556139Z",
          "shell.execute_reply": "2024-04-18T09:12:42.574196Z"
        },
        "trusted": true,
        "id": "iNyeoYhM8V7d"
      },
      "execution_count": null,
      "outputs": []
    },
    {
      "cell_type": "code",
      "source": [
        "primary_color_percentage = df_train['primary_color_id'].value_counts(normalize=True)\n",
        "secondary_color_percentage = df_train['secondary_color_id'].value_counts(normalize=True)\n",
        "\n",
        "# Perform stratified sampling for primary_color_id\n",
        "sampled_primary_color = df_train.groupby('primary_color_id').apply(lambda x: x.sample(int(sample_size * primary_color_percentage[x.name])))\n",
        "\n",
        "# Perform stratified sampling for secondary_color_id\n",
        "sampled_secondary_color = df_train.groupby('secondary_color_id').apply(lambda x: x.sample(int(sample_size * secondary_color_percentage[x.name])))\n",
        "\n",
        "# Concatenate the sampled DataFrames\n",
        "sampled_df = pd.concat([sampled_primary_color, sampled_secondary_color])\n",
        "\n",
        "# Shuffle the DataFrame to ensure randomness\n",
        "sampled_df = sampled_df.sample(frac=1).reset_index(drop=True)"
      ],
      "metadata": {
        "execution": {
          "iopub.status.busy": "2024-04-18T09:12:42.575748Z",
          "iopub.execute_input": "2024-04-18T09:12:42.576026Z",
          "iopub.status.idle": "2024-04-18T09:12:43.097599Z",
          "shell.execute_reply.started": "2024-04-18T09:12:42.576001Z",
          "shell.execute_reply": "2024-04-18T09:12:43.096841Z"
        },
        "trusted": true,
        "id": "I5BkD4qb8V7d",
        "outputId": "e3c36a4a-0671-443b-d934-168f510c1aaf"
      },
      "execution_count": null,
      "outputs": [
        {
          "name": "stderr",
          "text": "/tmp/ipykernel_13/863357012.py:5: DeprecationWarning: DataFrameGroupBy.apply operated on the grouping columns. This behavior is deprecated, and in a future version of pandas the grouping columns will be excluded from the operation. Either pass `include_groups=False` to exclude the groupings or explicitly select the grouping columns after groupby to silence this warning.\n  sampled_primary_color = df_train.groupby('primary_color_id').apply(lambda x: x.sample(int(sample_size * primary_color_percentage[x.name])))\n/tmp/ipykernel_13/863357012.py:8: DeprecationWarning: DataFrameGroupBy.apply operated on the grouping columns. This behavior is deprecated, and in a future version of pandas the grouping columns will be excluded from the operation. Either pass `include_groups=False` to exclude the groupings or explicitly select the grouping columns after groupby to silence this warning.\n  sampled_secondary_color = df_train.groupby('secondary_color_id').apply(lambda x: x.sample(int(sample_size * secondary_color_percentage[x.name])))\n",
          "output_type": "stream"
        }
      ]
    },
    {
      "cell_type": "code",
      "source": [
        "len(sampled_df)"
      ],
      "metadata": {
        "execution": {
          "iopub.status.busy": "2024-04-18T09:12:43.098604Z",
          "iopub.execute_input": "2024-04-18T09:12:43.098864Z",
          "iopub.status.idle": "2024-04-18T09:12:43.103446Z",
          "shell.execute_reply.started": "2024-04-18T09:12:43.098839Z",
          "shell.execute_reply": "2024-04-18T09:12:43.102849Z"
        },
        "trusted": true,
        "id": "2gPd6XVL8V7d",
        "outputId": "125767bc-7fcd-4c2c-b348-8d44a45d9a2f"
      },
      "execution_count": null,
      "outputs": [
        {
          "execution_count": 16,
          "output_type": "execute_result",
          "data": {
            "text/plain": "31014"
          },
          "metadata": {}
        }
      ]
    },
    {
      "cell_type": "code",
      "source": [
        "len(sampled_df[sampled_df.duplicated(subset=['product_id'], keep=False)])"
      ],
      "metadata": {
        "execution": {
          "iopub.status.busy": "2024-04-18T09:12:43.104309Z",
          "iopub.execute_input": "2024-04-18T09:12:43.104563Z",
          "iopub.status.idle": "2024-04-18T09:12:43.125124Z",
          "shell.execute_reply.started": "2024-04-18T09:12:43.104539Z",
          "shell.execute_reply": "2024-04-18T09:12:43.124562Z"
        },
        "trusted": true,
        "id": "_rgON6tx8V7e",
        "outputId": "4f9c4fdf-3006-41c6-f2c6-51242a0b0b54"
      },
      "execution_count": null,
      "outputs": [
        {
          "execution_count": 17,
          "output_type": "execute_result",
          "data": {
            "text/plain": "2148"
          },
          "metadata": {}
        }
      ]
    },
    {
      "cell_type": "code",
      "source": [
        "sampled_df = sampled_df.drop_duplicates(subset=['product_id'])"
      ],
      "metadata": {
        "execution": {
          "iopub.status.busy": "2024-04-18T09:12:43.125981Z",
          "iopub.execute_input": "2024-04-18T09:12:43.126228Z",
          "iopub.status.idle": "2024-04-18T09:12:43.152837Z",
          "shell.execute_reply.started": "2024-04-18T09:12:43.126204Z",
          "shell.execute_reply": "2024-04-18T09:12:43.152155Z"
        },
        "trusted": true,
        "id": "0DTu8N8b8V7e"
      },
      "execution_count": null,
      "outputs": []
    },
    {
      "cell_type": "markdown",
      "source": [
        "Now lets check statistically if sample df is equal to df_train using chi square test"
      ],
      "metadata": {
        "id": "U5rLeFPs8V7f"
      }
    },
    {
      "cell_type": "code",
      "source": [
        "original_counts = df_train['primary_color_id'].value_counts()\n",
        "sample_counts = sampled_df['primary_color_id'].value_counts()\n",
        "\n",
        "contingency_table = pd.concat([original_counts, sample_counts], axis=1, keys=['Original', 'Sample']).fillna(0)\n",
        "\n",
        "chi2, p_value, _, _ = chi2_contingency(contingency_table)\n",
        "\n",
        "print(\"Chi-square statistic:\", chi2)\n",
        "print(\"P-value:\", p_value)"
      ],
      "metadata": {
        "execution": {
          "iopub.status.busy": "2024-04-18T09:12:43.153748Z",
          "iopub.execute_input": "2024-04-18T09:12:43.153991Z",
          "iopub.status.idle": "2024-04-18T09:12:43.163395Z",
          "shell.execute_reply.started": "2024-04-18T09:12:43.153967Z",
          "shell.execute_reply": "2024-04-18T09:12:43.162737Z"
        },
        "trusted": true,
        "id": "oIpGyw_08V7f",
        "outputId": "e4f75850-dc53-4b70-d084-6280a8361cda"
      },
      "execution_count": null,
      "outputs": [
        {
          "name": "stdout",
          "text": "Chi-square statistic: 7.021259710426978\nP-value: 0.9899458381791132\n",
          "output_type": "stream"
        }
      ]
    },
    {
      "cell_type": "code",
      "source": [
        "original_counts = df_train['secondary_color_id'].value_counts()\n",
        "sample_counts = sampled_df['secondary_color_id'].value_counts()\n",
        "\n",
        "contingency_table = pd.concat([original_counts, sample_counts], axis=1, keys=['Original', 'Sample']).fillna(0)\n",
        "\n",
        "chi2, p_value, _, _ = chi2_contingency(contingency_table)\n",
        "\n",
        "print(\"Chi-square statistic:\", chi2)\n",
        "print(\"P-value:\", p_value)"
      ],
      "metadata": {
        "execution": {
          "iopub.status.busy": "2024-04-18T09:12:43.164316Z",
          "iopub.execute_input": "2024-04-18T09:12:43.164580Z",
          "iopub.status.idle": "2024-04-18T09:12:43.180473Z",
          "shell.execute_reply.started": "2024-04-18T09:12:43.164553Z",
          "shell.execute_reply": "2024-04-18T09:12:43.179769Z"
        },
        "trusted": true,
        "id": "I8Bz3dOq8V7f",
        "outputId": "a7b8d084-c398-4784-807e-8d882574242a"
      },
      "execution_count": null,
      "outputs": [
        {
          "name": "stdout",
          "text": "Chi-square statistic: 5.751657483256019\nP-value: 0.9971037064345525\n",
          "output_type": "stream"
        }
      ]
    },
    {
      "cell_type": "markdown",
      "source": [
        "Checking Kolmogorov-Smirnov Test as well"
      ],
      "metadata": {
        "id": "XKFhZ-7L8V7g"
      }
    },
    {
      "cell_type": "code",
      "source": [
        "ecdf_original = df_train['primary_color_id'].value_counts(normalize=True).sort_index().cumsum()\n",
        "ecdf_sample = sampled_df['primary_color_id'].value_counts(normalize=True).sort_index().cumsum()\n",
        "\n",
        "# Perform Kolmogorov-Smirnov Test\n",
        "ks_statistic, p_value = ks_2samp(ecdf_original, ecdf_sample)\n",
        "\n",
        "print(\"Kolmogorov-Smirnov Test Statistic:\", ks_statistic)\n",
        "print(\"P-value:\", p_value)"
      ],
      "metadata": {
        "execution": {
          "iopub.status.busy": "2024-04-18T09:12:43.181442Z",
          "iopub.execute_input": "2024-04-18T09:12:43.181701Z",
          "iopub.status.idle": "2024-04-18T09:12:43.196140Z",
          "shell.execute_reply.started": "2024-04-18T09:12:43.181675Z",
          "shell.execute_reply": "2024-04-18T09:12:43.195492Z"
        },
        "trusted": true,
        "id": "am4_3jx68V7g",
        "outputId": "3ceac22a-fb43-47df-a9b8-fc977fe3061c"
      },
      "execution_count": null,
      "outputs": [
        {
          "name": "stdout",
          "text": "Kolmogorov-Smirnov Test Statistic: 0.05263157894736842\nP-value: 1.0\n",
          "output_type": "stream"
        }
      ]
    },
    {
      "cell_type": "code",
      "source": [
        "ecdf_original = df_train['secondary_color_id'].value_counts(normalize=True).sort_index().cumsum()\n",
        "ecdf_sample = sampled_df['secondary_color_id'].value_counts(normalize=True).sort_index().cumsum()\n",
        "\n",
        "# Perform Kolmogorov-Smirnov Test\n",
        "ks_statistic, p_value = ks_2samp(ecdf_original, ecdf_sample)\n",
        "\n",
        "print(\"Kolmogorov-Smirnov Test Statistic:\", ks_statistic)\n",
        "print(\"P-value:\", p_value)"
      ],
      "metadata": {
        "execution": {
          "iopub.status.busy": "2024-04-18T09:12:43.196992Z",
          "iopub.execute_input": "2024-04-18T09:12:43.197469Z",
          "iopub.status.idle": "2024-04-18T09:12:43.214199Z",
          "shell.execute_reply.started": "2024-04-18T09:12:43.197440Z",
          "shell.execute_reply": "2024-04-18T09:12:43.213562Z"
        },
        "trusted": true,
        "id": "KxDHoiVt8V7g",
        "outputId": "466b6e71-68cb-4c9b-92d4-e86e6e6157c5"
      },
      "execution_count": null,
      "outputs": [
        {
          "name": "stdout",
          "text": "Kolmogorov-Smirnov Test Statistic: 0.05263157894736842\nP-value: 1.0\n",
          "output_type": "stream"
        }
      ]
    },
    {
      "cell_type": "markdown",
      "source": [
        "Now since the p-value is 1 we will accept the null hypothesis that is sample and population dataframes are the same"
      ],
      "metadata": {
        "id": "ezZmWDro8V7h"
      }
    },
    {
      "cell_type": "markdown",
      "source": [
        "## Image Processing - Start"
      ],
      "metadata": {
        "id": "9zltZpzW8V7h"
      }
    },
    {
      "cell_type": "markdown",
      "source": [
        "### YOLO using GPU"
      ],
      "metadata": {
        "id": "x7fWFSij8V7u"
      }
    },
    {
      "cell_type": "code",
      "source": [
        "model = YOLO(\"yolov8s.pt\")"
      ],
      "metadata": {
        "execution": {
          "iopub.status.busy": "2024-04-18T09:12:43.215050Z",
          "iopub.execute_input": "2024-04-18T09:12:43.215326Z",
          "iopub.status.idle": "2024-04-18T09:12:44.518966Z",
          "shell.execute_reply.started": "2024-04-18T09:12:43.215299Z",
          "shell.execute_reply": "2024-04-18T09:12:44.517920Z"
        },
        "trusted": true,
        "id": "p1xu71z48V7u",
        "outputId": "d5d5a308-27be-4736-ccbb-0d8d7675a3d7"
      },
      "execution_count": null,
      "outputs": [
        {
          "name": "stdout",
          "text": "Downloading https://github.com/ultralytics/assets/releases/download/v8.2.0/yolov8s.pt to 'yolov8s.pt'...\n",
          "output_type": "stream"
        },
        {
          "name": "stderr",
          "text": "100%|██████████| 21.5M/21.5M [00:00<00:00, 164MB/s]\n",
          "output_type": "stream"
        }
      ]
    },
    {
      "cell_type": "code",
      "source": [
        "def calculate_area(coordinates):\n",
        "    xmin, ymin, xmax, ymax = coordinates\n",
        "    return (xmax - xmin) * (ymax - ymin)"
      ],
      "metadata": {
        "execution": {
          "iopub.status.busy": "2024-04-18T09:12:44.520418Z",
          "iopub.execute_input": "2024-04-18T09:12:44.520759Z",
          "iopub.status.idle": "2024-04-18T09:12:44.525540Z",
          "shell.execute_reply.started": "2024-04-18T09:12:44.520725Z",
          "shell.execute_reply": "2024-04-18T09:12:44.524713Z"
        },
        "trusted": true,
        "id": "bdCYhREZ8V7u"
      },
      "execution_count": null,
      "outputs": []
    },
    {
      "cell_type": "code",
      "source": [
        "def change_width_height(image):\n",
        "    # Open the image\n",
        "\n",
        "    new_width = 224\n",
        "    new_height = 224\n",
        "\n",
        "\n",
        "    # Resize the image\n",
        "    resized_image = image.resize((new_width, new_height))\n",
        "\n",
        "    return resized_image"
      ],
      "metadata": {
        "execution": {
          "iopub.status.busy": "2024-04-18T09:12:44.526620Z",
          "iopub.execute_input": "2024-04-18T09:12:44.526899Z",
          "iopub.status.idle": "2024-04-18T09:12:44.540485Z",
          "shell.execute_reply.started": "2024-04-18T09:12:44.526871Z",
          "shell.execute_reply": "2024-04-18T09:12:44.539766Z"
        },
        "trusted": true,
        "id": "7lBUBQZY8V7u"
      },
      "execution_count": null,
      "outputs": []
    },
    {
      "cell_type": "code",
      "source": [
        "#Optimized code\n",
        "def get_bounding_box(img_bytes):\n",
        "    bytes_io = io.BytesIO(img_bytes)\n",
        "    image = Image.open(bytes_io)\n",
        "    image = change_width_height(image)\n",
        "    results = model.predict(image,verbose=False)\n",
        "    result_1 = [box for box in results[0].boxes if box.conf[0].item() >= 0.5]\n",
        "\n",
        "    if not result_1:\n",
        "        return image\n",
        "\n",
        "    if len(result_1) > 1:\n",
        "        largest_bbox = max(result_1, key=lambda bbox: calculate_area(bbox.xyxy[0].tolist()))\n",
        "    else:\n",
        "        largest_bbox = result_1[0]\n",
        "\n",
        "    bbox_coords = [round(coord) for coord in largest_bbox.xyxy[0].tolist()]\n",
        "    if bbox_coords:\n",
        "        image = image.crop(bbox_coords)\n",
        "\n",
        "    #buffered = io.BytesIO()\n",
        "    #image.save(buffered, format=\"JPEG\")  # Change format if your image is in a different format\n",
        "    #image_bytes = buffered.getvalue()\n",
        "\n",
        "\n",
        "    return image"
      ],
      "metadata": {
        "execution": {
          "iopub.status.busy": "2024-04-18T09:12:44.541470Z",
          "iopub.execute_input": "2024-04-18T09:12:44.541714Z",
          "iopub.status.idle": "2024-04-18T09:12:44.553428Z",
          "shell.execute_reply.started": "2024-04-18T09:12:44.541690Z",
          "shell.execute_reply": "2024-04-18T09:12:44.552804Z"
        },
        "trusted": true,
        "id": "nMofrqMc8V7u"
      },
      "execution_count": null,
      "outputs": []
    },
    {
      "cell_type": "code",
      "source": [
        "import warnings\n",
        "def extract_color_with_bg(rgb_image_blue):\n",
        "  w, h, d = tuple(rgb_image_blue.shape)\n",
        "\n",
        "  pixel = np.reshape(rgb_image_blue, (w * h, d))\n",
        "\n",
        "  %matplotlib inline\n",
        "\n",
        "  n_colors = 2\n",
        "\n",
        "  with warnings.catch_warnings():\n",
        "    # Suppress all warnings\n",
        "    warnings.filterwarnings(\"ignore\")\n",
        "    model = KMeans(n_clusters=n_colors, random_state=42).fit(pixel)\n",
        "  # Create a KMeans model with the specified number of clusters and fit it to the pixels\n",
        "  #model = KMeans(n_clusters=n_colors, random_state=42).fit(pixel)\n",
        "\n",
        "  # Get the cluster centers (representing colors) from the model\n",
        "  colour_palette_with_blue = np.uint8(model.cluster_centers_)\n",
        "  return colour_palette_with_blue\n",
        "  # # Display the color palette as an image\n",
        "  # plt.imshow([colour_palette_with_blue])\n",
        "\n",
        "  # # Show the plot\n",
        "  # plt.show()"
      ],
      "metadata": {
        "execution": {
          "iopub.status.busy": "2024-04-18T09:12:44.554310Z",
          "iopub.execute_input": "2024-04-18T09:12:44.554558Z",
          "iopub.status.idle": "2024-04-18T09:12:44.564471Z",
          "shell.execute_reply.started": "2024-04-18T09:12:44.554533Z",
          "shell.execute_reply": "2024-04-18T09:12:44.563891Z"
        },
        "trusted": true,
        "id": "u_Gks7TS8V7v"
      },
      "execution_count": null,
      "outputs": []
    },
    {
      "cell_type": "code",
      "source": [
        "strategy=tf.distribute.MirroredStrategy()"
      ],
      "metadata": {
        "execution": {
          "iopub.status.busy": "2024-04-18T09:12:44.600680Z",
          "iopub.execute_input": "2024-04-18T09:12:44.600951Z",
          "iopub.status.idle": "2024-04-18T09:12:48.366219Z",
          "shell.execute_reply.started": "2024-04-18T09:12:44.600921Z",
          "shell.execute_reply": "2024-04-18T09:12:48.365088Z"
        },
        "trusted": true,
        "id": "WDJEqJgj8V7v",
        "outputId": "f6c83651-1b83-4741-9b64-021d2a3fdc95"
      },
      "execution_count": null,
      "outputs": [
        {
          "name": "stdout",
          "text": "INFO:tensorflow:Using MirroredStrategy with devices ('/job:localhost/replica:0/task:0/device:CPU:0',)\n",
          "output_type": "stream"
        },
        {
          "name": "stderr",
          "text": "2024-04-18 09:12:48.331934: E external/local_xla/xla/stream_executor/stream_executor_internal.h:177] SetPriority unimplemented for this stream.\n2024-04-18 09:12:48.332049: E external/local_xla/xla/stream_executor/stream_executor_internal.h:177] SetPriority unimplemented for this stream.\n2024-04-18 09:12:48.332121: E external/local_xla/xla/stream_executor/stream_executor_internal.h:177] SetPriority unimplemented for this stream.\n2024-04-18 09:12:48.332190: E external/local_xla/xla/stream_executor/stream_executor_internal.h:177] SetPriority unimplemented for this stream.\n2024-04-18 09:12:48.332276: E external/local_xla/xla/stream_executor/stream_executor_internal.h:177] SetPriority unimplemented for this stream.\n2024-04-18 09:12:48.332486: E external/local_xla/xla/stream_executor/stream_executor_internal.h:177] SetPriority unimplemented for this stream.\n2024-04-18 09:12:48.332579: E external/local_xla/xla/stream_executor/stream_executor_internal.h:177] SetPriority unimplemented for this stream.\n2024-04-18 09:12:48.332668: E external/local_xla/xla/stream_executor/stream_executor_internal.h:177] SetPriority unimplemented for this stream.\n2024-04-18 09:12:48.332759: E external/local_xla/xla/stream_executor/stream_executor_internal.h:177] SetPriority unimplemented for this stream.\n2024-04-18 09:12:48.332845: E external/local_xla/xla/stream_executor/stream_executor_internal.h:177] SetPriority unimplemented for this stream.\n2024-04-18 09:12:48.333078: E external/local_xla/xla/stream_executor/stream_executor_internal.h:177] SetPriority unimplemented for this stream.\n2024-04-18 09:12:48.333190: E external/local_xla/xla/stream_executor/stream_executor_internal.h:177] SetPriority unimplemented for this stream.\n2024-04-18 09:12:48.333294: E external/local_xla/xla/stream_executor/stream_executor_internal.h:177] SetPriority unimplemented for this stream.\n2024-04-18 09:12:48.333385: E external/local_xla/xla/stream_executor/stream_executor_internal.h:177] SetPriority unimplemented for this stream.\n2024-04-18 09:12:48.333472: E external/local_xla/xla/stream_executor/stream_executor_internal.h:177] SetPriority unimplemented for this stream.\n2024-04-18 09:12:48.333681: E external/local_xla/xla/stream_executor/stream_executor_internal.h:177] SetPriority unimplemented for this stream.\n2024-04-18 09:12:48.333770: E external/local_xla/xla/stream_executor/stream_executor_internal.h:177] SetPriority unimplemented for this stream.\n2024-04-18 09:12:48.333870: E external/local_xla/xla/stream_executor/stream_executor_internal.h:177] SetPriority unimplemented for this stream.\n2024-04-18 09:12:48.333959: E external/local_xla/xla/stream_executor/stream_executor_internal.h:177] SetPriority unimplemented for this stream.\n2024-04-18 09:12:48.334041: E external/local_xla/xla/stream_executor/stream_executor_internal.h:177] SetPriority unimplemented for this stream.\n2024-04-18 09:12:48.334262: E external/local_xla/xla/stream_executor/stream_executor_internal.h:177] SetPriority unimplemented for this stream.\n2024-04-18 09:12:48.334396: E external/local_xla/xla/stream_executor/stream_executor_internal.h:177] SetPriority unimplemented for this stream.\n2024-04-18 09:12:48.334487: E external/local_xla/xla/stream_executor/stream_executor_internal.h:177] SetPriority unimplemented for this stream.\n2024-04-18 09:12:48.334569: E external/local_xla/xla/stream_executor/stream_executor_internal.h:177] SetPriority unimplemented for this stream.\n2024-04-18 09:12:48.334660: E external/local_xla/xla/stream_executor/stream_executor_internal.h:177] SetPriority unimplemented for this stream.\n2024-04-18 09:12:48.334864: E external/local_xla/xla/stream_executor/stream_executor_internal.h:177] SetPriority unimplemented for this stream.\n2024-04-18 09:12:48.334972: E external/local_xla/xla/stream_executor/stream_executor_internal.h:177] SetPriority unimplemented for this stream.\n2024-04-18 09:12:48.335063: E external/local_xla/xla/stream_executor/stream_executor_internal.h:177] SetPriority unimplemented for this stream.\n2024-04-18 09:12:48.335145: E external/local_xla/xla/stream_executor/stream_executor_internal.h:177] SetPriority unimplemented for this stream.\n2024-04-18 09:12:48.335233: E external/local_xla/xla/stream_executor/stream_executor_internal.h:177] SetPriority unimplemented for this stream.\n2024-04-18 09:12:48.335509: E external/local_xla/xla/stream_executor/stream_executor_internal.h:177] SetPriority unimplemented for this stream.\n2024-04-18 09:12:48.335604: E external/local_xla/xla/stream_executor/stream_executor_internal.h:177] SetPriority unimplemented for this stream.\n2024-04-18 09:12:48.335687: E external/local_xla/xla/stream_executor/stream_executor_internal.h:177] SetPriority unimplemented for this stream.\n2024-04-18 09:12:48.335776: E external/local_xla/xla/stream_executor/stream_executor_internal.h:177] SetPriority unimplemented for this stream.\n2024-04-18 09:12:48.335867: E external/local_xla/xla/stream_executor/stream_executor_internal.h:177] SetPriority unimplemented for this stream.\n2024-04-18 09:12:48.336117: E external/local_xla/xla/stream_executor/stream_executor_internal.h:177] SetPriority unimplemented for this stream.\n2024-04-18 09:12:48.336209: E external/local_xla/xla/stream_executor/stream_executor_internal.h:177] SetPriority unimplemented for this stream.\n2024-04-18 09:12:48.336310: E external/local_xla/xla/stream_executor/stream_executor_internal.h:177] SetPriority unimplemented for this stream.\n2024-04-18 09:12:48.336394: E external/local_xla/xla/stream_executor/stream_executor_internal.h:177] SetPriority unimplemented for this stream.\n2024-04-18 09:12:48.336488: E external/local_xla/xla/stream_executor/stream_executor_internal.h:177] SetPriority unimplemented for this stream.\n",
          "output_type": "stream"
        }
      ]
    },
    {
      "cell_type": "code",
      "source": [
        " def process_image(img_bytes):\n",
        "    #img_bytes = df_train_sample[\"image/encoded\"][index]\n",
        "    #bytes_io = io.BytesIO(img_bytes)\n",
        "    #image1 = Image.open(bytes_io)\n",
        "    #image=image1\n",
        "    #with strategy.scope():\n",
        "    image = get_bounding_box(img_bytes)  # Newly added\n",
        "    #image = remove_extra_background(image)  # Newly added\n",
        "    #image_red = remove(image, bgcolor=background_to_add_red)\n",
        "    #image_blue = remove(image, bgcolor=background_to_add_blue)\n",
        "\n",
        "    numpy_image_red = np.array(image)\n",
        "\n",
        "    image_with_blue_bg = extract_color_with_bg(numpy_image_red)\n",
        "\n",
        "    #similar_colors = find_similar_colors(image_with_blue_bg, image_with_red_bg)\n",
        "    # similar_colors = calculate_euclidean_distance(image_with_blue_bg, image_with_red_bg)\n",
        "    #rgb_colors_for_image_final = distance_between_color(similar_colors)\n",
        "    rgb_colors_for_image_final=image_with_blue_bg\n",
        "    return str(rgb_colors_for_image_final[0].tolist()),str(rgb_colors_for_image_final[1].tolist())"
      ],
      "metadata": {
        "execution": {
          "iopub.status.busy": "2024-04-18T09:12:48.367466Z",
          "iopub.execute_input": "2024-04-18T09:12:48.367789Z",
          "iopub.status.idle": "2024-04-18T09:12:48.374117Z",
          "shell.execute_reply.started": "2024-04-18T09:12:48.367743Z",
          "shell.execute_reply": "2024-04-18T09:12:48.373275Z"
        },
        "trusted": true,
        "id": "NLW554ey8V7v"
      },
      "execution_count": null,
      "outputs": []
    },
    {
      "cell_type": "code",
      "source": [
        "device = \"0\" if torch.cuda.is_available() else \"cpu\"\n",
        "if device == \"0\":\n",
        "    print(device)\n",
        "    torch.cuda.set_device(0)"
      ],
      "metadata": {
        "execution": {
          "iopub.status.busy": "2024-04-18T09:12:48.375133Z",
          "iopub.execute_input": "2024-04-18T09:12:48.375701Z",
          "iopub.status.idle": "2024-04-18T09:12:48.390028Z",
          "shell.execute_reply.started": "2024-04-18T09:12:48.375671Z",
          "shell.execute_reply": "2024-04-18T09:12:48.389284Z"
        },
        "trusted": true,
        "id": "1FFwgdar8V7v"
      },
      "execution_count": null,
      "outputs": []
    },
    {
      "cell_type": "code",
      "source": [
        "j=1\n",
        "df_train_sample=sampled_df[20000*j:20000*(j+1)]"
      ],
      "metadata": {
        "execution": {
          "iopub.status.busy": "2024-04-18T10:32:18.460949Z",
          "iopub.execute_input": "2024-04-18T10:32:18.461372Z",
          "iopub.status.idle": "2024-04-18T10:32:18.466890Z",
          "shell.execute_reply.started": "2024-04-18T10:32:18.461337Z",
          "shell.execute_reply": "2024-04-18T10:32:18.465900Z"
        },
        "trusted": true,
        "id": "6ympMOdC8V7w"
      },
      "execution_count": null,
      "outputs": []
    },
    {
      "cell_type": "code",
      "source": [
        "batch_size = 5000"
      ],
      "metadata": {
        "execution": {
          "iopub.status.busy": "2024-04-18T10:32:19.125265Z",
          "iopub.execute_input": "2024-04-18T10:32:19.126015Z",
          "iopub.status.idle": "2024-04-18T10:32:19.130264Z",
          "shell.execute_reply.started": "2024-04-18T10:32:19.125981Z",
          "shell.execute_reply": "2024-04-18T10:32:19.129062Z"
        },
        "trusted": true,
        "id": "WdTCPKqy8V7w"
      },
      "execution_count": null,
      "outputs": []
    },
    {
      "cell_type": "code",
      "source": [
        "output_directory = \"/kaggle/working/batch_csv_files\"\n",
        "os.makedirs(output_directory, exist_ok=True)"
      ],
      "metadata": {
        "execution": {
          "iopub.status.busy": "2024-04-18T10:32:20.580960Z",
          "iopub.execute_input": "2024-04-18T10:32:20.581333Z",
          "iopub.status.idle": "2024-04-18T10:32:20.586304Z",
          "shell.execute_reply.started": "2024-04-18T10:32:20.581301Z",
          "shell.execute_reply": "2024-04-18T10:32:20.585326Z"
        },
        "trusted": true,
        "id": "5L5_7Cgp8V7x"
      },
      "execution_count": null,
      "outputs": []
    },
    {
      "cell_type": "code",
      "source": [
        "for i in range(0, len(df_train_sample), batch_size):\n",
        "    # Select the current batch\n",
        "    batch = df_train_sample.iloc[i:i+batch_size]\n",
        "    print(i)\n",
        "    print(i+batch_size)\n",
        "\n",
        "    tqdm.pandas(desc=\"Resizing Images\", position=0)\n",
        "    batch['primary_color_rgb'], batch['secondary_color_rgb'] = zip(*batch['image/encoded'].progress_apply(process_image))\n",
        "    #tqdm_notebook.pandas(desc=\"Resizing Images\", position=0)\n",
        "    #batch['primary_color_rgb'], batch['secondary_color_rgb'] = zip(*batch['image/encoded'].progress_apply(process_image))\n",
        "    # Generate a unique filename for the current batch\n",
        "    filename = os.path.join(output_directory, f\"batch_{j}_{i//batch_size}.csv\")\n",
        "\n",
        "    # Export the current batch to a CSV file\n",
        "    batch[['product_id','primary_color_rgb','secondary_color_rgb','primary_color_id','primary_color_text','secondary_color_id','secondary_color_text']].to_csv(filename)\n",
        "    #batch.to_csv(filename, index=False)\n",
        "\n",
        "    print(f\"Batch {i//batch_size} exported to {filename}\")"
      ],
      "metadata": {
        "execution": {
          "iopub.status.busy": "2024-04-18T10:32:25.146664Z",
          "iopub.execute_input": "2024-04-18T10:32:25.147004Z",
          "iopub.status.idle": "2024-04-18T11:11:18.689753Z",
          "shell.execute_reply.started": "2024-04-18T10:32:25.146976Z",
          "shell.execute_reply": "2024-04-18T11:11:18.688666Z"
        },
        "trusted": true,
        "id": "9R-q0ryt8V7x",
        "outputId": "655de73a-7a5f-4d98-aabc-dd28f0d8db53"
      },
      "execution_count": null,
      "outputs": [
        {
          "name": "stdout",
          "text": "0\n5000\n",
          "output_type": "stream"
        },
        {
          "name": "stderr",
          "text": "Resizing Images: 100%|██████████| 5000/5000 [19:34<00:00,  4.26it/s]\n/tmp/ipykernel_13/2665716072.py:8: SettingWithCopyWarning: \nA value is trying to be set on a copy of a slice from a DataFrame.\nTry using .loc[row_indexer,col_indexer] = value instead\n\nSee the caveats in the documentation: https://pandas.pydata.org/pandas-docs/stable/user_guide/indexing.html#returning-a-view-versus-a-copy\n  batch['primary_color_rgb'], batch['secondary_color_rgb'] = zip(*batch['image/encoded'].progress_apply(process_image))\n/tmp/ipykernel_13/2665716072.py:8: SettingWithCopyWarning: \nA value is trying to be set on a copy of a slice from a DataFrame.\nTry using .loc[row_indexer,col_indexer] = value instead\n\nSee the caveats in the documentation: https://pandas.pydata.org/pandas-docs/stable/user_guide/indexing.html#returning-a-view-versus-a-copy\n  batch['primary_color_rgb'], batch['secondary_color_rgb'] = zip(*batch['image/encoded'].progress_apply(process_image))\n",
          "output_type": "stream"
        },
        {
          "name": "stdout",
          "text": "Batch 0 exported to /kaggle/working/batch_csv_files/batch_1_0.csv\n5000\n10000\n",
          "output_type": "stream"
        },
        {
          "name": "stderr",
          "text": "Resizing Images: 100%|██████████| 4940/4940 [19:18<00:00,  4.26it/s]",
          "output_type": "stream"
        },
        {
          "name": "stdout",
          "text": "Batch 1 exported to /kaggle/working/batch_csv_files/batch_1_1.csv\n",
          "output_type": "stream"
        },
        {
          "name": "stderr",
          "text": "\n/tmp/ipykernel_13/2665716072.py:8: SettingWithCopyWarning: \nA value is trying to be set on a copy of a slice from a DataFrame.\nTry using .loc[row_indexer,col_indexer] = value instead\n\nSee the caveats in the documentation: https://pandas.pydata.org/pandas-docs/stable/user_guide/indexing.html#returning-a-view-versus-a-copy\n  batch['primary_color_rgb'], batch['secondary_color_rgb'] = zip(*batch['image/encoded'].progress_apply(process_image))\n/tmp/ipykernel_13/2665716072.py:8: SettingWithCopyWarning: \nA value is trying to be set on a copy of a slice from a DataFrame.\nTry using .loc[row_indexer,col_indexer] = value instead\n\nSee the caveats in the documentation: https://pandas.pydata.org/pandas-docs/stable/user_guide/indexing.html#returning-a-view-versus-a-copy\n  batch['primary_color_rgb'], batch['secondary_color_rgb'] = zip(*batch['image/encoded'].progress_apply(process_image))\n",
          "output_type": "stream"
        }
      ]
    },
    {
      "cell_type": "markdown",
      "source": [
        "## Importing Image Processed data"
      ],
      "metadata": {
        "id": "rtXIrIij8V7y"
      }
    },
    {
      "cell_type": "code",
      "source": [
        "PATH = f\"/kaggle/input/sampled-processed-data/Sampled_Processed_Data\""
      ],
      "metadata": {
        "execution": {
          "iopub.status.busy": "2024-04-18T21:24:28.163514Z",
          "iopub.execute_input": "2024-04-18T21:24:28.164702Z",
          "iopub.status.idle": "2024-04-18T21:24:28.172422Z",
          "shell.execute_reply.started": "2024-04-18T21:24:28.164658Z",
          "shell.execute_reply": "2024-04-18T21:24:28.170649Z"
        },
        "trusted": true,
        "id": "HTZnXI3W8V7y"
      },
      "execution_count": null,
      "outputs": []
    },
    {
      "cell_type": "code",
      "source": [
        "processed_images_train = os.listdir(\"/kaggle/input/sampled-processed-data/Sampled_Processed_Data/train\")\n",
        "processed_images_test = os.listdir(\"/kaggle/input/sampled-processed-data/Sampled_Processed_Data/test\")"
      ],
      "metadata": {
        "execution": {
          "iopub.status.busy": "2024-04-18T21:24:28.174686Z",
          "iopub.execute_input": "2024-04-18T21:24:28.175525Z",
          "iopub.status.idle": "2024-04-18T21:24:28.201594Z",
          "shell.execute_reply.started": "2024-04-18T21:24:28.175472Z",
          "shell.execute_reply": "2024-04-18T21:24:28.199897Z"
        },
        "trusted": true,
        "id": "pk8rY9hl8V7y"
      },
      "execution_count": null,
      "outputs": []
    },
    {
      "cell_type": "code",
      "source": [
        "def read_processed_data(folder):\n",
        "    dataframe_processed =pd.DataFrame()\n",
        "    dataframes_list = []\n",
        "    if(folder=='test'):\n",
        "        endindex_p=2\n",
        "    else:\n",
        "        endindex_p=2\n",
        "    \"\"\" Read processed batch data from mutiple files \"\"\"\n",
        "    for j in range(0,endindex_p):\n",
        "        if(j==1):\n",
        "            endindex=2\n",
        "        else:\n",
        "            endindex=4\n",
        "        for i in range(0,endindex):\n",
        "            try:\n",
        "                #print(f'{PATH}/{folder}/batch_{j}_{i}.csv')\n",
        "                dataframes = pd.read_pickle(f'{PATH}/{folder}/batch_{j}_{i}.csv')\n",
        "            except:\n",
        "                dataframes = pd.read_csv(f'{PATH}/{folder}/batch_{j}_{i}.csv')\n",
        "            finally:\n",
        "               dataframes_list.append(dataframes)\n",
        "\n",
        "    dataframe_processed = pd.concat(dataframes_list)\n",
        "    return dataframe_processed"
      ],
      "metadata": {
        "execution": {
          "iopub.status.busy": "2024-04-18T21:24:28.204112Z",
          "iopub.execute_input": "2024-04-18T21:24:28.204759Z",
          "iopub.status.idle": "2024-04-18T21:24:28.215861Z",
          "shell.execute_reply.started": "2024-04-18T21:24:28.204707Z",
          "shell.execute_reply": "2024-04-18T21:24:28.214284Z"
        },
        "trusted": true,
        "id": "IuCHwxbg8V7y"
      },
      "execution_count": null,
      "outputs": []
    },
    {
      "cell_type": "code",
      "source": [
        "df_train_processed=read_processed_data('train')"
      ],
      "metadata": {
        "execution": {
          "iopub.status.busy": "2024-04-18T21:24:28.217735Z",
          "iopub.execute_input": "2024-04-18T21:24:28.218371Z",
          "iopub.status.idle": "2024-04-18T21:24:28.396815Z",
          "shell.execute_reply.started": "2024-04-18T21:24:28.218337Z",
          "shell.execute_reply": "2024-04-18T21:24:28.394922Z"
        },
        "trusted": true,
        "id": "N89oyKW-8V7z"
      },
      "execution_count": null,
      "outputs": []
    },
    {
      "cell_type": "code",
      "source": [
        "df_test_processed=read_processed_data('test')"
      ],
      "metadata": {
        "execution": {
          "iopub.status.busy": "2024-04-18T14:59:43.100958Z",
          "iopub.execute_input": "2024-04-18T14:59:43.101540Z",
          "iopub.status.idle": "2024-04-18T14:59:43.162698Z",
          "shell.execute_reply.started": "2024-04-18T14:59:43.101502Z",
          "shell.execute_reply": "2024-04-18T14:59:43.161095Z"
        },
        "trusted": true,
        "id": "ZA_gHWGD8V7z"
      },
      "execution_count": null,
      "outputs": []
    },
    {
      "cell_type": "code",
      "source": [
        "len(df_test_processed)"
      ],
      "metadata": {
        "execution": {
          "iopub.status.busy": "2024-04-18T14:59:52.271286Z",
          "iopub.execute_input": "2024-04-18T14:59:52.271771Z",
          "iopub.status.idle": "2024-04-18T14:59:52.281398Z",
          "shell.execute_reply.started": "2024-04-18T14:59:52.271724Z",
          "shell.execute_reply": "2024-04-18T14:59:52.279965Z"
        },
        "trusted": true,
        "id": "kE6ZgzK_8V70",
        "outputId": "f9e76cbd-91ea-49ae-bbb7-fa855305ce6a"
      },
      "execution_count": null,
      "outputs": [
        {
          "execution_count": 284,
          "output_type": "execute_result",
          "data": {
            "text/plain": "25514"
          },
          "metadata": {}
        }
      ]
    },
    {
      "cell_type": "code",
      "source": [
        "df_train_processed.head()"
      ],
      "metadata": {
        "execution": {
          "iopub.status.busy": "2024-04-18T21:24:28.398643Z",
          "iopub.execute_input": "2024-04-18T21:24:28.399264Z",
          "iopub.status.idle": "2024-04-18T21:24:28.421631Z",
          "shell.execute_reply.started": "2024-04-18T21:24:28.399227Z",
          "shell.execute_reply": "2024-04-18T21:24:28.419806Z"
        },
        "trusted": true,
        "id": "yiWm1dMr8V71",
        "outputId": "7776e3de-135b-437c-93bd-b3333ad0cd3b"
      },
      "execution_count": null,
      "outputs": [
        {
          "execution_count": 16,
          "output_type": "execute_result",
          "data": {
            "text/plain": "   Unnamed: 0  product_id primary_color_rgb secondary_color_rgb  \\\n0           0  1171086357   [157, 146, 142]       [109, 98, 95]   \n1           1    98905015      [38, 38, 39]     [198, 190, 189]   \n2           2  1524183478   [207, 202, 193]       [138, 98, 45]   \n3           3  1086729662     [143, 97, 70]     [219, 199, 180]   \n4           4  1645635058   [191, 185, 170]        [87, 69, 54]   \n\n   primary_color_id primary_color_text  secondary_color_id  \\\n0                 4              brown                   9   \n1                11               pink                  11   \n2                 4              brown                  17   \n3                 4              brown                   6   \n4                17              white                   2   \n\n  secondary_color_text  \n0                green  \n1                 pink  \n2                white  \n3               copper  \n4                 blue  ",
            "text/html": "<div>\n<style scoped>\n    .dataframe tbody tr th:only-of-type {\n        vertical-align: middle;\n    }\n\n    .dataframe tbody tr th {\n        vertical-align: top;\n    }\n\n    .dataframe thead th {\n        text-align: right;\n    }\n</style>\n<table border=\"1\" class=\"dataframe\">\n  <thead>\n    <tr style=\"text-align: right;\">\n      <th></th>\n      <th>Unnamed: 0</th>\n      <th>product_id</th>\n      <th>primary_color_rgb</th>\n      <th>secondary_color_rgb</th>\n      <th>primary_color_id</th>\n      <th>primary_color_text</th>\n      <th>secondary_color_id</th>\n      <th>secondary_color_text</th>\n    </tr>\n  </thead>\n  <tbody>\n    <tr>\n      <th>0</th>\n      <td>0</td>\n      <td>1171086357</td>\n      <td>[157, 146, 142]</td>\n      <td>[109, 98, 95]</td>\n      <td>4</td>\n      <td>brown</td>\n      <td>9</td>\n      <td>green</td>\n    </tr>\n    <tr>\n      <th>1</th>\n      <td>1</td>\n      <td>98905015</td>\n      <td>[38, 38, 39]</td>\n      <td>[198, 190, 189]</td>\n      <td>11</td>\n      <td>pink</td>\n      <td>11</td>\n      <td>pink</td>\n    </tr>\n    <tr>\n      <th>2</th>\n      <td>2</td>\n      <td>1524183478</td>\n      <td>[207, 202, 193]</td>\n      <td>[138, 98, 45]</td>\n      <td>4</td>\n      <td>brown</td>\n      <td>17</td>\n      <td>white</td>\n    </tr>\n    <tr>\n      <th>3</th>\n      <td>3</td>\n      <td>1086729662</td>\n      <td>[143, 97, 70]</td>\n      <td>[219, 199, 180]</td>\n      <td>4</td>\n      <td>brown</td>\n      <td>6</td>\n      <td>copper</td>\n    </tr>\n    <tr>\n      <th>4</th>\n      <td>4</td>\n      <td>1645635058</td>\n      <td>[191, 185, 170]</td>\n      <td>[87, 69, 54]</td>\n      <td>17</td>\n      <td>white</td>\n      <td>2</td>\n      <td>blue</td>\n    </tr>\n  </tbody>\n</table>\n</div>"
          },
          "metadata": {}
        }
      ]
    },
    {
      "cell_type": "code",
      "source": [
        "len(df_train_processed[df_train_processed.duplicated(keep=False)])"
      ],
      "metadata": {
        "execution": {
          "iopub.status.busy": "2024-04-18T21:24:28.423498Z",
          "iopub.execute_input": "2024-04-18T21:24:28.424533Z",
          "iopub.status.idle": "2024-04-18T21:24:28.473416Z",
          "shell.execute_reply.started": "2024-04-18T21:24:28.424496Z",
          "shell.execute_reply": "2024-04-18T21:24:28.472060Z"
        },
        "trusted": true,
        "id": "5rSFCduX8V71",
        "outputId": "05d519b3-1d09-49bf-fb43-c9aadc5c33fb"
      },
      "execution_count": null,
      "outputs": [
        {
          "execution_count": 17,
          "output_type": "execute_result",
          "data": {
            "text/plain": "0"
          },
          "metadata": {}
        }
      ]
    },
    {
      "cell_type": "markdown",
      "source": [
        "### Convert RGB Color Codes to single value"
      ],
      "metadata": {
        "id": "0U4Y4HDJ8V72"
      }
    },
    {
      "cell_type": "code",
      "source": [
        "def calculate_rgb_value(string_list):\n",
        "    array = ast.literal_eval(string_list)\n",
        "    return 256 * 256 * array[0] + 256 * array[1] + array[2]"
      ],
      "metadata": {
        "execution": {
          "iopub.status.busy": "2024-04-18T21:24:28.474972Z",
          "iopub.execute_input": "2024-04-18T21:24:28.475354Z",
          "iopub.status.idle": "2024-04-18T21:24:28.481570Z",
          "shell.execute_reply.started": "2024-04-18T21:24:28.475325Z",
          "shell.execute_reply": "2024-04-18T21:24:28.480229Z"
        },
        "trusted": true,
        "id": "ZseTNcsK8V72"
      },
      "execution_count": null,
      "outputs": []
    },
    {
      "cell_type": "code",
      "source": [
        "def calculate_average_rgb_value(string_list):\n",
        "    array = ast.literal_eval(string_list)\n",
        "    averaged_values = np.mean(array)\n",
        "    return averaged_values"
      ],
      "metadata": {
        "execution": {
          "iopub.status.busy": "2024-04-18T21:24:28.482988Z",
          "iopub.execute_input": "2024-04-18T21:24:28.484602Z",
          "iopub.status.idle": "2024-04-18T21:24:28.494010Z",
          "shell.execute_reply.started": "2024-04-18T21:24:28.484568Z",
          "shell.execute_reply": "2024-04-18T21:24:28.492493Z"
        },
        "trusted": true,
        "id": "hebPoH8q8V72"
      },
      "execution_count": null,
      "outputs": []
    },
    {
      "cell_type": "code",
      "source": [
        "def calculate_weighted_average_rgb_value(string_list):\n",
        "    array = ast.literal_eval(string_list)\n",
        "    weighted_average = np.dot(array, [0.2989, 0.5870, 0.1140])\n",
        "    return weighted_average"
      ],
      "metadata": {
        "execution": {
          "iopub.status.busy": "2024-04-18T21:24:59.632404Z",
          "iopub.execute_input": "2024-04-18T21:24:59.633875Z",
          "iopub.status.idle": "2024-04-18T21:24:59.642622Z",
          "shell.execute_reply.started": "2024-04-18T21:24:59.633810Z",
          "shell.execute_reply": "2024-04-18T21:24:59.641064Z"
        },
        "trusted": true,
        "id": "FOQzazvi8V73"
      },
      "execution_count": null,
      "outputs": []
    },
    {
      "cell_type": "code",
      "source": [
        "df_train_processed['primary_color_rgb_value'] = df_train_processed['primary_color_rgb'].apply(calculate_rgb_value)\n",
        "df_train_processed['secondary_color_rgb_value'] = df_train_processed['secondary_color_rgb'].apply(calculate_rgb_value)\n",
        "\n",
        "df_train_processed['primary_color_rgb_value_average'] = df_train_processed['primary_color_rgb'].apply(calculate_average_rgb_value)\n",
        "df_train_processed['secondary_color_rgb_value_average'] = df_train_processed['secondary_color_rgb'].apply(calculate_average_rgb_value)\n",
        "\n",
        "df_train_processed['primary_color_rgb_value_weighted'] = df_train_processed['primary_color_rgb'].apply(calculate_weighted_average_rgb_value)\n",
        "df_train_processed['secondary_color_rgb_value_weighted'] = df_train_processed['secondary_color_rgb'].apply(calculate_weighted_average_rgb_value)"
      ],
      "metadata": {
        "execution": {
          "iopub.status.busy": "2024-04-18T21:25:01.456977Z",
          "iopub.execute_input": "2024-04-18T21:25:01.457437Z",
          "iopub.status.idle": "2024-04-18T21:25:05.856637Z",
          "shell.execute_reply.started": "2024-04-18T21:25:01.457403Z",
          "shell.execute_reply": "2024-04-18T21:25:05.855276Z"
        },
        "trusted": true,
        "id": "yvrGkh-n8V73"
      },
      "execution_count": null,
      "outputs": []
    },
    {
      "cell_type": "code",
      "source": [
        "df_test_processed['primary_color_rgb_value'] = df_test_processed['primary_color_rgb'].apply(calculate_rgb_value)\n",
        "df_test_processed['secondary_color_rgb_value'] = df_test_processed['secondary_color_rgb'].apply(calculate_rgb_value)\n",
        "\n",
        "df_test_processed['primary_color_rgb_value_average'] = df_test_processed['primary_color_rgb'].apply(calculate_average_rgb_value)\n",
        "df_test_processed['secondary_color_rgb_value_average'] = df_test_processed['secondary_color_rgb'].apply(calculate_average_rgb_value)\n",
        "\n",
        "df_test_processed['primary_color_rgb_value_weighted'] = df_test_processed['primary_color_rgb'].apply(calculate_weighted_average_rgb_value)\n",
        "df_test_processed['secondary_color_rgb_value_weighted'] = df_test_processed['secondary_color_rgb'].apply(calculate_weighted_average_rgb_value)"
      ],
      "metadata": {
        "execution": {
          "iopub.status.busy": "2024-04-18T15:02:14.569527Z",
          "iopub.execute_input": "2024-04-18T15:02:14.570012Z",
          "iopub.status.idle": "2024-04-18T15:02:18.240012Z",
          "shell.execute_reply.started": "2024-04-18T15:02:14.569977Z",
          "shell.execute_reply": "2024-04-18T15:02:18.238668Z"
        },
        "trusted": true,
        "id": "AL8iD1Gg8V73"
      },
      "execution_count": null,
      "outputs": []
    },
    {
      "cell_type": "code",
      "source": [
        "len(df_test)"
      ],
      "metadata": {
        "execution": {
          "iopub.status.busy": "2024-04-18T14:00:30.549640Z",
          "iopub.execute_input": "2024-04-18T14:00:30.550778Z",
          "iopub.status.idle": "2024-04-18T14:00:30.558843Z",
          "shell.execute_reply.started": "2024-04-18T14:00:30.550741Z",
          "shell.execute_reply": "2024-04-18T14:00:30.557241Z"
        },
        "trusted": true,
        "id": "k0mdo_bq8V74",
        "outputId": "60a9092a-1329-4223-d2cb-7b0fb516d4e8"
      },
      "execution_count": null,
      "outputs": [
        {
          "execution_count": 176,
          "output_type": "execute_result",
          "data": {
            "text/plain": "25514"
          },
          "metadata": {}
        }
      ]
    },
    {
      "cell_type": "code",
      "source": [
        "df_train_processed.head()"
      ],
      "metadata": {
        "execution": {
          "iopub.status.busy": "2024-04-18T21:25:09.248582Z",
          "iopub.execute_input": "2024-04-18T21:25:09.249144Z",
          "iopub.status.idle": "2024-04-18T21:25:09.272838Z",
          "shell.execute_reply.started": "2024-04-18T21:25:09.249108Z",
          "shell.execute_reply": "2024-04-18T21:25:09.271400Z"
        },
        "trusted": true,
        "id": "oVy4stuR8V74",
        "outputId": "b04f54cc-0cd8-4c6f-e13b-e2fe2408c27c"
      },
      "execution_count": null,
      "outputs": [
        {
          "execution_count": 23,
          "output_type": "execute_result",
          "data": {
            "text/plain": "   Unnamed: 0  product_id primary_color_rgb secondary_color_rgb  \\\n0           0  1171086357   [157, 146, 142]       [109, 98, 95]   \n1           1    98905015      [38, 38, 39]     [198, 190, 189]   \n2           2  1524183478   [207, 202, 193]       [138, 98, 45]   \n3           3  1086729662     [143, 97, 70]     [219, 199, 180]   \n4           4  1645635058   [191, 185, 170]        [87, 69, 54]   \n\n   primary_color_id primary_color_text  secondary_color_id  \\\n0                 4              brown                   9   \n1                11               pink                  11   \n2                 4              brown                  17   \n3                 4              brown                   6   \n4                17              white                   2   \n\n  secondary_color_text  primary_color_rgb_value  secondary_color_rgb_value  \\\n0                green                 10326670                    7168607   \n1                 pink                  2500135                   13024957   \n2                white                 13617857                    9069101   \n3               copper                  9396550                   14403508   \n4                 blue                 12564906                    5719350   \n\n   primary_color_rgb_value_average  secondary_color_rgb_value_average  \\\n0                       148.333333                         100.666667   \n1                        38.333333                         192.333333   \n2                       200.666667                          93.666667   \n3                       103.333333                         199.333333   \n4                       182.000000                          70.000000   \n\n   primary_color_rgb_value_weighted  secondary_color_rgb_value_weighted  \n0                          148.8173                            100.9361  \n1                           38.1102                            192.2582  \n2                          202.4483                            103.9042  \n3                          107.6617                            202.7921  \n4                          185.0649                             72.6633  ",
            "text/html": "<div>\n<style scoped>\n    .dataframe tbody tr th:only-of-type {\n        vertical-align: middle;\n    }\n\n    .dataframe tbody tr th {\n        vertical-align: top;\n    }\n\n    .dataframe thead th {\n        text-align: right;\n    }\n</style>\n<table border=\"1\" class=\"dataframe\">\n  <thead>\n    <tr style=\"text-align: right;\">\n      <th></th>\n      <th>Unnamed: 0</th>\n      <th>product_id</th>\n      <th>primary_color_rgb</th>\n      <th>secondary_color_rgb</th>\n      <th>primary_color_id</th>\n      <th>primary_color_text</th>\n      <th>secondary_color_id</th>\n      <th>secondary_color_text</th>\n      <th>primary_color_rgb_value</th>\n      <th>secondary_color_rgb_value</th>\n      <th>primary_color_rgb_value_average</th>\n      <th>secondary_color_rgb_value_average</th>\n      <th>primary_color_rgb_value_weighted</th>\n      <th>secondary_color_rgb_value_weighted</th>\n    </tr>\n  </thead>\n  <tbody>\n    <tr>\n      <th>0</th>\n      <td>0</td>\n      <td>1171086357</td>\n      <td>[157, 146, 142]</td>\n      <td>[109, 98, 95]</td>\n      <td>4</td>\n      <td>brown</td>\n      <td>9</td>\n      <td>green</td>\n      <td>10326670</td>\n      <td>7168607</td>\n      <td>148.333333</td>\n      <td>100.666667</td>\n      <td>148.8173</td>\n      <td>100.9361</td>\n    </tr>\n    <tr>\n      <th>1</th>\n      <td>1</td>\n      <td>98905015</td>\n      <td>[38, 38, 39]</td>\n      <td>[198, 190, 189]</td>\n      <td>11</td>\n      <td>pink</td>\n      <td>11</td>\n      <td>pink</td>\n      <td>2500135</td>\n      <td>13024957</td>\n      <td>38.333333</td>\n      <td>192.333333</td>\n      <td>38.1102</td>\n      <td>192.2582</td>\n    </tr>\n    <tr>\n      <th>2</th>\n      <td>2</td>\n      <td>1524183478</td>\n      <td>[207, 202, 193]</td>\n      <td>[138, 98, 45]</td>\n      <td>4</td>\n      <td>brown</td>\n      <td>17</td>\n      <td>white</td>\n      <td>13617857</td>\n      <td>9069101</td>\n      <td>200.666667</td>\n      <td>93.666667</td>\n      <td>202.4483</td>\n      <td>103.9042</td>\n    </tr>\n    <tr>\n      <th>3</th>\n      <td>3</td>\n      <td>1086729662</td>\n      <td>[143, 97, 70]</td>\n      <td>[219, 199, 180]</td>\n      <td>4</td>\n      <td>brown</td>\n      <td>6</td>\n      <td>copper</td>\n      <td>9396550</td>\n      <td>14403508</td>\n      <td>103.333333</td>\n      <td>199.333333</td>\n      <td>107.6617</td>\n      <td>202.7921</td>\n    </tr>\n    <tr>\n      <th>4</th>\n      <td>4</td>\n      <td>1645635058</td>\n      <td>[191, 185, 170]</td>\n      <td>[87, 69, 54]</td>\n      <td>17</td>\n      <td>white</td>\n      <td>2</td>\n      <td>blue</td>\n      <td>12564906</td>\n      <td>5719350</td>\n      <td>182.000000</td>\n      <td>70.000000</td>\n      <td>185.0649</td>\n      <td>72.6633</td>\n    </tr>\n  </tbody>\n</table>\n</div>"
          },
          "metadata": {}
        }
      ]
    },
    {
      "cell_type": "markdown",
      "source": [
        "### Get feature for colors in text columns like title description and tags"
      ],
      "metadata": {
        "id": "EokKJRB58V75"
      }
    },
    {
      "cell_type": "code",
      "source": [
        "merged_df = pd.merge(df_train_processed, df_train, on='product_id', how='left')"
      ],
      "metadata": {
        "execution": {
          "iopub.status.busy": "2024-04-18T21:25:14.308454Z",
          "iopub.execute_input": "2024-04-18T21:25:14.308903Z",
          "iopub.status.idle": "2024-04-18T21:25:15.251459Z",
          "shell.execute_reply.started": "2024-04-18T21:25:14.308855Z",
          "shell.execute_reply": "2024-04-18T21:25:15.249799Z"
        },
        "trusted": true,
        "id": "4VvPZ3nz8V75"
      },
      "execution_count": null,
      "outputs": []
    },
    {
      "cell_type": "code",
      "source": [
        "merged_df.head().T"
      ],
      "metadata": {
        "execution": {
          "iopub.status.busy": "2024-04-18T21:25:17.162287Z",
          "iopub.execute_input": "2024-04-18T21:25:17.164046Z",
          "iopub.status.idle": "2024-04-18T21:25:17.201096Z",
          "shell.execute_reply.started": "2024-04-18T21:25:17.163990Z",
          "shell.execute_reply": "2024-04-18T21:25:17.199832Z"
        },
        "trusted": true,
        "id": "l4iPcVK48V75",
        "outputId": "2623bd97-ddea-4d4d-eb80-ae3ec16c466b"
      },
      "execution_count": null,
      "outputs": [
        {
          "execution_count": 25,
          "output_type": "execute_result",
          "data": {
            "text/plain": "                                                                                    0  \\\nUnnamed: 0                                                                          0   \nproduct_id                                                                 1171086357   \nprimary_color_rgb                                                     [157, 146, 142]   \nsecondary_color_rgb                                                     [109, 98, 95]   \nprimary_color_id_x                                                                  4   \nprimary_color_text_x                                                            brown   \nsecondary_color_id_x                                                                9   \nsecondary_color_text_x                                                          green   \nprimary_color_rgb_value                                                      10326670   \nsecondary_color_rgb_value                                                     7168607   \nprimary_color_rgb_value_average                                            148.333333   \nsecondary_color_rgb_value_average                                          100.666667   \nprimary_color_rgb_value_weighted                                             148.8173   \nsecondary_color_rgb_value_weighted                                           100.9361   \ntitle                               Handmade Natural Wreaths from Homegrown Wild G...   \ndescription                         Handmade Natural Wreaths from Homegrown Wild G...   \ntags                                green,natural,branches,willow wreath,grapevine...   \ntype                                                                         physical   \nroom                                                                                    \ncraft_type                                                                              \nrecipient                                                                               \nmaterial                                                                                \noccasion                                                                                \nholiday                                                                        easter   \nart_subject                                                                             \nstyle                                                                                   \nshape                                                                                   \npattern                                                                                 \nbottom_category_id                                                               6891   \nbottom_category_text                craft_supplies_and_tools.frames_hoops_and_stan...   \ntop_category_id                                                                     6   \ntop_category_text                                            craft_supplies_and_tools   \nprimary_color_id_y                                                                  4   \nprimary_color_text_y                                                            brown   \nsecondary_color_id_y                                                                9   \nsecondary_color_text_y                                                          green   \nimage/encoded                       b'\\xff\\xd8\\xff\\xe0\\x00\\x10JFIF\\x00\\x01\\x01\\x00...   \nimage/width                                                                       570   \nimage/height                                                                      760   \n\n                                                                                    1  \\\nUnnamed: 0                                                                          1   \nproduct_id                                                                   98905015   \nprimary_color_rgb                                                        [38, 38, 39]   \nsecondary_color_rgb                                                   [198, 190, 189]   \nprimary_color_id_x                                                                 11   \nprimary_color_text_x                                                             pink   \nsecondary_color_id_x                                                               11   \nsecondary_color_text_x                                                           pink   \nprimary_color_rgb_value                                                       2500135   \nsecondary_color_rgb_value                                                    13024957   \nprimary_color_rgb_value_average                                             38.333333   \nsecondary_color_rgb_value_average                                          192.333333   \nprimary_color_rgb_value_weighted                                              38.1102   \nsecondary_color_rgb_value_weighted                                           192.2582   \ntitle                               PinkPeach  Blush Light Pink  Mineral  Makeup  ...   \ndescription                         Pure, all natural pressed mineral Blush by Cru...   \ntags                                mica,loose,make up,cosmetics,mineral make up,c...   \ntype                                                                         physical   \nroom                                                                                    \ncraft_type                                                                              \nrecipient                                                                       women   \nmaterial                                                                                \noccasion                                                                                \nholiday                                                                                 \nart_subject                                                                             \nstyle                                                                                   \nshape                                                                                   \npattern                                                                                 \nbottom_category_id                                                                249   \nbottom_category_text                bath_and_beauty.makeup_and_cosmetics.face.blus...   \ntop_category_id                                                                     3   \ntop_category_text                                                     bath_and_beauty   \nprimary_color_id_y                                                                 11   \nprimary_color_text_y                                                             pink   \nsecondary_color_id_y                                                               11   \nsecondary_color_text_y                                                           pink   \nimage/encoded                       b'\\xff\\xd8\\xff\\xe0\\x00\\x10JFIF\\x00\\x01\\x01\\x00...   \nimage/width                                                                       570   \nimage/height                                                                      473   \n\n                                                                                    2  \\\nUnnamed: 0                                                                          2   \nproduct_id                                                                 1524183478   \nprimary_color_rgb                                                     [207, 202, 193]   \nsecondary_color_rgb                                                     [138, 98, 45]   \nprimary_color_id_x                                                                  4   \nprimary_color_text_x                                                            brown   \nsecondary_color_id_x                                                               17   \nsecondary_color_text_x                                                          white   \nprimary_color_rgb_value                                                      13617857   \nsecondary_color_rgb_value                                                     9069101   \nprimary_color_rgb_value_average                                            200.666667   \nsecondary_color_rgb_value_average                                           93.666667   \nprimary_color_rgb_value_weighted                                             202.4483   \nsecondary_color_rgb_value_weighted                                           103.9042   \ntitle                               Super cool hoodie for kids Sweat hoodie with t...   \ndescription                         Prices stated are total prices. Sales tax is n...   \ntags                                                                                    \ntype                                                                         physical   \nroom                                                                                    \ncraft_type                                                                              \nrecipient                                                                               \nmaterial                                                                                \noccasion                                                                     birthday   \nholiday                                                                                 \nart_subject                                                                             \nstyle                                                                                   \nshape                                                                                   \npattern                                                                       striped   \nbottom_category_id                                                               2187   \nbottom_category_text                clothing.boys_clothing.hoodies_and_sweatshirts...   \ntop_category_id                                                                     5   \ntop_category_text                                                            clothing   \nprimary_color_id_y                                                                  4   \nprimary_color_text_y                                                            brown   \nsecondary_color_id_y                                                               17   \nsecondary_color_text_y                                                          white   \nimage/encoded                       b'\\xff\\xd8\\xff\\xe0\\x00\\x10JFIF\\x00\\x01\\x01\\x00...   \nimage/width                                                                       570   \nimage/height                                                                      760   \n\n                                                                                    3  \\\nUnnamed: 0                                                                          3   \nproduct_id                                                                 1086729662   \nprimary_color_rgb                                                       [143, 97, 70]   \nsecondary_color_rgb                                                   [219, 199, 180]   \nprimary_color_id_x                                                                  4   \nprimary_color_text_x                                                            brown   \nsecondary_color_id_x                                                                6   \nsecondary_color_text_x                                                         copper   \nprimary_color_rgb_value                                                       9396550   \nsecondary_color_rgb_value                                                    14403508   \nprimary_color_rgb_value_average                                            103.333333   \nsecondary_color_rgb_value_average                                          199.333333   \nprimary_color_rgb_value_weighted                                             107.6617   \nsecondary_color_rgb_value_weighted                                           202.7921   \ntitle                               Pure Copper Hammered Finish Regular Pot Storag...   \ndescription                         Copper Traditional Water Pot Drinkware Set Dis...   \ntags                                Kitchenware gift,Thanksgiving gift,dinnerware ...   \ntype                                                                         physical   \nroom                                                                                    \ncraft_type                                                                              \nrecipient                                                                               \nmaterial                                                                       copper   \noccasion                                                                  anniversary   \nholiday                                                                                 \nart_subject                                                                             \nstyle                                                                                   \nshape                                                                                   \npattern                                                                                 \nbottom_category_id                                                              12225   \nbottom_category_text                home_and_living.kitchen_and_dining.drink_and_b...   \ntop_category_id                                                                     8   \ntop_category_text                                                     home_and_living   \nprimary_color_id_y                                                                  4   \nprimary_color_text_y                                                            brown   \nsecondary_color_id_y                                                                6   \nsecondary_color_text_y                                                         copper   \nimage/encoded                       b'\\xff\\xd8\\xff\\xe0\\x00\\x10JFIF\\x00\\x01\\x01\\x00...   \nimage/width                                                                       570   \nimage/height                                                                      411   \n\n                                                                                    4  \nUnnamed: 0                                                                          4  \nproduct_id                                                                 1645635058  \nprimary_color_rgb                                                     [191, 185, 170]  \nsecondary_color_rgb                                                      [87, 69, 54]  \nprimary_color_id_x                                                                 17  \nprimary_color_text_x                                                            white  \nsecondary_color_id_x                                                                2  \nsecondary_color_text_x                                                           blue  \nprimary_color_rgb_value                                                      12564906  \nsecondary_color_rgb_value                                                     5719350  \nprimary_color_rgb_value_average                                                 182.0  \nsecondary_color_rgb_value_average                                                70.0  \nprimary_color_rgb_value_weighted                                             185.0649  \nsecondary_color_rgb_value_weighted                                            72.6633  \ntitle                               Wheel of Time, Egwene, Mousepad, WOT mousepad,...  \ndescription                         Large, bold AI Generated graphics in an anime ...  \ntags                                wheel of time,wheel of time gift,wheel of time...  \ntype                                                                         physical  \nroom                                                                                   \ncraft_type                                                                             \nrecipient                                                                              \nmaterial                                                                               \noccasion                                                                               \nholiday                                                                                \nart_subject                                                                            \nstyle                                                                                  \nshape                                                                                  \npattern                                                                                \nbottom_category_id                                                                851  \nbottom_category_text                electronics_and_accessories.computers_and_peri...  \ntop_category_id                                                                     7  \ntop_category_text                                         electronics_and_accessories  \nprimary_color_id_y                                                                 17  \nprimary_color_text_y                                                            white  \nsecondary_color_id_y                                                                2  \nsecondary_color_text_y                                                           blue  \nimage/encoded                       b'\\xff\\xd8\\xff\\xe0\\x00\\x10JFIF\\x00\\x01\\x01\\x00...  \nimage/width                                                                       570  \nimage/height                                                                      420  ",
            "text/html": "<div>\n<style scoped>\n    .dataframe tbody tr th:only-of-type {\n        vertical-align: middle;\n    }\n\n    .dataframe tbody tr th {\n        vertical-align: top;\n    }\n\n    .dataframe thead th {\n        text-align: right;\n    }\n</style>\n<table border=\"1\" class=\"dataframe\">\n  <thead>\n    <tr style=\"text-align: right;\">\n      <th></th>\n      <th>0</th>\n      <th>1</th>\n      <th>2</th>\n      <th>3</th>\n      <th>4</th>\n    </tr>\n  </thead>\n  <tbody>\n    <tr>\n      <th>Unnamed: 0</th>\n      <td>0</td>\n      <td>1</td>\n      <td>2</td>\n      <td>3</td>\n      <td>4</td>\n    </tr>\n    <tr>\n      <th>product_id</th>\n      <td>1171086357</td>\n      <td>98905015</td>\n      <td>1524183478</td>\n      <td>1086729662</td>\n      <td>1645635058</td>\n    </tr>\n    <tr>\n      <th>primary_color_rgb</th>\n      <td>[157, 146, 142]</td>\n      <td>[38, 38, 39]</td>\n      <td>[207, 202, 193]</td>\n      <td>[143, 97, 70]</td>\n      <td>[191, 185, 170]</td>\n    </tr>\n    <tr>\n      <th>secondary_color_rgb</th>\n      <td>[109, 98, 95]</td>\n      <td>[198, 190, 189]</td>\n      <td>[138, 98, 45]</td>\n      <td>[219, 199, 180]</td>\n      <td>[87, 69, 54]</td>\n    </tr>\n    <tr>\n      <th>primary_color_id_x</th>\n      <td>4</td>\n      <td>11</td>\n      <td>4</td>\n      <td>4</td>\n      <td>17</td>\n    </tr>\n    <tr>\n      <th>primary_color_text_x</th>\n      <td>brown</td>\n      <td>pink</td>\n      <td>brown</td>\n      <td>brown</td>\n      <td>white</td>\n    </tr>\n    <tr>\n      <th>secondary_color_id_x</th>\n      <td>9</td>\n      <td>11</td>\n      <td>17</td>\n      <td>6</td>\n      <td>2</td>\n    </tr>\n    <tr>\n      <th>secondary_color_text_x</th>\n      <td>green</td>\n      <td>pink</td>\n      <td>white</td>\n      <td>copper</td>\n      <td>blue</td>\n    </tr>\n    <tr>\n      <th>primary_color_rgb_value</th>\n      <td>10326670</td>\n      <td>2500135</td>\n      <td>13617857</td>\n      <td>9396550</td>\n      <td>12564906</td>\n    </tr>\n    <tr>\n      <th>secondary_color_rgb_value</th>\n      <td>7168607</td>\n      <td>13024957</td>\n      <td>9069101</td>\n      <td>14403508</td>\n      <td>5719350</td>\n    </tr>\n    <tr>\n      <th>primary_color_rgb_value_average</th>\n      <td>148.333333</td>\n      <td>38.333333</td>\n      <td>200.666667</td>\n      <td>103.333333</td>\n      <td>182.0</td>\n    </tr>\n    <tr>\n      <th>secondary_color_rgb_value_average</th>\n      <td>100.666667</td>\n      <td>192.333333</td>\n      <td>93.666667</td>\n      <td>199.333333</td>\n      <td>70.0</td>\n    </tr>\n    <tr>\n      <th>primary_color_rgb_value_weighted</th>\n      <td>148.8173</td>\n      <td>38.1102</td>\n      <td>202.4483</td>\n      <td>107.6617</td>\n      <td>185.0649</td>\n    </tr>\n    <tr>\n      <th>secondary_color_rgb_value_weighted</th>\n      <td>100.9361</td>\n      <td>192.2582</td>\n      <td>103.9042</td>\n      <td>202.7921</td>\n      <td>72.6633</td>\n    </tr>\n    <tr>\n      <th>title</th>\n      <td>Handmade Natural Wreaths from Homegrown Wild G...</td>\n      <td>PinkPeach  Blush Light Pink  Mineral  Makeup  ...</td>\n      <td>Super cool hoodie for kids Sweat hoodie with t...</td>\n      <td>Pure Copper Hammered Finish Regular Pot Storag...</td>\n      <td>Wheel of Time, Egwene, Mousepad, WOT mousepad,...</td>\n    </tr>\n    <tr>\n      <th>description</th>\n      <td>Handmade Natural Wreaths from Homegrown Wild G...</td>\n      <td>Pure, all natural pressed mineral Blush by Cru...</td>\n      <td>Prices stated are total prices. Sales tax is n...</td>\n      <td>Copper Traditional Water Pot Drinkware Set Dis...</td>\n      <td>Large, bold AI Generated graphics in an anime ...</td>\n    </tr>\n    <tr>\n      <th>tags</th>\n      <td>green,natural,branches,willow wreath,grapevine...</td>\n      <td>mica,loose,make up,cosmetics,mineral make up,c...</td>\n      <td></td>\n      <td>Kitchenware gift,Thanksgiving gift,dinnerware ...</td>\n      <td>wheel of time,wheel of time gift,wheel of time...</td>\n    </tr>\n    <tr>\n      <th>type</th>\n      <td>physical</td>\n      <td>physical</td>\n      <td>physical</td>\n      <td>physical</td>\n      <td>physical</td>\n    </tr>\n    <tr>\n      <th>room</th>\n      <td></td>\n      <td></td>\n      <td></td>\n      <td></td>\n      <td></td>\n    </tr>\n    <tr>\n      <th>craft_type</th>\n      <td></td>\n      <td></td>\n      <td></td>\n      <td></td>\n      <td></td>\n    </tr>\n    <tr>\n      <th>recipient</th>\n      <td></td>\n      <td>women</td>\n      <td></td>\n      <td></td>\n      <td></td>\n    </tr>\n    <tr>\n      <th>material</th>\n      <td></td>\n      <td></td>\n      <td></td>\n      <td>copper</td>\n      <td></td>\n    </tr>\n    <tr>\n      <th>occasion</th>\n      <td></td>\n      <td></td>\n      <td>birthday</td>\n      <td>anniversary</td>\n      <td></td>\n    </tr>\n    <tr>\n      <th>holiday</th>\n      <td>easter</td>\n      <td></td>\n      <td></td>\n      <td></td>\n      <td></td>\n    </tr>\n    <tr>\n      <th>art_subject</th>\n      <td></td>\n      <td></td>\n      <td></td>\n      <td></td>\n      <td></td>\n    </tr>\n    <tr>\n      <th>style</th>\n      <td></td>\n      <td></td>\n      <td></td>\n      <td></td>\n      <td></td>\n    </tr>\n    <tr>\n      <th>shape</th>\n      <td></td>\n      <td></td>\n      <td></td>\n      <td></td>\n      <td></td>\n    </tr>\n    <tr>\n      <th>pattern</th>\n      <td></td>\n      <td></td>\n      <td>striped</td>\n      <td></td>\n      <td></td>\n    </tr>\n    <tr>\n      <th>bottom_category_id</th>\n      <td>6891</td>\n      <td>249</td>\n      <td>2187</td>\n      <td>12225</td>\n      <td>851</td>\n    </tr>\n    <tr>\n      <th>bottom_category_text</th>\n      <td>craft_supplies_and_tools.frames_hoops_and_stan...</td>\n      <td>bath_and_beauty.makeup_and_cosmetics.face.blus...</td>\n      <td>clothing.boys_clothing.hoodies_and_sweatshirts...</td>\n      <td>home_and_living.kitchen_and_dining.drink_and_b...</td>\n      <td>electronics_and_accessories.computers_and_peri...</td>\n    </tr>\n    <tr>\n      <th>top_category_id</th>\n      <td>6</td>\n      <td>3</td>\n      <td>5</td>\n      <td>8</td>\n      <td>7</td>\n    </tr>\n    <tr>\n      <th>top_category_text</th>\n      <td>craft_supplies_and_tools</td>\n      <td>bath_and_beauty</td>\n      <td>clothing</td>\n      <td>home_and_living</td>\n      <td>electronics_and_accessories</td>\n    </tr>\n    <tr>\n      <th>primary_color_id_y</th>\n      <td>4</td>\n      <td>11</td>\n      <td>4</td>\n      <td>4</td>\n      <td>17</td>\n    </tr>\n    <tr>\n      <th>primary_color_text_y</th>\n      <td>brown</td>\n      <td>pink</td>\n      <td>brown</td>\n      <td>brown</td>\n      <td>white</td>\n    </tr>\n    <tr>\n      <th>secondary_color_id_y</th>\n      <td>9</td>\n      <td>11</td>\n      <td>17</td>\n      <td>6</td>\n      <td>2</td>\n    </tr>\n    <tr>\n      <th>secondary_color_text_y</th>\n      <td>green</td>\n      <td>pink</td>\n      <td>white</td>\n      <td>copper</td>\n      <td>blue</td>\n    </tr>\n    <tr>\n      <th>image/encoded</th>\n      <td>b'\\xff\\xd8\\xff\\xe0\\x00\\x10JFIF\\x00\\x01\\x01\\x00...</td>\n      <td>b'\\xff\\xd8\\xff\\xe0\\x00\\x10JFIF\\x00\\x01\\x01\\x00...</td>\n      <td>b'\\xff\\xd8\\xff\\xe0\\x00\\x10JFIF\\x00\\x01\\x01\\x00...</td>\n      <td>b'\\xff\\xd8\\xff\\xe0\\x00\\x10JFIF\\x00\\x01\\x01\\x00...</td>\n      <td>b'\\xff\\xd8\\xff\\xe0\\x00\\x10JFIF\\x00\\x01\\x01\\x00...</td>\n    </tr>\n    <tr>\n      <th>image/width</th>\n      <td>570</td>\n      <td>570</td>\n      <td>570</td>\n      <td>570</td>\n      <td>570</td>\n    </tr>\n    <tr>\n      <th>image/height</th>\n      <td>760</td>\n      <td>473</td>\n      <td>760</td>\n      <td>411</td>\n      <td>420</td>\n    </tr>\n  </tbody>\n</table>\n</div>"
          },
          "metadata": {}
        }
      ]
    },
    {
      "cell_type": "code",
      "source": [
        "unique_colors=merged_df['primary_color_text_x'].unique().tolist()\n",
        "unique_colors = [word for word in unique_colors if word != 'other']"
      ],
      "metadata": {
        "execution": {
          "iopub.status.busy": "2024-04-18T21:25:21.858794Z",
          "iopub.execute_input": "2024-04-18T21:25:21.860166Z",
          "iopub.status.idle": "2024-04-18T21:25:21.870266Z",
          "shell.execute_reply.started": "2024-04-18T21:25:21.860113Z",
          "shell.execute_reply": "2024-04-18T21:25:21.868761Z"
        },
        "trusted": true,
        "id": "aSdfdMHK8V76"
      },
      "execution_count": null,
      "outputs": []
    },
    {
      "cell_type": "code",
      "source": [
        "unique_colors"
      ],
      "metadata": {
        "execution": {
          "iopub.status.busy": "2024-04-18T21:25:24.069710Z",
          "iopub.execute_input": "2024-04-18T21:25:24.070172Z",
          "iopub.status.idle": "2024-04-18T21:25:24.080241Z",
          "shell.execute_reply.started": "2024-04-18T21:25:24.070141Z",
          "shell.execute_reply": "2024-04-18T21:25:24.078669Z"
        },
        "trusted": true,
        "id": "F1ClQ9qm8V76",
        "outputId": "0c494188-266b-4b03-964d-ac30399f1189"
      },
      "execution_count": null,
      "outputs": [
        {
          "execution_count": 27,
          "output_type": "execute_result",
          "data": {
            "text/plain": "['brown',\n 'pink',\n 'white',\n 'silver',\n 'bronze',\n 'green',\n 'beige',\n 'blue',\n 'black',\n 'gold',\n 'yellow',\n 'red',\n 'clear',\n 'purple',\n 'copper',\n 'orange',\n 'rainbow',\n 'rose gold']"
          },
          "metadata": {}
        }
      ]
    },
    {
      "cell_type": "code",
      "source": [
        "def find_matching_words(text):\n",
        "    word_array=unique_colors\n",
        "    matching_words = []\n",
        "    # Split the text into words\n",
        "    words = text.split()\n",
        "    # Iterate through each word in the text\n",
        "    for word in words:\n",
        "        # Check if the word is in the word array\n",
        "        if word in word_array:\n",
        "            matching_words.append(word)\n",
        "    return matching_words"
      ],
      "metadata": {
        "execution": {
          "iopub.status.busy": "2024-04-18T21:25:26.917698Z",
          "iopub.execute_input": "2024-04-18T21:25:26.918178Z",
          "iopub.status.idle": "2024-04-18T21:25:26.925522Z",
          "shell.execute_reply.started": "2024-04-18T21:25:26.918145Z",
          "shell.execute_reply": "2024-04-18T21:25:26.924386Z"
        },
        "trusted": true,
        "id": "1-MThb5f8V76"
      },
      "execution_count": null,
      "outputs": []
    },
    {
      "cell_type": "code",
      "source": [
        "merged_df['text']=merged_df['title']+' '+ merged_df['description'] +merged_df['tags']\n",
        "merged_df['colors']=merged_df['text'].apply(find_matching_words)"
      ],
      "metadata": {
        "execution": {
          "iopub.status.busy": "2024-04-18T21:25:28.139219Z",
          "iopub.execute_input": "2024-04-18T21:25:28.139618Z",
          "iopub.status.idle": "2024-04-18T21:25:30.792147Z",
          "shell.execute_reply.started": "2024-04-18T21:25:28.139588Z",
          "shell.execute_reply": "2024-04-18T21:25:30.790914Z"
        },
        "trusted": true,
        "id": "KSLT1iiA8V76"
      },
      "execution_count": null,
      "outputs": []
    },
    {
      "cell_type": "code",
      "source": [
        "df_test_bottom=pd.read_csv('/kaggle/input/bottom-category-prediction/bottom_category_predictions.csv')"
      ],
      "metadata": {
        "execution": {
          "iopub.status.busy": "2024-04-18T15:03:35.986249Z",
          "iopub.execute_input": "2024-04-18T15:03:35.986687Z",
          "iopub.status.idle": "2024-04-18T15:03:36.225669Z",
          "shell.execute_reply.started": "2024-04-18T15:03:35.986653Z",
          "shell.execute_reply": "2024-04-18T15:03:36.224326Z"
        },
        "trusted": true,
        "id": "tNxxfdb_8V77"
      },
      "execution_count": null,
      "outputs": []
    },
    {
      "cell_type": "code",
      "source": [
        "merged_df_test = pd.merge(df_test_bottom, df_test[['product_id', 'description','image/encoded']], on='product_id', how='left')"
      ],
      "metadata": {
        "execution": {
          "iopub.status.busy": "2024-04-18T15:03:45.139261Z",
          "iopub.execute_input": "2024-04-18T15:03:45.139746Z",
          "iopub.status.idle": "2024-04-18T15:03:45.183687Z",
          "shell.execute_reply.started": "2024-04-18T15:03:45.139710Z",
          "shell.execute_reply": "2024-04-18T15:03:45.182472Z"
        },
        "trusted": true,
        "id": "1A8mQSSw8V77"
      },
      "execution_count": null,
      "outputs": []
    },
    {
      "cell_type": "code",
      "source": [
        "merged_df_test.head()"
      ],
      "metadata": {
        "execution": {
          "iopub.status.busy": "2024-04-18T15:03:51.847418Z",
          "iopub.execute_input": "2024-04-18T15:03:51.848496Z",
          "iopub.status.idle": "2024-04-18T15:03:51.883884Z",
          "shell.execute_reply.started": "2024-04-18T15:03:51.848447Z",
          "shell.execute_reply": "2024-04-18T15:03:51.882556Z"
        },
        "trusted": true,
        "id": "7X3Oi_YE8V77",
        "outputId": "cd7853e8-8bbf-42cd-d292-7ee567428c6b"
      },
      "execution_count": null,
      "outputs": [
        {
          "execution_count": 304,
          "output_type": "execute_result",
          "data": {
            "text/plain": "   Unnamed: 0  product_id                                              title  \\\n0           0   815216520      A First Doll Book. &quot; Peggy and Me&quot;!   \n1           1   870948450  Abigayil: The Story of the Cat at the Manger, ...   \n2           2  1111113690  No Fighting, No Biting! by Else Holmelund Mina...   \n3           3  1510466600  Ukrainian book. &quot;Magic flashlight&quot;. ...   \n4           4  1035734450                                 The Ugly Butterfly   \n\n                                                tags      type  \\\n0      flip book,vintage,Peggy and Me,change dresses  physical   \n1  one of a kind,authentic,original,gift,special,...  physical   \n2  Else Minarik,Maurice Sendak,Vintage Children,L...  physical   \n3  Books,Ukrainian,New,Gift,Colorful,Best,Stories...  physical   \n4  moth metamorphosis,caterpillar bug,butterfly c...  physical   \n\n   top_category_id       top_category_text  bottom_category_id  \\\n0                4  books_movies_and_music                2010   \n1                4  books_movies_and_music                 345   \n2                4  books_movies_and_music                 329   \n3                4  books_movies_and_music               11368   \n4                8         home_and_living                 352   \n\n                                bottom_category_text  \\\n0  books_movies_and_music.books.literature_and_fi...   \n1         books_movies_and_music.books.history_books   \n2  books_movies_and_music.books.book_accessories....   \n3  books_movies_and_music.books.childrens_books.b...   \n4  books_movies_and_music.books.science_and_math_...   \n\n                                         description  \\\n0  Vintage book!  1968 A First Doll Book, &quot; ...   \n1  Rouben Mamoulian was an American film and thea...   \n2  A fun little vintage book “No Fighting, No Bit...   \n3  Ukrainian book.\\n&quot;Magic flashlight&quot;....   \n4  PreOrder this imaginative story about the life...   \n\n                                       image/encoded  \n0  b'\\xff\\xd8\\xff\\xe0\\x00\\x10JFIF\\x00\\x01\\x01\\x00...  \n1  b'\\xff\\xd8\\xff\\xe0\\x00\\x10JFIF\\x00\\x01\\x01\\x00...  \n2  b'\\xff\\xd8\\xff\\xe0\\x00\\x10JFIF\\x00\\x01\\x01\\x00...  \n3  b'\\xff\\xd8\\xff\\xe0\\x00\\x10JFIF\\x00\\x01\\x01\\x00...  \n4  b'\\xff\\xd8\\xff\\xe0\\x00\\x10JFIF\\x00\\x01\\x01\\x00...  ",
            "text/html": "<div>\n<style scoped>\n    .dataframe tbody tr th:only-of-type {\n        vertical-align: middle;\n    }\n\n    .dataframe tbody tr th {\n        vertical-align: top;\n    }\n\n    .dataframe thead th {\n        text-align: right;\n    }\n</style>\n<table border=\"1\" class=\"dataframe\">\n  <thead>\n    <tr style=\"text-align: right;\">\n      <th></th>\n      <th>Unnamed: 0</th>\n      <th>product_id</th>\n      <th>title</th>\n      <th>tags</th>\n      <th>type</th>\n      <th>top_category_id</th>\n      <th>top_category_text</th>\n      <th>bottom_category_id</th>\n      <th>bottom_category_text</th>\n      <th>description</th>\n      <th>image/encoded</th>\n    </tr>\n  </thead>\n  <tbody>\n    <tr>\n      <th>0</th>\n      <td>0</td>\n      <td>815216520</td>\n      <td>A First Doll Book. &amp;quot; Peggy and Me&amp;quot;!</td>\n      <td>flip book,vintage,Peggy and Me,change dresses</td>\n      <td>physical</td>\n      <td>4</td>\n      <td>books_movies_and_music</td>\n      <td>2010</td>\n      <td>books_movies_and_music.books.literature_and_fi...</td>\n      <td>Vintage book!  1968 A First Doll Book, &amp;quot; ...</td>\n      <td>b'\\xff\\xd8\\xff\\xe0\\x00\\x10JFIF\\x00\\x01\\x01\\x00...</td>\n    </tr>\n    <tr>\n      <th>1</th>\n      <td>1</td>\n      <td>870948450</td>\n      <td>Abigayil: The Story of the Cat at the Manger, ...</td>\n      <td>one of a kind,authentic,original,gift,special,...</td>\n      <td>physical</td>\n      <td>4</td>\n      <td>books_movies_and_music</td>\n      <td>345</td>\n      <td>books_movies_and_music.books.history_books</td>\n      <td>Rouben Mamoulian was an American film and thea...</td>\n      <td>b'\\xff\\xd8\\xff\\xe0\\x00\\x10JFIF\\x00\\x01\\x01\\x00...</td>\n    </tr>\n    <tr>\n      <th>2</th>\n      <td>2</td>\n      <td>1111113690</td>\n      <td>No Fighting, No Biting! by Else Holmelund Mina...</td>\n      <td>Else Minarik,Maurice Sendak,Vintage Children,L...</td>\n      <td>physical</td>\n      <td>4</td>\n      <td>books_movies_and_music</td>\n      <td>329</td>\n      <td>books_movies_and_music.books.book_accessories....</td>\n      <td>A fun little vintage book “No Fighting, No Bit...</td>\n      <td>b'\\xff\\xd8\\xff\\xe0\\x00\\x10JFIF\\x00\\x01\\x01\\x00...</td>\n    </tr>\n    <tr>\n      <th>3</th>\n      <td>3</td>\n      <td>1510466600</td>\n      <td>Ukrainian book. &amp;quot;Magic flashlight&amp;quot;. ...</td>\n      <td>Books,Ukrainian,New,Gift,Colorful,Best,Stories...</td>\n      <td>physical</td>\n      <td>4</td>\n      <td>books_movies_and_music</td>\n      <td>11368</td>\n      <td>books_movies_and_music.books.childrens_books.b...</td>\n      <td>Ukrainian book.\\n&amp;quot;Magic flashlight&amp;quot;....</td>\n      <td>b'\\xff\\xd8\\xff\\xe0\\x00\\x10JFIF\\x00\\x01\\x01\\x00...</td>\n    </tr>\n    <tr>\n      <th>4</th>\n      <td>4</td>\n      <td>1035734450</td>\n      <td>The Ugly Butterfly</td>\n      <td>moth metamorphosis,caterpillar bug,butterfly c...</td>\n      <td>physical</td>\n      <td>8</td>\n      <td>home_and_living</td>\n      <td>352</td>\n      <td>books_movies_and_music.books.science_and_math_...</td>\n      <td>PreOrder this imaginative story about the life...</td>\n      <td>b'\\xff\\xd8\\xff\\xe0\\x00\\x10JFIF\\x00\\x01\\x01\\x00...</td>\n    </tr>\n  </tbody>\n</table>\n</div>"
          },
          "metadata": {}
        }
      ]
    },
    {
      "cell_type": "code",
      "source": [
        "merged_df_test.fillna('',inplace=True)"
      ],
      "metadata": {
        "execution": {
          "iopub.status.busy": "2024-04-18T15:03:53.314024Z",
          "iopub.execute_input": "2024-04-18T15:03:53.314486Z",
          "iopub.status.idle": "2024-04-18T15:03:53.362118Z",
          "shell.execute_reply.started": "2024-04-18T15:03:53.314452Z",
          "shell.execute_reply": "2024-04-18T15:03:53.360784Z"
        },
        "trusted": true,
        "id": "NiDifVzD8V77"
      },
      "execution_count": null,
      "outputs": []
    },
    {
      "cell_type": "code",
      "source": [
        "df_test_processed.head()"
      ],
      "metadata": {
        "execution": {
          "iopub.status.busy": "2024-04-18T15:03:55.125639Z",
          "iopub.execute_input": "2024-04-18T15:03:55.126036Z",
          "iopub.status.idle": "2024-04-18T15:03:55.144203Z",
          "shell.execute_reply.started": "2024-04-18T15:03:55.126006Z",
          "shell.execute_reply": "2024-04-18T15:03:55.142901Z"
        },
        "trusted": true,
        "id": "8GR2TCsQ8V77",
        "outputId": "ab731db4-ac32-46b8-b086-dde13dc80fa5"
      },
      "execution_count": null,
      "outputs": [
        {
          "execution_count": 306,
          "output_type": "execute_result",
          "data": {
            "text/plain": "  primary_color_rgb secondary_color_rgb  product_id  Unnamed: 0  \\\n0      [70, 37, 36]      [171, 146, 91]   815216520         NaN   \n1   [182, 177, 153]        [98, 80, 62]   870948450         NaN   \n2   [254, 254, 254]     [146, 142, 133]  1111113690         NaN   \n3   [204, 209, 208]      [81, 127, 117]  1510466600         NaN   \n4    [120, 129, 98]        [78, 72, 42]  1035734450         NaN   \n\n   primary_color_rgb_value  secondary_color_rgb_value  \\\n0                  4597028                   11244123   \n1                 11973017                    6443070   \n2                 16711422                    9604741   \n3                 13423056                    5341045   \n4                  7897442                    5130282   \n\n   primary_color_rgb_value_average  secondary_color_rgb_value_average  \\\n0                        47.666667                         136.000000   \n1                       170.666667                          80.000000   \n2                       254.000000                         140.333333   \n3                       207.000000                         108.333333   \n4                       115.666667                          64.000000   \n\n   primary_color_rgb_value_weighted  secondary_color_rgb_value_weighted  \n0                           46.7460                            147.1879  \n1                          175.7408                             83.3202  \n2                          253.9746                            142.1554  \n3                          207.3706                            112.0979  \n4                          122.7630                             70.3662  ",
            "text/html": "<div>\n<style scoped>\n    .dataframe tbody tr th:only-of-type {\n        vertical-align: middle;\n    }\n\n    .dataframe tbody tr th {\n        vertical-align: top;\n    }\n\n    .dataframe thead th {\n        text-align: right;\n    }\n</style>\n<table border=\"1\" class=\"dataframe\">\n  <thead>\n    <tr style=\"text-align: right;\">\n      <th></th>\n      <th>primary_color_rgb</th>\n      <th>secondary_color_rgb</th>\n      <th>product_id</th>\n      <th>Unnamed: 0</th>\n      <th>primary_color_rgb_value</th>\n      <th>secondary_color_rgb_value</th>\n      <th>primary_color_rgb_value_average</th>\n      <th>secondary_color_rgb_value_average</th>\n      <th>primary_color_rgb_value_weighted</th>\n      <th>secondary_color_rgb_value_weighted</th>\n    </tr>\n  </thead>\n  <tbody>\n    <tr>\n      <th>0</th>\n      <td>[70, 37, 36]</td>\n      <td>[171, 146, 91]</td>\n      <td>815216520</td>\n      <td>NaN</td>\n      <td>4597028</td>\n      <td>11244123</td>\n      <td>47.666667</td>\n      <td>136.000000</td>\n      <td>46.7460</td>\n      <td>147.1879</td>\n    </tr>\n    <tr>\n      <th>1</th>\n      <td>[182, 177, 153]</td>\n      <td>[98, 80, 62]</td>\n      <td>870948450</td>\n      <td>NaN</td>\n      <td>11973017</td>\n      <td>6443070</td>\n      <td>170.666667</td>\n      <td>80.000000</td>\n      <td>175.7408</td>\n      <td>83.3202</td>\n    </tr>\n    <tr>\n      <th>2</th>\n      <td>[254, 254, 254]</td>\n      <td>[146, 142, 133]</td>\n      <td>1111113690</td>\n      <td>NaN</td>\n      <td>16711422</td>\n      <td>9604741</td>\n      <td>254.000000</td>\n      <td>140.333333</td>\n      <td>253.9746</td>\n      <td>142.1554</td>\n    </tr>\n    <tr>\n      <th>3</th>\n      <td>[204, 209, 208]</td>\n      <td>[81, 127, 117]</td>\n      <td>1510466600</td>\n      <td>NaN</td>\n      <td>13423056</td>\n      <td>5341045</td>\n      <td>207.000000</td>\n      <td>108.333333</td>\n      <td>207.3706</td>\n      <td>112.0979</td>\n    </tr>\n    <tr>\n      <th>4</th>\n      <td>[120, 129, 98]</td>\n      <td>[78, 72, 42]</td>\n      <td>1035734450</td>\n      <td>NaN</td>\n      <td>7897442</td>\n      <td>5130282</td>\n      <td>115.666667</td>\n      <td>64.000000</td>\n      <td>122.7630</td>\n      <td>70.3662</td>\n    </tr>\n  </tbody>\n</table>\n</div>"
          },
          "metadata": {}
        }
      ]
    },
    {
      "cell_type": "code",
      "source": [
        "merged_df_test['text']=merged_df_test['title']+' '+ merged_df_test['description'] +merged_df_test['tags']\n",
        "merged_df_test['colors']=merged_df_test['text'].apply(find_matching_words)"
      ],
      "metadata": {
        "execution": {
          "iopub.status.busy": "2024-04-18T15:03:58.321136Z",
          "iopub.execute_input": "2024-04-18T15:03:58.321582Z",
          "iopub.status.idle": "2024-04-18T15:04:00.518452Z",
          "shell.execute_reply.started": "2024-04-18T15:03:58.321547Z",
          "shell.execute_reply": "2024-04-18T15:04:00.517157Z"
        },
        "trusted": true,
        "id": "DEwUnXDH8V78"
      },
      "execution_count": null,
      "outputs": []
    },
    {
      "cell_type": "code",
      "source": [
        "merged_df_test=pd.merge(merged_df_test,df_test_processed[['product_id','primary_color_rgb_value', 'secondary_color_rgb_value','primary_color_rgb_value_average','secondary_color_rgb_value_average','primary_color_rgb_value_weighted','secondary_color_rgb_value_weighted']],on='product_id',how='left')"
      ],
      "metadata": {
        "execution": {
          "iopub.status.busy": "2024-04-18T15:04:00.520380Z",
          "iopub.execute_input": "2024-04-18T15:04:00.520721Z",
          "iopub.status.idle": "2024-04-18T15:04:00.573105Z",
          "shell.execute_reply.started": "2024-04-18T15:04:00.520693Z",
          "shell.execute_reply": "2024-04-18T15:04:00.571940Z"
        },
        "trusted": true,
        "id": "EgQLol418V78"
      },
      "execution_count": null,
      "outputs": []
    },
    {
      "cell_type": "code",
      "source": [
        "merged_df_test.head().T"
      ],
      "metadata": {
        "execution": {
          "iopub.status.busy": "2024-04-18T15:04:01.832858Z",
          "iopub.execute_input": "2024-04-18T15:04:01.833280Z",
          "iopub.status.idle": "2024-04-18T15:04:01.870492Z",
          "shell.execute_reply.started": "2024-04-18T15:04:01.833248Z",
          "shell.execute_reply": "2024-04-18T15:04:01.869011Z"
        },
        "trusted": true,
        "id": "yIhjKJyx8V79",
        "outputId": "4176cbc3-13ef-4bb7-bca1-cd936e95f2c6"
      },
      "execution_count": null,
      "outputs": [
        {
          "execution_count": 309,
          "output_type": "execute_result",
          "data": {
            "text/plain": "                                                                                    0  \\\nUnnamed: 0                                                                          0   \nproduct_id                                                                  815216520   \ntitle                                   A First Doll Book. &quot; Peggy and Me&quot;!   \ntags                                    flip book,vintage,Peggy and Me,change dresses   \ntype                                                                         physical   \ntop_category_id                                                                     4   \ntop_category_text                                              books_movies_and_music   \nbottom_category_id                                                               2010   \nbottom_category_text                books_movies_and_music.books.literature_and_fi...   \ndescription                         Vintage book!  1968 A First Doll Book, &quot; ...   \nimage/encoded                       b'\\xff\\xd8\\xff\\xe0\\x00\\x10JFIF\\x00\\x01\\x01\\x00...   \ntext                                A First Doll Book. &quot; Peggy and Me&quot;! ...   \ncolors                                                                             []   \nprimary_color_rgb_value                                                       4597028   \nsecondary_color_rgb_value                                                    11244123   \nprimary_color_rgb_value_average                                             47.666667   \nsecondary_color_rgb_value_average                                               136.0   \nprimary_color_rgb_value_weighted                                               46.746   \nsecondary_color_rgb_value_weighted                                           147.1879   \n\n                                                                                    1  \\\nUnnamed: 0                                                                          1   \nproduct_id                                                                  870948450   \ntitle                               Abigayil: The Story of the Cat at the Manger, ...   \ntags                                one of a kind,authentic,original,gift,special,...   \ntype                                                                         physical   \ntop_category_id                                                                     4   \ntop_category_text                                              books_movies_and_music   \nbottom_category_id                                                                345   \nbottom_category_text                       books_movies_and_music.books.history_books   \ndescription                         Rouben Mamoulian was an American film and thea...   \nimage/encoded                       b'\\xff\\xd8\\xff\\xe0\\x00\\x10JFIF\\x00\\x01\\x01\\x00...   \ntext                                Abigayil: The Story of the Cat at the Manger, ...   \ncolors                                                                             []   \nprimary_color_rgb_value                                                      11973017   \nsecondary_color_rgb_value                                                     6443070   \nprimary_color_rgb_value_average                                            170.666667   \nsecondary_color_rgb_value_average                                                80.0   \nprimary_color_rgb_value_weighted                                             175.7408   \nsecondary_color_rgb_value_weighted                                            83.3202   \n\n                                                                                    2  \\\nUnnamed: 0                                                                          2   \nproduct_id                                                                 1111113690   \ntitle                               No Fighting, No Biting! by Else Holmelund Mina...   \ntags                                Else Minarik,Maurice Sendak,Vintage Children,L...   \ntype                                                                         physical   \ntop_category_id                                                                     4   \ntop_category_text                                              books_movies_and_music   \nbottom_category_id                                                                329   \nbottom_category_text                books_movies_and_music.books.book_accessories....   \ndescription                         A fun little vintage book “No Fighting, No Bit...   \nimage/encoded                       b'\\xff\\xd8\\xff\\xe0\\x00\\x10JFIF\\x00\\x01\\x01\\x00...   \ntext                                No Fighting, No Biting! by Else Holmelund Mina...   \ncolors                                                                             []   \nprimary_color_rgb_value                                                      16711422   \nsecondary_color_rgb_value                                                     9604741   \nprimary_color_rgb_value_average                                                 254.0   \nsecondary_color_rgb_value_average                                          140.333333   \nprimary_color_rgb_value_weighted                                             253.9746   \nsecondary_color_rgb_value_weighted                                           142.1554   \n\n                                                                                    3  \\\nUnnamed: 0                                                                          3   \nproduct_id                                                                 1510466600   \ntitle                               Ukrainian book. &quot;Magic flashlight&quot;. ...   \ntags                                Books,Ukrainian,New,Gift,Colorful,Best,Stories...   \ntype                                                                         physical   \ntop_category_id                                                                     4   \ntop_category_text                                              books_movies_and_music   \nbottom_category_id                                                              11368   \nbottom_category_text                books_movies_and_music.books.childrens_books.b...   \ndescription                         Ukrainian book.\\n&quot;Magic flashlight&quot;....   \nimage/encoded                       b'\\xff\\xd8\\xff\\xe0\\x00\\x10JFIF\\x00\\x01\\x01\\x00...   \ntext                                Ukrainian book. &quot;Magic flashlight&quot;. ...   \ncolors                                                                             []   \nprimary_color_rgb_value                                                      13423056   \nsecondary_color_rgb_value                                                     5341045   \nprimary_color_rgb_value_average                                                 207.0   \nsecondary_color_rgb_value_average                                          108.333333   \nprimary_color_rgb_value_weighted                                             207.3706   \nsecondary_color_rgb_value_weighted                                           112.0979   \n\n                                                                                    4  \nUnnamed: 0                                                                          4  \nproduct_id                                                                 1035734450  \ntitle                                                              The Ugly Butterfly  \ntags                                moth metamorphosis,caterpillar bug,butterfly c...  \ntype                                                                         physical  \ntop_category_id                                                                     8  \ntop_category_text                                                     home_and_living  \nbottom_category_id                                                                352  \nbottom_category_text                books_movies_and_music.books.science_and_math_...  \ndescription                         PreOrder this imaginative story about the life...  \nimage/encoded                       b'\\xff\\xd8\\xff\\xe0\\x00\\x10JFIF\\x00\\x01\\x01\\x00...  \ntext                                The Ugly Butterfly PreOrder this imaginative s...  \ncolors                                                                             []  \nprimary_color_rgb_value                                                       7897442  \nsecondary_color_rgb_value                                                     5130282  \nprimary_color_rgb_value_average                                            115.666667  \nsecondary_color_rgb_value_average                                                64.0  \nprimary_color_rgb_value_weighted                                              122.763  \nsecondary_color_rgb_value_weighted                                            70.3662  ",
            "text/html": "<div>\n<style scoped>\n    .dataframe tbody tr th:only-of-type {\n        vertical-align: middle;\n    }\n\n    .dataframe tbody tr th {\n        vertical-align: top;\n    }\n\n    .dataframe thead th {\n        text-align: right;\n    }\n</style>\n<table border=\"1\" class=\"dataframe\">\n  <thead>\n    <tr style=\"text-align: right;\">\n      <th></th>\n      <th>0</th>\n      <th>1</th>\n      <th>2</th>\n      <th>3</th>\n      <th>4</th>\n    </tr>\n  </thead>\n  <tbody>\n    <tr>\n      <th>Unnamed: 0</th>\n      <td>0</td>\n      <td>1</td>\n      <td>2</td>\n      <td>3</td>\n      <td>4</td>\n    </tr>\n    <tr>\n      <th>product_id</th>\n      <td>815216520</td>\n      <td>870948450</td>\n      <td>1111113690</td>\n      <td>1510466600</td>\n      <td>1035734450</td>\n    </tr>\n    <tr>\n      <th>title</th>\n      <td>A First Doll Book. &amp;quot; Peggy and Me&amp;quot;!</td>\n      <td>Abigayil: The Story of the Cat at the Manger, ...</td>\n      <td>No Fighting, No Biting! by Else Holmelund Mina...</td>\n      <td>Ukrainian book. &amp;quot;Magic flashlight&amp;quot;. ...</td>\n      <td>The Ugly Butterfly</td>\n    </tr>\n    <tr>\n      <th>tags</th>\n      <td>flip book,vintage,Peggy and Me,change dresses</td>\n      <td>one of a kind,authentic,original,gift,special,...</td>\n      <td>Else Minarik,Maurice Sendak,Vintage Children,L...</td>\n      <td>Books,Ukrainian,New,Gift,Colorful,Best,Stories...</td>\n      <td>moth metamorphosis,caterpillar bug,butterfly c...</td>\n    </tr>\n    <tr>\n      <th>type</th>\n      <td>physical</td>\n      <td>physical</td>\n      <td>physical</td>\n      <td>physical</td>\n      <td>physical</td>\n    </tr>\n    <tr>\n      <th>top_category_id</th>\n      <td>4</td>\n      <td>4</td>\n      <td>4</td>\n      <td>4</td>\n      <td>8</td>\n    </tr>\n    <tr>\n      <th>top_category_text</th>\n      <td>books_movies_and_music</td>\n      <td>books_movies_and_music</td>\n      <td>books_movies_and_music</td>\n      <td>books_movies_and_music</td>\n      <td>home_and_living</td>\n    </tr>\n    <tr>\n      <th>bottom_category_id</th>\n      <td>2010</td>\n      <td>345</td>\n      <td>329</td>\n      <td>11368</td>\n      <td>352</td>\n    </tr>\n    <tr>\n      <th>bottom_category_text</th>\n      <td>books_movies_and_music.books.literature_and_fi...</td>\n      <td>books_movies_and_music.books.history_books</td>\n      <td>books_movies_and_music.books.book_accessories....</td>\n      <td>books_movies_and_music.books.childrens_books.b...</td>\n      <td>books_movies_and_music.books.science_and_math_...</td>\n    </tr>\n    <tr>\n      <th>description</th>\n      <td>Vintage book!  1968 A First Doll Book, &amp;quot; ...</td>\n      <td>Rouben Mamoulian was an American film and thea...</td>\n      <td>A fun little vintage book “No Fighting, No Bit...</td>\n      <td>Ukrainian book.\\n&amp;quot;Magic flashlight&amp;quot;....</td>\n      <td>PreOrder this imaginative story about the life...</td>\n    </tr>\n    <tr>\n      <th>image/encoded</th>\n      <td>b'\\xff\\xd8\\xff\\xe0\\x00\\x10JFIF\\x00\\x01\\x01\\x00...</td>\n      <td>b'\\xff\\xd8\\xff\\xe0\\x00\\x10JFIF\\x00\\x01\\x01\\x00...</td>\n      <td>b'\\xff\\xd8\\xff\\xe0\\x00\\x10JFIF\\x00\\x01\\x01\\x00...</td>\n      <td>b'\\xff\\xd8\\xff\\xe0\\x00\\x10JFIF\\x00\\x01\\x01\\x00...</td>\n      <td>b'\\xff\\xd8\\xff\\xe0\\x00\\x10JFIF\\x00\\x01\\x01\\x00...</td>\n    </tr>\n    <tr>\n      <th>text</th>\n      <td>A First Doll Book. &amp;quot; Peggy and Me&amp;quot;! ...</td>\n      <td>Abigayil: The Story of the Cat at the Manger, ...</td>\n      <td>No Fighting, No Biting! by Else Holmelund Mina...</td>\n      <td>Ukrainian book. &amp;quot;Magic flashlight&amp;quot;. ...</td>\n      <td>The Ugly Butterfly PreOrder this imaginative s...</td>\n    </tr>\n    <tr>\n      <th>colors</th>\n      <td>[]</td>\n      <td>[]</td>\n      <td>[]</td>\n      <td>[]</td>\n      <td>[]</td>\n    </tr>\n    <tr>\n      <th>primary_color_rgb_value</th>\n      <td>4597028</td>\n      <td>11973017</td>\n      <td>16711422</td>\n      <td>13423056</td>\n      <td>7897442</td>\n    </tr>\n    <tr>\n      <th>secondary_color_rgb_value</th>\n      <td>11244123</td>\n      <td>6443070</td>\n      <td>9604741</td>\n      <td>5341045</td>\n      <td>5130282</td>\n    </tr>\n    <tr>\n      <th>primary_color_rgb_value_average</th>\n      <td>47.666667</td>\n      <td>170.666667</td>\n      <td>254.0</td>\n      <td>207.0</td>\n      <td>115.666667</td>\n    </tr>\n    <tr>\n      <th>secondary_color_rgb_value_average</th>\n      <td>136.0</td>\n      <td>80.0</td>\n      <td>140.333333</td>\n      <td>108.333333</td>\n      <td>64.0</td>\n    </tr>\n    <tr>\n      <th>primary_color_rgb_value_weighted</th>\n      <td>46.746</td>\n      <td>175.7408</td>\n      <td>253.9746</td>\n      <td>207.3706</td>\n      <td>122.763</td>\n    </tr>\n    <tr>\n      <th>secondary_color_rgb_value_weighted</th>\n      <td>147.1879</td>\n      <td>83.3202</td>\n      <td>142.1554</td>\n      <td>112.0979</td>\n      <td>70.3662</td>\n    </tr>\n  </tbody>\n</table>\n</div>"
          },
          "metadata": {}
        }
      ]
    },
    {
      "cell_type": "code",
      "source": [
        "merged_df[['colors','primary_color_text_x','secondary_color_text_x']].head(10)"
      ],
      "metadata": {
        "execution": {
          "iopub.status.busy": "2024-04-18T21:25:38.945070Z",
          "iopub.execute_input": "2024-04-18T21:25:38.945491Z",
          "iopub.status.idle": "2024-04-18T21:25:38.971285Z",
          "shell.execute_reply.started": "2024-04-18T21:25:38.945460Z",
          "shell.execute_reply": "2024-04-18T21:25:38.970189Z"
        },
        "trusted": true,
        "id": "Lpw0KCXQ8V79",
        "outputId": "4cde2ffd-7611-4174-cc7d-158d1b47c914"
      },
      "execution_count": null,
      "outputs": [
        {
          "execution_count": 30,
          "output_type": "execute_result",
          "data": {
            "text/plain": "                  colors primary_color_text_x secondary_color_text_x\n0                     []                brown                  green\n1                     []                 pink                   pink\n2                     []                brown                  white\n3                     []                brown                 copper\n4  [green, green, white]                white                   blue\n5                     []                white                  other\n6                     []                brown                  black\n7                     []                brown                  black\n8                     []                other                  black\n9                     []               silver                  black",
            "text/html": "<div>\n<style scoped>\n    .dataframe tbody tr th:only-of-type {\n        vertical-align: middle;\n    }\n\n    .dataframe tbody tr th {\n        vertical-align: top;\n    }\n\n    .dataframe thead th {\n        text-align: right;\n    }\n</style>\n<table border=\"1\" class=\"dataframe\">\n  <thead>\n    <tr style=\"text-align: right;\">\n      <th></th>\n      <th>colors</th>\n      <th>primary_color_text_x</th>\n      <th>secondary_color_text_x</th>\n    </tr>\n  </thead>\n  <tbody>\n    <tr>\n      <th>0</th>\n      <td>[]</td>\n      <td>brown</td>\n      <td>green</td>\n    </tr>\n    <tr>\n      <th>1</th>\n      <td>[]</td>\n      <td>pink</td>\n      <td>pink</td>\n    </tr>\n    <tr>\n      <th>2</th>\n      <td>[]</td>\n      <td>brown</td>\n      <td>white</td>\n    </tr>\n    <tr>\n      <th>3</th>\n      <td>[]</td>\n      <td>brown</td>\n      <td>copper</td>\n    </tr>\n    <tr>\n      <th>4</th>\n      <td>[green, green, white]</td>\n      <td>white</td>\n      <td>blue</td>\n    </tr>\n    <tr>\n      <th>5</th>\n      <td>[]</td>\n      <td>white</td>\n      <td>other</td>\n    </tr>\n    <tr>\n      <th>6</th>\n      <td>[]</td>\n      <td>brown</td>\n      <td>black</td>\n    </tr>\n    <tr>\n      <th>7</th>\n      <td>[]</td>\n      <td>brown</td>\n      <td>black</td>\n    </tr>\n    <tr>\n      <th>8</th>\n      <td>[]</td>\n      <td>other</td>\n      <td>black</td>\n    </tr>\n    <tr>\n      <th>9</th>\n      <td>[]</td>\n      <td>silver</td>\n      <td>black</td>\n    </tr>\n  </tbody>\n</table>\n</div>"
          },
          "metadata": {}
        }
      ]
    },
    {
      "cell_type": "code",
      "source": [
        "colors_df = merged_df[merged_df['colors'].apply(len) > 0]"
      ],
      "metadata": {
        "execution": {
          "iopub.status.busy": "2024-04-18T21:25:43.670446Z",
          "iopub.execute_input": "2024-04-18T21:25:43.670848Z",
          "iopub.status.idle": "2024-04-18T21:25:43.718222Z",
          "shell.execute_reply.started": "2024-04-18T21:25:43.670815Z",
          "shell.execute_reply": "2024-04-18T21:25:43.717077Z"
        },
        "trusted": true,
        "id": "Y2CfA2lv8V79"
      },
      "execution_count": null,
      "outputs": []
    },
    {
      "cell_type": "code",
      "source": [
        "colors_df[['colors','primary_color_text_x','secondary_color_text_x']].head()"
      ],
      "metadata": {
        "execution": {
          "iopub.status.busy": "2024-04-18T21:25:44.211145Z",
          "iopub.execute_input": "2024-04-18T21:25:44.211565Z",
          "iopub.status.idle": "2024-04-18T21:25:44.228448Z",
          "shell.execute_reply.started": "2024-04-18T21:25:44.211535Z",
          "shell.execute_reply": "2024-04-18T21:25:44.226651Z"
        },
        "trusted": true,
        "id": "FsuADwda8V7-",
        "outputId": "ba26c0c2-625c-4b75-d92b-0a81e93f6ef9"
      },
      "execution_count": null,
      "outputs": [
        {
          "execution_count": 32,
          "output_type": "execute_result",
          "data": {
            "text/plain": "                        colors primary_color_text_x secondary_color_text_x\n4        [green, green, white]                white                   blue\n12                     [brown]                beige                  brown\n14  [white, pink, white, pink]                white                   pink\n17  [blue, pink, blue, yellow]               silver                 silver\n18               [gold, black]                black                  white",
            "text/html": "<div>\n<style scoped>\n    .dataframe tbody tr th:only-of-type {\n        vertical-align: middle;\n    }\n\n    .dataframe tbody tr th {\n        vertical-align: top;\n    }\n\n    .dataframe thead th {\n        text-align: right;\n    }\n</style>\n<table border=\"1\" class=\"dataframe\">\n  <thead>\n    <tr style=\"text-align: right;\">\n      <th></th>\n      <th>colors</th>\n      <th>primary_color_text_x</th>\n      <th>secondary_color_text_x</th>\n    </tr>\n  </thead>\n  <tbody>\n    <tr>\n      <th>4</th>\n      <td>[green, green, white]</td>\n      <td>white</td>\n      <td>blue</td>\n    </tr>\n    <tr>\n      <th>12</th>\n      <td>[brown]</td>\n      <td>beige</td>\n      <td>brown</td>\n    </tr>\n    <tr>\n      <th>14</th>\n      <td>[white, pink, white, pink]</td>\n      <td>white</td>\n      <td>pink</td>\n    </tr>\n    <tr>\n      <th>17</th>\n      <td>[blue, pink, blue, yellow]</td>\n      <td>silver</td>\n      <td>silver</td>\n    </tr>\n    <tr>\n      <th>18</th>\n      <td>[gold, black]</td>\n      <td>black</td>\n      <td>white</td>\n    </tr>\n  </tbody>\n</table>\n</div>"
          },
          "metadata": {}
        }
      ]
    },
    {
      "cell_type": "code",
      "source": [
        "columns_to_drop = ['primary_color_id_x', 'primary_color_text_x', 'secondary_color_text_x','secondary_color_id_x']  # Replace with your column names\n",
        "merged_df.drop(columns=columns_to_drop, inplace=True)"
      ],
      "metadata": {
        "execution": {
          "iopub.status.busy": "2024-04-18T21:25:47.025297Z",
          "iopub.execute_input": "2024-04-18T21:25:47.025754Z",
          "iopub.status.idle": "2024-04-18T21:25:47.082100Z",
          "shell.execute_reply.started": "2024-04-18T21:25:47.025720Z",
          "shell.execute_reply": "2024-04-18T21:25:47.080744Z"
        },
        "trusted": true,
        "id": "jjiR4kEu8V7-"
      },
      "execution_count": null,
      "outputs": []
    },
    {
      "cell_type": "code",
      "source": [
        "merged_df.rename(columns={'primary_color_id_y': 'primary_color_id'}, inplace=True)\n",
        "merged_df.rename(columns={'primary_color_text_y': 'primary_color_text'}, inplace=True)\n",
        "merged_df.rename(columns={'secondary_color_text_y': 'secondary_color_text'}, inplace=True)\n",
        "merged_df.rename(columns={'secondary_color_id_y': 'secondary_color_id'}, inplace=True)"
      ],
      "metadata": {
        "execution": {
          "iopub.status.busy": "2024-04-18T21:25:47.946598Z",
          "iopub.execute_input": "2024-04-18T21:25:47.947279Z",
          "iopub.status.idle": "2024-04-18T21:25:47.956928Z",
          "shell.execute_reply.started": "2024-04-18T21:25:47.947246Z",
          "shell.execute_reply": "2024-04-18T21:25:47.955551Z"
        },
        "trusted": true,
        "id": "UIOksXc08V7-"
      },
      "execution_count": null,
      "outputs": []
    },
    {
      "cell_type": "code",
      "source": [
        "merged_df['color_text'] = merged_df['colors'].apply(lambda x: ' '.join(x))"
      ],
      "metadata": {
        "execution": {
          "iopub.status.busy": "2024-04-18T21:25:49.011806Z",
          "iopub.execute_input": "2024-04-18T21:25:49.013363Z",
          "iopub.status.idle": "2024-04-18T21:25:49.035700Z",
          "shell.execute_reply.started": "2024-04-18T21:25:49.013320Z",
          "shell.execute_reply": "2024-04-18T21:25:49.034359Z"
        },
        "trusted": true,
        "id": "qXcehX4E8V7-"
      },
      "execution_count": null,
      "outputs": []
    },
    {
      "cell_type": "code",
      "source": [
        "merged_df_test['color_text'] = merged_df_test['colors'].apply(lambda x: ' '.join(x))"
      ],
      "metadata": {
        "trusted": true,
        "id": "09XnSrXb8V7-"
      },
      "execution_count": null,
      "outputs": []
    },
    {
      "cell_type": "code",
      "source": [
        "merged_df[merged_df['color_text']!='']"
      ],
      "metadata": {
        "execution": {
          "iopub.status.busy": "2024-04-18T21:25:53.489917Z",
          "iopub.execute_input": "2024-04-18T21:25:53.490340Z",
          "iopub.status.idle": "2024-04-18T21:25:53.600203Z",
          "shell.execute_reply.started": "2024-04-18T21:25:53.490311Z",
          "shell.execute_reply": "2024-04-18T21:25:53.598762Z"
        },
        "trusted": true,
        "id": "YG6xE0OT8V7_",
        "outputId": "d24bc0bf-9bd3-47dc-cee8-a692fa3da740"
      },
      "execution_count": null,
      "outputs": [
        {
          "execution_count": 36,
          "output_type": "execute_result",
          "data": {
            "text/plain": "       Unnamed: 0  product_id primary_color_rgb secondary_color_rgb  \\\n4               4  1645635058   [191, 185, 170]        [87, 69, 54]   \n12             12  1062720275     [159, 31, 40]     [226, 216, 204]   \n14             14   154761635   [169, 154, 153]        [77, 61, 47]   \n17             17  1425149885   [180, 179, 177]     [121, 117, 108]   \n18             18  1493774255   [244, 244, 243]        [47, 46, 46]   \n...           ...         ...               ...                 ...   \n29934       31007  1096637141      [20, 28, 48]     [105, 130, 155]   \n29935       31008  1438733376   [253, 253, 253]     [108, 108, 106]   \n29936       31009   731874729    [99, 104, 147]     [211, 209, 221]   \n29938       31012   788890857   [220, 225, 217]        [74, 91, 59]   \n29939       31013  1181083241   [198, 193, 178]       [109, 98, 86]   \n\n       primary_color_rgb_value  secondary_color_rgb_value  \\\n4                     12564906                    5719350   \n12                    10428200                   14866636   \n14                    11115161                    5061935   \n17                    11842481                    7959916   \n18                    16053491                    3092014   \n...                        ...                        ...   \n29934                  1317936                    6914715   \n29935                 16645629                    7105642   \n29936                  6514835                   13881821   \n29938                 14475737                    4873019   \n29939                 13025714                    7168598   \n\n       primary_color_rgb_value_average  secondary_color_rgb_value_average  \\\n4                           182.000000                          70.000000   \n12                           76.666667                         215.333333   \n14                          158.666667                          61.666667   \n17                          178.666667                         115.333333   \n18                          243.666667                          46.333333   \n...                                ...                                ...   \n29934                        32.000000                         130.000000   \n29935                       253.000000                         107.333333   \n29936                       116.666667                         213.666667   \n29938                       220.666667                          74.666667   \n29939                       189.666667                          97.666667   \n\n       primary_color_rgb_value_weighted  secondary_color_rgb_value_weighted  \\\n4                              185.0649                             72.6633   \n12                              70.2821                            217.5994   \n14                             158.3541                             64.1803   \n17                             179.0530                            117.1579   \n18                             243.8616                             46.2943   \n...                                 ...                                 ...   \n29934                           27.8860                            125.3645   \n29935                          252.9747                            107.7612   \n29936                          107.3971                            210.9449   \n29938                          222.5710                             82.2616   \n29939                          192.7652                             99.9101   \n\n       ... primary_color_id primary_color_text secondary_color_id  \\\n4      ...               17              white                  2   \n12     ...                0              beige                  4   \n14     ...               17              white                 11   \n17     ...               16             silver                 16   \n18     ...                1              black                 17   \n...    ...              ...                ...                ...   \n29934  ...                2               blue                  2   \n29935  ...               19              other                  1   \n29936  ...                2               blue                 19   \n29938  ...               18             yellow                 12   \n29939  ...                0              beige                 14   \n\n      secondary_color_text                                      image/encoded  \\\n4                     blue  b'\\xff\\xd8\\xff\\xe0\\x00\\x10JFIF\\x00\\x01\\x01\\x00...   \n12                   brown  b'\\xff\\xd8\\xff\\xe0\\x00\\x10JFIF\\x00\\x01\\x01\\x00...   \n14                    pink  b'\\xff\\xd8\\xff\\xe0\\x00\\x10JFIF\\x00\\x01\\x01\\x00...   \n17                  silver  b'\\xff\\xd8\\xff\\xe0\\x00\\x10JFIF\\x00\\x01\\x01\\x00...   \n18                   white  b'\\xff\\xd8\\xff\\xe0\\x00\\x10JFIF\\x00\\x01\\x01\\x00...   \n...                    ...                                                ...   \n29934                 blue  b'\\xff\\xd8\\xff\\xe0\\x00\\x10JFIF\\x00\\x01\\x01\\x00...   \n29935                black  b'\\xff\\xd8\\xff\\xe0\\x00\\x10JFIF\\x00\\x01\\x01\\x00...   \n29936                other  b'\\xff\\xd8\\xff\\xe0\\x00\\x10JFIF\\x00\\x01\\x01\\x00...   \n29938               purple  b'\\xff\\xd8\\xff\\xe0\\x00\\x10JFIF\\x00\\x01\\x01\\x00...   \n29939                  red  b'\\xff\\xd8\\xff\\xe0\\x00\\x10JFIF\\x00\\x01\\x01\\x00...   \n\n      image/width image/height  \\\n4             570          420   \n12            440          412   \n14            570          516   \n17            570          578   \n18            570          570   \n...           ...          ...   \n29934         570          561   \n29935         570          570   \n29936         570          570   \n29938         570          428   \n29939         570          760   \n\n                                                    text  \\\n4      Wheel of Time, Egwene, Mousepad, WOT mousepad,...   \n12     Butterfly Laser Cut Unfinished Wood Shape DIY ...   \n14     Breast Cancer Awareness White Ladies Sun Visor...   \n17     Dritz Baby Safe Diaper Pins, 4 piece package, ...   \n18     Women Punk Shoes with Party Skull - Canvas sne...   \n...                                                  ...   \n29934  Navy and Light Blue Double Layer Bow with Diam...   \n29935  Shelf Bracket - 6 Pack, Shelving Brackets, Flo...   \n29936  Third & Long - Navy Blue and Gray Glitter Nail...   \n29938  I wet my PLANTS, House Plant Illustration, Pla...   \n29939  MOSAIC POINSETTIA #2 Artwork 6&quot; Garden Pl...   \n\n                           colors             color_text  \n4           [green, green, white]      green green white  \n12                        [brown]                  brown  \n14     [white, pink, white, pink]  white pink white pink  \n17     [blue, pink, blue, yellow]  blue pink blue yellow  \n18                  [gold, black]             gold black  \n...                           ...                    ...  \n29934          [blue, blue, blue]         blue blue blue  \n29935              [black, black]            black black  \n29936               [clear, blue]             clear blue  \n29938                     [white]                  white  \n29939                     [black]                  black  \n\n[11906 rows x 38 columns]",
            "text/html": "<div>\n<style scoped>\n    .dataframe tbody tr th:only-of-type {\n        vertical-align: middle;\n    }\n\n    .dataframe tbody tr th {\n        vertical-align: top;\n    }\n\n    .dataframe thead th {\n        text-align: right;\n    }\n</style>\n<table border=\"1\" class=\"dataframe\">\n  <thead>\n    <tr style=\"text-align: right;\">\n      <th></th>\n      <th>Unnamed: 0</th>\n      <th>product_id</th>\n      <th>primary_color_rgb</th>\n      <th>secondary_color_rgb</th>\n      <th>primary_color_rgb_value</th>\n      <th>secondary_color_rgb_value</th>\n      <th>primary_color_rgb_value_average</th>\n      <th>secondary_color_rgb_value_average</th>\n      <th>primary_color_rgb_value_weighted</th>\n      <th>secondary_color_rgb_value_weighted</th>\n      <th>...</th>\n      <th>primary_color_id</th>\n      <th>primary_color_text</th>\n      <th>secondary_color_id</th>\n      <th>secondary_color_text</th>\n      <th>image/encoded</th>\n      <th>image/width</th>\n      <th>image/height</th>\n      <th>text</th>\n      <th>colors</th>\n      <th>color_text</th>\n    </tr>\n  </thead>\n  <tbody>\n    <tr>\n      <th>4</th>\n      <td>4</td>\n      <td>1645635058</td>\n      <td>[191, 185, 170]</td>\n      <td>[87, 69, 54]</td>\n      <td>12564906</td>\n      <td>5719350</td>\n      <td>182.000000</td>\n      <td>70.000000</td>\n      <td>185.0649</td>\n      <td>72.6633</td>\n      <td>...</td>\n      <td>17</td>\n      <td>white</td>\n      <td>2</td>\n      <td>blue</td>\n      <td>b'\\xff\\xd8\\xff\\xe0\\x00\\x10JFIF\\x00\\x01\\x01\\x00...</td>\n      <td>570</td>\n      <td>420</td>\n      <td>Wheel of Time, Egwene, Mousepad, WOT mousepad,...</td>\n      <td>[green, green, white]</td>\n      <td>green green white</td>\n    </tr>\n    <tr>\n      <th>12</th>\n      <td>12</td>\n      <td>1062720275</td>\n      <td>[159, 31, 40]</td>\n      <td>[226, 216, 204]</td>\n      <td>10428200</td>\n      <td>14866636</td>\n      <td>76.666667</td>\n      <td>215.333333</td>\n      <td>70.2821</td>\n      <td>217.5994</td>\n      <td>...</td>\n      <td>0</td>\n      <td>beige</td>\n      <td>4</td>\n      <td>brown</td>\n      <td>b'\\xff\\xd8\\xff\\xe0\\x00\\x10JFIF\\x00\\x01\\x01\\x00...</td>\n      <td>440</td>\n      <td>412</td>\n      <td>Butterfly Laser Cut Unfinished Wood Shape DIY ...</td>\n      <td>[brown]</td>\n      <td>brown</td>\n    </tr>\n    <tr>\n      <th>14</th>\n      <td>14</td>\n      <td>154761635</td>\n      <td>[169, 154, 153]</td>\n      <td>[77, 61, 47]</td>\n      <td>11115161</td>\n      <td>5061935</td>\n      <td>158.666667</td>\n      <td>61.666667</td>\n      <td>158.3541</td>\n      <td>64.1803</td>\n      <td>...</td>\n      <td>17</td>\n      <td>white</td>\n      <td>11</td>\n      <td>pink</td>\n      <td>b'\\xff\\xd8\\xff\\xe0\\x00\\x10JFIF\\x00\\x01\\x01\\x00...</td>\n      <td>570</td>\n      <td>516</td>\n      <td>Breast Cancer Awareness White Ladies Sun Visor...</td>\n      <td>[white, pink, white, pink]</td>\n      <td>white pink white pink</td>\n    </tr>\n    <tr>\n      <th>17</th>\n      <td>17</td>\n      <td>1425149885</td>\n      <td>[180, 179, 177]</td>\n      <td>[121, 117, 108]</td>\n      <td>11842481</td>\n      <td>7959916</td>\n      <td>178.666667</td>\n      <td>115.333333</td>\n      <td>179.0530</td>\n      <td>117.1579</td>\n      <td>...</td>\n      <td>16</td>\n      <td>silver</td>\n      <td>16</td>\n      <td>silver</td>\n      <td>b'\\xff\\xd8\\xff\\xe0\\x00\\x10JFIF\\x00\\x01\\x01\\x00...</td>\n      <td>570</td>\n      <td>578</td>\n      <td>Dritz Baby Safe Diaper Pins, 4 piece package, ...</td>\n      <td>[blue, pink, blue, yellow]</td>\n      <td>blue pink blue yellow</td>\n    </tr>\n    <tr>\n      <th>18</th>\n      <td>18</td>\n      <td>1493774255</td>\n      <td>[244, 244, 243]</td>\n      <td>[47, 46, 46]</td>\n      <td>16053491</td>\n      <td>3092014</td>\n      <td>243.666667</td>\n      <td>46.333333</td>\n      <td>243.8616</td>\n      <td>46.2943</td>\n      <td>...</td>\n      <td>1</td>\n      <td>black</td>\n      <td>17</td>\n      <td>white</td>\n      <td>b'\\xff\\xd8\\xff\\xe0\\x00\\x10JFIF\\x00\\x01\\x01\\x00...</td>\n      <td>570</td>\n      <td>570</td>\n      <td>Women Punk Shoes with Party Skull - Canvas sne...</td>\n      <td>[gold, black]</td>\n      <td>gold black</td>\n    </tr>\n    <tr>\n      <th>...</th>\n      <td>...</td>\n      <td>...</td>\n      <td>...</td>\n      <td>...</td>\n      <td>...</td>\n      <td>...</td>\n      <td>...</td>\n      <td>...</td>\n      <td>...</td>\n      <td>...</td>\n      <td>...</td>\n      <td>...</td>\n      <td>...</td>\n      <td>...</td>\n      <td>...</td>\n      <td>...</td>\n      <td>...</td>\n      <td>...</td>\n      <td>...</td>\n      <td>...</td>\n      <td>...</td>\n    </tr>\n    <tr>\n      <th>29934</th>\n      <td>31007</td>\n      <td>1096637141</td>\n      <td>[20, 28, 48]</td>\n      <td>[105, 130, 155]</td>\n      <td>1317936</td>\n      <td>6914715</td>\n      <td>32.000000</td>\n      <td>130.000000</td>\n      <td>27.8860</td>\n      <td>125.3645</td>\n      <td>...</td>\n      <td>2</td>\n      <td>blue</td>\n      <td>2</td>\n      <td>blue</td>\n      <td>b'\\xff\\xd8\\xff\\xe0\\x00\\x10JFIF\\x00\\x01\\x01\\x00...</td>\n      <td>570</td>\n      <td>561</td>\n      <td>Navy and Light Blue Double Layer Bow with Diam...</td>\n      <td>[blue, blue, blue]</td>\n      <td>blue blue blue</td>\n    </tr>\n    <tr>\n      <th>29935</th>\n      <td>31008</td>\n      <td>1438733376</td>\n      <td>[253, 253, 253]</td>\n      <td>[108, 108, 106]</td>\n      <td>16645629</td>\n      <td>7105642</td>\n      <td>253.000000</td>\n      <td>107.333333</td>\n      <td>252.9747</td>\n      <td>107.7612</td>\n      <td>...</td>\n      <td>19</td>\n      <td>other</td>\n      <td>1</td>\n      <td>black</td>\n      <td>b'\\xff\\xd8\\xff\\xe0\\x00\\x10JFIF\\x00\\x01\\x01\\x00...</td>\n      <td>570</td>\n      <td>570</td>\n      <td>Shelf Bracket - 6 Pack, Shelving Brackets, Flo...</td>\n      <td>[black, black]</td>\n      <td>black black</td>\n    </tr>\n    <tr>\n      <th>29936</th>\n      <td>31009</td>\n      <td>731874729</td>\n      <td>[99, 104, 147]</td>\n      <td>[211, 209, 221]</td>\n      <td>6514835</td>\n      <td>13881821</td>\n      <td>116.666667</td>\n      <td>213.666667</td>\n      <td>107.3971</td>\n      <td>210.9449</td>\n      <td>...</td>\n      <td>2</td>\n      <td>blue</td>\n      <td>19</td>\n      <td>other</td>\n      <td>b'\\xff\\xd8\\xff\\xe0\\x00\\x10JFIF\\x00\\x01\\x01\\x00...</td>\n      <td>570</td>\n      <td>570</td>\n      <td>Third &amp; Long - Navy Blue and Gray Glitter Nail...</td>\n      <td>[clear, blue]</td>\n      <td>clear blue</td>\n    </tr>\n    <tr>\n      <th>29938</th>\n      <td>31012</td>\n      <td>788890857</td>\n      <td>[220, 225, 217]</td>\n      <td>[74, 91, 59]</td>\n      <td>14475737</td>\n      <td>4873019</td>\n      <td>220.666667</td>\n      <td>74.666667</td>\n      <td>222.5710</td>\n      <td>82.2616</td>\n      <td>...</td>\n      <td>18</td>\n      <td>yellow</td>\n      <td>12</td>\n      <td>purple</td>\n      <td>b'\\xff\\xd8\\xff\\xe0\\x00\\x10JFIF\\x00\\x01\\x01\\x00...</td>\n      <td>570</td>\n      <td>428</td>\n      <td>I wet my PLANTS, House Plant Illustration, Pla...</td>\n      <td>[white]</td>\n      <td>white</td>\n    </tr>\n    <tr>\n      <th>29939</th>\n      <td>31013</td>\n      <td>1181083241</td>\n      <td>[198, 193, 178]</td>\n      <td>[109, 98, 86]</td>\n      <td>13025714</td>\n      <td>7168598</td>\n      <td>189.666667</td>\n      <td>97.666667</td>\n      <td>192.7652</td>\n      <td>99.9101</td>\n      <td>...</td>\n      <td>0</td>\n      <td>beige</td>\n      <td>14</td>\n      <td>red</td>\n      <td>b'\\xff\\xd8\\xff\\xe0\\x00\\x10JFIF\\x00\\x01\\x01\\x00...</td>\n      <td>570</td>\n      <td>760</td>\n      <td>MOSAIC POINSETTIA #2 Artwork 6&amp;quot; Garden Pl...</td>\n      <td>[black]</td>\n      <td>black</td>\n    </tr>\n  </tbody>\n</table>\n<p>11906 rows × 38 columns</p>\n</div>"
          },
          "metadata": {}
        }
      ]
    },
    {
      "cell_type": "markdown",
      "source": [
        "## Model Training"
      ],
      "metadata": {
        "id": "le28KBWN8V7_"
      }
    },
    {
      "cell_type": "markdown",
      "source": [
        "### Using AdaBoost as base Model"
      ],
      "metadata": {
        "id": "s8PA0DF38V7_"
      }
    },
    {
      "cell_type": "code",
      "source": [
        "from sklearn.ensemble import AdaBoostClassifier\n",
        "from sklearn.model_selection import train_test_split\n",
        "from sklearn.metrics import accuracy_score\n",
        "from sklearn.metrics import classification_report, confusion_matrix\n",
        "\n",
        "# Example DataFrame df with discrete features X and target variable y\n",
        "# Assume X contains discrete features and y contains discrete values\n",
        "X = merged_df[['primary_color_rgb_value_weighted']]  # Replace 'feature1', 'feature2', 'feature3' with your actual feature names\n",
        "y = merged_df['primary_color_id']\n",
        "\n",
        "# Split the data into training and testing sets\n",
        "X_train, X_test, y_train, y_test = train_test_split(X, y, test_size=0.2, random_state=42)\n",
        "\n",
        "# Initialize and train the AdaBoost model with DecisionTreeClassifier as base estimator\n",
        "adaboost_model = AdaBoostClassifier(n_estimators=19, random_state=42,learning_rate=0.8)\n",
        "adaboost_model.fit(X_train, y_train)\n",
        "\n",
        "# Make predictions\n",
        "y_pred = adaboost_model.predict(X_test)\n",
        "\n",
        "# Calculate accuracy\n",
        "#accuracy = accuracy_score(y_test, y_pred)\n",
        "#print(\"Accuracy:\", accuracy)\n",
        "\n",
        "# Print classification report\n",
        "print(\"Classification Report:\")\n",
        "print(classification_report(y_test, y_pred))"
      ],
      "metadata": {
        "execution": {
          "iopub.status.busy": "2024-04-18T21:25:58.268962Z",
          "iopub.execute_input": "2024-04-18T21:25:58.269433Z",
          "iopub.status.idle": "2024-04-18T21:25:58.899748Z",
          "shell.execute_reply.started": "2024-04-18T21:25:58.269400Z",
          "shell.execute_reply": "2024-04-18T21:25:58.898179Z"
        },
        "trusted": true,
        "id": "usLQEWU98V7_",
        "outputId": "853905e7-d6d5-4a74-a564-f226b3a5aa54"
      },
      "execution_count": null,
      "outputs": [
        {
          "name": "stdout",
          "text": "Classification Report:\n              precision    recall  f1-score   support\n\n           0       0.00      0.00      0.00       283\n           1       0.22      0.35      0.27       864\n           2       0.13      0.41      0.20       740\n           3       0.00      0.00      0.00        65\n           4       0.00      0.00      0.00       518\n           5       0.00      0.00      0.00       112\n           6       0.00      0.00      0.00        51\n           7       0.00      0.00      0.00       242\n           9       0.00      0.00      0.00       411\n          10       0.00      0.00      0.00       134\n          11       0.00      0.00      0.00       394\n          12       0.00      0.00      0.00       187\n          13       0.00      0.00      0.00       109\n          14       0.00      0.00      0.00       393\n          15       0.00      0.00      0.00        24\n          16       0.00      0.00      0.00       299\n          17       0.16      0.47      0.24       771\n          18       0.00      0.00      0.00       152\n          19       0.00      0.00      0.00       239\n\n    accuracy                           0.16      5988\n   macro avg       0.03      0.07      0.04      5988\nweighted avg       0.07      0.16      0.09      5988\n\n",
          "output_type": "stream"
        },
        {
          "name": "stderr",
          "text": "/opt/conda/lib/python3.10/site-packages/sklearn/metrics/_classification.py:1344: UndefinedMetricWarning: Precision and F-score are ill-defined and being set to 0.0 in labels with no predicted samples. Use `zero_division` parameter to control this behavior.\n  _warn_prf(average, modifier, msg_start, len(result))\n/opt/conda/lib/python3.10/site-packages/sklearn/metrics/_classification.py:1344: UndefinedMetricWarning: Precision and F-score are ill-defined and being set to 0.0 in labels with no predicted samples. Use `zero_division` parameter to control this behavior.\n  _warn_prf(average, modifier, msg_start, len(result))\n/opt/conda/lib/python3.10/site-packages/sklearn/metrics/_classification.py:1344: UndefinedMetricWarning: Precision and F-score are ill-defined and being set to 0.0 in labels with no predicted samples. Use `zero_division` parameter to control this behavior.\n  _warn_prf(average, modifier, msg_start, len(result))\n",
          "output_type": "stream"
        }
      ]
    },
    {
      "cell_type": "markdown",
      "source": [
        "### Training based on colors in text columns and rgb color codes computed - start"
      ],
      "metadata": {
        "id": "xERrr33i8V7_"
      }
    },
    {
      "cell_type": "markdown",
      "source": [
        "For Primary Color ID"
      ],
      "metadata": {
        "id": "AlRTu0vg8V8A"
      }
    },
    {
      "cell_type": "code",
      "source": [
        "from sklearn.model_selection import train_test_split\n",
        "from sklearn.feature_extraction.text import TfidfVectorizer\n",
        "from sklearn.linear_model import LogisticRegression\n",
        "from sklearn.ensemble import AdaBoostClassifier\n",
        "from sklearn.metrics import accuracy_score\n",
        "from sklearn.naive_bayes import MultinomialNB\n",
        "import numpy as np\n",
        "\n",
        "# Assuming df is your DataFrame with 'rgbvalue', 'text', and 'primary_color_id' columns\n",
        "\n",
        "# Split the data into training and testing sets for text classifier\n",
        "X_text = merged_df['color_text']\n",
        "y_text = merged_df['primary_color_id']\n",
        "X_text_train, X_text_test, y_text_train, y_text_test = train_test_split(X_text, y_text, test_size=0.2, random_state=42)\n",
        "\n",
        "# Train the text classifier\n",
        "text_vectorizer = TfidfVectorizer()\n",
        "X_text_train_vec = text_vectorizer.fit_transform(X_text_train)\n",
        "text_classifier_primary = MultinomialNB()\n",
        "text_classifier_primary.fit(X_text_train_vec, y_text_train)\n",
        "\n",
        "# Split the data into training and testing sets for RGB classifier\n",
        "X_rgb = merged_df[['primary_color_rgb_value_weighted']]\n",
        "y_rgb = merged_df['primary_color_id']\n",
        "X_rgb_train, X_rgb_test, y_rgb_train, y_rgb_test = train_test_split(X_rgb, y_rgb, test_size=0.2, random_state=42)\n",
        "\n",
        "# Train the RGB classifier\n",
        "rgb_classifier_primary = AdaBoostClassifier(n_estimators=19, random_state=42, learning_rate=0.8)\n",
        "rgb_classifier_primary.fit(X_rgb_train, y_rgb_train)\n",
        "\n",
        "# Make predictions using both classifiers\n",
        "X_text_test_vec = text_vectorizer.transform(X_text_test)\n",
        "text_predictions = text_classifier_primary.predict(X_text_test_vec)\n",
        "text_confidences = np.max(text_classifier_primary.predict_proba(X_text_test_vec), axis=1)\n",
        "\n",
        "rgb_predictions = rgb_classifier_primary.predict(X_rgb_test)\n",
        "rgb_confidences = np.max(rgb_classifier_primary.predict_proba(X_rgb_test), axis=1)\n",
        "\n",
        "# Apply prediction with higher confidence for each row\n",
        "final_predictions = []\n",
        "for i in range(len(X_text_test)):\n",
        "    if text_confidences[i] >= rgb_confidences[i]:\n",
        "        final_predictions.append(text_predictions[i])\n",
        "    else:\n",
        "        final_predictions.append(rgb_predictions[i])\n",
        "\n",
        "# Calculate accuracy\n",
        "\n",
        "# Print classification report\n",
        "print(\"Classification Report:\")\n",
        "print(classification_report(y_text_test, final_predictions))\n",
        "#accuracy = accuracy_score(y_text_test, final_predictions)\n",
        "#print(\"Accuracy:\", accuracy)\n"
      ],
      "metadata": {
        "execution": {
          "iopub.status.busy": "2024-04-18T21:26:13.982436Z",
          "iopub.execute_input": "2024-04-18T21:26:13.982871Z",
          "iopub.status.idle": "2024-04-18T21:26:14.857612Z",
          "shell.execute_reply.started": "2024-04-18T21:26:13.982841Z",
          "shell.execute_reply": "2024-04-18T21:26:14.855880Z"
        },
        "trusted": true,
        "id": "AthxaldF8V8A",
        "outputId": "a4c94c8c-f4bf-48e9-a88e-fca73e63fd7c"
      },
      "execution_count": null,
      "outputs": [
        {
          "name": "stdout",
          "text": "Classification Report:\n              precision    recall  f1-score   support\n\n           0       0.47      0.08      0.13       283\n           1       0.18      0.83      0.29       864\n           2       0.59      0.26      0.36       740\n           3       0.47      0.22      0.29        65\n           4       0.44      0.10      0.17       518\n           5       0.13      0.14      0.13       112\n           6       0.48      0.43      0.45        51\n           7       0.31      0.19      0.23       242\n           9       0.50      0.19      0.28       411\n          10       0.26      0.07      0.12       134\n          11       0.51      0.22      0.31       394\n          12       0.60      0.17      0.26       187\n          13       0.31      0.13      0.18       109\n          14       0.47      0.18      0.26       393\n          15       0.00      0.00      0.00        24\n          16       0.46      0.22      0.30       299\n          17       0.32      0.14      0.20       771\n          18       0.40      0.18      0.25       152\n          19       0.00      0.00      0.00       239\n\n    accuracy                           0.26      5988\n   macro avg       0.36      0.20      0.22      5988\nweighted avg       0.39      0.26      0.24      5988\n\n",
          "output_type": "stream"
        },
        {
          "name": "stderr",
          "text": "/opt/conda/lib/python3.10/site-packages/sklearn/metrics/_classification.py:1344: UndefinedMetricWarning: Precision and F-score are ill-defined and being set to 0.0 in labels with no predicted samples. Use `zero_division` parameter to control this behavior.\n  _warn_prf(average, modifier, msg_start, len(result))\n/opt/conda/lib/python3.10/site-packages/sklearn/metrics/_classification.py:1344: UndefinedMetricWarning: Precision and F-score are ill-defined and being set to 0.0 in labels with no predicted samples. Use `zero_division` parameter to control this behavior.\n  _warn_prf(average, modifier, msg_start, len(result))\n/opt/conda/lib/python3.10/site-packages/sklearn/metrics/_classification.py:1344: UndefinedMetricWarning: Precision and F-score are ill-defined and being set to 0.0 in labels with no predicted samples. Use `zero_division` parameter to control this behavior.\n  _warn_prf(average, modifier, msg_start, len(result))\n",
          "output_type": "stream"
        }
      ]
    },
    {
      "cell_type": "markdown",
      "source": [
        "Testing our test data"
      ],
      "metadata": {
        "id": "zxVp_T8W8V8B"
      }
    },
    {
      "cell_type": "code",
      "source": [
        "X_text_test = merged_df_test['color_text']\n",
        "X_rgb_test = merged_df_test[['primary_color_rgb_value_weighted']]"
      ],
      "metadata": {
        "execution": {
          "iopub.status.busy": "2024-04-18T15:12:08.954778Z",
          "iopub.execute_input": "2024-04-18T15:12:08.955178Z",
          "iopub.status.idle": "2024-04-18T15:12:08.962248Z",
          "shell.execute_reply.started": "2024-04-18T15:12:08.955148Z",
          "shell.execute_reply": "2024-04-18T15:12:08.961121Z"
        },
        "trusted": true,
        "id": "ZT_Te-608V8B"
      },
      "execution_count": null,
      "outputs": []
    },
    {
      "cell_type": "code",
      "source": [
        "X_rgb_test=X_rgb_test.fillna(100)"
      ],
      "metadata": {
        "execution": {
          "iopub.status.busy": "2024-04-18T15:12:10.951393Z",
          "iopub.execute_input": "2024-04-18T15:12:10.951865Z",
          "iopub.status.idle": "2024-04-18T15:12:10.958067Z",
          "shell.execute_reply.started": "2024-04-18T15:12:10.951831Z",
          "shell.execute_reply": "2024-04-18T15:12:10.956860Z"
        },
        "trusted": true,
        "id": "qMNxdWNX8V8B"
      },
      "execution_count": null,
      "outputs": []
    },
    {
      "cell_type": "code",
      "source": [
        "len(X_text_test)"
      ],
      "metadata": {
        "execution": {
          "iopub.status.busy": "2024-04-18T15:12:11.386560Z",
          "iopub.execute_input": "2024-04-18T15:12:11.386989Z",
          "iopub.status.idle": "2024-04-18T15:12:11.395856Z",
          "shell.execute_reply.started": "2024-04-18T15:12:11.386954Z",
          "shell.execute_reply": "2024-04-18T15:12:11.394248Z"
        },
        "trusted": true,
        "id": "X8Z1XqLQ8V8B",
        "outputId": "18566da0-02bb-419a-da64-c6edcd8c247e"
      },
      "execution_count": null,
      "outputs": [
        {
          "execution_count": 354,
          "output_type": "execute_result",
          "data": {
            "text/plain": "25514"
          },
          "metadata": {}
        }
      ]
    },
    {
      "cell_type": "code",
      "source": [
        "X_text_test_vec = text_vectorizer.transform(X_text_test)\n",
        "text_predictions = text_classifier_primary.predict(X_text_test_vec)\n",
        "text_confidences = np.max(text_classifier_primary.predict_proba(X_text_test_vec), axis=1)\n",
        "\n",
        "rgb_predictions = rgb_classifier_primary.predict(X_rgb_test)\n",
        "rgb_confidences = np.max(rgb_classifier_primary.predict_proba(X_rgb_test), axis=1)\n",
        "\n",
        "# Apply prediction with higher confidence for each row\n",
        "final_predictions = []\n",
        "for i in range(len(X_text_test)):\n",
        "    if text_confidences[i] >= rgb_confidences[i]:\n",
        "        final_predictions.append(text_predictions[i])\n",
        "    else:\n",
        "        final_predictions.append(rgb_predictions[i])"
      ],
      "metadata": {
        "execution": {
          "iopub.status.busy": "2024-04-18T15:12:12.704954Z",
          "iopub.execute_input": "2024-04-18T15:12:12.705819Z",
          "iopub.status.idle": "2024-04-18T15:12:13.331082Z",
          "shell.execute_reply.started": "2024-04-18T15:12:12.705774Z",
          "shell.execute_reply": "2024-04-18T15:12:13.329701Z"
        },
        "trusted": true,
        "id": "IsbRiZL98V8C"
      },
      "execution_count": null,
      "outputs": []
    },
    {
      "cell_type": "code",
      "source": [
        "len(final_predictions)"
      ],
      "metadata": {
        "execution": {
          "iopub.status.busy": "2024-04-18T15:12:13.696075Z",
          "iopub.execute_input": "2024-04-18T15:12:13.696784Z",
          "iopub.status.idle": "2024-04-18T15:12:13.704962Z",
          "shell.execute_reply.started": "2024-04-18T15:12:13.696749Z",
          "shell.execute_reply": "2024-04-18T15:12:13.703407Z"
        },
        "trusted": true,
        "id": "CJFbEt-B8V8C",
        "outputId": "0c33db3a-ecd8-4212-c106-da0a25059903"
      },
      "execution_count": null,
      "outputs": [
        {
          "execution_count": 356,
          "output_type": "execute_result",
          "data": {
            "text/plain": "25514"
          },
          "metadata": {}
        }
      ]
    },
    {
      "cell_type": "code",
      "source": [
        "merged_df_test['primary_color_id']=final_predictions"
      ],
      "metadata": {
        "execution": {
          "iopub.status.busy": "2024-04-18T15:12:14.794312Z",
          "iopub.execute_input": "2024-04-18T15:12:14.794771Z",
          "iopub.status.idle": "2024-04-18T15:12:14.899427Z",
          "shell.execute_reply.started": "2024-04-18T15:12:14.794735Z",
          "shell.execute_reply": "2024-04-18T15:12:14.897811Z"
        },
        "trusted": true,
        "id": "HTSVHv_x8V8C"
      },
      "execution_count": null,
      "outputs": []
    },
    {
      "cell_type": "code",
      "source": [
        "merged_df_test.head()"
      ],
      "metadata": {
        "execution": {
          "iopub.status.busy": "2024-04-18T15:12:17.699913Z",
          "iopub.execute_input": "2024-04-18T15:12:17.700392Z",
          "iopub.status.idle": "2024-04-18T15:12:17.731541Z",
          "shell.execute_reply.started": "2024-04-18T15:12:17.700341Z",
          "shell.execute_reply": "2024-04-18T15:12:17.730165Z"
        },
        "trusted": true,
        "id": "3WB0q7A98V8C",
        "outputId": "242f8e66-8625-4d0f-a4f4-d6afe242de93"
      },
      "execution_count": null,
      "outputs": [
        {
          "execution_count": 358,
          "output_type": "execute_result",
          "data": {
            "text/plain": "   Unnamed: 0  product_id                                              title  \\\n0           0   815216520      A First Doll Book. &quot; Peggy and Me&quot;!   \n1           1   870948450  Abigayil: The Story of the Cat at the Manger, ...   \n2           2  1111113690  No Fighting, No Biting! by Else Holmelund Mina...   \n3           3  1510466600  Ukrainian book. &quot;Magic flashlight&quot;. ...   \n4           4  1035734450                                 The Ugly Butterfly   \n\n                                                tags      type  \\\n0      flip book,vintage,Peggy and Me,change dresses  physical   \n1  one of a kind,authentic,original,gift,special,...  physical   \n2  Else Minarik,Maurice Sendak,Vintage Children,L...  physical   \n3  Books,Ukrainian,New,Gift,Colorful,Best,Stories...  physical   \n4  moth metamorphosis,caterpillar bug,butterfly c...  physical   \n\n   top_category_id       top_category_text  bottom_category_id  \\\n0                4  books_movies_and_music                2010   \n1                4  books_movies_and_music                 345   \n2                4  books_movies_and_music                 329   \n3                4  books_movies_and_music               11368   \n4                8         home_and_living                 352   \n\n                                bottom_category_text  \\\n0  books_movies_and_music.books.literature_and_fi...   \n1         books_movies_and_music.books.history_books   \n2  books_movies_and_music.books.book_accessories....   \n3  books_movies_and_music.books.childrens_books.b...   \n4  books_movies_and_music.books.science_and_math_...   \n\n                                         description  ...  \\\n0  Vintage book!  1968 A First Doll Book, &quot; ...  ...   \n1  Rouben Mamoulian was an American film and thea...  ...   \n2  A fun little vintage book “No Fighting, No Bit...  ...   \n3  Ukrainian book.\\n&quot;Magic flashlight&quot;....  ...   \n4  PreOrder this imaginative story about the life...  ...   \n\n                                                text colors  \\\n0  A First Doll Book. &quot; Peggy and Me&quot;! ...     []   \n1  Abigayil: The Story of the Cat at the Manger, ...     []   \n2  No Fighting, No Biting! by Else Holmelund Mina...     []   \n3  Ukrainian book. &quot;Magic flashlight&quot;. ...     []   \n4  The Ugly Butterfly PreOrder this imaginative s...     []   \n\n  primary_color_rgb_value  secondary_color_rgb_value  \\\n0                 4597028                   11244123   \n1                11973017                    6443070   \n2                16711422                    9604741   \n3                13423056                    5341045   \n4                 7897442                    5130282   \n\n   primary_color_rgb_value_average  secondary_color_rgb_value_average  \\\n0                        47.666667                         136.000000   \n1                       170.666667                          80.000000   \n2                       254.000000                         140.333333   \n3                       207.000000                         108.333333   \n4                       115.666667                          64.000000   \n\n   primary_color_rgb_value_weighted  secondary_color_rgb_value_weighted  \\\n0                           46.7460                            147.1879   \n1                          175.7408                             83.3202   \n2                          253.9746                            142.1554   \n3                          207.3706                            112.0979   \n4                          122.7630                             70.3662   \n\n   color_text primary_color_id  \n0                            1  \n1                            1  \n2                            1  \n3                            1  \n4                            1  \n\n[5 rows x 21 columns]",
            "text/html": "<div>\n<style scoped>\n    .dataframe tbody tr th:only-of-type {\n        vertical-align: middle;\n    }\n\n    .dataframe tbody tr th {\n        vertical-align: top;\n    }\n\n    .dataframe thead th {\n        text-align: right;\n    }\n</style>\n<table border=\"1\" class=\"dataframe\">\n  <thead>\n    <tr style=\"text-align: right;\">\n      <th></th>\n      <th>Unnamed: 0</th>\n      <th>product_id</th>\n      <th>title</th>\n      <th>tags</th>\n      <th>type</th>\n      <th>top_category_id</th>\n      <th>top_category_text</th>\n      <th>bottom_category_id</th>\n      <th>bottom_category_text</th>\n      <th>description</th>\n      <th>...</th>\n      <th>text</th>\n      <th>colors</th>\n      <th>primary_color_rgb_value</th>\n      <th>secondary_color_rgb_value</th>\n      <th>primary_color_rgb_value_average</th>\n      <th>secondary_color_rgb_value_average</th>\n      <th>primary_color_rgb_value_weighted</th>\n      <th>secondary_color_rgb_value_weighted</th>\n      <th>color_text</th>\n      <th>primary_color_id</th>\n    </tr>\n  </thead>\n  <tbody>\n    <tr>\n      <th>0</th>\n      <td>0</td>\n      <td>815216520</td>\n      <td>A First Doll Book. &amp;quot; Peggy and Me&amp;quot;!</td>\n      <td>flip book,vintage,Peggy and Me,change dresses</td>\n      <td>physical</td>\n      <td>4</td>\n      <td>books_movies_and_music</td>\n      <td>2010</td>\n      <td>books_movies_and_music.books.literature_and_fi...</td>\n      <td>Vintage book!  1968 A First Doll Book, &amp;quot; ...</td>\n      <td>...</td>\n      <td>A First Doll Book. &amp;quot; Peggy and Me&amp;quot;! ...</td>\n      <td>[]</td>\n      <td>4597028</td>\n      <td>11244123</td>\n      <td>47.666667</td>\n      <td>136.000000</td>\n      <td>46.7460</td>\n      <td>147.1879</td>\n      <td></td>\n      <td>1</td>\n    </tr>\n    <tr>\n      <th>1</th>\n      <td>1</td>\n      <td>870948450</td>\n      <td>Abigayil: The Story of the Cat at the Manger, ...</td>\n      <td>one of a kind,authentic,original,gift,special,...</td>\n      <td>physical</td>\n      <td>4</td>\n      <td>books_movies_and_music</td>\n      <td>345</td>\n      <td>books_movies_and_music.books.history_books</td>\n      <td>Rouben Mamoulian was an American film and thea...</td>\n      <td>...</td>\n      <td>Abigayil: The Story of the Cat at the Manger, ...</td>\n      <td>[]</td>\n      <td>11973017</td>\n      <td>6443070</td>\n      <td>170.666667</td>\n      <td>80.000000</td>\n      <td>175.7408</td>\n      <td>83.3202</td>\n      <td></td>\n      <td>1</td>\n    </tr>\n    <tr>\n      <th>2</th>\n      <td>2</td>\n      <td>1111113690</td>\n      <td>No Fighting, No Biting! by Else Holmelund Mina...</td>\n      <td>Else Minarik,Maurice Sendak,Vintage Children,L...</td>\n      <td>physical</td>\n      <td>4</td>\n      <td>books_movies_and_music</td>\n      <td>329</td>\n      <td>books_movies_and_music.books.book_accessories....</td>\n      <td>A fun little vintage book “No Fighting, No Bit...</td>\n      <td>...</td>\n      <td>No Fighting, No Biting! by Else Holmelund Mina...</td>\n      <td>[]</td>\n      <td>16711422</td>\n      <td>9604741</td>\n      <td>254.000000</td>\n      <td>140.333333</td>\n      <td>253.9746</td>\n      <td>142.1554</td>\n      <td></td>\n      <td>1</td>\n    </tr>\n    <tr>\n      <th>3</th>\n      <td>3</td>\n      <td>1510466600</td>\n      <td>Ukrainian book. &amp;quot;Magic flashlight&amp;quot;. ...</td>\n      <td>Books,Ukrainian,New,Gift,Colorful,Best,Stories...</td>\n      <td>physical</td>\n      <td>4</td>\n      <td>books_movies_and_music</td>\n      <td>11368</td>\n      <td>books_movies_and_music.books.childrens_books.b...</td>\n      <td>Ukrainian book.\\n&amp;quot;Magic flashlight&amp;quot;....</td>\n      <td>...</td>\n      <td>Ukrainian book. &amp;quot;Magic flashlight&amp;quot;. ...</td>\n      <td>[]</td>\n      <td>13423056</td>\n      <td>5341045</td>\n      <td>207.000000</td>\n      <td>108.333333</td>\n      <td>207.3706</td>\n      <td>112.0979</td>\n      <td></td>\n      <td>1</td>\n    </tr>\n    <tr>\n      <th>4</th>\n      <td>4</td>\n      <td>1035734450</td>\n      <td>The Ugly Butterfly</td>\n      <td>moth metamorphosis,caterpillar bug,butterfly c...</td>\n      <td>physical</td>\n      <td>8</td>\n      <td>home_and_living</td>\n      <td>352</td>\n      <td>books_movies_and_music.books.science_and_math_...</td>\n      <td>PreOrder this imaginative story about the life...</td>\n      <td>...</td>\n      <td>The Ugly Butterfly PreOrder this imaginative s...</td>\n      <td>[]</td>\n      <td>7897442</td>\n      <td>5130282</td>\n      <td>115.666667</td>\n      <td>64.000000</td>\n      <td>122.7630</td>\n      <td>70.3662</td>\n      <td></td>\n      <td>1</td>\n    </tr>\n  </tbody>\n</table>\n<p>5 rows × 21 columns</p>\n</div>"
          },
          "metadata": {}
        }
      ]
    },
    {
      "cell_type": "markdown",
      "source": [
        "For secondary color ID"
      ],
      "metadata": {
        "id": "81V6y8Z18V8D"
      }
    },
    {
      "cell_type": "code",
      "source": [
        "from sklearn.model_selection import train_test_split\n",
        "from sklearn.feature_extraction.text import TfidfVectorizer\n",
        "from sklearn.linear_model import LogisticRegression\n",
        "from sklearn.ensemble import AdaBoostClassifier\n",
        "from sklearn.metrics import accuracy_score\n",
        "from sklearn.naive_bayes import MultinomialNB\n",
        "import numpy as np\n",
        "\n",
        "# Assuming df is your DataFrame with 'rgbvalue', 'text', and 'primary_color_id' columns\n",
        "\n",
        "# Split the data into training and testing sets for text classifier\n",
        "X_text = merged_df['color_text']\n",
        "y_text = merged_df['secondary_color_id']\n",
        "X_text_train, X_text_test, y_text_train, y_text_test = train_test_split(X_text, y_text, test_size=0.2, random_state=42)\n",
        "\n",
        "# Train the text classifier\n",
        "text_vectorizer = TfidfVectorizer()\n",
        "X_text_train_vec = text_vectorizer.fit_transform(X_text_train)\n",
        "text_classifier_secondary = MultinomialNB()\n",
        "text_classifier_secondary.fit(X_text_train_vec, y_text_train)\n",
        "\n",
        "# Split the data into training and testing sets for RGB classifier\n",
        "X_rgb = merged_df[['secondary_color_rgb_value_weighted']]\n",
        "y_rgb = merged_df['secondary_color_id']\n",
        "X_rgb_train, X_rgb_test, y_rgb_train, y_rgb_test = train_test_split(X_rgb, y_rgb, test_size=0.2, random_state=42)\n",
        "\n",
        "# Train the RGB classifier\n",
        "rgb_classifier_secondary = AdaBoostClassifier(n_estimators=19, random_state=42, learning_rate=0.8)\n",
        "rgb_classifier_secondary.fit(X_rgb_train, y_rgb_train)\n",
        "\n",
        "# Make predictions using both classifiers\n",
        "X_text_test_vec = text_vectorizer.transform(X_text_test)\n",
        "text_predictions = text_classifier_secondary.predict(X_text_test_vec)\n",
        "text_confidences = np.max(text_classifier_secondary.predict_proba(X_text_test_vec), axis=1)\n",
        "\n",
        "rgb_predictions = rgb_classifier_secondary.predict(X_rgb_test)\n",
        "rgb_confidences = np.max(rgb_classifier_secondary.predict_proba(X_rgb_test), axis=1)\n",
        "\n",
        "# Apply prediction with higher confidence for each row\n",
        "final_predictions = []\n",
        "for i in range(len(X_text_test)):\n",
        "    if text_confidences[i] >= rgb_confidences[i]:\n",
        "        final_predictions.append(text_predictions[i])\n",
        "    else:\n",
        "        final_predictions.append(rgb_predictions[i])\n",
        "\n",
        "# Print classification report\n",
        "print(\"Classification Report:\")\n",
        "print(classification_report(y_text_test, final_predictions))\n"
      ],
      "metadata": {
        "execution": {
          "iopub.status.busy": "2024-04-18T21:26:53.761544Z",
          "iopub.execute_input": "2024-04-18T21:26:53.762087Z",
          "iopub.status.idle": "2024-04-18T21:26:54.613122Z",
          "shell.execute_reply.started": "2024-04-18T21:26:53.762040Z",
          "shell.execute_reply": "2024-04-18T21:26:54.611967Z"
        },
        "trusted": true,
        "id": "DtGQ31048V8D",
        "outputId": "dc49320a-4752-4e79-83d6-b2d25cbb3ea1"
      },
      "execution_count": null,
      "outputs": [
        {
          "name": "stdout",
          "text": "Classification Report:\n              precision    recall  f1-score   support\n\n           0       0.41      0.06      0.11       281\n           1       0.30      0.19      0.24       795\n           2       0.33      0.15      0.21       438\n           3       0.29      0.11      0.16        73\n           4       0.31      0.08      0.13       413\n           5       0.00      0.00      0.00       103\n           6       0.36      0.36      0.36        42\n           7       0.45      0.21      0.28       399\n           9       0.41      0.14      0.21       420\n          10       0.40      0.11      0.17       160\n          11       0.36      0.14      0.21       326\n          12       0.38      0.09      0.14       157\n          13       0.21      0.06      0.10       161\n          14       0.25      0.08      0.12       379\n          15       0.00      0.00      0.00        21\n          16       0.41      0.19      0.26       366\n          17       0.18      0.74      0.29       991\n          18       0.37      0.13      0.19       228\n          19       0.00      0.00      0.00       235\n\n    accuracy                           0.23      5988\n   macro avg       0.29      0.15      0.17      5988\nweighted avg       0.30      0.23      0.20      5988\n\n",
          "output_type": "stream"
        },
        {
          "name": "stderr",
          "text": "/opt/conda/lib/python3.10/site-packages/sklearn/metrics/_classification.py:1344: UndefinedMetricWarning: Precision and F-score are ill-defined and being set to 0.0 in labels with no predicted samples. Use `zero_division` parameter to control this behavior.\n  _warn_prf(average, modifier, msg_start, len(result))\n/opt/conda/lib/python3.10/site-packages/sklearn/metrics/_classification.py:1344: UndefinedMetricWarning: Precision and F-score are ill-defined and being set to 0.0 in labels with no predicted samples. Use `zero_division` parameter to control this behavior.\n  _warn_prf(average, modifier, msg_start, len(result))\n/opt/conda/lib/python3.10/site-packages/sklearn/metrics/_classification.py:1344: UndefinedMetricWarning: Precision and F-score are ill-defined and being set to 0.0 in labels with no predicted samples. Use `zero_division` parameter to control this behavior.\n  _warn_prf(average, modifier, msg_start, len(result))\n",
          "output_type": "stream"
        }
      ]
    },
    {
      "cell_type": "code",
      "source": [
        "X_text_test = merged_df_test['color_text']\n",
        "X_rgb_test = merged_df_test[['secondary_color_rgb_value_weighted']]"
      ],
      "metadata": {
        "execution": {
          "iopub.status.busy": "2024-04-18T15:12:29.851081Z",
          "iopub.execute_input": "2024-04-18T15:12:29.851853Z",
          "iopub.status.idle": "2024-04-18T15:12:29.858006Z",
          "shell.execute_reply.started": "2024-04-18T15:12:29.851818Z",
          "shell.execute_reply": "2024-04-18T15:12:29.856824Z"
        },
        "trusted": true,
        "id": "47nrXt0v8V8D"
      },
      "execution_count": null,
      "outputs": []
    },
    {
      "cell_type": "code",
      "source": [
        "X_rgb_test=X_rgb_test.fillna(100)"
      ],
      "metadata": {
        "execution": {
          "iopub.status.busy": "2024-04-18T15:12:30.812164Z",
          "iopub.execute_input": "2024-04-18T15:12:30.812599Z",
          "iopub.status.idle": "2024-04-18T15:12:30.819071Z",
          "shell.execute_reply.started": "2024-04-18T15:12:30.812561Z",
          "shell.execute_reply": "2024-04-18T15:12:30.817642Z"
        },
        "trusted": true,
        "id": "sqDyCZgF8V8D"
      },
      "execution_count": null,
      "outputs": []
    },
    {
      "cell_type": "code",
      "source": [
        "len(X_text_test)"
      ],
      "metadata": {
        "execution": {
          "iopub.status.busy": "2024-04-18T15:12:32.675735Z",
          "iopub.execute_input": "2024-04-18T15:12:32.676169Z",
          "iopub.status.idle": "2024-04-18T15:12:32.684281Z",
          "shell.execute_reply.started": "2024-04-18T15:12:32.676136Z",
          "shell.execute_reply": "2024-04-18T15:12:32.683027Z"
        },
        "trusted": true,
        "id": "5eWhS7EC8V8F",
        "outputId": "a5079747-0d83-4401-d772-dca5eb04ed1e"
      },
      "execution_count": null,
      "outputs": [
        {
          "execution_count": 362,
          "output_type": "execute_result",
          "data": {
            "text/plain": "25514"
          },
          "metadata": {}
        }
      ]
    },
    {
      "cell_type": "code",
      "source": [
        "X_text_test_vec = text_vectorizer.transform(X_text_test)\n",
        "text_predictions = text_classifier_secondary.predict(X_text_test_vec)\n",
        "text_confidences = np.max(text_classifier_secondary.predict_proba(X_text_test_vec), axis=1)\n",
        "\n",
        "rgb_predictions = rgb_classifier_secondary.predict(X_rgb_test)\n",
        "rgb_confidences = np.max(rgb_classifier_secondary.predict_proba(X_rgb_test), axis=1)\n",
        "\n",
        "# Apply prediction with higher confidence for each row\n",
        "final_predictions = []\n",
        "for i in range(len(X_text_test)):\n",
        "    if text_confidences[i] >= rgb_confidences[i]:\n",
        "        final_predictions.append(text_predictions[i])\n",
        "    else:\n",
        "        final_predictions.append(rgb_predictions[i])"
      ],
      "metadata": {
        "execution": {
          "iopub.status.busy": "2024-04-18T15:12:33.431439Z",
          "iopub.execute_input": "2024-04-18T15:12:33.431846Z",
          "iopub.status.idle": "2024-04-18T15:12:34.047846Z",
          "shell.execute_reply.started": "2024-04-18T15:12:33.431813Z",
          "shell.execute_reply": "2024-04-18T15:12:34.046464Z"
        },
        "trusted": true,
        "id": "mUU3eGbp8V8F"
      },
      "execution_count": null,
      "outputs": []
    },
    {
      "cell_type": "code",
      "source": [
        "merged_df_test['secondary_color_id']=final_predictions"
      ],
      "metadata": {
        "execution": {
          "iopub.status.busy": "2024-04-18T15:12:34.543575Z",
          "iopub.execute_input": "2024-04-18T15:12:34.544021Z",
          "iopub.status.idle": "2024-04-18T15:12:34.648952Z",
          "shell.execute_reply.started": "2024-04-18T15:12:34.543986Z",
          "shell.execute_reply": "2024-04-18T15:12:34.647406Z"
        },
        "trusted": true,
        "id": "__ZdNyEb8V8G"
      },
      "execution_count": null,
      "outputs": []
    },
    {
      "cell_type": "code",
      "source": [
        "merged_df_test.head()"
      ],
      "metadata": {
        "execution": {
          "iopub.status.busy": "2024-04-18T15:12:45.784298Z",
          "iopub.execute_input": "2024-04-18T15:12:45.785084Z",
          "iopub.status.idle": "2024-04-18T15:12:45.814678Z",
          "shell.execute_reply.started": "2024-04-18T15:12:45.785045Z",
          "shell.execute_reply": "2024-04-18T15:12:45.813264Z"
        },
        "trusted": true,
        "id": "HG8hYqYX8V8H",
        "outputId": "83d22b47-ad8f-440e-bac8-17da198f7fd3"
      },
      "execution_count": null,
      "outputs": [
        {
          "execution_count": 365,
          "output_type": "execute_result",
          "data": {
            "text/plain": "   Unnamed: 0  product_id                                              title  \\\n0           0   815216520      A First Doll Book. &quot; Peggy and Me&quot;!   \n1           1   870948450  Abigayil: The Story of the Cat at the Manger, ...   \n2           2  1111113690  No Fighting, No Biting! by Else Holmelund Mina...   \n3           3  1510466600  Ukrainian book. &quot;Magic flashlight&quot;. ...   \n4           4  1035734450                                 The Ugly Butterfly   \n\n                                                tags      type  \\\n0      flip book,vintage,Peggy and Me,change dresses  physical   \n1  one of a kind,authentic,original,gift,special,...  physical   \n2  Else Minarik,Maurice Sendak,Vintage Children,L...  physical   \n3  Books,Ukrainian,New,Gift,Colorful,Best,Stories...  physical   \n4  moth metamorphosis,caterpillar bug,butterfly c...  physical   \n\n   top_category_id       top_category_text  bottom_category_id  \\\n0                4  books_movies_and_music                2010   \n1                4  books_movies_and_music                 345   \n2                4  books_movies_and_music                 329   \n3                4  books_movies_and_music               11368   \n4                8         home_and_living                 352   \n\n                                bottom_category_text  \\\n0  books_movies_and_music.books.literature_and_fi...   \n1         books_movies_and_music.books.history_books   \n2  books_movies_and_music.books.book_accessories....   \n3  books_movies_and_music.books.childrens_books.b...   \n4  books_movies_and_music.books.science_and_math_...   \n\n                                         description  ... colors  \\\n0  Vintage book!  1968 A First Doll Book, &quot; ...  ...     []   \n1  Rouben Mamoulian was an American film and thea...  ...     []   \n2  A fun little vintage book “No Fighting, No Bit...  ...     []   \n3  Ukrainian book.\\n&quot;Magic flashlight&quot;....  ...     []   \n4  PreOrder this imaginative story about the life...  ...     []   \n\n  primary_color_rgb_value secondary_color_rgb_value  \\\n0                 4597028                  11244123   \n1                11973017                   6443070   \n2                16711422                   9604741   \n3                13423056                   5341045   \n4                 7897442                   5130282   \n\n   primary_color_rgb_value_average  secondary_color_rgb_value_average  \\\n0                        47.666667                         136.000000   \n1                       170.666667                          80.000000   \n2                       254.000000                         140.333333   \n3                       207.000000                         108.333333   \n4                       115.666667                          64.000000   \n\n   primary_color_rgb_value_weighted  secondary_color_rgb_value_weighted  \\\n0                           46.7460                            147.1879   \n1                          175.7408                             83.3202   \n2                          253.9746                            142.1554   \n3                          207.3706                            112.0979   \n4                          122.7630                             70.3662   \n\n   color_text  primary_color_id secondary_color_id  \n0                             1                 17  \n1                             1                 17  \n2                             1                 17  \n3                             1                 17  \n4                             1                 17  \n\n[5 rows x 22 columns]",
            "text/html": "<div>\n<style scoped>\n    .dataframe tbody tr th:only-of-type {\n        vertical-align: middle;\n    }\n\n    .dataframe tbody tr th {\n        vertical-align: top;\n    }\n\n    .dataframe thead th {\n        text-align: right;\n    }\n</style>\n<table border=\"1\" class=\"dataframe\">\n  <thead>\n    <tr style=\"text-align: right;\">\n      <th></th>\n      <th>Unnamed: 0</th>\n      <th>product_id</th>\n      <th>title</th>\n      <th>tags</th>\n      <th>type</th>\n      <th>top_category_id</th>\n      <th>top_category_text</th>\n      <th>bottom_category_id</th>\n      <th>bottom_category_text</th>\n      <th>description</th>\n      <th>...</th>\n      <th>colors</th>\n      <th>primary_color_rgb_value</th>\n      <th>secondary_color_rgb_value</th>\n      <th>primary_color_rgb_value_average</th>\n      <th>secondary_color_rgb_value_average</th>\n      <th>primary_color_rgb_value_weighted</th>\n      <th>secondary_color_rgb_value_weighted</th>\n      <th>color_text</th>\n      <th>primary_color_id</th>\n      <th>secondary_color_id</th>\n    </tr>\n  </thead>\n  <tbody>\n    <tr>\n      <th>0</th>\n      <td>0</td>\n      <td>815216520</td>\n      <td>A First Doll Book. &amp;quot; Peggy and Me&amp;quot;!</td>\n      <td>flip book,vintage,Peggy and Me,change dresses</td>\n      <td>physical</td>\n      <td>4</td>\n      <td>books_movies_and_music</td>\n      <td>2010</td>\n      <td>books_movies_and_music.books.literature_and_fi...</td>\n      <td>Vintage book!  1968 A First Doll Book, &amp;quot; ...</td>\n      <td>...</td>\n      <td>[]</td>\n      <td>4597028</td>\n      <td>11244123</td>\n      <td>47.666667</td>\n      <td>136.000000</td>\n      <td>46.7460</td>\n      <td>147.1879</td>\n      <td></td>\n      <td>1</td>\n      <td>17</td>\n    </tr>\n    <tr>\n      <th>1</th>\n      <td>1</td>\n      <td>870948450</td>\n      <td>Abigayil: The Story of the Cat at the Manger, ...</td>\n      <td>one of a kind,authentic,original,gift,special,...</td>\n      <td>physical</td>\n      <td>4</td>\n      <td>books_movies_and_music</td>\n      <td>345</td>\n      <td>books_movies_and_music.books.history_books</td>\n      <td>Rouben Mamoulian was an American film and thea...</td>\n      <td>...</td>\n      <td>[]</td>\n      <td>11973017</td>\n      <td>6443070</td>\n      <td>170.666667</td>\n      <td>80.000000</td>\n      <td>175.7408</td>\n      <td>83.3202</td>\n      <td></td>\n      <td>1</td>\n      <td>17</td>\n    </tr>\n    <tr>\n      <th>2</th>\n      <td>2</td>\n      <td>1111113690</td>\n      <td>No Fighting, No Biting! by Else Holmelund Mina...</td>\n      <td>Else Minarik,Maurice Sendak,Vintage Children,L...</td>\n      <td>physical</td>\n      <td>4</td>\n      <td>books_movies_and_music</td>\n      <td>329</td>\n      <td>books_movies_and_music.books.book_accessories....</td>\n      <td>A fun little vintage book “No Fighting, No Bit...</td>\n      <td>...</td>\n      <td>[]</td>\n      <td>16711422</td>\n      <td>9604741</td>\n      <td>254.000000</td>\n      <td>140.333333</td>\n      <td>253.9746</td>\n      <td>142.1554</td>\n      <td></td>\n      <td>1</td>\n      <td>17</td>\n    </tr>\n    <tr>\n      <th>3</th>\n      <td>3</td>\n      <td>1510466600</td>\n      <td>Ukrainian book. &amp;quot;Magic flashlight&amp;quot;. ...</td>\n      <td>Books,Ukrainian,New,Gift,Colorful,Best,Stories...</td>\n      <td>physical</td>\n      <td>4</td>\n      <td>books_movies_and_music</td>\n      <td>11368</td>\n      <td>books_movies_and_music.books.childrens_books.b...</td>\n      <td>Ukrainian book.\\n&amp;quot;Magic flashlight&amp;quot;....</td>\n      <td>...</td>\n      <td>[]</td>\n      <td>13423056</td>\n      <td>5341045</td>\n      <td>207.000000</td>\n      <td>108.333333</td>\n      <td>207.3706</td>\n      <td>112.0979</td>\n      <td></td>\n      <td>1</td>\n      <td>17</td>\n    </tr>\n    <tr>\n      <th>4</th>\n      <td>4</td>\n      <td>1035734450</td>\n      <td>The Ugly Butterfly</td>\n      <td>moth metamorphosis,caterpillar bug,butterfly c...</td>\n      <td>physical</td>\n      <td>8</td>\n      <td>home_and_living</td>\n      <td>352</td>\n      <td>books_movies_and_music.books.science_and_math_...</td>\n      <td>PreOrder this imaginative story about the life...</td>\n      <td>...</td>\n      <td>[]</td>\n      <td>7897442</td>\n      <td>5130282</td>\n      <td>115.666667</td>\n      <td>64.000000</td>\n      <td>122.7630</td>\n      <td>70.3662</td>\n      <td></td>\n      <td>1</td>\n      <td>17</td>\n    </tr>\n  </tbody>\n</table>\n<p>5 rows × 22 columns</p>\n</div>"
          },
          "metadata": {}
        }
      ]
    },
    {
      "cell_type": "code",
      "source": [
        "student_id = \"23263834\"\n",
        "merged_df_test[\n",
        "    [\"product_id\", \"top_category_id\", \"bottom_category_id\", \"primary_color_id\", \"secondary_color_id\"]\n",
        "].to_parquet(f\"/kaggle/working/predictions_{student_id}.parquet\")"
      ],
      "metadata": {
        "execution": {
          "iopub.status.busy": "2024-04-18T15:14:41.467840Z",
          "iopub.execute_input": "2024-04-18T15:14:41.468329Z",
          "iopub.status.idle": "2024-04-18T15:14:41.519206Z",
          "shell.execute_reply.started": "2024-04-18T15:14:41.468297Z",
          "shell.execute_reply": "2024-04-18T15:14:41.517882Z"
        },
        "trusted": true,
        "id": "dILN5Hoe8V8H"
      },
      "execution_count": null,
      "outputs": []
    },
    {
      "cell_type": "code",
      "source": [],
      "metadata": {
        "id": "6-1ppGxv8V8I"
      },
      "execution_count": null,
      "outputs": []
    }
  ]
}